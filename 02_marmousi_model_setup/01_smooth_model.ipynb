{
 "cells": [
  {
   "cell_type": "code",
   "execution_count": null,
   "metadata": {
    "tags": []
   },
   "outputs": [],
   "source": [
    "using PyPlot, Jets, JetPack, JetPackDSP"
   ]
  },
  {
   "cell_type": "markdown",
   "metadata": {},
   "source": [
    "## Read in model from binary"
   ]
  },
  {
   "cell_type": "code",
   "execution_count": null,
   "metadata": {},
   "outputs": [],
   "source": [
    "nz,nx = 176,851\n",
    "v = read!(\"marmousi_vp_20m_176x851.bin\", Array{Float32}(undef, nz,nx));"
   ]
  },
  {
   "cell_type": "markdown",
   "metadata": {},
   "source": [
    "## Smooth model using JetPackDSP convolutional smoother"
   ]
  },
  {
   "cell_type": "code",
   "execution_count": null,
   "metadata": {
    "scrolled": true
   },
   "outputs": [],
   "source": [
    "?JetPackDSP.JopConvolve"
   ]
  },
  {
   "cell_type": "code",
   "execution_count": null,
   "metadata": {},
   "outputs": [],
   "source": [
    "a = 10\n",
    "b = a+1\n",
    "P = JopPad(JetSpace(Float64,nz,nx), -b:nz+b, -b:nx+b, extend=true)\n",
    "S = JopConvolve(range(P), smoother=:rect, n=(a,a))\n",
    "R = JopPad(JetSpace(Float64,nz,nx), -b:nz+b, -b:nx+b, extend=false)\n",
    "slowness_sm = R'∘S∘P*(1 ./v)\n",
    "vsm = 1 ./(slowness_sm);"
   ]
  },
  {
   "cell_type": "code",
   "execution_count": null,
   "metadata": {},
   "outputs": [],
   "source": [
    "figure(figsize=(20,5))\n",
    "subplot(121);imshow(v,cmap=\"jet\",aspect=\"auto\");clim(1500,4500);title(\"True model\");\n",
    "subplot(122);imshow(vsm,cmap=\"jet\",aspect=\"auto\");clim(1500,4500);title(\"Smoothed model\");"
   ]
  },
  {
   "cell_type": "markdown",
   "metadata": {},
   "source": [
    "## Next we find the water layer in the original model and paste it on the smoothed model"
   ]
  },
  {
   "cell_type": "code",
   "execution_count": null,
   "metadata": {},
   "outputs": [],
   "source": [
    "vsm[v.==1500.0].=1500.0;"
   ]
  },
  {
   "cell_type": "code",
   "execution_count": null,
   "metadata": {},
   "outputs": [],
   "source": [
    "figure(figsize=(20,5))\n",
    "subplot(121);imshow(v,cmap=\"jet\",aspect=\"auto\");clim(1500,4500);title(\"True model\");\n",
    "subplot(122);imshow(vsm,cmap=\"jet\",aspect=\"auto\");clim(1500,4500);title(\"Smoothed model\");"
   ]
  },
  {
   "cell_type": "markdown",
   "metadata": {},
   "source": [
    "## Write out the smoothed model for later"
   ]
  },
  {
   "cell_type": "code",
   "execution_count": null,
   "metadata": {},
   "outputs": [],
   "source": [
    "write(\"marmousi_vp_smooth_20m_176x851.bin\",Float32.(vsm))"
   ]
  },
  {
   "cell_type": "code",
   "execution_count": null,
   "metadata": {},
   "outputs": [],
   "source": []
  }
 ],
 "metadata": {
  "kernelspec": {
   "display_name": "Julia 1.5.1",
   "language": "julia",
   "name": "julia-1.5"
  },
  "language_info": {
   "file_extension": ".jl",
   "mimetype": "application/julia",
   "name": "julia",
   "version": "3.6.3-final"
  }
 },
 "nbformat": 4,
 "nbformat_minor": 4
}