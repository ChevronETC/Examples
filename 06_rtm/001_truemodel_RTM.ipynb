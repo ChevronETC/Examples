{
 "cells": [
  {
   "cell_type": "code",
   "execution_count": 2,
   "metadata": {},
   "outputs": [],
   "source": [
    "using Distributed, PyPlot"
   ]
  },
  {
   "cell_type": "code",
   "execution_count": 3,
   "metadata": {},
   "outputs": [],
   "source": [
    "cd(\"/home/cvx/Examples/05_rtm\")"
   ]
  },
  {
   "cell_type": "code",
   "execution_count": 4,
   "metadata": {},
   "outputs": [],
   "source": [
    "addprocs(4);"
   ]
  },
  {
   "cell_type": "code",
   "execution_count": 5,
   "metadata": {},
   "outputs": [],
   "source": [
    "@everywhere using DistributedArrays, DistributedJets, Jets, JetPack, JetPackWave, Statistics, Random, Wave"
   ]
  },
  {
   "cell_type": "code",
   "execution_count": 8,
   "metadata": {
    "tags": []
   },
   "outputs": [
    {
     "output_type": "stream",
     "name": "stdout",
     "text": "(dz, dx) = (20.0, 20.0)\n(nz, nx) = (176, 851)\n"
    }
   ],
   "source": [
    "v = read!(\"../02_marmousi_model_setup/marmousi_vp_20m_176x851.bin\", Array{Float32}(undef, 176,851));\n",
    "dz,dx = 20.0,20.0\n",
    "nz,nx = size(v)\n",
    "@show dz,dx\n",
    "@show nz,nx;"
   ]
  },
  {
   "cell_type": "code",
   "execution_count": 9,
   "metadata": {
    "tags": []
   },
   "outputs": [
    {
     "output_type": "stream",
     "name": "stdout",
     "text": "nshots = 31\n"
    }
   ],
   "source": [
    "sx = (0.0:dx*28:(nx-1)*20.0)\n",
    "nshots = length(sx)\n",
    "@show nshots;"
   ]
  },
  {
   "cell_type": "code",
   "execution_count": 20,
   "metadata": {},
   "outputs": [],
   "source": [
    "@everywhere function makeF(i,sx)\n",
    "    nz,nx,dz,dx = 176,851,20.0,20.0    \n",
    "    JopNlProp2DAcoIsoDenQ_DEO2_FDTD(;\n",
    "        b = ones(Float32,nz,nx),\n",
    "        ntrec = 1101,\n",
    "        dtrec = 0.002,\n",
    "        dtmod = 0.001,\n",
    "        dz = dz,\n",
    "        dx = dx,\n",
    "        wavelet = WaveletCausalRicker(f=5.0),\n",
    "        sx = sx[i],\n",
    "        sz = dz,\n",
    "        rx = dx*[0:1:nx-1;],\n",
    "        rz = 2*dz*ones(length(0:1:nx-1)),\n",
    "        srcfieldfile = \"/scratch/field-$i.$(randstring()).bin\",\n",
    "        nthreads=4,\n",
    "        reportinterval=0)\n",
    "end"
   ]
  },
  {
   "cell_type": "code",
   "execution_count": 21,
   "metadata": {},
   "outputs": [
    {
     "output_type": "execute_result",
     "data": {
      "text/plain": "\"Jet nonlinear operator, (176, 851) → (29045481,)\""
     },
     "metadata": {},
     "execution_count": 21
    }
   ],
   "source": [
    "F = @blockop DArray(I->[makeF(i,sx) for i in I[1], j in I[2]], (nshots,1))"
   ]
  },
  {
   "cell_type": "code",
   "execution_count": 22,
   "metadata": {
    "scrolled": true
   },
   "outputs": [
    {
     "output_type": "error",
     "ename": "LoadError",
     "evalue": "MethodError: no method matching JetDBlock_f!(::Jets.BlockArray{Float32,Array{Float32,2}}, ::Array{Float32,2}; ops=JopNl{Jet{JetSpace{Float32,2},JetBSpace{Float32,JetSpace{Float32,2}},typeof(Jets.JetBlock_f!),typeof(Jets.JetBlock_df!),typeof(Jets.JetBlock_df′!),Jets.var\"#4#7\",Array{Float32,2},NamedTuple{(:ops, :dom, :rng),Tuple{Array{JopNl{Jet{JetSpace{Float32,2},JetSpace{Float32,2},typeof(JetPackWave.JopProp2DAcoIsoDenQ_DEO2_FDTD_f!),typeof(JetPackWave.JopProp2DAcoIsoDenQ_DEO2_FDTD_df!),typeof(JetPackWave.JopProp2DAcoIsoDenQ_DEO2_FDTD_df′!),Jets.var\"#4#7\",Array{Float32,2},NamedTuple{(:b, :srcfieldfile, :srcfieldhost, :chksum, :compressor, :isinterior, :sz, :sx, :st, :interpmethod, :rz, :rx, :z0, :x0, :dz, :dx, :freqQ, :qMin, :qInterior, :nsponge, :ginsu, :dtmod, :dtrec, :ntrec, :nbz_cache, :nbx_cache, :nbz_inject, :nbx_inject, :wavelet, :freesurface, :nthreads, :reportinterval, :stats),Tuple{Array{Float32,2},String,Base.RefValue{String},Base.RefValue{UInt32},Dict{String,Wave.Compressor{Float32,Float32,Float32,2}},Bool,Array{Float64,1},Array{Float64,1},Array{Float64,1},Symbol,Array{Float64,1},Array{Float64,1},Float64,Float64,Float32,Float32,Float32,Float32,Float32,Int64,Ginsu{2,JopLn{Jet{JetSpace{Float32,2},JetSpace{Float32,2},typeof(JetPack.JopPad_df!),typeof(JetPack.JopPad_df!),typeof(JetPack.JopPad_df′!),Jets.var\"#4#7\",Array{Float32,2},NamedTuple{(:pad, :extend, :accumulate),Tuple{Tuple{UnitRange{Int64},UnitRange{Int64}},Bool,Bool}}}},JopLn{Jet{JetSpace{Float32,2},JetSpace{Float32,2},typeof(JetPack.JopPad_df!),typeof(JetPack.JopPad_df!),typeof(JetPack.JopPad_df′!),Jets.var\"#4#7\",Array{Float32,2},NamedTuple{(:pad, :extend, :accumulate),Tuple{Tuple{UnitRange{Int64},UnitRange{Int64}},Bool,Bool}}}},JopLn{Jet{JetSpace{Float32,2},JetSpace{Float32,2},typeof(JetPack.JopPad_df!),typeof(JetPack.JopPad_df!),typeof(JetPack.JopPad_df′!),Jets.var\"#4#7\",Array{Float32,2},NamedTuple{(:pad, :extend, :accumulate),Tuple{Tuple{UnitRange{Int64},UnitRange{Int64}},Bool,Bool}}}},JopLn{Jet{JetSpace{Float32,2},JetSpace{Float32,2},typeof(JetPack.JopPad_df!),typeof(JetPack.JopPad_df!),typeof(JetPack.JopPad_df′!),Jets.var\"#4#7\",Array{Float32,2},NamedTuple{(:pad, :extend, :accumulate),Tuple{Tuple{UnitRange{Int64},UnitRange{Int64}},Bool,Bool}}}}},Float32,Float32,Int64,Int64,Int64,Int64,Int64,WaveletCausalRicker,Bool,Int64,Int64,Dict{String,Float64}}}}},2},JetSpace{Float32,2},JetBSpace{Float32,JetSpace{Float32,2}}}}}}[\"Jet nonlinear operator, (176, 851) → (29045481,)\"], dom=JetSpace{Float32,2}((176, 851)), rng=JetBSpace{Float32,JetSpace{Float32,2}}(JetSpace{Float32,2}[JetSpace{Float32,2}((1101, 851)), JetSpace{Float32,2}((1101, 851)), JetSpace{Float32,2}((1101, 851)), JetSpace{Float32,2}((1101, 851)), JetSpace{Float32,2}((1101, 851)), JetSpace{Float32,2}((1101, 851)), JetSpace{Float32,2}((1101, 851)), JetSpace{Float32,2}((1101, 851)), JetSpace{Float32,2}((1101, 851)), JetSpace{Float32,2}((1101, 851))  …  JetSpace{Float32,2}((1101, 851)), JetSpace{Float32,2}((1101, 851)), JetSpace{Float32,2}((1101, 851)), JetSpace{Float32,2}((1101, 851)), JetSpace{Float32,2}((1101, 851)), JetSpace{Float32,2}((1101, 851)), JetSpace{Float32,2}((1101, 851)), JetSpace{Float32,2}((1101, 851)), JetSpace{Float32,2}((1101, 851)), JetSpace{Float32,2}((1101, 851))], UnitRange{Int64}[1:936951, 936952:1873902, 1873903:2810853, 2810854:3747804, 3747805:4684755, 4684756:5621706, 5621707:6558657, 6558658:7495608, 7495609:8432559, 8432560:9369510  …  19675972:20612922, 20612923:21549873, 21549874:22486824, 22486825:23423775, 23423776:24360726, 24360727:25297677, 25297678:26234628, 26234629:27171579, 27171580:28108530, 28108531:29045481]), blockmap=Tuple{UnitRange{Int64},UnitRange{Int64}}[(1:31, 1:1)], isdiag=false, perfstatfile=\"\")\nClosest candidates are:\n  JetDBlock_f!(!Matched::DBArray, ::AbstractArray; ops, perfstatfile, kwargs...) at /home/cvx/.julia/packages/DistributedJets/XIUAg/src/DistributedJets.jl:467",
     "traceback": [
      "MethodError: no method matching JetDBlock_f!(::Jets.BlockArray{Float32,Array{Float32,2}}, ::Array{Float32,2}; ops=JopNl{Jet{JetSpace{Float32,2},JetBSpace{Float32,JetSpace{Float32,2}},typeof(Jets.JetBlock_f!),typeof(Jets.JetBlock_df!),typeof(Jets.JetBlock_df′!),Jets.var\"#4#7\",Array{Float32,2},NamedTuple{(:ops, :dom, :rng),Tuple{Array{JopNl{Jet{JetSpace{Float32,2},JetSpace{Float32,2},typeof(JetPackWave.JopProp2DAcoIsoDenQ_DEO2_FDTD_f!),typeof(JetPackWave.JopProp2DAcoIsoDenQ_DEO2_FDTD_df!),typeof(JetPackWave.JopProp2DAcoIsoDenQ_DEO2_FDTD_df′!),Jets.var\"#4#7\",Array{Float32,2},NamedTuple{(:b, :srcfieldfile, :srcfieldhost, :chksum, :compressor, :isinterior, :sz, :sx, :st, :interpmethod, :rz, :rx, :z0, :x0, :dz, :dx, :freqQ, :qMin, :qInterior, :nsponge, :ginsu, :dtmod, :dtrec, :ntrec, :nbz_cache, :nbx_cache, :nbz_inject, :nbx_inject, :wavelet, :freesurface, :nthreads, :reportinterval, :stats),Tuple{Array{Float32,2},String,Base.RefValue{String},Base.RefValue{UInt32},Dict{String,Wave.Compressor{Float32,Float32,Float32,2}},Bool,Array{Float64,1},Array{Float64,1},Array{Float64,1},Symbol,Array{Float64,1},Array{Float64,1},Float64,Float64,Float32,Float32,Float32,Float32,Float32,Int64,Ginsu{2,JopLn{Jet{JetSpace{Float32,2},JetSpace{Float32,2},typeof(JetPack.JopPad_df!),typeof(JetPack.JopPad_df!),typeof(JetPack.JopPad_df′!),Jets.var\"#4#7\",Array{Float32,2},NamedTuple{(:pad, :extend, :accumulate),Tuple{Tuple{UnitRange{Int64},UnitRange{Int64}},Bool,Bool}}}},JopLn{Jet{JetSpace{Float32,2},JetSpace{Float32,2},typeof(JetPack.JopPad_df!),typeof(JetPack.JopPad_df!),typeof(JetPack.JopPad_df′!),Jets.var\"#4#7\",Array{Float32,2},NamedTuple{(:pad, :extend, :accumulate),Tuple{Tuple{UnitRange{Int64},UnitRange{Int64}},Bool,Bool}}}},JopLn{Jet{JetSpace{Float32,2},JetSpace{Float32,2},typeof(JetPack.JopPad_df!),typeof(JetPack.JopPad_df!),typeof(JetPack.JopPad_df′!),Jets.var\"#4#7\",Array{Float32,2},NamedTuple{(:pad, :extend, :accumulate),Tuple{Tuple{UnitRange{Int64},UnitRange{Int64}},Bool,Bool}}}},JopLn{Jet{JetSpace{Float32,2},JetSpace{Float32,2},typeof(JetPack.JopPad_df!),typeof(JetPack.JopPad_df!),typeof(JetPack.JopPad_df′!),Jets.var\"#4#7\",Array{Float32,2},NamedTuple{(:pad, :extend, :accumulate),Tuple{Tuple{UnitRange{Int64},UnitRange{Int64}},Bool,Bool}}}}},Float32,Float32,Int64,Int64,Int64,Int64,Int64,WaveletCausalRicker,Bool,Int64,Int64,Dict{String,Float64}}}}},2},JetSpace{Float32,2},JetBSpace{Float32,JetSpace{Float32,2}}}}}}[\"Jet nonlinear operator, (176, 851) → (29045481,)\"], dom=JetSpace{Float32,2}((176, 851)), rng=JetBSpace{Float32,JetSpace{Float32,2}}(JetSpace{Float32,2}[JetSpace{Float32,2}((1101, 851)), JetSpace{Float32,2}((1101, 851)), JetSpace{Float32,2}((1101, 851)), JetSpace{Float32,2}((1101, 851)), JetSpace{Float32,2}((1101, 851)), JetSpace{Float32,2}((1101, 851)), JetSpace{Float32,2}((1101, 851)), JetSpace{Float32,2}((1101, 851)), JetSpace{Float32,2}((1101, 851)), JetSpace{Float32,2}((1101, 851))  …  JetSpace{Float32,2}((1101, 851)), JetSpace{Float32,2}((1101, 851)), JetSpace{Float32,2}((1101, 851)), JetSpace{Float32,2}((1101, 851)), JetSpace{Float32,2}((1101, 851)), JetSpace{Float32,2}((1101, 851)), JetSpace{Float32,2}((1101, 851)), JetSpace{Float32,2}((1101, 851)), JetSpace{Float32,2}((1101, 851)), JetSpace{Float32,2}((1101, 851))], UnitRange{Int64}[1:936951, 936952:1873902, 1873903:2810853, 2810854:3747804, 3747805:4684755, 4684756:5621706, 5621707:6558657, 6558658:7495608, 7495609:8432559, 8432560:9369510  …  19675972:20612922, 20612923:21549873, 21549874:22486824, 22486825:23423775, 23423776:24360726, 24360727:25297677, 25297678:26234628, 26234629:27171579, 27171580:28108530, 28108531:29045481]), blockmap=Tuple{UnitRange{Int64},UnitRange{Int64}}[(1:31, 1:1)], isdiag=false, perfstatfile=\"\")\nClosest candidates are:\n  JetDBlock_f!(!Matched::DBArray, ::AbstractArray; ops, perfstatfile, kwargs...) at /home/cvx/.julia/packages/DistributedJets/XIUAg/src/DistributedJets.jl:467",
      "",
      "Stacktrace:",
      " [1] f!(::Jets.BlockArray{Float32,Array{Float32,2}}, ::Jet{JetSpace{Float32,2},JetBSpace{Float32,JetSpace{Float32,2}},typeof(DistributedJets.JetDBlock_f!),typeof(DistributedJets.JetDBlock_df!),typeof(DistributedJets.JetDBlock_df′!),Jets.var\"#4#7\",Array{Float32,2},NamedTuple{(:ops, :dom, :rng, :blockmap, :isdiag, :perfstatfile),Tuple{DArray{JopNl{Jet{JetSpace{Float32,2},JetBSpace{Float32,JetSpace{Float32,2}},typeof(Jets.JetBlock_f!),typeof(Jets.JetBlock_df!),typeof(Jets.JetBlock_df′!),Jets.var\"#4#7\",Array{Float32,2},NamedTuple{(:ops, :dom, :rng),Tuple{Array{JopNl{Jet{JetSpace{Float32,2},JetSpace{Float32,2},typeof(JetPackWave.JopProp2DAcoIsoDenQ_DEO2_FDTD_f!),typeof(JetPackWave.JopProp2DAcoIsoDenQ_DEO2_FDTD_df!),typeof(JetPackWave.JopProp2DAcoIsoDenQ_DEO2_FDTD_df′!),Jets.var\"#4#7\",Array{Float32,2},NamedTuple{(:b, :srcfieldfile, :srcfieldhost, :chksum, :compressor, :isinterior, :sz, :sx, :st, :interpmethod, :rz, :rx, :z0, :x0, :dz, :dx, :freqQ, :qMin, :qInterior, :nsponge, :ginsu, :dtmod, :dtrec, :ntrec, :nbz_cache, :nbx_cache, :nbz_inject, :nbx_inject, :wavelet, :freesurface, :nthreads, :reportinterval, :stats),Tuple{Array{Float32,2},String,Base.RefValue{String},Base.RefValue{UInt32},Dict{String,Wave.Compressor{Float32,Float32,Float32,2}},Bool,Array{Float64,1},Array{Float64,1},Array{Float64,1},Symbol,Array{Float64,1},Array{Float64,1},Float64,Float64,Float32,Float32,Float32,Float32,Float32,Int64,Ginsu{2,JopLn{Jet{JetSpace{Float32,2},JetSpace{Float32,2},typeof(JetPack.JopPad_df!),typeof(JetPack.JopPad_df!),typeof(JetPack.JopPad_df′!),Jets.var\"#4#7\",Array{Float32,2},NamedTuple{(:pad, :extend, :accumulate),Tuple{Tuple{UnitRange{Int64},UnitRange{Int64}},Bool,Bool}}}},JopLn{Jet{JetSpace{Float32,2},JetSpace{Float32,2},typeof(JetPack.JopPad_df!),typeof(JetPack.JopPad_df!),typeof(JetPack.JopPad_df′!),Jets.var\"#4#7\",Array{Float32,2},NamedTuple{(:pad, :extend, :accumulate),Tuple{Tuple{UnitRange{Int64},UnitRange{Int64}},Bool,Bool}}}},JopLn{Jet{JetSpace{Float32,2},JetSpace{Float32,2},typeof(JetPack.JopPad_df!),typeof(JetPack.JopPad_df!),typeof(JetPack.JopPad_df′!),Jets.var\"#4#7\",Array{Float32,2},NamedTuple{(:pad, :extend, :accumulate),Tuple{Tuple{UnitRange{Int64},UnitRange{Int64}},Bool,Bool}}}},JopLn{Jet{JetSpace{Float32,2},JetSpace{Float32,2},typeof(JetPack.JopPad_df!),typeof(JetPack.JopPad_df!),typeof(JetPack.JopPad_df′!),Jets.var\"#4#7\",Array{Float32,2},NamedTuple{(:pad, :extend, :accumulate),Tuple{Tuple{UnitRange{Int64},UnitRange{Int64}},Bool,Bool}}}}},Float32,Float32,Int64,Int64,Int64,Int64,Int64,WaveletCausalRicker,Bool,Int64,Int64,Dict{String,Float64}}}}},2},JetSpace{Float32,2},JetBSpace{Float32,JetSpace{Float32,2}}}}}},2,Array{JopNl{Jet{JetSpace{Float32,2},JetBSpace{Float32,JetSpace{Float32,2}},typeof(Jets.JetBlock_f!),typeof(Jets.JetBlock_df!),typeof(Jets.JetBlock_df′!),Jets.var\"#4#7\",Array{Float32,2},NamedTuple{(:ops, :dom, :rng),Tuple{Array{JopNl{Jet{JetSpace{Float32,2},JetSpace{Float32,2},typeof(JetPackWave.JopProp2DAcoIsoDenQ_DEO2_FDTD_f!),typeof(JetPackWave.JopProp2DAcoIsoDenQ_DEO2_FDTD_df!),typeof(JetPackWave.JopProp2DAcoIsoDenQ_DEO2_FDTD_df′!),Jets.var\"#4#7\",Array{Float32,2},NamedTuple{(:b, :srcfieldfile, :srcfieldhost, :chksum, :compressor, :isinterior, :sz, :sx, :st, :interpmethod, :rz, :rx, :z0, :x0, :dz, :dx, :freqQ, :qMin, :qInterior, :nsponge, :ginsu, :dtmod, :dtrec, :ntrec, :nbz_cache, :nbx_cache, :nbz_inject, :nbx_inject, :wavelet, :freesurface, :nthreads, :reportinterval, :stats),Tuple{Array{Float32,2},String,Base.RefValue{String},Base.RefValue{UInt32},Dict{String,Wave.Compressor{Float32,Float32,Float32,2}},Bool,Array{Float64,1},Array{Float64,1},Array{Float64,1},Symbol,Array{Float64,1},Array{Float64,1},Float64,Float64,Float32,Float32,Float32,Float32,Float32,Int64,Ginsu{2,JopLn{Jet{JetSpace{Float32,2},JetSpace{Float32,2},typeof(JetPack.JopPad_df!),typeof(JetPack.JopPad_df!),typeof(JetPack.JopPad_df′!),Jets.var\"#4#7\",Array{Float32,2},NamedTuple{(:pad, :extend, :accumulate),Tuple{Tuple{UnitRange{Int64},UnitRange{Int64}},Bool,Bool}}}},JopLn{Jet{JetSpace{Float32,2},JetSpace{Float32,2},typeof(JetPack.JopPad_df!),typeof(JetPack.JopPad_df!),typeof(JetPack.JopPad_df′!),Jets.var\"#4#7\",Array{Float32,2},NamedTuple{(:pad, :extend, :accumulate),Tuple{Tuple{UnitRange{Int64},UnitRange{Int64}},Bool,Bool}}}},JopLn{Jet{JetSpace{Float32,2},JetSpace{Float32,2},typeof(JetPack.JopPad_df!),typeof(JetPack.JopPad_df!),typeof(JetPack.JopPad_df′!),Jets.var\"#4#7\",Array{Float32,2},NamedTuple{(:pad, :extend, :accumulate),Tuple{Tuple{UnitRange{Int64},UnitRange{Int64}},Bool,Bool}}}},JopLn{Jet{JetSpace{Float32,2},JetSpace{Float32,2},typeof(JetPack.JopPad_df!),typeof(JetPack.JopPad_df!),typeof(JetPack.JopPad_df′!),Jets.var\"#4#7\",Array{Float32,2},NamedTuple{(:pad, :extend, :accumulate),Tuple{Tuple{UnitRange{Int64},UnitRange{Int64}},Bool,Bool}}}}},Float32,Float32,Int64,Int64,Int64,Int64,Int64,WaveletCausalRicker,Bool,Int64,Int64,Dict{String,Float64}}}}},2},JetSpace{Float32,2},JetBSpace{Float32,JetSpace{Float32,2}}}}}},2}},JetSpace{Float32,2},JetBSpace{Float32,JetSpace{Float32,2}},Array{Tuple{UnitRange{Int64},UnitRange{Int64}},2},Bool,String}}}, ::Array{Float32,2}; kwargs::Base.Iterators.Pairs{Symbol,Any,NTuple{6,Symbol},NamedTuple{(:ops, :dom, :rng, :blockmap, :isdiag, :perfstatfile),Tuple{DArray{JopNl{Jet{JetSpace{Float32,2},JetBSpace{Float32,JetSpace{Float32,2}},typeof(Jets.JetBlock_f!),typeof(Jets.JetBlock_df!),typeof(Jets.JetBlock_df′!),Jets.var\"#4#7\",Array{Float32,2},NamedTuple{(:ops, :dom, :rng),Tuple{Array{JopNl{Jet{JetSpace{Float32,2},JetSpace{Float32,2},typeof(JetPackWave.JopProp2DAcoIsoDenQ_DEO2_FDTD_f!),typeof(JetPackWave.JopProp2DAcoIsoDenQ_DEO2_FDTD_df!),typeof(JetPackWave.JopProp2DAcoIsoDenQ_DEO2_FDTD_df′!),Jets.var\"#4#7\",Array{Float32,2},NamedTuple{(:b, :srcfieldfile, :srcfieldhost, :chksum, :compressor, :isinterior, :sz, :sx, :st, :interpmethod, :rz, :rx, :z0, :x0, :dz, :dx, :freqQ, :qMin, :qInterior, :nsponge, :ginsu, :dtmod, :dtrec, :ntrec, :nbz_cache, :nbx_cache, :nbz_inject, :nbx_inject, :wavelet, :freesurface, :nthreads, :reportinterval, :stats),Tuple{Array{Float32,2},String,Base.RefValue{String},Base.RefValue{UInt32},Dict{String,Wave.Compressor{Float32,Float32,Float32,2}},Bool,Array{Float64,1},Array{Float64,1},Array{Float64,1},Symbol,Array{Float64,1},Array{Float64,1},Float64,Float64,Float32,Float32,Float32,Float32,Float32,Int64,Ginsu{2,JopLn{Jet{JetSpace{Float32,2},JetSpace{Float32,2},typeof(JetPack.JopPad_df!),typeof(JetPack.JopPad_df!),typeof(JetPack.JopPad_df′!),Jets.var\"#4#7\",Array{Float32,2},NamedTuple{(:pad, :extend, :accumulate),Tuple{Tuple{UnitRange{Int64},UnitRange{Int64}},Bool,Bool}}}},JopLn{Jet{JetSpace{Float32,2},JetSpace{Float32,2},typeof(JetPack.JopPad_df!),typeof(JetPack.JopPad_df!),typeof(JetPack.JopPad_df′!),Jets.var\"#4#7\",Array{Float32,2},NamedTuple{(:pad, :extend, :accumulate),Tuple{Tuple{UnitRange{Int64},UnitRange{Int64}},Bool,Bool}}}},JopLn{Jet{JetSpace{Float32,2},JetSpace{Float32,2},typeof(JetPack.JopPad_df!),typeof(JetPack.JopPad_df!),typeof(JetPack.JopPad_df′!),Jets.var\"#4#7\",Array{Float32,2},NamedTuple{(:pad, :extend, :accumulate),Tuple{Tuple{UnitRange{Int64},UnitRange{Int64}},Bool,Bool}}}},JopLn{Jet{JetSpace{Float32,2},JetSpace{Float32,2},typeof(JetPack.JopPad_df!),typeof(JetPack.JopPad_df!),typeof(JetPack.JopPad_df′!),Jets.var\"#4#7\",Array{Float32,2},NamedTuple{(:pad, :extend, :accumulate),Tuple{Tuple{UnitRange{Int64},UnitRange{Int64}},Bool,Bool}}}}},Float32,Float32,Int64,Int64,Int64,Int64,Int64,WaveletCausalRicker,Bool,Int64,Int64,Dict{String,Float64}}}}},2},JetSpace{Float32,2},JetBSpace{Float32,JetSpace{Float32,2}}}}}},2,Array{JopNl{Jet{JetSpace{Float32,2},JetBSpace{Float32,JetSpace{Float32,2}},typeof(Jets.JetBlock_f!),typeof(Jets.JetBlock_df!),typeof(Jets.JetBlock_df′!),Jets.var\"#4#7\",Array{Float32,2},NamedTuple{(:ops, :dom, :rng),Tuple{Array{JopNl{Jet{JetSpace{Float32,2},JetSpace{Float32,2},typeof(JetPackWave.JopProp2DAcoIsoDenQ_DEO2_FDTD_f!),typeof(JetPackWave.JopProp2DAcoIsoDenQ_DEO2_FDTD_df!),typeof(JetPackWave.JopProp2DAcoIsoDenQ_DEO2_FDTD_df′!),Jets.var\"#4#7\",Array{Float32,2},NamedTuple{(:b, :srcfieldfile, :srcfieldhost, :chksum, :compressor, :isinterior, :sz, :sx, :st, :interpmethod, :rz, :rx, :z0, :x0, :dz, :dx, :freqQ, :qMin, :qInterior, :nsponge, :ginsu, :dtmod, :dtrec, :ntrec, :nbz_cache, :nbx_cache, :nbz_inject, :nbx_inject, :wavelet, :freesurface, :nthreads, :reportinterval, :stats),Tuple{Array{Float32,2},String,Base.RefValue{String},Base.RefValue{UInt32},Dict{String,Wave.Compressor{Float32,Float32,Float32,2}},Bool,Array{Float64,1},Array{Float64,1},Array{Float64,1},Symbol,Array{Float64,1},Array{Float64,1},Float64,Float64,Float32,Float32,Float32,Float32,Float32,Int64,Ginsu{2,JopLn{Jet{JetSpace{Float32,2},JetSpace{Float32,2},typeof(JetPack.JopPad_df!),typeof(JetPack.JopPad_df!),typeof(JetPack.JopPad_df′!),Jets.var\"#4#7\",Array{Float32,2},NamedTuple{(:pad, :extend, :accumulate),Tuple{Tuple{UnitRange{Int64},UnitRange{Int64}},Bool,Bool}}}},JopLn{Jet{JetSpace{Float32,2},JetSpace{Float32,2},typeof(JetPack.JopPad_df!),typeof(JetPack.JopPad_df!),typeof(JetPack.JopPad_df′!),Jets.var\"#4#7\",Array{Float32,2},NamedTuple{(:pad, :extend, :accumulate),Tuple{Tuple{UnitRange{Int64},UnitRange{Int64}},Bool,Bool}}}},JopLn{Jet{JetSpace{Float32,2},JetSpace{Float32,2},typeof(JetPack.JopPad_df!),typeof(JetPack.JopPad_df!),typeof(JetPack.JopPad_df′!),Jets.var\"#4#7\",Array{Float32,2},NamedTuple{(:pad, :extend, :accumulate),Tuple{Tuple{UnitRange{Int64},UnitRange{Int64}},Bool,Bool}}}},JopLn{Jet{JetSpace{Float32,2},JetSpace{Float32,2},typeof(JetPack.JopPad_df!),typeof(JetPack.JopPad_df!),typeof(JetPack.JopPad_df′!),Jets.var\"#4#7\",Array{Float32,2},NamedTuple{(:pad, :extend, :accumulate),Tuple{Tuple{UnitRange{Int64},UnitRange{Int64}},Bool,Bool}}}}},Float32,Float32,Int64,Int64,Int64,Int64,Int64,WaveletCausalRicker,Bool,Int64,Int64,Dict{String,Float64}}}}},2},JetSpace{Float32,2},JetBSpace{Float32,JetSpace{Float32,2}}}}}},2}},JetSpace{Float32,2},JetBSpace{Float32,JetSpace{Float32,2}},Array{Tuple{UnitRange{Int64},UnitRange{Int64}},2},Bool,String}}}) at /home/cvx/.julia/dev/Jets/src/Jets.jl:79",
      " [2] mul!(::Jets.BlockArray{Float32,Array{Float32,2}}, ::JopNl{Jet{JetSpace{Float32,2},JetBSpace{Float32,JetSpace{Float32,2}},typeof(DistributedJets.JetDBlock_f!),typeof(DistributedJets.JetDBlock_df!),typeof(DistributedJets.JetDBlock_df′!),Jets.var\"#4#7\",Array{Float32,2},NamedTuple{(:ops, :dom, :rng, :blockmap, :isdiag, :perfstatfile),Tuple{DArray{JopNl{Jet{JetSpace{Float32,2},JetBSpace{Float32,JetSpace{Float32,2}},typeof(Jets.JetBlock_f!),typeof(Jets.JetBlock_df!),typeof(Jets.JetBlock_df′!),Jets.var\"#4#7\",Array{Float32,2},NamedTuple{(:ops, :dom, :rng),Tuple{Array{JopNl{Jet{JetSpace{Float32,2},JetSpace{Float32,2},typeof(JetPackWave.JopProp2DAcoIsoDenQ_DEO2_FDTD_f!),typeof(JetPackWave.JopProp2DAcoIsoDenQ_DEO2_FDTD_df!),typeof(JetPackWave.JopProp2DAcoIsoDenQ_DEO2_FDTD_df′!),Jets.var\"#4#7\",Array{Float32,2},NamedTuple{(:b, :srcfieldfile, :srcfieldhost, :chksum, :compressor, :isinterior, :sz, :sx, :st, :interpmethod, :rz, :rx, :z0, :x0, :dz, :dx, :freqQ, :qMin, :qInterior, :nsponge, :ginsu, :dtmod, :dtrec, :ntrec, :nbz_cache, :nbx_cache, :nbz_inject, :nbx_inject, :wavelet, :freesurface, :nthreads, :reportinterval, :stats),Tuple{Array{Float32,2},String,Base.RefValue{String},Base.RefValue{UInt32},Dict{String,Wave.Compressor{Float32,Float32,Float32,2}},Bool,Array{Float64,1},Array{Float64,1},Array{Float64,1},Symbol,Array{Float64,1},Array{Float64,1},Float64,Float64,Float32,Float32,Float32,Float32,Float32,Int64,Ginsu{2,JopLn{Jet{JetSpace{Float32,2},JetSpace{Float32,2},typeof(JetPack.JopPad_df!),typeof(JetPack.JopPad_df!),typeof(JetPack.JopPad_df′!),Jets.var\"#4#7\",Array{Float32,2},NamedTuple{(:pad, :extend, :accumulate),Tuple{Tuple{UnitRange{Int64},UnitRange{Int64}},Bool,Bool}}}},JopLn{Jet{JetSpace{Float32,2},JetSpace{Float32,2},typeof(JetPack.JopPad_df!),typeof(JetPack.JopPad_df!),typeof(JetPack.JopPad_df′!),Jets.var\"#4#7\",Array{Float32,2},NamedTuple{(:pad, :extend, :accumulate),Tuple{Tuple{UnitRange{Int64},UnitRange{Int64}},Bool,Bool}}}},JopLn{Jet{JetSpace{Float32,2},JetSpace{Float32,2},typeof(JetPack.JopPad_df!),typeof(JetPack.JopPad_df!),typeof(JetPack.JopPad_df′!),Jets.var\"#4#7\",Array{Float32,2},NamedTuple{(:pad, :extend, :accumulate),Tuple{Tuple{UnitRange{Int64},UnitRange{Int64}},Bool,Bool}}}},JopLn{Jet{JetSpace{Float32,2},JetSpace{Float32,2},typeof(JetPack.JopPad_df!),typeof(JetPack.JopPad_df!),typeof(JetPack.JopPad_df′!),Jets.var\"#4#7\",Array{Float32,2},NamedTuple{(:pad, :extend, :accumulate),Tuple{Tuple{UnitRange{Int64},UnitRange{Int64}},Bool,Bool}}}}},Float32,Float32,Int64,Int64,Int64,Int64,Int64,WaveletCausalRicker,Bool,Int64,Int64,Dict{String,Float64}}}}},2},JetSpace{Float32,2},JetBSpace{Float32,JetSpace{Float32,2}}}}}},2,Array{JopNl{Jet{JetSpace{Float32,2},JetBSpace{Float32,JetSpace{Float32,2}},typeof(Jets.JetBlock_f!),typeof(Jets.JetBlock_df!),typeof(Jets.JetBlock_df′!),Jets.var\"#4#7\",Array{Float32,2},NamedTuple{(:ops, :dom, :rng),Tuple{Array{JopNl{Jet{JetSpace{Float32,2},JetSpace{Float32,2},typeof(JetPackWave.JopProp2DAcoIsoDenQ_DEO2_FDTD_f!),typeof(JetPackWave.JopProp2DAcoIsoDenQ_DEO2_FDTD_df!),typeof(JetPackWave.JopProp2DAcoIsoDenQ_DEO2_FDTD_df′!),Jets.var\"#4#7\",Array{Float32,2},NamedTuple{(:b, :srcfieldfile, :srcfieldhost, :chksum, :compressor, :isinterior, :sz, :sx, :st, :interpmethod, :rz, :rx, :z0, :x0, :dz, :dx, :freqQ, :qMin, :qInterior, :nsponge, :ginsu, :dtmod, :dtrec, :ntrec, :nbz_cache, :nbx_cache, :nbz_inject, :nbx_inject, :wavelet, :freesurface, :nthreads, :reportinterval, :stats),Tuple{Array{Float32,2},String,Base.RefValue{String},Base.RefValue{UInt32},Dict{String,Wave.Compressor{Float32,Float32,Float32,2}},Bool,Array{Float64,1},Array{Float64,1},Array{Float64,1},Symbol,Array{Float64,1},Array{Float64,1},Float64,Float64,Float32,Float32,Float32,Float32,Float32,Int64,Ginsu{2,JopLn{Jet{JetSpace{Float32,2},JetSpace{Float32,2},typeof(JetPack.JopPad_df!),typeof(JetPack.JopPad_df!),typeof(JetPack.JopPad_df′!),Jets.var\"#4#7\",Array{Float32,2},NamedTuple{(:pad, :extend, :accumulate),Tuple{Tuple{UnitRange{Int64},UnitRange{Int64}},Bool,Bool}}}},JopLn{Jet{JetSpace{Float32,2},JetSpace{Float32,2},typeof(JetPack.JopPad_df!),typeof(JetPack.JopPad_df!),typeof(JetPack.JopPad_df′!),Jets.var\"#4#7\",Array{Float32,2},NamedTuple{(:pad, :extend, :accumulate),Tuple{Tuple{UnitRange{Int64},UnitRange{Int64}},Bool,Bool}}}},JopLn{Jet{JetSpace{Float32,2},JetSpace{Float32,2},typeof(JetPack.JopPad_df!),typeof(JetPack.JopPad_df!),typeof(JetPack.JopPad_df′!),Jets.var\"#4#7\",Array{Float32,2},NamedTuple{(:pad, :extend, :accumulate),Tuple{Tuple{UnitRange{Int64},UnitRange{Int64}},Bool,Bool}}}},JopLn{Jet{JetSpace{Float32,2},JetSpace{Float32,2},typeof(JetPack.JopPad_df!),typeof(JetPack.JopPad_df!),typeof(JetPack.JopPad_df′!),Jets.var\"#4#7\",Array{Float32,2},NamedTuple{(:pad, :extend, :accumulate),Tuple{Tuple{UnitRange{Int64},UnitRange{Int64}},Bool,Bool}}}}},Float32,Float32,Int64,Int64,Int64,Int64,Int64,WaveletCausalRicker,Bool,Int64,Int64,Dict{String,Float64}}}}},2},JetSpace{Float32,2},JetBSpace{Float32,JetSpace{Float32,2}}}}}},2}},JetSpace{Float32,2},JetBSpace{Float32,JetSpace{Float32,2}},Array{Tuple{UnitRange{Int64},UnitRange{Int64}},2},Bool,String}}}}, ::Array{Float32,2}) at /home/cvx/.julia/dev/Jets/src/Jets.jl:170",
      " [3] *(::JopNl{Jet{JetSpace{Float32,2},JetBSpace{Float32,JetSpace{Float32,2}},typeof(DistributedJets.JetDBlock_f!),typeof(DistributedJets.JetDBlock_df!),typeof(DistributedJets.JetDBlock_df′!),Jets.var\"#4#7\",Array{Float32,2},NamedTuple{(:ops, :dom, :rng, :blockmap, :isdiag, :perfstatfile),Tuple{DArray{JopNl{Jet{JetSpace{Float32,2},JetBSpace{Float32,JetSpace{Float32,2}},typeof(Jets.JetBlock_f!),typeof(Jets.JetBlock_df!),typeof(Jets.JetBlock_df′!),Jets.var\"#4#7\",Array{Float32,2},NamedTuple{(:ops, :dom, :rng),Tuple{Array{JopNl{Jet{JetSpace{Float32,2},JetSpace{Float32,2},typeof(JetPackWave.JopProp2DAcoIsoDenQ_DEO2_FDTD_f!),typeof(JetPackWave.JopProp2DAcoIsoDenQ_DEO2_FDTD_df!),typeof(JetPackWave.JopProp2DAcoIsoDenQ_DEO2_FDTD_df′!),Jets.var\"#4#7\",Array{Float32,2},NamedTuple{(:b, :srcfieldfile, :srcfieldhost, :chksum, :compressor, :isinterior, :sz, :sx, :st, :interpmethod, :rz, :rx, :z0, :x0, :dz, :dx, :freqQ, :qMin, :qInterior, :nsponge, :ginsu, :dtmod, :dtrec, :ntrec, :nbz_cache, :nbx_cache, :nbz_inject, :nbx_inject, :wavelet, :freesurface, :nthreads, :reportinterval, :stats),Tuple{Array{Float32,2},String,Base.RefValue{String},Base.RefValue{UInt32},Dict{String,Wave.Compressor{Float32,Float32,Float32,2}},Bool,Array{Float64,1},Array{Float64,1},Array{Float64,1},Symbol,Array{Float64,1},Array{Float64,1},Float64,Float64,Float32,Float32,Float32,Float32,Float32,Int64,Ginsu{2,JopLn{Jet{JetSpace{Float32,2},JetSpace{Float32,2},typeof(JetPack.JopPad_df!),typeof(JetPack.JopPad_df!),typeof(JetPack.JopPad_df′!),Jets.var\"#4#7\",Array{Float32,2},NamedTuple{(:pad, :extend, :accumulate),Tuple{Tuple{UnitRange{Int64},UnitRange{Int64}},Bool,Bool}}}},JopLn{Jet{JetSpace{Float32,2},JetSpace{Float32,2},typeof(JetPack.JopPad_df!),typeof(JetPack.JopPad_df!),typeof(JetPack.JopPad_df′!),Jets.var\"#4#7\",Array{Float32,2},NamedTuple{(:pad, :extend, :accumulate),Tuple{Tuple{UnitRange{Int64},UnitRange{Int64}},Bool,Bool}}}},JopLn{Jet{JetSpace{Float32,2},JetSpace{Float32,2},typeof(JetPack.JopPad_df!),typeof(JetPack.JopPad_df!),typeof(JetPack.JopPad_df′!),Jets.var\"#4#7\",Array{Float32,2},NamedTuple{(:pad, :extend, :accumulate),Tuple{Tuple{UnitRange{Int64},UnitRange{Int64}},Bool,Bool}}}},JopLn{Jet{JetSpace{Float32,2},JetSpace{Float32,2},typeof(JetPack.JopPad_df!),typeof(JetPack.JopPad_df!),typeof(JetPack.JopPad_df′!),Jets.var\"#4#7\",Array{Float32,2},NamedTuple{(:pad, :extend, :accumulate),Tuple{Tuple{UnitRange{Int64},UnitRange{Int64}},Bool,Bool}}}}},Float32,Float32,Int64,Int64,Int64,Int64,Int64,WaveletCausalRicker,Bool,Int64,Int64,Dict{String,Float64}}}}},2},JetSpace{Float32,2},JetBSpace{Float32,JetSpace{Float32,2}}}}}},2,Array{JopNl{Jet{JetSpace{Float32,2},JetBSpace{Float32,JetSpace{Float32,2}},typeof(Jets.JetBlock_f!),typeof(Jets.JetBlock_df!),typeof(Jets.JetBlock_df′!),Jets.var\"#4#7\",Array{Float32,2},NamedTuple{(:ops, :dom, :rng),Tuple{Array{JopNl{Jet{JetSpace{Float32,2},JetSpace{Float32,2},typeof(JetPackWave.JopProp2DAcoIsoDenQ_DEO2_FDTD_f!),typeof(JetPackWave.JopProp2DAcoIsoDenQ_DEO2_FDTD_df!),typeof(JetPackWave.JopProp2DAcoIsoDenQ_DEO2_FDTD_df′!),Jets.var\"#4#7\",Array{Float32,2},NamedTuple{(:b, :srcfieldfile, :srcfieldhost, :chksum, :compressor, :isinterior, :sz, :sx, :st, :interpmethod, :rz, :rx, :z0, :x0, :dz, :dx, :freqQ, :qMin, :qInterior, :nsponge, :ginsu, :dtmod, :dtrec, :ntrec, :nbz_cache, :nbx_cache, :nbz_inject, :nbx_inject, :wavelet, :freesurface, :nthreads, :reportinterval, :stats),Tuple{Array{Float32,2},String,Base.RefValue{String},Base.RefValue{UInt32},Dict{String,Wave.Compressor{Float32,Float32,Float32,2}},Bool,Array{Float64,1},Array{Float64,1},Array{Float64,1},Symbol,Array{Float64,1},Array{Float64,1},Float64,Float64,Float32,Float32,Float32,Float32,Float32,Int64,Ginsu{2,JopLn{Jet{JetSpace{Float32,2},JetSpace{Float32,2},typeof(JetPack.JopPad_df!),typeof(JetPack.JopPad_df!),typeof(JetPack.JopPad_df′!),Jets.var\"#4#7\",Array{Float32,2},NamedTuple{(:pad, :extend, :accumulate),Tuple{Tuple{UnitRange{Int64},UnitRange{Int64}},Bool,Bool}}}},JopLn{Jet{JetSpace{Float32,2},JetSpace{Float32,2},typeof(JetPack.JopPad_df!),typeof(JetPack.JopPad_df!),typeof(JetPack.JopPad_df′!),Jets.var\"#4#7\",Array{Float32,2},NamedTuple{(:pad, :extend, :accumulate),Tuple{Tuple{UnitRange{Int64},UnitRange{Int64}},Bool,Bool}}}},JopLn{Jet{JetSpace{Float32,2},JetSpace{Float32,2},typeof(JetPack.JopPad_df!),typeof(JetPack.JopPad_df!),typeof(JetPack.JopPad_df′!),Jets.var\"#4#7\",Array{Float32,2},NamedTuple{(:pad, :extend, :accumulate),Tuple{Tuple{UnitRange{Int64},UnitRange{Int64}},Bool,Bool}}}},JopLn{Jet{JetSpace{Float32,2},JetSpace{Float32,2},typeof(JetPack.JopPad_df!),typeof(JetPack.JopPad_df!),typeof(JetPack.JopPad_df′!),Jets.var\"#4#7\",Array{Float32,2},NamedTuple{(:pad, :extend, :accumulate),Tuple{Tuple{UnitRange{Int64},UnitRange{Int64}},Bool,Bool}}}}},Float32,Float32,Int64,Int64,Int64,Int64,Int64,WaveletCausalRicker,Bool,Int64,Int64,Dict{String,Float64}}}}},2},JetSpace{Float32,2},JetBSpace{Float32,JetSpace{Float32,2}}}}}},2}},JetSpace{Float32,2},JetBSpace{Float32,JetSpace{Float32,2}},Array{Tuple{UnitRange{Int64},UnitRange{Int64}},2},Bool,String}}}}, ::Array{Float32,2}) at /home/cvx/.julia/dev/Jets/src/Jets.jl:174",
      " [4] top-level scope at In[22]:1",
      " [5] include_string(::Function, ::Module, ::String, ::String) at ./loading.jl:1091"
     ]
    }
   ],
   "source": [
    "d = F*v"
   ]
  },
  {
   "cell_type": "code",
   "execution_count": null,
   "metadata": {
    "scrolled": true
   },
   "outputs": [],
   "source": [
    "J = jacobian!(F, v)\n",
    "ill = srcillum(J)\n",
    "mig = J'*d;"
   ]
  },
  {
   "cell_type": "markdown",
   "metadata": {},
   "source": [
    "## Low cut filter"
   ]
  },
  {
   "cell_type": "code",
   "execution_count": null,
   "metadata": {},
   "outputs": [],
   "source": [
    "L = JopHighpass(JetSpace(Float32,nz,nx))"
   ]
  },
  {
   "cell_type": "markdown",
   "metadata": {},
   "source": [
    "## Apply low cut filter and illumination compenstation"
   ]
  },
  {
   "cell_type": "code",
   "execution_count": null,
   "metadata": {},
   "outputs": [],
   "source": [
    "img = (L*mig) ./ (ill .+ 1e-9*mean(ill));"
   ]
  },
  {
   "cell_type": "markdown",
   "metadata": {},
   "source": [
    "## Gain"
   ]
  },
  {
   "cell_type": "code",
   "execution_count": null,
   "metadata": {},
   "outputs": [],
   "source": [
    "g = ([0:(nz-1);]*dz).^2 * ones(1,nx);"
   ]
  },
  {
   "cell_type": "code",
   "execution_count": null,
   "metadata": {},
   "outputs": [],
   "source": [
    "figure(figsize=(10,5))\n",
    "imshow(g.*img,cmap=\"gray\");clim(-1e-3,1e-3);title(\"Sharp model RTM with depth gain\");"
   ]
  },
  {
   "cell_type": "markdown",
   "metadata": {},
   "source": [
    "## Remove local files"
   ]
  },
  {
   "cell_type": "code",
   "execution_count": null,
   "metadata": {},
   "outputs": [],
   "source": [
    "close(F)"
   ]
  },
  {
   "cell_type": "markdown",
   "metadata": {},
   "source": [
    "## Remove workers"
   ]
  },
  {
   "cell_type": "code",
   "execution_count": null,
   "metadata": {},
   "outputs": [],
   "source": [
    "rmprocs(workers())"
   ]
  },
  {
   "cell_type": "code",
   "execution_count": null,
   "metadata": {},
   "outputs": [],
   "source": []
  }
 ],
 "metadata": {
  "kernelspec": {
   "display_name": "Julia 1.5.1",
   "language": "julia",
   "name": "julia-1.5"
  },
  "language_info": {
   "file_extension": ".jl",
   "mimetype": "application/julia",
   "name": "julia",
   "version": "3.6.3-final"
  }
 },
 "nbformat": 4,
 "nbformat_minor": 4
}