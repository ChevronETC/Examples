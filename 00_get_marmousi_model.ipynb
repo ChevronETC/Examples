{
 "cells": [
  {
   "cell_type": "markdown",
   "metadata": {},
   "source": [
    "# Get marmousi model from the internet"
   ]
  },
  {
   "cell_type": "code",
   "execution_count": 5,
   "metadata": {},
   "outputs": [],
   "source": [
    "using Tar"
   ]
  },
  {
   "cell_type": "code",
   "execution_count": 4,
   "metadata": {},
   "outputs": [
    {
     "data": {
      "text/plain": [
       "\"./elastic-marmousi-model.tar.gz\""
      ]
     },
     "execution_count": 4,
     "metadata": {},
     "output_type": "execute_result"
    }
   ],
   "source": [
    "download(\"https://s3.amazonaws.com/open.source.geoscience/open_data/elastic-marmousi/elastic-marmousi-model.tar.gz\",\"./elastic-marmousi-model.tar.gz\")"
   ]
  },
  {
   "cell_type": "code",
   "execution_count": 12,
   "metadata": {},
   "outputs": [
    {
     "ename": "ErrorException",
     "evalue": "invalid octal digit: 'ß'",
     "output_type": "error",
     "traceback": [
      "invalid octal digit: 'ß'",
      "",
      "Stacktrace:",
      " [1] error(::String) at ./error.jl:33",
      " [2] read_header_int(::SubArray{UInt8,1,Array{UInt8,1},Tuple{UnitRange{Int64}},true}, ::Int64, ::Int64) at /data/esdrd/nhwq/.julia/packages/Tar/6EM4e/src/extract.jl:495",
      " [3] read_standard_header(::IOStream; buf::Array{UInt8,1}, tee::Base.DevNull) at /data/esdrd/nhwq/.julia/packages/Tar/6EM4e/src/extract.jl:447",
      " [4] read_header(::IOStream, ::Dict{String,String}; buf::Array{UInt8,1}, tee::Base.DevNull) at /data/esdrd/nhwq/.julia/packages/Tar/6EM4e/src/extract.jl:340",
      " [5] read_tarball(::Tar.var\"#25#27\"{Array{UInt8,1},Bool,IOStream,String}, ::Tar.var\"#1#2\", ::IOStream; buf::Array{UInt8,1}, skeleton::Base.DevNull) at /data/esdrd/nhwq/.julia/packages/Tar/6EM4e/src/extract.jl:301",
      " [6] extract_tarball(::Function, ::IOStream, ::String; buf::Array{UInt8,1}, skeleton::Base.DevNull, copy_symlinks::Bool) at /data/esdrd/nhwq/.julia/packages/Tar/6EM4e/src/extract.jl:48",
      " [7] (::Tar.var\"#78#81\"{String,IOStream,Tar.var\"#1#2\"})(::Base.DevNull) at /data/esdrd/nhwq/.julia/packages/Tar/6EM4e/src/Tar.jl:209",
      " [8] arg_write(::Tar.var\"#78#81\"{String,IOStream,Tar.var\"#1#2\"}, ::Base.DevNull) at /data/esdrd/nhwq/.julia/packages/ArgTools/4vlk9/src/ArgTools.jl:94",
      " [9] (::Tar.var\"#77#80\"{IOStream,Tar.var\"#1#2\"})(::String) at /data/esdrd/nhwq/.julia/packages/Tar/6EM4e/src/Tar.jl:208",
      " [10] arg_mkdir(::Tar.var\"#77#80\"{IOStream,Tar.var\"#1#2\"}, ::Nothing) at /data/esdrd/nhwq/.julia/packages/ArgTools/4vlk9/src/ArgTools.jl:145",
      " [11] #76 at /data/esdrd/nhwq/.julia/packages/Tar/6EM4e/src/Tar.jl:204 [inlined]",
      " [12] open(::Tar.var\"#76#79\"{Tar.var\"#1#2\",Nothing}, ::String; kwargs::Base.Iterators.Pairs{Union{},Union{},Tuple{},NamedTuple{(),Tuple{}}}) at ./io.jl:298",
      " [13] open(::Function, ::String) at ./io.jl:296",
      " [14] arg_read at /data/esdrd/nhwq/.julia/packages/ArgTools/4vlk9/src/ArgTools.jl:42 [inlined]",
      " [15] extract(::Function, ::String, ::Nothing; skeleton::Nothing, copy_symlinks::Nothing) at /data/esdrd/nhwq/.julia/packages/Tar/6EM4e/src/Tar.jl:203",
      " [16] #extract#82 at /data/esdrd/nhwq/.julia/packages/Tar/6EM4e/src/Tar.jl:225 [inlined]",
      " [17] extract at /data/esdrd/nhwq/.julia/packages/Tar/6EM4e/src/Tar.jl:225 [inlined] (repeats 2 times)",
      " [18] top-level scope at In[12]:1"
     ]
    }
   ],
   "source": [
    "Tar.extract(\"elastic-marmousi-model.tar.gz\")"
   ]
  },
  {
   "cell_type": "code",
   "execution_count": null,
   "metadata": {},
   "outputs": [],
   "source": []
  }
 ],
 "metadata": {
  "kernelspec": {
   "display_name": "Julia 1.4.2",
   "language": "julia",
   "name": "julia-1.4"
  },
  "language_info": {
   "file_extension": ".jl",
   "mimetype": "application/julia",
   "name": "julia",
   "version": "1.4.2"
  }
 },
 "nbformat": 4,
 "nbformat_minor": 4
}
