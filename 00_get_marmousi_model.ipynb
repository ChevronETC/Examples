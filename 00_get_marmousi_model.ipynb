{
 "cells": [
  {
   "cell_type": "markdown",
   "metadata": {},
   "source": [
    "# Get marmousi model from the internet"
   ]
  },
  {
   "cell_type": "code",
   "execution_count": 6,
   "metadata": {},
   "outputs": [
    {
     "output_type": "execute_result",
     "data": {
      "text/plain": "\"./elastic-marmousi-model.tar.gz\""
     },
     "metadata": {},
     "execution_count": 6
    }
   ],
   "source": [
    "download(\"https://s3.amazonaws.com/open.source.geoscience/open_data/elastic-marmousi/elastic-marmousi-model.tar.gz\",\"./elastic-marmousi-model.tar.gz\")"
   ]
  },
  {
   "cell_type": "markdown",
   "metadata": {},
   "source": [
    "## Extract tarball using command line tar"
   ]
  },
  {
   "cell_type": "code",
   "execution_count": 8,
   "metadata": {
    "tags": []
   },
   "outputs": [
    {
     "output_type": "stream",
     "name": "stdout",
     "text": "elastic-marmousi-model/model/\nelastic-marmousi-model/processed_data/SEGY-Time/Kirchhoff_PoSTM_time.segy.tar.gz\nelastic-marmousi-model/processed_data/SEGY-Time/SYNTHETIC_time.segy.tar.gz\nelastic-marmousi-model/model/LAYER_PROPERTIES.pdf\nelastic-marmousi-model/processed_data/SEGY-Depth/SYNTHETIC.segy.tar.gz\nelastic-marmousi-model/processed_data/\nelastic-marmousi-model/processed_data/SEGY-Depth/Kirchhoff_PreSDM.segy.tar.gz\nelastic-marmousi-model/model/FINAL_HORIZONS.asc\nelastic-marmousi-model/model/FINAL_HORIZONS_GX2.asc\nelastic-marmousi-model/processed_data/SEGY-Depth/Kirchhoff_PoSDM.segy.tar.gz\nelastic-marmousi-model/processed_data/SEGY-Time/NMOstack_SRME_time.segy.tar.gz\nelastic-marmousi-model/processed_data/SEGY-Depth/Vs.segy.tar.gz\nelastic-marmousi-model/processed_data/SEGY-Depth/NMOstack.segy.tar.gz\nelastic-marmousi-model/processed_data/SEGY-Depth/WE_PreSDM.segy.tar.gz\nelastic-marmousi-model/reports/\nelastic-marmousi-model/processed_data/SEGY-Time/\nelastic-marmousi-model/model/MODEL_P-WAVE_VELOCITY_1.25m.segy.tar.gz\nelastic-marmousi-model/processed_data/SEGY-Depth/Kirchhoff_PreSTM.segy.tar.gz\nelastic-marmousi-model/model/MODEL_S-WAVE_VELOCITY_1.25m.segy.tar.gz\nelastic-marmousi-model/processed_data/SEGY-Depth/Kirchhoff_PoSTM.segy.tar.gz\nelastic-marmousi-model/LICENSE\nelastic-marmousi-model/\nelastic-marmousi-model/processed_data/SEGY-Depth/Vp.segy.tar.gz\nelastic-marmousi-model/model/MODEL_DENSITY_1.25m.segy.tar.gz\nelastic-marmousi-model/processed_data/SEGY-Depth/Density.segy.tar.gz\nelastic-marmousi-model/processed_data/SEGY-Time/NMOstack_time.segy.tar.gz\nelastic-marmousi-model/processed_data/SEGY-Depth/NMOstack_SRME.segy.tar.gz\nelastic-marmousi-model/processed_data/SEGY-Time/Kirchhoff_PreSTM_time.segy.tar.gz\nelastic-marmousi-model/reports/Marmousi2_ch3_synthetic_data_figures_snapshots.pdf\nelastic-marmousi-model/README\nelastic-marmousi-model/processed_data/SEGY-Depth/\nelastic-marmousi-model/reports/gary_martin_msc_thesis.pdf\n"
    }
   ],
   "source": [
    ";tar -xzvf elastic-marmousi-model.tar.gz"
   ]
  },
  {
   "cell_type": "code",
   "execution_count": null,
   "metadata": {},
   "outputs": [],
   "source": []
  }
 ],
 "metadata": {
  "kernelspec": {
   "display_name": "Julia 1.5.1",
   "language": "julia",
   "name": "julia-1.5"
  },
  "language_info": {
   "file_extension": ".jl",
   "mimetype": "application/julia",
   "name": "julia",
   "version": "3.6.3-final"
  }
 },
 "nbformat": 4,
 "nbformat_minor": 4
}