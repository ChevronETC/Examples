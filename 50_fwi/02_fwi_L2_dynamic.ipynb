{
 "cells": [
  {
   "cell_type": "markdown",
   "metadata": {},
   "source": [
    "# FWI Example\n",
    "We will peform FWI using the following steps:\n",
    "1. Prepare models\n",
    "    * Read the true model from binary file\n",
    "    * Generate our subsampled true and initial models \n",
    "2. Create list of shot locations \n",
    "3. Create a method that builds a single shot gather\n",
    "4. Use the method in 3. to create data for both models\n",
    "6. Visualize data\n",
    "7. Assess if data is cycle skipped at the farthest offsets\n",
    "8. Build the gradient/cost function for Optim.jl\n",
    "9. Perform the FWI using `Optim.jl`\n",
    "10. Visualize velocity models and objective function\n",
    "11. Visualize data match \n",
    "12. Write models to local disk"
   ]
  },
  {
   "cell_type": "markdown",
   "metadata": {},
   "source": [
    "First, specify the storage account that you want to use, the name of the scale-set, and the scale-set template used by AzManagers."
   ]
  },
  {
   "cell_type": "code",
   "execution_count": null,
   "metadata": {},
   "outputs": [],
   "source": [
    "storageaccount=\"johnwashbourne0\";\n",
    "scalesetname=\"myscaleset\";\n",
    "scalesettemplate=\"cbox32\";"
   ]
  },
  {
   "cell_type": "code",
   "execution_count": null,
   "metadata": {},
   "outputs": [],
   "source": [
    "using AzManagers, AzSessions, AzStorage, CloudSeis, Distributed, DistributedOperations, Jets, JetPack, JetPackDSP, \n",
    "    JetPackWaveFD, LinearAlgebra, LineSearches, Logging, Optim, PyPlot, Printf, Schedulers, WaveFD"
   ]
  },
  {
   "cell_type": "code",
   "execution_count": null,
   "metadata": {},
   "outputs": [],
   "source": [
    "global_logger(ConsoleLogger(stdout, Logging.Info))"
   ]
  },
  {
   "cell_type": "markdown",
   "metadata": {},
   "source": [
    "## 1. Prepare models"
   ]
  },
  {
   "cell_type": "markdown",
   "metadata": {},
   "source": [
    "#### Read true model from binary file"
   ]
  },
  {
   "cell_type": "code",
   "execution_count": null,
   "metadata": {
    "tags": []
   },
   "outputs": [],
   "source": [
    "v = read!(\"../20_marmousi_model_setup/marmousi_vp_20m_176x851.bin\", Array{Float32}(undef, 176,851));"
   ]
  },
  {
   "cell_type": "markdown",
   "metadata": {},
   "source": [
    "#### Subsample models\n",
    "We are running a low frequency FWI, so we resample the model from a 20m grid to a 40m grid so that the modeling will run faster."
   ]
  },
  {
   "cell_type": "code",
   "execution_count": null,
   "metadata": {},
   "outputs": [],
   "source": [
    "v = v[1:2:end,1:2:end]\n",
    "\n",
    "dz,dx = 40.0,40.0\n",
    "nz,nx = size(v)\n",
    "@show dz,dx\n",
    "@show nz,nx;"
   ]
  },
  {
   "cell_type": "markdown",
   "metadata": {},
   "source": [
    "#### Smooth the true model to generate true and initial models\n",
    "Note that we will perform this FWI example at low frequency, and so we smooth both the true and the initial models before we begin. \n",
    "\n",
    "Please refer to the smoothing notebook in the `20_marmousi_model_setup` example directory for more details on our smoothing approach. Note that we apply the smoothing in slowness to preserve traveltime."
   ]
  },
  {
   "cell_type": "code",
   "execution_count": null,
   "metadata": {},
   "outputs": [],
   "source": [
    "# smoothing for the true model\n",
    "ns1 = 1\n",
    "P1 = JopPad(JetSpace(Float32,nz,nx), -ns1:nz+ns1, -ns1:nx+ns1, extend=true)\n",
    "S1 = JopConvolve(range(P1), smoother=:rect, n=(ns1,ns1))\n",
    "R1 = JopPad(JetSpace(Float32,nz,nx), -ns1:nz+ns1, -ns1:nx+ns1, extend=false)\n",
    "s1 = R1' ∘ S1 ∘ P1 * (1 ./ v)\n",
    "v1 = 1 ./(s1);\n",
    "\n",
    "# smoothing for the initial model\n",
    "ns2 = 5\n",
    "P2 = JopPad(JetSpace(Float32,nz,nx), -ns2:nz+ns2, -ns2:nx+ns2, extend=true)\n",
    "S2 = JopConvolve(range(P2), smoother=:rect, n=(ns2,ns2))\n",
    "R2 = JopPad(JetSpace(Float32,nz,nx), -ns2:nz+ns2, -ns2:nx+ns2, extend=false)\n",
    "s2 = R2' ∘ S2 ∘ P2 * (1 ./ v)\n",
    "v2 = 1 ./(s2);"
   ]
  },
  {
   "cell_type": "markdown",
   "metadata": {},
   "source": [
    "#### Replace the water layer in both models"
   ]
  },
  {
   "cell_type": "code",
   "execution_count": null,
   "metadata": {},
   "outputs": [],
   "source": [
    "v1[v.==1500.0] .= 1500.0;\n",
    "v2[v.==1500.0] .= 1500.0;\n",
    "\n",
    "@show extrema(v1)\n",
    "@show extrema(v2)"
   ]
  },
  {
   "cell_type": "markdown",
   "metadata": {},
   "source": [
    "#### Visualize"
   ]
  },
  {
   "cell_type": "code",
   "execution_count": null,
   "metadata": {},
   "outputs": [],
   "source": [
    "figure(figsize=(8,9))\n",
    "vmin,vmax = extrema(v1)\n",
    "dmin,dmax = -1000,1000\n",
    "\n",
    "subplot(3,1,1); imshow(v1,aspect=\"auto\",cmap=\"jet\"); \n",
    "colorbar(); clim(vmin,vmax); title(\"True Velocity (v1)\")\n",
    "\n",
    "subplot(3,1,2); imshow(v2,aspect=\"auto\",cmap=\"jet\");\n",
    "colorbar(); clim(vmin,vmax); title(\"Initial Velocity (v2)\");\n",
    "\n",
    "subplot(3,1,3); imshow(v1.-v2,aspect=\"auto\",cmap=\"seismic\");\n",
    "colorbar(); clim(dmin,dmax); title(\"Difference (v1-v2)\");\n",
    "\n",
    "tight_layout()"
   ]
  },
  {
   "cell_type": "markdown",
   "metadata": {},
   "source": [
    "#### Reshape models\n",
    "\n",
    "Even though this is a 2D example, the model passed to the nonlinear operator below is 3D, with size [nz,nx,1] for the velocity only case. In the case of variable density acoustics, the model would be of size [nz,nx,2]."
   ]
  },
  {
   "cell_type": "code",
   "execution_count": null,
   "metadata": {},
   "outputs": [],
   "source": [
    "m1 = reshape(v1,nz,nx,1);\n",
    "m2 = reshape(v2,nz,nx,1);"
   ]
  },
  {
   "cell_type": "markdown",
   "metadata": {},
   "source": [
    "## 3. Create list of shot locations \n",
    "We use 16 shot locations evenly distributed across the top of the model."
   ]
  },
  {
   "cell_type": "code",
   "execution_count": null,
   "metadata": {
    "tags": []
   },
   "outputs": [],
   "source": [
    "# sx = round.(Int,collect(range(0,stop=(nx-1)*dx,length=16)))\n",
    "sx = round.(Int,collect(range(0,stop=(nx-1)*dx,length=8)))"
   ]
  },
  {
   "cell_type": "markdown",
   "metadata": {},
   "source": [
    "## 4. Build `F`, the distributed block operator for seismic modeling"
   ]
  },
  {
   "cell_type": "markdown",
   "metadata": {},
   "source": [
    "## 5. Create the data in both models"
   ]
  },
  {
   "cell_type": "code",
   "execution_count": null,
   "metadata": {},
   "outputs": [],
   "source": [
    "function build_data(ishot, dataset, sx, _v, dz, dx)\n",
    "    io = csopen(dataset, \"r+\")\n",
    "\n",
    "    v = localpart(_v)\n",
    "    nz,nx = size(v)[1:2]\n",
    "    \n",
    "    F = JopNlProp2DAcoIsoDenQ_DEO2_FDTD(;\n",
    "        b = ones(Float32,nz,nx),\n",
    "        nthreads = Sys.CPU_THREADS,\n",
    "        ntrec = size(io,1),\n",
    "        dtrec = pincs(io,1),\n",
    "        dtmod = 0.002,\n",
    "        dz = dz,\n",
    "        dx = dx,\n",
    "        wavelet = WaveletCausalRicker(f=4.0),\n",
    "        sx = sx[ishot],\n",
    "        sz = dz,\n",
    "        rx = dx*[0:nx-1;],\n",
    "        rz = 2*dz*ones(length(0:nx-1)),\n",
    "        nbz_cache = nz,\n",
    "        nbx_cache = 16,\n",
    "        srcfieldfile = \"\",\n",
    "        reportinterval=0)\n",
    "    \n",
    "    h = allocframehdrs(io)\n",
    "    for itrace = 1:nx\n",
    "        set!(prop(io, \"SOU_X\"), h, itrace, state(F).sx[1])\n",
    "        set!(prop(io, \"REC_X\"), h, itrace, state(F).rx[itrace])\n",
    "        set!(prop(io, \"SOU_ELEV\"), h, itrace, -state(F).sz[1])\n",
    "        set!(prop(io, \"REC_ELEV\"), h, itrace, -state(F).rz[itrace])\n",
    "        set!(prop(io, \"TRC_TYPE\"), h, itrace, tracetype[:live])\n",
    "        set!(prop(io, \"FRAME\"), h, itrace, ishot)\n",
    "        set!(prop(io, \"TRACE\"), h, itrace, itrace)\n",
    "    end\n",
    "    writeframe(io, F*v, h)\n",
    "    close(io)\n",
    "    close(F)\n",
    "    nothing\n",
    "end"
   ]
  },
  {
   "cell_type": "code",
   "execution_count": null,
   "metadata": {},
   "outputs": [],
   "source": [
    "\n",
    "container1 = AzContainer(\"examples/marmousi/data-1-cs\";storageaccount=storageaccount)\n",
    "container2 = AzContainer(\"examples/marmousi/data-2-cs\";storageaccount=storageaccount)"
   ]
  },
  {
   "cell_type": "code",
   "execution_count": null,
   "metadata": {},
   "outputs": [],
   "source": [
    "tracepropertydefs = [stockprop[:SOU_X], stockprop[:REC_X], stockprop[:SOU_ELEV], stockprop[:REC_ELEV]]\n",
    "\n",
    "cscreate(container1; axis_lengths=[2501,nx,16], axis_pincs=[0.004,1.0,1.0], frames_per_extent=1, tracepropertydefs=tracepropertydefs)\n",
    "cscreate(container2; axis_lengths=[2501,nx,16], axis_pincs=[0.004,1.0,1.0], frames_per_extent=1, tracepropertydefs=tracepropertydefs)"
   ]
  },
  {
   "cell_type": "code",
   "execution_count": null,
   "metadata": {
    "scrolled": true
   },
   "outputs": [],
   "source": [
    "_m1 = ArrayFutures(m1)\n",
    "epmap(build_data, 1:length(sx), container1, sx, _m1, dz, dx;\n",
    "        epmap_addprocs = n->addprocs(scalesettemplate, n; group=scalesetname, env=Dict(\"OMP_PROC_BIND\"=>\"close\", \"OMP_NUM_THREADS\"=>32)),\n",
    "        epmap_nworkers = nworkers_provisioned,\n",
    "        epmap_minworkers = 8,\n",
    "        epmap_maxworkers = 8,\n",
    "        epmap_init = pid->(bcast!(_m1, [pid]); nothing))\n",
    "\n",
    "_m2 = ArrayFutures(m2)\n",
    "epmap(build_data, 1:length(sx), container2, sx, _m2, dz, dx;\n",
    "        epmap_addprocs = n->addprocs(scalesettemplate, n; group=scalesetname, env=Dict(\"OMP_PROC_BIND\"=>\"close\", \"OMP_NUM_THREADS\"=>32)),\n",
    "        epmap_nworkers = nworkers_provisioned,\n",
    "        epmap_minworkers = 0,\n",
    "        epmap_maxworkers = 8,\n",
    "        epmap_init = pid->(bcast!(_m2, [pid]); nothing))"
   ]
  },
  {
   "cell_type": "markdown",
   "metadata": {},
   "source": [
    "#### Read 3 shots for plotting"
   ]
  },
  {
   "cell_type": "code",
   "execution_count": null,
   "metadata": {},
   "outputs": [],
   "source": [
    "shots = [1,4,8]\n",
    "sxlocal = [sx[i] for i in shots]\n",
    "\n",
    "io1 = csopen(container1)\n",
    "io2 = csopen(container2)\n",
    "\n",
    "d1local = [readframetrcs(io1,i) for i in shots];\n",
    "d2local = [readframetrcs(io2,i) for i in shots];\n",
    "r2local = [d1local[i] - d2local[i] for i in 1:3];"
   ]
  },
  {
   "cell_type": "markdown",
   "metadata": {},
   "source": [
    "#### Plot shot gathers for true model, initial model, and residual\n",
    "\n",
    "The table below describes the data images below. We flip the direction of the residual and modeled data in order to help display the match with the true data.\n",
    "\n",
    "<table style=\"border:1px solid black;\" width=\"60%\">\n",
    "<tr>\n",
    "  <td style=\"border:1px solid black; text-align:center;\" bgcolor=\"white\">\n",
    "      <b>Initial Residual Data<br>(flipped)</b></td>\n",
    "  <td style=\"border:1px solid black; text-align:center;\" bgcolor=\"white\">\n",
    "      <b>True Data</b></td>\n",
    "  <td style=\"border:1px solid black; text-align:center;\" bgcolor=\"white\">\n",
    "      <b>Initial Data<br>(flipped)</b></td>\n",
    "</tr>\n",
    "</table>\n",
    "\n",
    "Note that the data modeled in the initial model lacks a lot of reflectivity that is evident in the data modeled in the true model. We expect to recover this missing reflectivity with the FWI."
   ]
  },
  {
   "cell_type": "code",
   "execution_count": null,
   "metadata": {},
   "outputs": [],
   "source": [
    "scale = 2000.0 / sqrt(norm(d1local)^2 / length(d1local))\n",
    "@show scale\n",
    "\n",
    "nzero = 5\n",
    "ntrec = size(io1,1)\n",
    "pad = ones(Float32,ntrec,nzero)\n",
    "\n",
    "figure(figsize=(8,9)); clf()\n",
    "for (iplot,ishot) in enumerate(shots)\n",
    "    cat2 = [reverse(r2local[iplot];dims=2) pad d1local[iplot] pad reverse(d2local[iplot];dims=2)] \n",
    "    subplot(3,1,iplot);\n",
    "    imshow(scale .* cat2,cmap=\"gray\",aspect=\"auto\",clim=[-1,+1]);\n",
    "    title(\" Initial Residual sx=$(sx[ishot])   |   True sx=$(sx[ishot])   |   Initial sx=$(sx[ishot]) (flipped)\");\n",
    "end\n",
    "tight_layout()"
   ]
  },
  {
   "cell_type": "markdown",
   "metadata": {},
   "source": [
    "## 7. Assess if data is cycle skipped at the farthest offsets\n",
    "Next we plot the far offset traces for these three shots in order to assess if the data is cycle skipped. \n",
    "\n",
    "You can ovbserve in the plots below that the refraction waveforms (first arrivals) in the initial model are not cycle skipped with respect to the true model, so we can proceed. \n",
    "\n",
    "A very significant part of the residual wavefield is actually reflections in this example."
   ]
  },
  {
   "cell_type": "code",
   "execution_count": null,
   "metadata": {},
   "outputs": [],
   "source": [
    "dtrec = pincs(io1,1)\n",
    "\n",
    "t = [0.0:dtrec:dtrec*(ntrec - 1);]\n",
    "\n",
    "figure(figsize=(8,8)); clf()\n",
    "for (iplot,ishot) in enumerate(shots)\n",
    "    subplot(3,1,iplot);\n",
    "    plot(t,d1local[iplot][:,end],label=\"True Model $(ishot) at x=$(sx[ishot])\");\n",
    "    plot(t,d2local[iplot][:,end],label=\"Initial Model $(ishot) at x=$(sx[ishot])\");\n",
    "    xlim([4.5,t[end]])\n",
    "    legend()\n",
    "end\n",
    "tight_layout()"
   ]
  },
  {
   "cell_type": "markdown",
   "metadata": {},
   "source": [
    "## 8. Build the `gradient!` and `cost` functions"
   ]
  },
  {
   "cell_type": "markdown",
   "metadata": {},
   "source": [
    "#### Build water bottom mask for gradient\n",
    "We use this mask to remove the imprint in gradients of proximity to source locations. The mask is set to 0 wherever the true velocity model has value 1500 m/s, and is set to 1 otherwise. Without this mask most of the gradient updates would be concentrated close to sources where the model is correct. "
   ]
  },
  {
   "cell_type": "code",
   "execution_count": null,
   "metadata": {},
   "outputs": [],
   "source": [
    "wb_mask = ones(Float32,size(v))\n",
    "wb_mask[v.==1500.0] .= 0;\n",
    "\n",
    "# reshape to 3D to be consistent with the model\n",
    "wb_mask = reshape(wb_mask,nz,nx,1)\n",
    "\n",
    "figure(figsize=(8,3))\n",
    "imshow(wb_mask[:,:,1],aspect=\"auto\",cmap=\"gray_r\",clim=[0,+2]);\n",
    "colorbar();\n",
    "title(\"Water Bottom Mask\");\n",
    "tight_layout()"
   ]
  },
  {
   "cell_type": "markdown",
   "metadata": {},
   "source": [
    "#### Build a function for the cost and gradient\n",
    "This is done in a way that works well with Optim.jl.  The method wil be called by Optim.jl whenever the cost or gradient is required. If Optim requires the cost but not the gradient, then Optim will set `g` to `nothing`.  Steps in computing the gradient are as follows:\n",
    "1. Apply box constraints to keep velocity inside `[vmin,vmax]`\n",
    "1. Compute the source side illumination `illum`, and normalize by maximum value\n",
    "1. Establish the illumination compensation preconditioner $R(x,z)$ and normalize to maximum absolute value 1. \n",
    "$$ R(x,z) = \\biggl[ \\sum_t s(x,z,t)^2 \\biggr]^{-\\alpha} $$\n",
    "1. Apply the adjoint of the Jacobian to the current residual `J' * [F*v - d]` \n",
    "1. Apply the illumination compensation and the water bottom mute to the gradient\n",
    "1. Rescale the gradient to have maximum absolute value 20 m/s"
   ]
  },
  {
   "cell_type": "code",
   "execution_count": null,
   "metadata": {},
   "outputs": [],
   "source": [
    "function fg_shot!(_gsϕ, i, container, _v, dz, dx)\n",
    "    io = csopen(container)\n",
    "    dₒ,h = readframe(io, i)\n",
    "    v = localpart(_v)\n",
    "    nz,nx = size(v)\n",
    "    \n",
    "    F = JopNlProp2DAcoIsoDenQ_DEO2_FDTD(;\n",
    "        b = ones(Float32,nz,nx),\n",
    "        nthreads = Sys.CPU_THREADS,\n",
    "        ntrec = size(io,1),\n",
    "        dtrec = pincs(io,1),\n",
    "        dtmod = 0.002,\n",
    "        dz = dz,\n",
    "        dx = dx,\n",
    "        wavelet = WaveletCausalRicker(f=4.0),\n",
    "        sx = get(prop(io, \"SOU_X\"), h, 1),\n",
    "        sz = -get(prop(io, \"SOU_ELEV\"), h, 1),\n",
    "        rx = [get(prop(io, \"REC_X\"), h, i) for i=1:size(h,2)],\n",
    "        rz = [-get(prop(io, \"REC_ELEV\"), h, i) for i=1:size(h,2)],\n",
    "        nbz_cache = nz,\n",
    "        nbx_cache = 16,\n",
    "        comptype = UInt32,\n",
    "        srcfieldfile = tempname(),\n",
    "        reportinterval=0)\n",
    "    \n",
    "    r = F*v .- dₒ\n",
    "    \n",
    "    ϕ = (fetch(_gsϕ).ϕ)::Ref{Float64}\n",
    "    \n",
    "    ϕ[] += norm(r)^2\n",
    "\n",
    "    g = (fetch(_gsϕ).g)::Union{Nothing,Array{Float32,3}}\n",
    "    if g != nothing\n",
    "        @show size(v)\n",
    "        s = (fetch(_gsϕ).s)::Array{Float32,3}\n",
    "        J = jacobian(F, v)\n",
    "        _g = J'*r\n",
    "        @show size(_g)\n",
    "        _s = reshape(srcillum(J),domain(J))\n",
    "        @show size(_s)\n",
    "        @show size(g)\n",
    "        @show size(s)\n",
    "        g .+= _g\n",
    "        s .+= _s\n",
    "    end\n",
    "    close(F)\n",
    "    \n",
    "    nothing\n",
    "end\n",
    "\n",
    "function fg!(f, g, s, container, v, dz, dx, wb_mask, gscale, minworkers, maxworkers)\n",
    "    if g != nothing\n",
    "        g .= 0\n",
    "        s .= 0\n",
    "    else\n",
    "        s = nothing\n",
    "    end\n",
    "    ϕ = Ref(0.0)\n",
    "    \n",
    "    clamp!(v, 1377, 4689)\n",
    "    _v = ArrayFutures(v)\n",
    "    \n",
    "    local my_zeros, my_reducer, gsϕ\n",
    "    if g == nothing\n",
    "        my_zeros = ()->(g=nothing,s=nothing,ϕ=Ref(0.0))\n",
    "        my_reducer! = (x,y)->(x.ϕ[] += y.ϕ[]; nothing)\n",
    "    else\n",
    "        my_zeros = ()->(g=zeros(Float32,size(v)),s=zeros(Float32,size(v)),ϕ=Ref(0.0))\n",
    "        my_reducer! = (x,y)->(x.g .+= y.g; x.s .+= y.s; x.ϕ[] += y.ϕ[]; nothing)\n",
    "    end\n",
    "    \n",
    "    io = csopen(container)\n",
    "        \n",
    "    epmapreduce!((g=g,s=s,ϕ=ϕ), fg_shot!, 1:size(io,3), container, _v, dz, dx;\n",
    "        epmap_addprocs = n->addprocs(scalesettemplate, n; group=scalesetname, env=Dict(\"OMP_PROC_BIND\"=>\"close\", \"OMP_NUM_THREADS\"=>32)),\n",
    "        epmap_zeros = my_zeros,\n",
    "        epmap_reducer! = my_reducer!,\n",
    "        epmap_init = pid->(bcast!(_v, [pid]); nothing),\n",
    "        epmap_minworkers = minworkers,\n",
    "        epmap_maxworkers = maxworkers,\n",
    "        epmap_nworkers = nworkers_provisioned,\n",
    "        epmap_scratch = AzContainer(\"examples/marmousi/scratch\"; storageaccount=storageaccount, session=container.session))\n",
    "    \n",
    "    if g != nothing\n",
    "        srms = sqrt(norm(s)^2 / length(s))\n",
    "        s .+= eps(Float32) * srms\n",
    "        s .= s.^(-4)\n",
    "        s ./= maximum(s)\n",
    "        g .*= wb_mask .* s\n",
    "        gscale[] = gscale[] ≈ 0 ? 20 ./ maximum(g) : gscale[]\n",
    "        g .*= gscale[]\n",
    "    end\n",
    "    \n",
    "    if f != nothing\n",
    "        return .5 * ϕ[]\n",
    "    end\n",
    "end"
   ]
  },
  {
   "cell_type": "markdown",
   "metadata": {},
   "source": [
    "#### Compute gradient with and without illumination compensation and display\n",
    "\n",
    "To show the importance of the illumination compensation we will compute two gradients: \n",
    "* one with `α = 0` (no illumnation compensation)\n",
    "* one with `α = 4` (squared source side amplitude)\n",
    "\n",
    "Note how the illumination compensation greatly improved the scaling of the gradient with depth."
   ]
  },
  {
   "cell_type": "code",
   "execution_count": null,
   "metadata": {},
   "outputs": [],
   "source": [
    "g = zeros(Float32,size(m1))\n",
    "s = zeros(Float32,size(m1))\n",
    "@show \"here\"\n",
    "@show size(g)\n",
    "@show size(s)\n",
    "\n",
    "gscale = Ref(0.0)\n",
    "minworkers = 0\n",
    "maxworkers = 8\n",
    "ϕ = fg!(true, g, s, container1, m2, dz, dx, wb_mask, gscale, minworkers, maxworkers)"
   ]
  },
  {
   "cell_type": "code",
   "execution_count": null,
   "metadata": {},
   "outputs": [],
   "source": [
    "dv = v1 .- v2\n",
    "\n",
    "figure(figsize=(8,9))\n",
    "\n",
    "subplot(3,1,1)\n",
    "imshow(-1 .* (g ./ s)[:,:,1] ./ maximum(abs,g ./ s),aspect=\"auto\",cmap=\"seismic\");\n",
    "colorbar(orientation=\"vertical\");clim(-1,1);\n",
    "title(\"Initial Gradient without Illumination Compensation (times -1)\");\n",
    "\n",
    "subplot(3,1,2)\n",
    "imshow(-1 .* g[:,:,1] ./ maximum(abs,g),aspect=\"auto\",cmap=\"seismic\");\n",
    "colorbar(orientation=\"vertical\");clim(-1,1);\n",
    "title(\"Initial Gradient with Illumination Compensation (times -1)\");\n",
    "\n",
    "subplot(3,1,3)\n",
    "imshow(dv[:,:,1] ./ maximum(abs,dv),aspect=\"auto\",cmap=\"seismic\");\n",
    "colorbar(orientation=\"vertical\");clim(-1,1);\n",
    "title(\"Velocity Difference: (v_true - v_init)\");\n",
    "\n",
    "tight_layout()"
   ]
  },
  {
   "cell_type": "markdown",
   "metadata": {},
   "source": [
    "## 9. Perform the FWI using `Optim.jl`\n",
    "* We do 25 iterations of limited memory BFGS.\n",
    "\n",
    "* Optim's initial guess supplies an initial step size to the backtracking linesearch: `LineSearches.InitialStatic()` implies that the default step size of 1 results in a change of 10 m/s in the model. \n",
    "\n",
    "* Note that you can change the size of the cluster (via the portal) while this runs.  Part way through the run, I change from 8 to 16 workers, and this is reflected in the output"
   ]
  },
  {
   "cell_type": "code",
   "execution_count": null,
   "metadata": {},
   "outputs": [],
   "source": [
    "function mycallback(state::OptimizationState)\n",
    "    @info \"iter=$(state.iteration), cost=$(state.value), |grad|=$(state.g_norm)\"\n",
    "    false\n",
    "end\n",
    "mycallback(trace::OptimizationTrace) = mycallback(trace[end]);"
   ]
  },
  {
   "cell_type": "code",
   "execution_count": null,
   "metadata": {
    "tags": []
   },
   "outputs": [],
   "source": [
    "niter = 25\n",
    "solver = LBFGS(m = niter, \n",
    "    alphaguess = LineSearches.InitialStatic(), \n",
    "    linesearch = LineSearches.BackTracking(order=3));\n",
    "\n",
    "minworkers = 16\n",
    "maxworkers = 8\n",
    "gscale = Ref(0.0)\n",
    "s = zeros(Float32,nz,nx)\n",
    "_fg!(f, g, v) = fg!(f, g, s, container1, v, dz, dx, wb_mask, gscale, minworkers, maxworkers)\n",
    "\n",
    "topt = @elapsed begin\n",
    "    result = optimize(Optim.only_fg!(_fg!), v2, solver,\n",
    "        Optim.Options(\n",
    "            iterations = niter,\n",
    "            show_trace = false,\n",
    "            store_trace = true,\n",
    "            show_every = 1,\n",
    "            extended_trace = true,\n",
    "            allow_f_increases = false,\n",
    "            callback = mycallback))\n",
    "end\n",
    "rmprocs(workers())"
   ]
  },
  {
   "cell_type": "code",
   "execution_count": null,
   "metadata": {},
   "outputs": [],
   "source": [
    "@sprintf(\"Time for optimization; %.2f minutes\\n\", topt / 60)\n",
    "@info \"result=\\n$result\\n\""
   ]
  },
  {
   "cell_type": "code",
   "execution_count": null,
   "metadata": {},
   "outputs": [],
   "source": [
    "vf = Optim.minimizer(result) # optimal solution\n",
    "clamp!(vf,vmin,vmax)         # apply the box constraints\n",
    "ϕ = Optim.f_trace(result)    # cost vs iteration\n",
    "m = Optim.x_trace(result);   # model vs iteration"
   ]
  },
  {
   "cell_type": "markdown",
   "metadata": {},
   "source": [
    "## 10. Visualize velocity models and objective function"
   ]
  },
  {
   "cell_type": "code",
   "execution_count": null,
   "metadata": {},
   "outputs": [],
   "source": [
    "figure(figsize=(8,9)); clf()\n",
    "\n",
    "subplot(3,1,1)[:,:,1];imshow(v2,aspect=\"auto\",cmap=\"jet\");\n",
    "colorbar(orientation=\"vertical\");clim(vmin,vmax);title(\"Initial Velocity\");\n",
    "\n",
    "subplot(3,1,2)[:,:,1];imshow(vf,aspect=\"auto\",cmap=\"jet\");\n",
    "colorbar(orientation=\"vertical\");clim(vmin,vmax);title(\"FWI Velocity\");\n",
    "\n",
    "subplot(3,1,3)[:,:,1];imshow(v1,aspect=\"auto\",cmap=\"jet\");\n",
    "colorbar(orientation=\"vertical\");clim(vmin,vmax);title(\"True Velocity\")\n",
    "\n",
    "tight_layout()"
   ]
  },
  {
   "cell_type": "markdown",
   "metadata": {},
   "source": [
    "#### Display the velocity difference models "
   ]
  },
  {
   "cell_type": "code",
   "execution_count": null,
   "metadata": {},
   "outputs": [],
   "source": [
    "rms_v2 = @sprintf(\"%.1f m/s\", sqrt(norm(v1 .- v2)^2 / length(v1)))\n",
    "rms_vf = @sprintf(\"%.1f m/s\", sqrt(norm(v1 .- vf)^2 / length(v1)))\n",
    "\n",
    "figure(figsize=(8,6)); clf()\n",
    "\n",
    "subplot(2,1,1);imshow((v1 .- v2)[:,:,1],aspect=\"auto\",cmap=\"seismic\");\n",
    "colorbar(orientation=\"vertical\");clim(dmin,dmax);\n",
    "title(\"Vtrue - Vinit difference, rms=$(rms_v2)\");\n",
    "\n",
    "subplot(2,1,2);imshow((v1 .- vf)[:,:,1],aspect=\"auto\",cmap=\"seismic\");\n",
    "colorbar(orientation=\"vertical\");clim(dmin,dmax);\n",
    "title(\"Vtrue - Vfwi difference, rms=$(rms_vf)\");\n",
    "\n",
    "tight_layout()"
   ]
  },
  {
   "cell_type": "markdown",
   "metadata": {},
   "source": [
    "#### Display the cost function "
   ]
  },
  {
   "cell_type": "code",
   "execution_count": null,
   "metadata": {},
   "outputs": [],
   "source": [
    "figure(figsize=(8,4)); clf()\n",
    "iters = [0:1:length(ϕ)-1;]\n",
    "plot(iters, ϕ ./ ϕ[1], marker=\"o\")\n",
    "ylim([0,1.05])\n",
    "xlabel(\"Nonlinear Iteration\")\n",
    "ylabel(\"Normalized cost ||f(v) - d||\")\n",
    "title(@sprintf(\"FWI Objective Function reduced %.1f percent\", 100 * (ϕ[1] - ϕ[end]) / ϕ[1]));\n",
    "tight_layout()"
   ]
  },
  {
   "cell_type": "markdown",
   "metadata": {},
   "source": [
    "#### Display data misfit vs model misfit"
   ]
  },
  {
   "cell_type": "code",
   "execution_count": null,
   "metadata": {},
   "outputs": [],
   "source": [
    "figure(figsize=(8,4)); clf()\n",
    "\n",
    "c = [norm(m[i] .- v1, 2) for i in 1:length(m)]\n",
    "loglog(c, ϕ, label=\"FWI\", marker=\"s\", linewidth=1)\n",
    "legend()\n",
    "xlabel(\"Log Model residual\")\n",
    "ylabel(\"Log Data residual\")\n",
    "title(\"Misfit Trajectory\");\n",
    "tight_layout()\n",
    "\n",
    "using DelimitedFiles\n",
    "open(\"results.g010.InitialStatic.BackTracking2.txt\", \"w\") do io\n",
    "    writedlm(io, [ϕ c])\n",
    "end"
   ]
  },
  {
   "cell_type": "markdown",
   "metadata": {},
   "source": [
    "## 11. Visualize data match\n",
    "#### Generate data in the FWI velocity model"
   ]
  },
  {
   "cell_type": "code",
   "execution_count": null,
   "metadata": {},
   "outputs": [],
   "source": [
    "container3 = AzContainer(\"examples/marmousi/data-vf-cs\";storageaccount=storageaccount)"
   ]
  },
  {
   "cell_type": "code",
   "execution_count": null,
   "metadata": {},
   "outputs": [],
   "source": [
    "cscreate(container3; similarto=container2)"
   ]
  },
  {
   "cell_type": "code",
   "execution_count": null,
   "metadata": {},
   "outputs": [],
   "source": [
    "global_logger(ConsoleLogger(stdout, Logging.Debug ))"
   ]
  },
  {
   "cell_type": "code",
   "execution_count": null,
   "metadata": {},
   "outputs": [],
   "source": [
    "_vf = ArrayFutures(vf)\n",
    "epmap(build_data, 1:length(sx), container3, sx, _vf, dz, dx;\n",
    "        epmap_addprocs = n->addprocs(scalesettemplate, n; group=scalesetname),\n",
    "        epmap_nworkers = nworkers_provisioned,\n",
    "        epmap_minworkers = 0,\n",
    "        epmap_maxworkers = 8,\n",
    "        epmap_init = pid->(bcast!(_vf, [pid]); nothing))"
   ]
  },
  {
   "cell_type": "code",
   "execution_count": null,
   "metadata": {},
   "outputs": [],
   "source": [
    "global_logger(ConsoleLogger(stdout, Logging.Info))"
   ]
  },
  {
   "cell_type": "markdown",
   "metadata": {},
   "source": [
    "#### Compute residuals and collect gathers for display"
   ]
  },
  {
   "cell_type": "code",
   "execution_count": null,
   "metadata": {},
   "outputs": [],
   "source": [
    "io = csopen(container3)\n",
    "dflocal = [readframetrcs(io,i) for i in shots]\n",
    "rflocal = [d1local[i] .- dflocal[i] for i in 1:3];"
   ]
  },
  {
   "cell_type": "markdown",
   "metadata": {},
   "source": [
    "#### Plot shot gathers for true, initial model, and fwi models\n",
    "\n",
    "The table below describes the data images below. We will flip the direction of the residual and modeled data in order to help display the match with the true data. We include the initial data as shown above for easier comparison. \n",
    "\n",
    "<table style=\"border:1px solid black;\" width=\"60%\">\n",
    "<tr>\n",
    "  <td style=\"border:1px solid black; text-align:center;\" bgcolor=\"white\">\n",
    "      <b>Initial Residual Data<br>(flipped)</b></td>\n",
    "  <td style=\"border:1px solid black; text-align:center;\" bgcolor=\"white\">\n",
    "      <b>True Data</b></td>\n",
    "  <td style=\"border:1px solid black; text-align:center;\" bgcolor=\"white\">\n",
    "      <b>Initial Data<br>(flipped)</b></td>\n",
    "</tr>\n",
    "<tr>\n",
    "  <td style=\"border:1px solid black; text-align:center;\" bgcolor=\"white\">\n",
    "      <b>FWI Residual Data<br>(flipped)</b></td>\n",
    "  <td style=\"border:1px solid black; text-align:center;\" bgcolor=\"white\">\n",
    "      <b>True Data</b></td>\n",
    "  <td style=\"border:1px solid black; text-align:center;\" bgcolor=\"white\">\n",
    "      <b>FWI Data<br>(flipped)</b></td>\n",
    "</tr>\n",
    "</table>\n",
    "\n",
    "We first make a function to create the plots that we can re-use for the selected shots."
   ]
  },
  {
   "cell_type": "code",
   "execution_count": null,
   "metadata": {},
   "outputs": [],
   "source": [
    "function make_plot(index)\n",
    "    figure(figsize=(8,6)); clf()\n",
    "    cat2 = hcat(reverse(r2local[index],dims=2), pad, d1local[index], pad, reverse(d2local[index],dims=2))\n",
    "    catf = hcat(reverse(rflocal[index],dims=2), pad, d1local[index], pad, reverse(dflocal[index],dims=2))\n",
    "    subplot(2,1,1);\n",
    "    imshow(cat2,cmap=\"gray\",aspect=\"auto\",clim=[-1,+1]);\n",
    "    title(\" Initial Residual sx=$(sx[index])   ||   True sx=$(sx[index])   ||   Initial sx=$(sx[index]) (flipped)\");\n",
    "    subplot(2,1,2);\n",
    "    imshow(catf,cmap=\"gray\",aspect=\"auto\",clim=[-1,+1]);\n",
    "    title(\" FWI Residual sx=$(sx[index])   ||   True sx=$(sx[index])   ||   FWI sx=$(sx[index]) (flipped)\");\n",
    "    tight_layout()\n",
    "end"
   ]
  },
  {
   "cell_type": "markdown",
   "metadata": {},
   "source": [
    "#### Data for the 1st shot, generated in the initial and FWI models"
   ]
  },
  {
   "cell_type": "code",
   "execution_count": null,
   "metadata": {},
   "outputs": [],
   "source": [
    "make_plot(1)"
   ]
  },
  {
   "cell_type": "markdown",
   "metadata": {},
   "source": [
    "#### Data for the 4th shot, generated in the initial and FWI models"
   ]
  },
  {
   "cell_type": "code",
   "execution_count": null,
   "metadata": {},
   "outputs": [],
   "source": [
    "make_plot(2)"
   ]
  },
  {
   "cell_type": "markdown",
   "metadata": {},
   "source": [
    "#### Data for the 8th shot, generated in the initial and FWI models"
   ]
  },
  {
   "cell_type": "code",
   "execution_count": null,
   "metadata": {},
   "outputs": [],
   "source": [
    "make_plot(3)"
   ]
  },
  {
   "cell_type": "markdown",
   "metadata": {},
   "source": [
    "## 11. Write models to local disk\n",
    "\n",
    "#### Interpolate models to 10m for subsequent RTM  "
   ]
  },
  {
   "cell_type": "code",
   "execution_count": null,
   "metadata": {},
   "outputs": [],
   "source": [
    "@printf(\"nz,nx,dz,dx; %5d %5d %12.4f %12.4f\\n\", nz, nx, dz, dx)\n",
    "\n",
    "z1,z2 = 0.0,dz*(nz-1)\n",
    "x1,x2 = 0.0,dx*(nx-1)\n",
    "\n",
    "dz2,dx2 = 10.0,10.0\n",
    "nz2 = floor(Int,z2/dz2) + 1\n",
    "nx2 = floor(Int,x2/dx2) + 1\n",
    "\n",
    "dom = JetSpace(Float32,size(vf)...)\n",
    "rng = JetSpace(Float32,nz2,nx2)\n",
    "op = JopInterp(dom, rng)\n",
    "\n",
    "v1_resamp = op * v1;\n",
    "v2_resamp = op * v2;\n",
    "vf_resamp = op * vf;"
   ]
  },
  {
   "cell_type": "markdown",
   "metadata": {},
   "source": [
    "#### Plot the resampled models"
   ]
  },
  {
   "cell_type": "code",
   "execution_count": null,
   "metadata": {},
   "outputs": [],
   "source": [
    "figure(figsize=(8,9)); clf()\n",
    "\n",
    "subplot(3,1,1);imshow(v2_resamp,aspect=\"auto\",cmap=\"jet\");\n",
    "colorbar(orientation=\"vertical\");clim(vmin,vmax);\n",
    "title(\"Initial Velocity (resampled to 10m)\");\n",
    "\n",
    "subplot(3,1,2);imshow(vf_resamp,aspect=\"auto\",cmap=\"jet\");\n",
    "colorbar(orientation=\"vertical\");clim(vmin,vmax);\n",
    "title(\"FWI Velocity (resampled to 10m)\");\n",
    "\n",
    "subplot(3,1,3);imshow(v1_resamp,aspect=\"auto\",cmap=\"jet\");\n",
    "colorbar(orientation=\"vertical\");clim(vmin,vmax);\n",
    "title(\"True Velocity (resampled to 10m)\")\n",
    "\n",
    "tight_layout()"
   ]
  },
  {
   "cell_type": "markdown",
   "metadata": {},
   "source": [
    "#### Write out the models "
   ]
  },
  {
   "cell_type": "code",
   "execution_count": null,
   "metadata": {},
   "outputs": [],
   "source": [
    "file1 = @sprintf(\"marmousi_resampled_10m_%dx%d_vtrue.bin\", nz2, nx2);\n",
    "file2 = @sprintf(\"marmousi_resampled_10m_%dx%d_vinit.bin\", nz2, nx2);\n",
    "filef = @sprintf(\"marmousi_resampled_10m_%dx%d_vfwi.bin\", nz2, nx2);\n",
    "\n",
    "write(file1,v1_resamp);\n",
    "write(file2,v2_resamp);\n",
    "write(filef,vf_resamp);"
   ]
  },
  {
   "cell_type": "markdown",
   "metadata": {},
   "source": [
    "## 12. Remove local files and workers"
   ]
  },
  {
   "cell_type": "code",
   "execution_count": null,
   "metadata": {},
   "outputs": [],
   "source": [
    "rmprocs(workers());"
   ]
  },
  {
   "cell_type": "code",
   "execution_count": null,
   "metadata": {},
   "outputs": [],
   "source": []
  }
 ],
 "metadata": {
  "kernelspec": {
   "display_name": "Julia 1.5.2",
   "language": "julia",
   "name": "julia-1.5"
  },
  "language_info": {
   "file_extension": ".jl",
   "mimetype": "application/julia",
   "name": "julia",
   "version": "1.5.2"
  }
 },
 "nbformat": 4,
 "nbformat_minor": 4
}
