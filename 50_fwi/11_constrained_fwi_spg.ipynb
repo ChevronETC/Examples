{
 "cells": [
  {
   "cell_type": "markdown",
   "metadata": {},
   "source": [
    "# Spectral Projected Gradient constrained FWI\n",
    "We will perform FWI with total variation constraints using the following steps:\n",
    "1. Prepare models\n",
    "2. Setup Constraints with [SetIntersectionProjection](https://github.com/slimgroup/SetIntersectionProjection.jl)\n",
    "3. Build a small local compute cluster (2 workers)\n",
    "    * Take care of some HPC details related to thread affinity\n",
    "4. Create source and receivers geometries\n",
    "5. Build `F`, the JUDI modeling operator\n",
    "6. Use `F` to create data for both models\n",
    "7. Visualize data\n",
    "8. Assess if data is cycle skipped at the farthest offsets\n",
    "9. Build the `objective` function\n",
    "10. Perform the FWI using `Spectral Project Gradient` optimization from [SlimOptim](https://github.com/slimgroup/SlimOptim.jl)\n",
    "    * we compare the results of four FWI experiments\n",
    "        1. unconstrained FWI\n",
    "        2. FWI with bounds constraints\n",
    "        3. FWI with bounds constraints and Total Variation constraints at 90% \n",
    "        4. FWI with bounds constraints and Total Variation constraints at 100%\n",
    "11. Visualize velocity models and objective function\n",
    "12. Visualize data match\n",
    "14. Remove workers\n",
    "\n",
    "#### Note on runtime\n",
    "Warning: this notebook takes around an hour to run for 8 shots with two workers on an Intel 8168.\n",
    "\n",
    "`lscpu` CPU information: `Intel(R) Xeon(R) Platinum 8168 CPU @ 2.70GHz`"
   ]
  },
  {
   "cell_type": "markdown",
   "metadata": {},
   "source": [
    "## Constrained optimization\n",
    "\n",
    "### Conventional FWI\n",
    "\n",
    "The usual FWI objective function is the least squares residual between observed and modeled data.\n",
    "\n",
    "$$ \\frac{1}{2} \\| f(m) - d \\|^2 $$\n",
    "\n",
    "where: $m$ is the model (velocity for these examples), $d$ is the data (wavefield at the receivers), and $f$ is the nonlinear modeling operator that maps a model vector into a data vector.\n",
    "\n",
    "### Constrained FWI\n",
    "\n",
    "We will augment the conventional FWI objective function with *constraints on the model*, two specific examples demonstrated here are:\n",
    "* *bounds constraint*: the model must remain within specified parameter bounds for minimum/maximum velocity $[v_{min},v_{max}]$\n",
    "* *TV constraint*: the total variation of the model must remain below a specific threshold $\\alpha$\n",
    "\n",
    "**Parameter bound constraints**\n",
    "\n",
    "$$\n",
    "\\frac{1}{2} \\| f(m) - d \\|^2 \\quad \\texttt{s.t.} \\quad m \\in [v_{min},v_{max}]\n",
    "$$\n",
    "\n",
    "**Total variation constraints**\n",
    "\n",
    "$$\n",
    "\\frac{1}{2} \\| f(m) - d \\|^2 \\quad \\texttt{s.t.} \\quad \\texttt{TV}(m) \\leq \\alpha\n",
    "$$\n",
    "\n",
    "**Intersection of bound and total variation constraints**\n",
    "\n",
    "$$\n",
    "\\frac{1}{2} \\| f(m) - d \\|^2 \\quad \\texttt{s.t.} \\begin{cases}\n",
    "m \\in [v_{min},v_{max}] \\\\[5pt] \n",
    "\\texttt{TV}(m) \\leq \\alpha\n",
    "\\end{cases}\n",
    "$$\n",
    "\n",
    "### Software\n",
    "\n",
    "For these constrained optimization examples the COFII framework nonlinear operators interoperate with optimization software provided by the SLIM group led by Felix Herrmann (previously at University of British Columbia and now at Georgia Tech). \n",
    "\n",
    "We employ the following three packages:\n",
    "- [SlimOptim](https://github.com/slimgroup/SlimOptim.jl) -- Package of optimization functions for large scale inversion. Note these SLIM constrained optimization solvers are aimed at problems where the forward evolution is expensive. This is the case for seismic modeling.\n",
    "\n",
    "- [JOLI](https://github.com/slimgroup/JOLI.jl) -- Julia framework for constructing matrix-free linear operators \n",
    "\n",
    "- [SetIntersectionProjection](https://github.com/slimgroup/SetIntersectionProjection.jl) -- Julia software for computing projections onto intersections of convex and non-convex constraint sets. \n",
    "    - Peters, Bas and Herrmann, Felix J, 2019, Algorithms and software for projections onto intersections of convex and non-convex sets with applications to inverse problems. https://arxiv.org/pdf/1902.09699.pdf\n",
    "\n",
    "You must run the previous notebook `10_add_slim_packages.ipynb` to add these packages to your environment if you have not already.\n",
    "\n",
    "See also SLIM group examples at [ConstrainedFWIExamples](https://github.com/slimgroup/ConstrainedFWIExamples)."
   ]
  },
  {
   "cell_type": "code",
   "execution_count": null,
   "metadata": {},
   "outputs": [],
   "source": [
    "using Distributed, LinearAlgebra, Printf, Random, JOLI, SlimOptim, SetIntersectionProjection, PyPlot"
   ]
  },
  {
   "cell_type": "markdown",
   "metadata": {},
   "source": [
    "## 1. Prepare models"
   ]
  },
  {
   "cell_type": "code",
   "execution_count": null,
   "metadata": {},
   "outputs": [],
   "source": [
    "nz,nx  = 251, 251;\n",
    "dz,dx  = 15.0, 15.0;\n",
    "oz,ox  = 0.0, 0.0;\n",
    "extent = [0, 3750, 3750, 0]\n",
    "\n",
    "vmin,vmax = 1500,1700\n",
    "dmin,dmax = -250,+250"
   ]
  },
  {
   "cell_type": "code",
   "execution_count": null,
   "metadata": {},
   "outputs": [],
   "source": [
    "m0 = vmin * ones(Float32, nz, nx, 1);\n",
    "m  = vmin * ones(Float32, nz, nx, 1);\n",
    "m[101:150, 101:150, 1] .= vmax;"
   ]
  },
  {
   "cell_type": "markdown",
   "metadata": {},
   "source": [
    "### Visualize models"
   ]
  },
  {
   "cell_type": "code",
   "execution_count": null,
   "metadata": {},
   "outputs": [],
   "source": [
    "figure(figsize=(8,6))\n",
    "\n",
    "subplot(2,2,1); imshow(m0,aspect=\"auto\",cmap=\"jet\",extent=extent); colorbar(); clim(vmin,vmax); title(\"Initial velocity\");\n",
    "subplot(2,2,2); imshow(m,aspect=\"auto\",cmap=\"jet\",extent=extent); colorbar(); clim(vmin,vmax); title(\"True velocity\")\n",
    "subplot(2,2,4); imshow(m.-m0,aspect=\"auto\",cmap=\"seismic\",extent=extent); colorbar(); clim(dmin,dmax); title(\"Difference (true - init)\");\n",
    "\n",
    "tight_layout()"
   ]
  },
  {
   "cell_type": "markdown",
   "metadata": {},
   "source": [
    "## 2. Setup Constraints with [SetIntersectionProjection](https://github.com/slimgroup/SetIntersectionProjection.jl)\n",
    "\n",
    "We setup two constraints, each of which is the intersection of bounds constraints -- enforcing minimum/maximum values on the model  parameters, and total variation constraints -- producing \"blocky\" models. \n",
    "- Bounds plus TV constraints at 90% TV norm of true model \n",
    "- Bounds plus TV constraints at 100% TV norm of true model "
   ]
  },
  {
   "cell_type": "code",
   "execution_count": null,
   "metadata": {},
   "outputs": [],
   "source": [
    "options2 = PARSDMM_options();\n",
    "options2.FL = Float32;\n",
    "options2 = default_PARSDMM_options(options2,options2.FL);\n",
    "options2.adjust_gamma = true\n",
    "options2.adjust_rho = true\n",
    "options2.adjust_feasibility_rho = true\n",
    "options2.Blas_active = true\n",
    "options2.maxit = 1000\n",
    "options2.feas_tol = 0.001\n",
    "options2.obj_tol = 0.001\n",
    "options2.rho_ini=[1.0f0]\n",
    "options2.evol_rel_tol = 0.00001\n",
    "options2.parallel=false\n",
    "options2.feasibility_only = false\n",
    "options2.zero_ini_guess=true\n",
    "\n",
    "constraint2 = Vector{SetIntersectionProjection.set_definitions}(); # bounds + TV 1.0\n",
    "options3 = PARSDMM_options();\n",
    "options3.FL = Float32;\n",
    "options3 = default_PARSDMM_options(options3,options3.FL);\n",
    "options3.adjust_gamma = true\n",
    "options3.adjust_rho = true\n",
    "options3.adjust_feasibility_rho = true\n",
    "options3.Blas_active = true\n",
    "options3.maxit = 1000\n",
    "options3.feas_tol = 0.001\n",
    "options3.obj_tol = 0.001\n",
    "options3.rho_ini=[1.0f0]\n",
    "options3.evol_rel_tol = 0.00001\n",
    "options3.parallel=false\n",
    "options3.feasibility_only = false\n",
    "options3.zero_ini_guess=true\n",
    "constraint3 = Vector{SetIntersectionProjection.set_definitions}(); # bounds + TV 1.2"
   ]
  },
  {
   "cell_type": "code",
   "execution_count": null,
   "metadata": {},
   "outputs": [],
   "source": [
    "# model definition\n",
    "struct grid\n",
    "    n\n",
    "    d\n",
    "    o\n",
    "end\n",
    "model0 = grid((nz, nx), (dz, dx), (0., 0.))"
   ]
  },
  {
   "cell_type": "code",
   "execution_count": null,
   "metadata": {},
   "outputs": [],
   "source": [
    "# bounds\n",
    "m_min = vmin .* ones(Float32, nz, nx, 1)\n",
    "m_max = vmax .* ones(Float32, nz, nx, 1)\n",
    "set_type = \"bounds\"\n",
    "TD_OP = \"identity\"\n",
    "app_mode = (\"matrix\",\"\")\n",
    "custom_TD_OP = ([],false)\n",
    "push!(constraint2, set_definitions(set_type,TD_OP,reshape(m_min,:),reshape(m_max,:),app_mode,custom_TD_OP));\n",
    "push!(constraint3, set_definitions(set_type,TD_OP,reshape(m_min,:),reshape(m_max,:),app_mode,custom_TD_OP));"
   ]
  },
  {
   "cell_type": "code",
   "execution_count": null,
   "metadata": {},
   "outputs": [],
   "source": [
    "# TV 1.0\n",
    "(TV,dummy1,dummy2,dummy3) = get_TD_operator(model0,\"TV\",options2.FL)\n",
    "tv2_min = 0.0\n",
    "tv2_max = norm(TV*reshape(m,:),1) * 1.0\n",
    "set_type = \"l1\"\n",
    "TD_OP = \"TV\"\n",
    "app_mode = (\"matrix\",\"\")\n",
    "custom_TD_OP = ([],false)\n",
    "push!(constraint2, set_definitions(set_type,TD_OP,tv2_min,tv2_max,app_mode,custom_TD_OP));"
   ]
  },
  {
   "cell_type": "code",
   "execution_count": null,
   "metadata": {},
   "outputs": [],
   "source": [
    "# TV 1.00\n",
    "(TV,dummy1,dummy2,dummy3) = get_TD_operator(model0,\"TV\",options3.FL)\n",
    "tv3_min = 0.0\n",
    "tv3_max = norm(TV*reshape(m,:),1) * 1.00\n",
    "set_type = \"l1\"\n",
    "TD_OP = \"TV\"\n",
    "app_mode = (\"matrix\",\"\")\n",
    "custom_TD_OP = ([],false)\n",
    "push!(constraint3, set_definitions(set_type,TD_OP,tv3_min,tv3_max,app_mode,custom_TD_OP));"
   ]
  },
  {
   "cell_type": "code",
   "execution_count": null,
   "metadata": {},
   "outputs": [],
   "source": [
    "# set up no-op projection for L2\n",
    "function prj0(input)\n",
    "    x = deepcopy(input)\n",
    "    return reshape(x,:)\n",
    "end"
   ]
  },
  {
   "cell_type": "code",
   "execution_count": null,
   "metadata": {},
   "outputs": [],
   "source": [
    "# We use the `project_bounds!` methods from `SetIntersectionProjection` for the bounds constraint. \n",
    "prj1(input) = project_bounds!(input, vmin, vmax)"
   ]
  },
  {
   "cell_type": "code",
   "execution_count": null,
   "metadata": {},
   "outputs": [],
   "source": [
    "# set up constraints and projection with bounds + TV\n",
    "(P_sub2,TD_OP2,set_Prop2) = setup_constraints(constraint2,model0,options2.FL)\n",
    "(TD_OP2,AtA2,l2,y2) = PARSDMM_precompute_distribute(TD_OP2,set_Prop2,model0,options2)\n",
    "options2.rho_ini = ones(length(TD_OP2))*10.0\n",
    "proj_intersection2 = x-> PARSDMM(x, AtA2, TD_OP2, set_Prop2, P_sub2, model0, options2)\n",
    "\n",
    "# Projection function\n",
    "function prj2(input)\n",
    "    (x,dummy1,dummy2,dummy3) = proj_intersection2(reshape(input,:))\n",
    "    return reshape(x,:)\n",
    "end"
   ]
  },
  {
   "cell_type": "code",
   "execution_count": null,
   "metadata": {},
   "outputs": [],
   "source": [
    "# set up constraints and projection with bounds + TV\n",
    "(P_sub3,TD_OP3,set_Prop3) = setup_constraints(constraint3,model0,options3.FL)\n",
    "(TD_OP3,AtA3,l3,y3) = PARSDMM_precompute_distribute(TD_OP3,set_Prop3,model0,options3)\n",
    "options3.rho_ini = ones(length(TD_OP3))*10.0\n",
    "proj_intersection3 = x-> PARSDMM(x, AtA3, TD_OP3, set_Prop3, P_sub3, model0, options3)\n",
    "\n",
    "# Projection function\n",
    "function prj3(input)\n",
    "    (x,dummy1,dummy2,dummy3) = proj_intersection3(reshape(input,:))\n",
    "    return reshape(x,:)\n",
    "end"
   ]
  },
  {
   "cell_type": "markdown",
   "metadata": {},
   "source": [
    "## 3. Build a small local compute cluster (2 workers)\n",
    "\n",
    "#### Setup OMP environment variables for the cluster\n",
    "\n",
    "In the distributed compute case the workers that we add would be on different hardware, and we might add tens of workers in 2D and hundreds in 3D. Here we run on a single machine with only 2 workers, and so we need to be careful with details related to high performance computing. If we did not specify thread affinity, the two workers would compete for the same physical cores and the modeling would be *incredibly* slow.\n",
    "\n",
    "We spin up the small 2-worker cluster by calling `addprocs(2)`, and because we set the environment variable `ENV[\"OMP_DISPLAY_ENV\"] = \"true\"` we will see the OMP environment printed out on each worker. In that output (below) we can verify that half of the total threads (44/2 = 22) are assigned to each socket on this 2 socket system. You can obtain more details about the hardware with the shell command `lscpu`.\n",
    "\n",
    "We set four environment variables related to OpenMP:\n",
    "* `OMP_DISPLAY_ENV` prints out the OpenMP environment on each worker\n",
    "* `OMP_PROC_BIND` specifies that threads should be bound to physical cores\n",
    "* `OMP_NUM_THREADS` specifies the number of threads per workers is 1/2 the number of physical cores\n",
    "* `GOMP_CPU_AFFINITY` specifies which physical cores the threads run on for each worker\n",
    "\n",
    "If you run the shell command `top` during execution, you will see 3 julia processes: the main process and two workers. The two workers should generally have about 50% of the system, and `load average` should tend towards the physical number of cores."
   ]
  },
  {
   "cell_type": "code",
   "execution_count": null,
   "metadata": {},
   "outputs": [],
   "source": [
    "nthread = Sys.CPU_THREADS\n",
    "nw = 2\n",
    "\n",
    "ENV[\"OMP_DISPLAY_ENV\"] = \"true\"\n",
    "ENV[\"OMP_PROC_BIND\"] = \"close\"\n",
    "ENV[\"OMP_NUM_THREADS\"] = \"$(div(nthread, nw))\" \n",
    "addprocs(nw)\n",
    "@show workers()\n",
    "for k in 1:nworkers()\n",
    "    place1 = (k - 1) * div(nthread,nworkers())\n",
    "    place2 = (k + 0) * div(nthread,nworkers()) - 1\n",
    "    @show place1, place2, div(nthread, nw)\n",
    "    @spawnat workers()[k] ENV[\"GOMP_CPU_AFFINITY\"] = \"$(place1)-$(place2)\";\n",
    "end"
   ]
  },
  {
   "cell_type": "code",
   "execution_count": null,
   "metadata": {},
   "outputs": [],
   "source": [
    "@everywhere using Distributed, DistributedArrays, DistributedJets, FFTW, Jets, JetPack, JetPackDSP, JetPackTransforms\n",
    "@everywhere using LinearAlgebra, Optim, Printf, Random, WaveFD, JetPackWaveFD\n",
    "@everywhere using JOLI, SlimOptim, SetIntersectionProjection"
   ]
  },
  {
   "cell_type": "markdown",
   "metadata": {},
   "source": [
    "## 4. Create source and receiver geometries\n",
    "- We use 8 shot locations evenly distributed across the left of the model\n",
    "- We use 251 receiver locations evenly distributed across the right of the model"
   ]
  },
  {
   "cell_type": "code",
   "execution_count": null,
   "metadata": {},
   "outputs": [],
   "source": [
    "@everywhere begin\n",
    "    ntrec = 1251\n",
    "    dtrec = 0.004\n",
    "    dtmod = 0.002\n",
    "    fpeak = 5.0 \n",
    "end"
   ]
  },
  {
   "cell_type": "code",
   "execution_count": null,
   "metadata": {},
   "outputs": [],
   "source": [
    "nsrc = 8\n",
    "zsrc = collect(Float32, range(oz, dz * (nz -1), length=nsrc));\n",
    "xsrc = Float32(dz) .* ones(Float32, nsrc);\n",
    "print(\"zsrc; \", zsrc, \"\\n\")\n",
    "print(\"xsrc; \", xsrc, \"\\n\")"
   ]
  },
  {
   "cell_type": "code",
   "execution_count": null,
   "metadata": {},
   "outputs": [],
   "source": [
    "nrec = 251\n",
    "zrec = collect(Float32, range(oz, dz * (nz -1), length=nrec));\n",
    "xrec = Float32(dz) * (nz - 2) .* ones(Float32, nrec);\n",
    "print(\"zrec[1:10]; \", zrec[1:10], \"\\n\")\n",
    "print(\"xrec[1:10]; \", xrec[1:10], \"\\n\")"
   ]
  },
  {
   "cell_type": "markdown",
   "metadata": {},
   "source": [
    "#### Visualize geometry"
   ]
  },
  {
   "cell_type": "code",
   "execution_count": null,
   "metadata": {},
   "outputs": [],
   "source": [
    "vmin,vmax = extrema(m)\n",
    "dmin,dmax = -200,+200\n",
    "\n",
    "figure(figsize=(6,5))\n",
    "imshow(m .- m0,aspect=\"auto\",cmap=\"seismic\", extent=extent); \n",
    "colorbar(); clim(dmin,dmax); title(\"True Velocity (m/s)\")\n",
    "PyPlot.scatter(xsrc, zsrc, c=\"g\", label=\"All Sources\")\n",
    "PyPlot.scatter(xrec[1:10:end], zrec[1:10:end], c=\"b\", label=\"Every 10th Receiver\")\n",
    "legend();"
   ]
  },
  {
   "cell_type": "markdown",
   "metadata": {},
   "source": [
    "## 5. Build `F`, the modeling operator\n",
    "\n",
    "### Note on scratch space for temporary files\n",
    "When dealing with serialized nonlinear wavefields as in this example, we need to specify the location where scratch files will be written.\n",
    "\n",
    "You may need to change this to point to a temporary directory available on your system."
   ]
  },
  {
   "cell_type": "code",
   "execution_count": null,
   "metadata": {},
   "outputs": [],
   "source": [
    "@everywhere scratch = \"/scratch\"\n",
    "@assert isdir(scratch)\n",
    "\n",
    "@everywhere function makeF(i::Int,nz::Int,nx::Int,dz::Real,dx::Real,\n",
    "        zsrc::Array{Float32},xsrc::Array{Float32},zrec::Array{Float32},xrec::Array{Float32})\n",
    "    JopNlProp2DAcoIsoDenQ_DEO2_FDTD(;\n",
    "        b = ones(Float32,nz,nx),\n",
    "        nthreads = div(Sys.CPU_THREADS,nworkers()),\n",
    "        ntrec = ntrec,\n",
    "        dtrec = dtrec,\n",
    "        dtmod = dtmod,\n",
    "        dz = dz,\n",
    "        dx = dx,\n",
    "        wavelet = WaveletCausalRicker(f=fpeak),\n",
    "        sx = xsrc[i],\n",
    "        sz = zsrc[i],\n",
    "        rx = xrec,\n",
    "        rz = zrec,\n",
    "        nbz_cache = nz,\n",
    "        nbx_cache = 16,\n",
    "        nsponge = 100,\n",
    "        comptype = UInt32,\n",
    "        srcfieldfile = joinpath(scratch, \"field-$i-$(randstring()).bin\"),\n",
    "        reportinterval = 0)\n",
    "end"
   ]
  },
  {
   "cell_type": "code",
   "execution_count": null,
   "metadata": {},
   "outputs": [],
   "source": [
    "F = @blockop DArray(I->[makeF(i,nz,nx,dz,dx,zsrc,xsrc,zrec,xrec) for i in I[1], j in I[2]], (nsrc,1))"
   ]
  },
  {
   "cell_type": "markdown",
   "metadata": {},
   "source": [
    "## 6. Use `F` to create the data in true and initial models"
   ]
  },
  {
   "cell_type": "code",
   "execution_count": null,
   "metadata": {},
   "outputs": [],
   "source": [
    "t1 = @elapsed begin\n",
    "    d = F * m;\n",
    "end\n",
    "@info @sprintf(\"Time in true model; %.2f seconds\\n\", t1);"
   ]
  },
  {
   "cell_type": "code",
   "execution_count": null,
   "metadata": {},
   "outputs": [],
   "source": [
    "t2 = @elapsed begin\n",
    "    d0 = F * m0;\n",
    "end\n",
    "@info @sprintf(\"Time in init model; %.2f seconds\\n\", t2);"
   ]
  },
  {
   "cell_type": "markdown",
   "metadata": {},
   "source": [
    "#### Compute the residual data"
   ]
  },
  {
   "cell_type": "code",
   "execution_count": null,
   "metadata": {},
   "outputs": [],
   "source": [
    "r = d0 .- d;"
   ]
  },
  {
   "cell_type": "markdown",
   "metadata": {},
   "source": [
    "## 7. Visualize data"
   ]
  },
  {
   "cell_type": "code",
   "execution_count": null,
   "metadata": {},
   "outputs": [],
   "source": [
    "shots = [1,4,8];"
   ]
  },
  {
   "cell_type": "markdown",
   "metadata": {},
   "source": [
    "#### Plot shot gathers for true model, initial model, and residual\n",
    "\n",
    "The table below describes the data images below. We flip the direction of the residual and modeled data in order to help display the match with the true data.\n",
    "\n",
    "<table style=\"border:1px solid black;\" width=\"60%\">\n",
    "<tr>\n",
    "  <td style=\"border:1px solid black; text-align:center;\" bgcolor=\"white\">\n",
    "      <b>Initial source 1<br>Residual Data (flipped)</b></td>\n",
    "  <td style=\"border:1px solid black; text-align:center;\" bgcolor=\"white\">\n",
    "      <b>True source 1<br>Data</b></td>\n",
    "  <td style=\"border:1px solid black; text-align:center;\" bgcolor=\"white\">\n",
    "      <b>Initial source 1<br>Data (flipped)</b></td>\n",
    "</tr>\n",
    "\n",
    "<tr>\n",
    "  <td style=\"border:1px solid black; text-align:center;\" bgcolor=\"white\">\n",
    "      <b>Initial source 4<br>Residual Data (flipped)</b></td>\n",
    "  <td style=\"border:1px solid black; text-align:center;\" bgcolor=\"white\">\n",
    "      <b>True source 4<br>Data</b></td>\n",
    "  <td style=\"border:1px solid black; text-align:center;\" bgcolor=\"white\">\n",
    "      <b>Initial source 4<br>Data (flipped)</b></td>\n",
    "</tr>\n",
    "\n",
    "<tr>\n",
    "  <td style=\"border:1px solid black; text-align:center;\" bgcolor=\"white\">\n",
    "      <b>Initial source 8<br>Residual Data (flipped)</b></td>\n",
    "  <td style=\"border:1px solid black; text-align:center;\" bgcolor=\"white\">\n",
    "      <b>True source 8<br>Data</b></td>\n",
    "  <td style=\"border:1px solid black; text-align:center;\" bgcolor=\"white\">\n",
    "      <b>Initial source 8<br>Data (flipped)</b></td>\n",
    "</tr>\n",
    "\n",
    "</table>\n",
    "\n",
    "Note that the data modeled in the initial model lacks a lot of reflectivity that is evident in the data modeled in the true model. We expect to recover this missing reflectivity with the FWI."
   ]
  },
  {
   "cell_type": "code",
   "execution_count": null,
   "metadata": {},
   "outputs": [],
   "source": [
    "scale = 10.0 / sqrt(norm(d)^2 / length(d))\n",
    "@show scale\n",
    "\n",
    "nzero = 5\n",
    "pad = ones(Float32,ntrec,nzero)\n",
    "\n",
    "figure(figsize=(8,9)); clf()\n",
    "for (iplot,ishot) in enumerate(shots)\n",
    "    d_i  = getblock(d,ishot)\n",
    "    d0_i = getblock(d0,ishot)\n",
    "    r_i  = getblock(r,ishot)\n",
    "    cat2 = hcat(reverse(r_i,dims=2), pad, d_i, pad, reverse(d0_i,dims=2))\n",
    "    subplot(3,1,iplot);\n",
    "    imshow(1.5 .* cat2,cmap=\"gray\",aspect=\"auto\",clim=[-1,+1]);\n",
    "    title(\" Initial Residual sz=$(zsrc[ishot])   |   True Model sz=$(zsrc[ishot])   |   Initial Model sz=$(zsrc[ishot]) (flipped)\");\n",
    "end\n",
    "tight_layout()"
   ]
  },
  {
   "cell_type": "markdown",
   "metadata": {},
   "source": [
    "## 8. Assess if data is cycle skipped at the farthest offsets\n",
    "Next we plot the far offset traces for these three shots in order to assess if the data is cycle skipped. \n",
    "\n",
    "You can ovbserve in the plots below that the refraction waveforms (first arrivals) in the initial model are not cycle skipped with respect to the true model, so we can proceed. \n",
    "\n",
    "A very significant part of the residual wavefield is actually reflections in this example."
   ]
  },
  {
   "cell_type": "code",
   "execution_count": null,
   "metadata": {},
   "outputs": [],
   "source": [
    "scale = 10.0 / sqrt(norm(d)^2 / length(d))\n",
    "t = [0.0:dtrec:dtrec*(ntrec - 1);]\n",
    "@show size(t)\n",
    "\n",
    "figure(figsize=(8,8)); clf()\n",
    "for (iplot,ishot) in enumerate(shots)\n",
    "    subplot(3,1,iplot);\n",
    "    d_i  = getblock(d,ishot)\n",
    "    d0_i = getblock(d0,ishot)\n",
    "    plot(t,d_i[:,end],label=\"True Model $(ishot) at z=$(zsrc[ishot])\");\n",
    "    plot(t,d0_i[:,end],label=\"Initial Model $(ishot) at z=$(zsrc[ishot])\");\n",
    "    xlim([2.4,4.5])\n",
    "    legend()\n",
    "end\n",
    "tight_layout()"
   ]
  },
  {
   "cell_type": "markdown",
   "metadata": {},
   "source": [
    "## 9. Build the `objective` function"
   ]
  },
  {
   "cell_type": "markdown",
   "metadata": {},
   "source": [
    "#### Build src/rec positions mask\n",
    "We use this mask to remove the imprint in gradients of proximity to source locations. The mask is set to 0 wherever a source or receiver is close, and is set to 1 otherwise. Without this mask most of the gradient updates would be concentrated close to sources where the model is correct. "
   ]
  },
  {
   "cell_type": "code",
   "execution_count": null,
   "metadata": {},
   "outputs": [],
   "source": [
    "wb_mask = ones(Float32,size(m))\n",
    "# wb_mask[:, 1:1+5] .= 0;\n",
    "# wb_mask[:, end-5:end] .= 0;\n",
    "\n",
    "# figure(figsize=(6,5))\n",
    "# imshow(wb_mask[:,:,1], aspect=\"auto\",cmap=\"gray_r\",clim=[0,1.5],extent=extent);\n",
    "# colorbar();\n",
    "# title(\"Water Bottom Mask\");\n",
    "# tight_layout()"
   ]
  },
  {
   "cell_type": "markdown",
   "metadata": {},
   "source": [
    "#### Build the `objective` function\n",
    "This method is called by the solver whenever the gradient is required. Steps in computing the gradient are as follows:\n",
    "1. Apply the adjoint of the Jacobian to the current residual `J' * [F*v - d]` \n",
    "1. Apply simple scaling based on the size of the first gradient, and save to apply to future gradients"
   ]
  },
  {
   "cell_type": "code",
   "execution_count": null,
   "metadata": {},
   "outputs": [],
   "source": [
    "@everywhere α = 0.5\n",
    "\n",
    "global gscale = 0f0\n",
    "global fcalls = 0\n",
    "global gcalls = 0\n",
    "\n",
    "function objective(F, _G, _m, d, wb_mask)\n",
    "    m = reshape(_m, domain(F))\n",
    "    J = jacobian(F,m)\n",
    "\n",
    "    # illumination compensation\n",
    "    s1 = srcillum(J)\n",
    "    srms = sqrt(norm(s1)^2 / length(s1))\n",
    "    s2 = s1 .+ eps(Float32) * srms\n",
    "    s3 = s2.^(-α)\n",
    "    s3 ./= maximum(s3)\n",
    "    R  = JopDiagonal(reshape(s3, domain(F)))\n",
    "\n",
    "    # modeling\n",
    "    dm = zeros(range(F))\n",
    "    t = @elapsed begin\n",
    "        dm .= F * m\n",
    "        global fcalls += 1\n",
    "    end\n",
    "\n",
    "    # gradient\n",
    "    if _G != nothing\n",
    "        G = reshape(_G, domain(F))\n",
    "        G .= R ∘ J' * (dm .- d)\n",
    "        G .*= wb_mask\n",
    "\n",
    "        global gscale\n",
    "        if gscale == 0.0\n",
    "            # compute scalar from first gradient, apply to future gradients\n",
    "            gscale = 50 ./ maximum(G) \n",
    "            @show gscale\n",
    "        end\n",
    "        G .*= gscale\n",
    "        global gcalls += 1\n",
    "    end\n",
    "\n",
    "    ϕ = Float32(0.5 * norm(dm .- d)^2)\n",
    "    \n",
    "    return ϕ\n",
    "end\n",
    "\n",
    "# struct to save the first gradient scalar\n",
    "global gscale = 0f0\n",
    "f(x) = objective(F, nothing, x, d, wb_mask);\n",
    "g!(G, x) = objective(F, G, x, d, wb_mask);\n",
    "fg!(G, x) = objective(F, G, x, d, wb_mask);"
   ]
  },
  {
   "cell_type": "markdown",
   "metadata": {},
   "source": [
    "#### Compute gradient"
   ]
  },
  {
   "cell_type": "code",
   "execution_count": null,
   "metadata": {},
   "outputs": [],
   "source": [
    "g1 = zeros(domain(F))\n",
    "tg1 = @elapsed begin\n",
    "    g!(g1, reshape(m0,:))\n",
    "    gscale = 0\n",
    "end\n",
    "@show tg1;"
   ]
  },
  {
   "cell_type": "markdown",
   "metadata": {},
   "source": [
    "#### Visualize gradient"
   ]
  },
  {
   "cell_type": "code",
   "execution_count": null,
   "metadata": {},
   "outputs": [],
   "source": [
    "dm = reshape(m0 .- m,nz,nx)\n",
    "g1 = reshape(g1,nz,nx)\n",
    "\n",
    "@show extrema(g1)\n",
    "\n",
    "figure(figsize=(8,3))\n",
    "\n",
    "subplot(1,2,1)\n",
    "imshow(reshape(dm,nz,nx) ./ maximum(abs,dm),aspect=\"auto\",cmap=\"seismic\",extent=extent);\n",
    "colorbar(orientation=\"vertical\");clim(-1,1);\n",
    "title(\"True Difference\");\n",
    "\n",
    "subplot(1,2,2)\n",
    "imshow(reshape(g1,nz,nx) ./ maximum(abs,g1),aspect=\"auto\",cmap=\"seismic\",extent=extent);\n",
    "colorbar(orientation=\"vertical\");clim(-1,1);\n",
    "title(\"Initial Gradient\");\n",
    "\n",
    "tight_layout()"
   ]
  },
  {
   "cell_type": "markdown",
   "metadata": {},
   "source": [
    "## 10. Perform the FWI using `Spectral Project Gradient` optimization\n",
    "We will do 10 functions evaluation cost of projected quasi-Newton with four inversion tests:\n",
    "- Unconstrained\n",
    "- Bound constraints only\n",
    "- Bound + TV 1.0 constraints\n",
    "- Bound + TV 1.2 constraints"
   ]
  },
  {
   "cell_type": "code",
   "execution_count": null,
   "metadata": {},
   "outputs": [],
   "source": [
    "# FWI with SPG\n",
    "niter = 20\n",
    "options_spg = spg_options(progTol=0, store_trace=true, verbose=1, maxIter=niter, memory=5)"
   ]
  },
  {
   "cell_type": "code",
   "execution_count": null,
   "metadata": {
    "scrolled": true
   },
   "outputs": [],
   "source": [
    "# FWI with SPG -- unconstrained\n",
    "gscale = 0f0\n",
    "fcalls = 0\n",
    "gcalls = 0\n",
    "mf0  = deepcopy(m0)\n",
    "sol0 = spg(f, g!, fg!, reshape(mf0,:), prj0, options_spg);\n",
    "mf0  = reshape(prj1(sol0.x),nz,nx)   # optimal solution\n",
    "ϕ_0  = sol0.ϕ_trace;                 # cost vs iteration\n",
    "m_0  = sol0.x_trace;                 # model vs iteration"
   ]
  },
  {
   "cell_type": "code",
   "execution_count": null,
   "metadata": {},
   "outputs": [],
   "source": [
    "mrms = sqrt(norm(mf0 .- reshape(m,nz,nx))^2 / length(m))\n",
    "@printf(\"fcalls,gcalls,mrms; %5d %5d %.2f\\n\", fcalls, gcalls, mrms)"
   ]
  },
  {
   "cell_type": "code",
   "execution_count": null,
   "metadata": {
    "scrolled": true
   },
   "outputs": [],
   "source": [
    "# FWI with SPG -- bound constrained\n",
    "gscale = 0f0\n",
    "fcalls = 0\n",
    "gcalls = 0\n",
    "mf1  = deepcopy(m0)\n",
    "sol1 = spg(f, g!, fg!, reshape(mf1,:), prj1, options_spg);\n",
    "mf1  = reshape(prj1(sol1.x),nz,nx)   # optimal solution\n",
    "ϕ_1  = sol1.ϕ_trace;                 # cost vs iteration\n",
    "m_1  = sol1.x_trace;                 # model vs iteration"
   ]
  },
  {
   "cell_type": "code",
   "execution_count": null,
   "metadata": {},
   "outputs": [],
   "source": [
    "mrms = sqrt(norm(mf1 .- reshape(m,nz,nx))^2 / length(m))\n",
    "@printf(\"fcalls,gcalls,mrms; %5d %5d %.2f\\n\", fcalls, gcalls, mrms)"
   ]
  },
  {
   "cell_type": "code",
   "execution_count": null,
   "metadata": {
    "scrolled": true
   },
   "outputs": [],
   "source": [
    "# FWI with SPG -- bound constrained + TV 1.0\n",
    "gscale = 0f0\n",
    "fcalls = 0\n",
    "gcalls = 0\n",
    "mf2  = deepcopy(m0)\n",
    "sol2 = spg(f, g!, fg!, reshape(mf2,:), prj2, options_spg);\n",
    "mf2  = reshape(prj2(sol2.x),nz,nx)  # optimal solution\n",
    "ϕ_2  = sol2.ϕ_trace;                # cost vs iteration\n",
    "m_2  = sol2.x_trace;                # model vs iteration"
   ]
  },
  {
   "cell_type": "code",
   "execution_count": null,
   "metadata": {},
   "outputs": [],
   "source": [
    "mrms = sqrt(norm(mf2 .- reshape(m,nz,nx))^2 / length(m))\n",
    "@printf(\"fcalls,gcalls,mrms; %5d %5d %.2f\\n\", fcalls, gcalls, mrms)"
   ]
  },
  {
   "cell_type": "code",
   "execution_count": null,
   "metadata": {
    "scrolled": true
   },
   "outputs": [],
   "source": [
    "# FWI with SPG -- bound constrained + TV 1.2\n",
    "gscale = 0f0\n",
    "fcalls = 0\n",
    "gcalls = 0\n",
    "mf3  = deepcopy(m0)\n",
    "sol3 = spg(f, g!, fg!, reshape(mf3,:), prj3, options_spg);\n",
    "mf3  = reshape(prj2(sol3.x),nz,nx)  # optimal solution\n",
    "ϕ_3  = sol3.ϕ_trace;                # cost vs iteration\n",
    "m_3  = sol3.x_trace;                # model vs iteration"
   ]
  },
  {
   "cell_type": "code",
   "execution_count": null,
   "metadata": {},
   "outputs": [],
   "source": [
    "mrms = sqrt(norm(mf3 .- reshape(m,nz,nx))^2 / length(m))\n",
    "@printf(\"fcalls,gcalls,mrms; %5d %5d %.2f\\n\", fcalls, gcalls, mrms)"
   ]
  },
  {
   "cell_type": "markdown",
   "metadata": {},
   "source": [
    "## 11. Visualize velocity models and objective function"
   ]
  },
  {
   "cell_type": "code",
   "execution_count": null,
   "metadata": {},
   "outputs": [],
   "source": [
    "m   = reshape(m,nz,nx)\n",
    "m0  = reshape(m0,nz,nx)\n",
    "\n",
    "figure(figsize=(8,9)); clf()\n",
    "\n",
    "subplot(3,2,1);imshow(m0,aspect=\"auto\",cmap=\"jet\",extent=extent);\n",
    "colorbar(orientation=\"vertical\");clim(vmin,vmax);title(\"Initial\");\n",
    "\n",
    "subplot(3,2,2);imshow(m,aspect=\"auto\",cmap=\"jet\",extent=extent);\n",
    "colorbar(orientation=\"vertical\");clim(vmin,vmax);title(\"True\")\n",
    "\n",
    "subplot(3,2,3);imshow(mf0,aspect=\"auto\",cmap=\"jet\",extent=extent);\n",
    "colorbar(orientation=\"vertical\");clim(vmin,vmax);title(\"FWI (unconstrained)\");\n",
    "\n",
    "subplot(3,2,4);imshow(mf1,aspect=\"auto\",cmap=\"jet\",extent=extent);\n",
    "colorbar(orientation=\"vertical\");clim(vmin,vmax);title(\"FWI (+bounds)\");\n",
    "\n",
    "subplot(3,2,5);imshow(mf2,aspect=\"auto\",cmap=\"jet\",extent=extent);\n",
    "colorbar(orientation=\"vertical\");clim(vmin,vmax);title(\"FWI (+bounds +TV 1.0)\");\n",
    "\n",
    "subplot(3,2,6);imshow(mf3,aspect=\"auto\",cmap=\"jet\",extent=extent);\n",
    "colorbar(orientation=\"vertical\");clim(vmin,vmax);title(\"FWI (+bounds +TV 1.2)\");\n",
    "\n",
    "tight_layout()"
   ]
  },
  {
   "cell_type": "markdown",
   "metadata": {},
   "source": [
    "#### Display the velocity difference models "
   ]
  },
  {
   "cell_type": "code",
   "execution_count": null,
   "metadata": {},
   "outputs": [],
   "source": [
    "rms_v0  = @sprintf(\"%.1f m/s\", sqrt(norm(m .- m0)^2 / length(m)))\n",
    "\n",
    "rms_vf0 = @sprintf(\"%.1f m/s\", sqrt(norm(m .- mf0)^2 / length(m)))\n",
    "rms_vf1 = @sprintf(\"%.1f m/s\", sqrt(norm(m .- mf1)^2 / length(m)))\n",
    "rms_vf2 = @sprintf(\"%.1f m/s\", sqrt(norm(m .- mf2)^2 / length(m)))\n",
    "rms_vf3 = @sprintf(\"%.1f m/s\", sqrt(norm(m .- mf3)^2 / length(m)))\n",
    "\n",
    "figure(figsize=(8,9)); clf()\n",
    "\n",
    "subplot(3,2,1);imshow(m .- m0,aspect=\"auto\",cmap=\"seismic\",extent=extent);\n",
    "colorbar(orientation=\"vertical\");clim(dmin,dmax);\n",
    "title(\"Difference, rms=$(rms_v0)\");\n",
    "\n",
    "subplot(3,2,3);imshow(m .- mf0,aspect=\"auto\",cmap=\"seismic\",extent=extent);\n",
    "colorbar(orientation=\"vertical\");clim(dmin,dmax);\n",
    "title(\"Difference (unconstrained), rms=$(rms_vf0)\");\n",
    "\n",
    "subplot(3,2,4);imshow(m .- mf1,aspect=\"auto\",cmap=\"seismic\",extent=extent);\n",
    "colorbar(orientation=\"vertical\");clim(dmin,dmax);\n",
    "title(\"Difference (bounds), rms=$(rms_vf1)\");\n",
    "\n",
    "subplot(3,2,5);imshow(m .- mf2,aspect=\"auto\",cmap=\"seismic\",extent=extent);\n",
    "colorbar(orientation=\"vertical\");clim(dmin,dmax);\n",
    "title(\"Difference (bounds + TV 1.0), rms=$(rms_vf2)\");\n",
    "\n",
    "subplot(3,2,6);imshow(m .- mf3,aspect=\"auto\",cmap=\"seismic\",extent=extent);\n",
    "colorbar(orientation=\"vertical\");clim(dmin,dmax);\n",
    "title(\"Difference (bounds + TV 1.2), rms=$(rms_vf3)\");\n",
    "\n",
    "tight_layout()"
   ]
  },
  {
   "cell_type": "markdown",
   "metadata": {},
   "source": [
    "#### Display the cost function "
   ]
  },
  {
   "cell_type": "code",
   "execution_count": null,
   "metadata": {},
   "outputs": [],
   "source": [
    "mrmsI = sqrt(norm(reshape(m0,nz,nx) .- m)^2 / length(m))\n",
    "mrms0 = sqrt(norm(reshape(m_0[end],nz,nx) .- m)^2 / length(m))\n",
    "mrms1 = sqrt(norm(reshape(m_1[end],nz,nx) .- m)^2 / length(m))\n",
    "mrms2 = sqrt(norm(reshape(m_2[end],nz,nx) .- m)^2 / length(m))\n",
    "mrms3 = sqrt(norm(reshape(m_3[end],nz,nx) .- m)^2 / length(m))\n",
    "\n",
    "figure(figsize=(8,5)); clf()\n",
    "plot(ϕ_0 ./ ϕ_0[1], marker=\"o\", label=@sprintf(\"model rms %.2f m/s -- FWI unconstrained\", mrms0))\n",
    "plot(ϕ_1 ./ ϕ_1[1], marker=\"s\", label=@sprintf(\"model rms %.2f m/s -- FWI +bounds\", mrms1))\n",
    "plot(ϕ_2 ./ ϕ_2[1], marker=\"^\", label=@sprintf(\"model rms %.2f m/s -- FWI +bounds +TV 1.0\", mrms2))\n",
    "plot(ϕ_3 ./ ϕ_3[1], marker=\"v\", label=@sprintf(\"model rms %.2f m/s -- FWI +bounds +TV 1.2\", mrms3))\n",
    "yscale(\"log\")\n",
    "ylim([0,1.05])\n",
    "xlabel(\"Nonlinear Iteration\")\n",
    "ylabel(\"Log Normalized cost ||f(v) - d||\")\n",
    "legend()\n",
    "title(\"log FWI Objective Function\")\n",
    "tight_layout()"
   ]
  },
  {
   "cell_type": "markdown",
   "metadata": {},
   "source": [
    "#### Display data misfit vs model misfit"
   ]
  },
  {
   "cell_type": "code",
   "execution_count": null,
   "metadata": {},
   "outputs": [],
   "source": [
    "figure(figsize=(8,5)); clf()\n",
    "\n",
    "c0 = [norm(reshape(m_0[i],nz,nx) .- m, 2) for i in 1:length(m_0)]\n",
    "c1 = [norm(reshape(m_1[i],nz,nx) .- m, 2) for i in 1:length(m_1)]\n",
    "c2 = [norm(reshape(m_2[i],nz,nx) .- m, 2) for i in 1:length(m_2)]\n",
    "c3 = [norm(reshape(m_3[i],nz,nx) .- m, 2) for i in 1:length(m_3)]\n",
    "\n",
    "figure(figsize=(8,5)); clf()\n",
    "loglog(c0, ϕ_0, marker=\"o\", label=@sprintf(\"model rms %.2f m/s -- FWI unconstrained\", mrms0))\n",
    "loglog(c1, ϕ_1, marker=\"s\", label=@sprintf(\"model rms %.2f m/s -- FWI +bounds\", mrms1))\n",
    "loglog(c2, ϕ_2, marker=\"^\", label=@sprintf(\"model rms %.2f m/s -- FWI +bounds +TV 1.0\", mrms2))\n",
    "loglog(c3, ϕ_3, marker=\"v\", label=@sprintf(\"model rms %.2f m/s -- FWI +bounds +TV 1.2\", mrms3))\n",
    "@show extrema(cat(c0,c1,c2,c3; dims=1))\n",
    "@show extrema(cat(ϕ_0,ϕ_1,ϕ_2,ϕ_3; dims=1))\n",
    "xlim([2750, 10100])\n",
    "ylim([15, 110000])\n",
    "legend()\n",
    "xlabel(\"Log Model residual\")\n",
    "ylabel(\"Log Data residual\")\n",
    "title(\"Misfit Trajectory for Spectral Projected Gradient\");\n",
    "tight_layout()"
   ]
  },
  {
   "cell_type": "markdown",
   "metadata": {},
   "source": [
    "## 12. Visualize data match\n",
    "#### Generate data in the FWI velocity model"
   ]
  },
  {
   "cell_type": "code",
   "execution_count": null,
   "metadata": {},
   "outputs": [],
   "source": [
    "tf0 = @elapsed begin\n",
    "    df0 = F * reshape(mf0, domain(F));\n",
    "end\n",
    "@show tf0;"
   ]
  },
  {
   "cell_type": "code",
   "execution_count": null,
   "metadata": {},
   "outputs": [],
   "source": [
    "tf1 = @elapsed begin\n",
    "    df1 = F * reshape(mf1, domain(F));\n",
    "end\n",
    "@show tf1;"
   ]
  },
  {
   "cell_type": "code",
   "execution_count": null,
   "metadata": {},
   "outputs": [],
   "source": [
    "tf2 = @elapsed begin\n",
    "    df2 = F * reshape(mf2, domain(F));\n",
    "end\n",
    "@show tf2;"
   ]
  },
  {
   "cell_type": "code",
   "execution_count": null,
   "metadata": {},
   "outputs": [],
   "source": [
    "tf3 = @elapsed begin\n",
    "    df3 = F * reshape(mf3, domain(F));\n",
    "end\n",
    "@show tf3;"
   ]
  },
  {
   "cell_type": "markdown",
   "metadata": {},
   "source": [
    "#### Compute residuals"
   ]
  },
  {
   "cell_type": "code",
   "execution_count": null,
   "metadata": {},
   "outputs": [],
   "source": [
    "r0 = d0 .- d;\n",
    "\n",
    "rf0 = df0 .- d;\n",
    "rf1 = df1 .- d;\n",
    "rf2 = df2 .- d;\n",
    "rf3 = df3 .- d;"
   ]
  },
  {
   "cell_type": "markdown",
   "metadata": {},
   "source": [
    "#### Plot shot gathers for true, initial model, and fwi models\n",
    "\n",
    "The table below describes the data images below. We will flip the direction of the residual and modeled data in order to help display the match with the true data. We include the initial data as shown above for easier comparison. \n",
    "\n",
    "<table style=\"border:1px solid black;\" width=\"60%\">\n",
    "<tr>\n",
    "  <td style=\"border:1px solid black; text-align:center;\" bgcolor=\"white\">\n",
    "      <b>Initial<br>Residual Data (flipped)</b></td>\n",
    "  <td style=\"border:1px solid black; text-align:center;\" bgcolor=\"white\">\n",
    "      <b>True Data</b></td>\n",
    "  <td style=\"border:1px solid black; text-align:center;\" bgcolor=\"white\">\n",
    "      <b>Initial<br>Data (flipped)</b></td>\n",
    "</tr>\n",
    "\n",
    "<tr>\n",
    "  <td style=\"border:1px solid black; text-align:center;\" bgcolor=\"white\">\n",
    "      <b>FWI (unconstrained)<br>Residual Data (flipped)</b></td>\n",
    "  <td style=\"border:1px solid black; text-align:center;\" bgcolor=\"white\">\n",
    "      <b>True Data</b></td>\n",
    "  <td style=\"border:1px solid black; text-align:center;\" bgcolor=\"white\">\n",
    "      <b>FWI (unconstrained)<br>Data (flipped)</b></td>\n",
    "</tr>\n",
    "\n",
    "<tr>\n",
    "  <td style=\"border:1px solid black; text-align:center;\" bgcolor=\"white\">\n",
    "      <b>FWI (+bounds)<br>Residual Data (flipped)</b></td>\n",
    "  <td style=\"border:1px solid black; text-align:center;\" bgcolor=\"white\">\n",
    "      <b>True Data</b></td>\n",
    "  <td style=\"border:1px solid black; text-align:center;\" bgcolor=\"white\">\n",
    "      <b>FWI (+bounds)<br>Data (flipped)</b></td>\n",
    "</tr>\n",
    "\n",
    "<tr>\n",
    "  <td style=\"border:1px solid black; text-align:center;\" bgcolor=\"white\">\n",
    "      <b>FWI (+bounds + TV 1.0)<br>Residual Data (flipped)</b></td>\n",
    "  <td style=\"border:1px solid black; text-align:center;\" bgcolor=\"white\">\n",
    "      <b>True Data</b></td>\n",
    "  <td style=\"border:1px solid black; text-align:center;\" bgcolor=\"white\">\n",
    "      <b>FWI (+bounds + TV 1.0)<br>Data (flipped)</b></td>\n",
    "</tr>\n",
    "\n",
    "<tr>\n",
    "  <td style=\"border:1px solid black; text-align:center;\" bgcolor=\"white\">\n",
    "      <b>FWI (+bounds + TV 1.2)<br>Residual Data (flipped)</b></td>\n",
    "  <td style=\"border:1px solid black; text-align:center;\" bgcolor=\"white\">\n",
    "      <b>True Data</b></td>\n",
    "  <td style=\"border:1px solid black; text-align:center;\" bgcolor=\"white\">\n",
    "      <b>FWI (+bounds + TV 1.2)<br>Data (flipped)</b></td>\n",
    "</tr>\n",
    "</table>\n",
    "\n",
    "We first make a function to create the plots that we can re-use for the selected shots."
   ]
  },
  {
   "cell_type": "code",
   "execution_count": null,
   "metadata": {},
   "outputs": [],
   "source": [
    "zsrc = trunc.(zsrc; digits=6)\n",
    "\n",
    "function make_plot(index)\n",
    "    figure(figsize=(8,15)); clf()\n",
    "    \n",
    "    d_i   = getblock(d,index)\n",
    "    d0_i  = getblock(d0,index)\n",
    "    r0_i  = getblock(r0,index)\n",
    "\n",
    "    df0_i = getblock(df0,index)\n",
    "    df1_i = getblock(df1,index)\n",
    "    df2_i = getblock(df2,index)\n",
    "    df3_i = getblock(df3,index)\n",
    "\n",
    "    rf0_i = getblock(rf0,index)\n",
    "    rf1_i = getblock(rf1,index)\n",
    "    rf2_i = getblock(rf2,index)\n",
    "    rf3_i = getblock(rf3,index)\n",
    "\n",
    "    cat0  = hcat(reverse(r0_i,dims=2), pad, d_i, pad, reverse(d0_i,dims=2))\n",
    "    catf0 = hcat(reverse(rf0_i,dims=2), pad, d_i, pad, reverse(df0_i,dims=2))\n",
    "    catf1 = hcat(reverse(rf1_i,dims=2), pad, d_i, pad, reverse(df1_i,dims=2))\n",
    "    catf2 = hcat(reverse(rf2_i,dims=2), pad, d_i, pad, reverse(df2_i,dims=2))\n",
    "    catf3 = hcat(reverse(rf3_i,dims=2), pad, d_i, pad, reverse(df3_i,dims=2))\n",
    "\n",
    "    subplot(5,1,1);\n",
    "    imshow(1.5 .* cat0,cmap=\"gray\",aspect=\"auto\",clim=[-1,+1]);\n",
    "    title(\" Initial sz=$(zsrc[index])\");\n",
    "    \n",
    "    subplot(5,1,2);\n",
    "    imshow(1.5 .* catf1,cmap=\"gray\",aspect=\"auto\",clim=[-1,+1]);\n",
    "    title(\" FWI (unconstrained) sz=$(zsrc[index])\");\n",
    "    \n",
    "    subplot(5,1,3);\n",
    "    imshow(1.5 .* catf1,cmap=\"gray\",aspect=\"auto\",clim=[-1,+1]);\n",
    "    title(\" FWI (+bounds) sz=$(zsrc[index])\");\n",
    "    \n",
    "    subplot(5,1,4);\n",
    "    imshow(1.5 .* catf2,cmap=\"gray\",aspect=\"auto\",clim=[-1,+1]);\n",
    "    title(\"FWI (+bounds +TV 1.0) sz=$(zsrc[index])\");\n",
    "\n",
    "    subplot(5,1,5);\n",
    "    imshow(1.5 .* catf3,cmap=\"gray\",aspect=\"auto\",clim=[-1,+1]);\n",
    "    title(\"FWI (+bounds +TV 1.2) sz=$(zsrc[index])\");\n",
    "\n",
    "    suptitle(\"Residual | True | Modeled (flipped)\\n\")\n",
    "    \n",
    "    tight_layout()\n",
    "end"
   ]
  },
  {
   "cell_type": "markdown",
   "metadata": {},
   "source": [
    "#### Data for the 1st shot, generated in the initial and FWI models"
   ]
  },
  {
   "cell_type": "code",
   "execution_count": null,
   "metadata": {},
   "outputs": [],
   "source": [
    "make_plot(1)"
   ]
  },
  {
   "cell_type": "markdown",
   "metadata": {},
   "source": [
    "#### Data for the 4th shot, generated in the initial and FWI models"
   ]
  },
  {
   "cell_type": "code",
   "execution_count": null,
   "metadata": {},
   "outputs": [],
   "source": [
    "make_plot(4)"
   ]
  },
  {
   "cell_type": "markdown",
   "metadata": {},
   "source": [
    "#### Data for the 8th shot, generated in the initial and FWI models"
   ]
  },
  {
   "cell_type": "code",
   "execution_count": null,
   "metadata": {},
   "outputs": [],
   "source": [
    "make_plot(8)"
   ]
  },
  {
   "cell_type": "markdown",
   "metadata": {},
   "source": [
    "## 14. Remove workers <a id='del'></a>"
   ]
  },
  {
   "cell_type": "code",
   "execution_count": null,
   "metadata": {},
   "outputs": [],
   "source": [
    "# rmprocs(workers());"
   ]
  }
 ],
 "metadata": {
  "kernelspec": {
   "display_name": "Julia 1.6.2",
   "language": "julia",
   "name": "julia-1.6"
  },
  "language_info": {
   "file_extension": ".jl",
   "mimetype": "application/julia",
   "name": "julia",
   "version": "1.6.2"
  }
 },
 "nbformat": 4,
 "nbformat_minor": 4
}
