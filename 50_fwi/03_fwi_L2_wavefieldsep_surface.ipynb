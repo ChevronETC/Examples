{
 "cells": [
  {
   "cell_type": "markdown",
   "metadata": {},
   "source": [
    "# FWI Example with wavefield separation\n",
    "This notebook explores performing up/down wavefield separation on source and receiver wavefields prior to correlation for a surface seismic experiment. We use a simple Kz wavenumber filter, zeroing negative or positive spatial frequencies in depth `z`. We then correlate source up with receiver up, and source down with receiver down.\n",
    "\n",
    "We will contrast the wavefield separation FWI operator with the standard FWI operator. \n",
    "\n",
    "We will peform FWI using the following steps:\n",
    "1. Prepare models\n",
    "2. Build a small local compute cluster (2 workers) \n",
    "3. Create list of shot locations \n",
    "4. Build `F`, the distributed block operator for seismic modeling\n",
    "5. Use `F` to create data for both models\n",
    "6. Visualize data\n",
    "7. Assess if data is cycle skipped at the farthest offsets\n",
    "8. Build the `gradient!` and `cost` functions\n",
    "9. Perform the FWI using `Optim.jl`\n",
    "10. Visualize velocity models and objection function\n",
    "11. Visualize data match \n",
    "12. Write models to local disk\n",
    "13. Remove local files and workers\n",
    "\n",
    "#### Note on runtime\n",
    "Warning: this notebook takes more than 1 hour to run for 12 shots with two workers on an Intel 8168.\n",
    "\n",
    "`lscpu` CPU information: `Intel(R) Xeon(R) Platinum 8168 CPU @ 2.70GHz`"
   ]
  },
  {
   "cell_type": "markdown",
   "metadata": {},
   "source": [
    "## Add required packages\n",
    "Uncomment the line below if you need to add these packages to your environment"
   ]
  },
  {
   "cell_type": "code",
   "execution_count": null,
   "metadata": {},
   "outputs": [],
   "source": [
    "# ]add Optim LineSearches"
   ]
  },
  {
   "cell_type": "markdown",
   "metadata": {},
   "source": [
    "## Record time for start of notebook"
   ]
  },
  {
   "cell_type": "code",
   "execution_count": null,
   "metadata": {},
   "outputs": [],
   "source": [
    "time_beg = time()"
   ]
  },
  {
   "cell_type": "code",
   "execution_count": null,
   "metadata": {},
   "outputs": [],
   "source": [
    "using PyPlot, Distributed, Jets, JetPack, JetPackDSP, Printf"
   ]
  },
  {
   "cell_type": "markdown",
   "metadata": {},
   "source": [
    "## 1. Prepare models\n",
    "* Initial model is a wholespace\n",
    "* True model is the initial model with a rectangular inclusion"
   ]
  },
  {
   "cell_type": "code",
   "execution_count": null,
   "metadata": {
    "tags": []
   },
   "outputs": [],
   "source": [
    "dz,dx = 25,25\n",
    "nz,nx = 201,501\n",
    "\n",
    "xx = ones(Float32,nx)\n",
    "zz = [0:1:nz-1;]\n",
    "vv = zz * xx'\n",
    "vv ./= maximum(vv)\n",
    "v1 = 1500 .+ 500 .* vv\n",
    "v2 = 1500 .+ 500 .* vv\n",
    "\n",
    "w = 20\n",
    "z0 = div(nz,3)\n",
    "x0 = div(nx,2)\n",
    "@show z0-w:z0+w,x0-w:x0+w\n",
    "v1[z0-w:z0+w,x0-w:x0+w] .+= 100;"
   ]
  },
  {
   "cell_type": "markdown",
   "metadata": {},
   "source": [
    "#### Visualize"
   ]
  },
  {
   "cell_type": "code",
   "execution_count": null,
   "metadata": {},
   "outputs": [],
   "source": [
    "figure(figsize=(8,6))\n",
    "vmin,vmax = extrema(v1)\n",
    "dmin,dmax = -200,200\n",
    "\n",
    "subplot(2,2,1); imshow(v1,aspect=\"auto\",cmap=\"jet\", interpolation=\"nearest\"); \n",
    "colorbar(orientation=\"horizontal\"); clim(vmin,vmax); title(\"True Velocity (v1)\")\n",
    "\n",
    "subplot(2,2,2); imshow(v2,aspect=\"auto\",cmap=\"jet\", interpolation=\"nearest\");\n",
    "colorbar(orientation=\"horizontal\"); clim(vmin,vmax); title(\"Initial Velocity (v2)\");\n",
    "\n",
    "subplot(2,2,3); imshow(v1.-v2,aspect=\"auto\",cmap=\"seismic\", interpolation=\"nearest\");\n",
    "colorbar(orientation=\"horizontal\"); clim(dmin,dmax); title(\"Difference (v1-v2)\");\n",
    "\n",
    "tight_layout()"
   ]
  },
  {
   "cell_type": "markdown",
   "metadata": {},
   "source": [
    "## 2. Build a small local compute cluster (2 workers) \n",
    "\n",
    "#### Setup OMP environment variables for the cluster\n",
    "\n",
    "In the distributed compute case the workers that we add would be on different hardware, and we might add tens of workers in 2D and hundreds in 3D. Here we run on a single machine with only 2 workers, and so we need to be careful with details related to high performance computing. If we did not specify thread affinity, the two workers would compete for the same physical cores and the modeling would be *incredibly* slow.\n",
    "\n",
    "We spin up the small 2-worker cluster by calling `addprocs(2)`, and because we set the environment variable `ENV[\"OMP_DISPLAY_ENV\"] = \"true\"` we will see the OMP environment printed out on each worker. In that output (below) we can verify that half of the total threads (44/2 = 22) are assigned to each socket on this 2 socket system. You can obtain more details about the hardware with the shell command `lscpu`.\n",
    "\n",
    "We set four environment variables related to OpenMP:\n",
    "* `OMP_DISPLAY_ENV` prints out the OpenMP environment on each worker\n",
    "* `OMP_PROC_BIND` specifies that threads should be bound to physical cores\n",
    "* `OMP_NUM_THREADS` specifies the number of threads per workers is 1/2 the number of physical cores\n",
    "* `GOMP_CPU_AFFINITY` specifies which physical cores the threads run on for each worker\n",
    "\n",
    "If you run the shell command `top` during execution, you will see 3 julia processes: the main process and two workers. The two workers should generally have about 50% of the system, and `load average` should tend towards the physical number of cores."
   ]
  },
  {
   "cell_type": "code",
   "execution_count": null,
   "metadata": {},
   "outputs": [],
   "source": [
    "nthread = Sys.CPU_THREADS\n",
    "ENV[\"OMP_DISPLAY_ENV\"] = \"true\"\n",
    "ENV[\"OMP_PROC_BIND\"] = \"close\"\n",
    "ENV[\"OMP_NUM_THREADS\"] = \"$(div(nthread,2))\" \n",
    "addprocs(2)\n",
    "@show workers()\n",
    "for k in 1:nworkers()\n",
    "    place1 = (k - 1) * div(nthread,nworkers())\n",
    "    place2 = (k + 0) * div(nthread,nworkers()) - 1\n",
    "    @show place1, place2, nthread\n",
    "    @spawnat workers()[k] ENV[\"GOMP_CPU_AFFINITY\"] = \"$(place1)-$(place2)\";\n",
    "end"
   ]
  },
  {
   "cell_type": "code",
   "execution_count": null,
   "metadata": {
    "tags": []
   },
   "outputs": [],
   "source": [
    "@everywhere using Distributed, DistributedArrays, DistributedJets, Jets, JetPack, WaveFD, JetPackWaveFD, LinearAlgebra, LineSearches, Optim, Random"
   ]
  },
  {
   "cell_type": "markdown",
   "metadata": {},
   "source": [
    "## 3. Create list of shot locations \n",
    "We use 12 shot locations evenly in depth along the left edge of the model."
   ]
  },
  {
   "cell_type": "code",
   "execution_count": null,
   "metadata": {
    "tags": []
   },
   "outputs": [],
   "source": [
    "nshots = 12\n",
    "sx = round.(Int,collect(range(0,stop=(nx-1)*dx,length=nshots)))\n",
    "@show nshots;\n",
    "@show sx;"
   ]
  },
  {
   "cell_type": "markdown",
   "metadata": {},
   "source": [
    "## 4. Build `F1` and `F2`, the distributed block operators for seismic modeling\n",
    "* `F1` is the standard operator\n",
    "* `F2` is the operator with wavefield separation via Kz wavenumber filter"
   ]
  },
  {
   "cell_type": "markdown",
   "metadata": {},
   "source": [
    "#### Note on scratch space for temporary files\n",
    "When dealing with serialized nonlinear wavefields as in this example, we need to specify the location where scratch files will be written.\n",
    "\n",
    "You may need to change this to point to a temporary directory available on your system."
   ]
  },
  {
   "cell_type": "code",
   "execution_count": null,
   "metadata": {},
   "outputs": [],
   "source": [
    "@everywhere scratch = \"/mnt/scratch\"\n",
    "@assert isdir(scratch)"
   ]
  },
  {
   "cell_type": "code",
   "execution_count": null,
   "metadata": {},
   "outputs": [],
   "source": [
    "@everywhere begin\n",
    "    ntrec = 2501\n",
    "    dtrec = 0.004\n",
    "    dtmod = 0.002\n",
    "end\n",
    "\n",
    "@everywhere function makeF(i,nz,nx,dz,dx,sx; imgcondition=\"standard\")\n",
    "    @show imgcondition\n",
    "    JopNlProp2DAcoIsoDenQ_DEO2_FDTD(;\n",
    "        b = ones(Float32,nz,nx),\n",
    "        nthreads = div(Sys.CPU_THREADS,2),\n",
    "        ntrec = ntrec,\n",
    "        dtrec = dtrec,\n",
    "        dtmod = dtmod,\n",
    "        dz = dz,\n",
    "        dx = dx,\n",
    "        wavelet = WaveletCausalRicker(f=4.0),\n",
    "        sz = dz,\n",
    "        sx = sx[i],\n",
    "        rz = 2 * dz .* ones(nx),\n",
    "        rx = dx * [0:1:nx-1;],\n",
    "        nbz_cache = nz,\n",
    "        nbx_cache = 16,\n",
    "        comptype = UInt32,\n",
    "        nsponge = 100,\n",
    "        imgcondition = imgcondition,\n",
    "        srcfieldfile = joinpath(scratch, \"field-$i-$(randstring()).bin\"),\n",
    "        reportinterval=0)\n",
    "end"
   ]
  },
  {
   "cell_type": "code",
   "execution_count": null,
   "metadata": {},
   "outputs": [],
   "source": [
    "F1 = @blockop DArray(I->[makeF(i,nz,nx,dz,dx,sx,imgcondition=\"standard\") \n",
    "        for i in I[1], j in I[2]], (nshots,1))\n",
    "\n",
    "F2 = @blockop DArray(I->[makeF(i,nz,nx,dz,dx,sx,imgcondition=\"FWI\") \n",
    "        for i in I[1], j in I[2]], (nshots,1))"
   ]
  },
  {
   "cell_type": "markdown",
   "metadata": {},
   "source": [
    "## 5. Use `F1` to create the data in both models"
   ]
  },
  {
   "cell_type": "code",
   "execution_count": null,
   "metadata": {
    "scrolled": true,
    "tags": []
   },
   "outputs": [],
   "source": [
    "t1 = @elapsed begin\n",
    "    d1 = F1*v1;\n",
    "end\n",
    "@info @sprintf(\"Time in true model; %.2f seconds\\n\", t1);\n",
    "\n",
    "t2 = @elapsed begin\n",
    "    d2 = F1*v2;\n",
    "end\n",
    "@info @sprintf(\"Time in init model; %.2f seconds\\n\", t2);"
   ]
  },
  {
   "cell_type": "markdown",
   "metadata": {},
   "source": [
    "#### Compute the residual data"
   ]
  },
  {
   "cell_type": "code",
   "execution_count": null,
   "metadata": {},
   "outputs": [],
   "source": [
    "r = d1 .- d2;"
   ]
  },
  {
   "cell_type": "markdown",
   "metadata": {},
   "source": [
    "## 6. Visualize data"
   ]
  },
  {
   "cell_type": "markdown",
   "metadata": {},
   "source": [
    "#### Collect 3 shots locally before plotting"
   ]
  },
  {
   "cell_type": "code",
   "execution_count": null,
   "metadata": {},
   "outputs": [],
   "source": [
    "shots = [1,6,12]\n",
    "sxlocal = [sx[i] for i in shots]\n",
    "@show shots\n",
    "@show sxlocal;\n",
    "\n",
    "d1local = [getblock(d1,i) for i in shots];\n",
    "d2local = [getblock(d2,i) for i in shots];\n",
    "r2local = [getblock(r,i) for i in shots];"
   ]
  },
  {
   "cell_type": "markdown",
   "metadata": {},
   "source": [
    "#### Plot shot gathers for true model, initial model, and residual\n",
    "\n",
    "The table below describes the data images below.\n",
    "\n",
    "<table style=\"border:1px solid black;\" width=\"60%\">\n",
    "<tr>\n",
    "  <td style=\"border:1px solid black; text-align:center;\" bgcolor=\"white\">\n",
    "      <b>True Data</b></td>\n",
    "  <td style=\"border:1px solid black; text-align:center;\" bgcolor=\"white\">\n",
    "      <b>Initial Data</b></td>\n",
    "  <td style=\"border:1px solid black; text-align:center;\" bgcolor=\"white\">\n",
    "      <b>Initial Residual Data</b></td>\n",
    "</tr>\n",
    "</table>"
   ]
  },
  {
   "cell_type": "code",
   "execution_count": null,
   "metadata": {},
   "outputs": [],
   "source": [
    "scale = 10.0 / sqrt(norm(d1)^2 / length(d1))\n",
    "@show scale\n",
    "\n",
    "nzero = 5\n",
    "pad = ones(Float32,ntrec,nzero)\n",
    "\n",
    "figure(figsize=(8,9)); clf()\n",
    "for (iplot,ishot) in enumerate(shots)\n",
    "    cat2 = hcat(d1local[iplot], pad, d2local[iplot], pad, r2local[iplot])\n",
    "    subplot(3,1,iplot);\n",
    "    imshow(cat2,cmap=\"gray\",aspect=\"auto\",clim=[-1,+1]);\n",
    "    title(\" True sx=$(sx[ishot])   |   Initial sx=$(sx[ishot])   |   Initial Residual sx=$(sx[ishot])\");\n",
    "end\n",
    "tight_layout()"
   ]
  },
  {
   "cell_type": "markdown",
   "metadata": {},
   "source": [
    "## 8. Build the `gradient!` and `cost` functions"
   ]
  },
  {
   "cell_type": "markdown",
   "metadata": {},
   "source": [
    "#### Build the `gradient!` function\n",
    "This method is called by the solver whenever the gradient is required. Note one difference for this transmission experiment relative the first FWI notebook is that we do not want to apply source side illumination compensation.\n",
    "\n",
    "Steps in computing the gradient are as follows:\n",
    "1. Apply box constraints to keep velocity inside `[vmin,vmax]`\n",
    "1. Compute the source side illumination `illum`\n",
    "1. Apply the adjoint of the Jacobian to the current residual `J' * [F*v - d]` \n",
    "1. Apply simple scaling based on the size of the first gradient, and save to apply to future gradients\n",
    "\n",
    "We can use this function for both operators `F1` and `F2`, but we need to be careful about the `FwiPar` struct we use to save the maximum value of the first gradient. "
   ]
  },
  {
   "cell_type": "code",
   "execution_count": null,
   "metadata": {},
   "outputs": [],
   "source": [
    "function gradient!(G,F,v,dobs,p)\n",
    "    clamp!(v,vmin,vmax)\n",
    "    J = jacobian(F,v)\n",
    "    s = srcillum(J)\n",
    "    srms = sqrt(norm(s)^2 / length(s))\n",
    "    s .+= eps(Float32) * srms\n",
    "    α = 2\n",
    "    R = JopDiagonal(s.^(-α))\n",
    "    t = @elapsed begin\n",
    "        dv = F*v\n",
    "        G .= R' ∘ J' * (dv .- dobs)\n",
    "    end\n",
    "    ϕ = norm(dv .- dobs)\n",
    "    p.countG += 1\n",
    "    @printf(\"f=%3d g=%3d %10.4f sec -- |Fv-y| %10.4e -- |g| %10.4e\\n\", \n",
    "        p.countF, p.countG, t, ϕ, norm(G))\n",
    "    flush(stdout)\n",
    "    if p.gscale == 0.0\n",
    "        # compute scalar from first gradient, apply to future gradients\n",
    "        p.gscale = 20 ./ maximum(G) \n",
    "        @show p.gscale\n",
    "    end\n",
    "    G .*= p.gscale\n",
    "end\n",
    "# struct to save the first gradient scalar\n",
    "mutable struct FwiPar\n",
    "   countF::Int64\n",
    "   countG::Int64\n",
    "   gscale::Float64\n",
    "end"
   ]
  },
  {
   "cell_type": "markdown",
   "metadata": {},
   "source": [
    "#### Compute gradients with and without wavefield separation and display"
   ]
  },
  {
   "cell_type": "code",
   "execution_count": null,
   "metadata": {
    "scrolled": true,
    "tags": []
   },
   "outputs": [],
   "source": [
    "grad1 = zeros(Float32,size(v1))\n",
    "grad2 = zeros(Float32,size(v1))\n",
    "\n",
    "tgrad1 = @elapsed begin\n",
    "    p1 = FwiPar(0,0,0.0)\n",
    "    gradient!(grad1,F1,v2,d1,p1)\n",
    "end\n",
    "@show tgrad1;\n",
    "\n",
    "tgrad2 = @elapsed begin\n",
    "    p2 = FwiPar(0,0,0.0)\n",
    "    gradient!(grad2,F2,v2,d1,p2)\n",
    "end\n",
    "@show tgrad2;"
   ]
  },
  {
   "cell_type": "code",
   "execution_count": null,
   "metadata": {},
   "outputs": [],
   "source": [
    "dv = v1 .- v2\n",
    "\n",
    "figure(figsize=(8,6))\n",
    "\n",
    "subplot(2,2,1)\n",
    "imshow(-1 .* grad1 ./ maximum(abs,grad1),aspect=\"auto\",cmap=\"seismic\");\n",
    "colorbar(orientation=\"horizontal\");clim(-1,1);\n",
    "title(\"Standard (x -1)\");\n",
    "\n",
    "subplot(2,2,2)\n",
    "imshow(-1 .* grad2 ./ maximum(abs,grad2),aspect=\"auto\",cmap=\"seismic\");\n",
    "colorbar(orientation=\"horizontal\");clim(-1,1);\n",
    "title(\"Wavefield Separation (x -1)\");\n",
    "\n",
    "subplot(2,2,3)\n",
    "imshow(dv ./ maximum(abs,dv),aspect=\"auto\",cmap=\"seismic\");\n",
    "colorbar(orientation=\"horizontal\");clim(-1,1);\n",
    "title(\"Velocity Difference: (v_true - v_init)\");\n",
    "\n",
    "tight_layout()"
   ]
  },
  {
   "cell_type": "markdown",
   "metadata": {},
   "source": [
    "#### Build the `cost` function\n",
    "Note we also need to apply box constraints here to keep the model in the range `[vmin,vmax]`."
   ]
  },
  {
   "cell_type": "code",
   "execution_count": null,
   "metadata": {},
   "outputs": [],
   "source": [
    "function cost(x,F,d1,p)\n",
    "    clamp!(x,vmin,vmax)\n",
    "    t = @elapsed begin\n",
    "        dx = F*x\n",
    "    end\n",
    "    ϕ = 0.5 * norm(d1 .- dx)^2\n",
    "    p.countF += 1\n",
    "    @printf(\"f=%3d g=%3d %10.4f sec -- |Fv-y| %10.4e\\n\", p.countF, p.countG, t, ϕ)\n",
    "    flush(stdout)\n",
    "    return ϕ\n",
    "end"
   ]
  },
  {
   "cell_type": "markdown",
   "metadata": {},
   "source": [
    "## 9. Perform the FWI using `Optim.jl`\n",
    "We will do 10 iterations of limited memory BFGS for each operator. "
   ]
  },
  {
   "cell_type": "code",
   "execution_count": null,
   "metadata": {},
   "outputs": [],
   "source": [
    "niter = 20"
   ]
  },
  {
   "cell_type": "code",
   "execution_count": null,
   "metadata": {},
   "outputs": [],
   "source": [
    "function mycallback(state::OptimizationState)\n",
    "    @info \"iter=$(state.iteration), cost=$(state.value), |grad|=$(state.g_norm)\"\n",
    "    flush(stdout)\n",
    "    false\n",
    "end\n",
    "mycallback(trace::OptimizationTrace) = mycallback(trace[end]);"
   ]
  },
  {
   "cell_type": "markdown",
   "metadata": {},
   "source": [
    "#### Optimization with the standard operator"
   ]
  },
  {
   "cell_type": "code",
   "execution_count": null,
   "metadata": {
    "tags": []
   },
   "outputs": [],
   "source": [
    "topt1 = @elapsed begin\n",
    "    p1 = FwiPar(0,0,0.0)\n",
    "    f(x) = cost(x,F1,d1,p1)\n",
    "    g!(G,x) = gradient!(G,F1,x,d1,p1)\n",
    "\n",
    "    solver1 = LBFGS(m = niter, \n",
    "        alphaguess = LineSearches.InitialPrevious(), \n",
    "        linesearch = LineSearches.BackTracking(order=2));\n",
    "\n",
    "    result1 = optimize(f, g!, v2, solver1,\n",
    "        Optim.Options(\n",
    "            iterations = niter,\n",
    "            show_trace = false,\n",
    "            store_trace = true,\n",
    "            show_every = 1,\n",
    "            extended_trace = true,\n",
    "            allow_f_increases = false,\n",
    "            callback = mycallback))\n",
    "end;"
   ]
  },
  {
   "cell_type": "code",
   "execution_count": null,
   "metadata": {},
   "outputs": [],
   "source": [
    "@sprintf(\"Time for optimization (standard); %.2f minutes\\n\", topt1 / 60)\n",
    "@info \"result1=\\n$result1\\n\""
   ]
  },
  {
   "cell_type": "markdown",
   "metadata": {},
   "source": [
    "#### Optimization with the wavefield separation operator"
   ]
  },
  {
   "cell_type": "code",
   "execution_count": null,
   "metadata": {},
   "outputs": [],
   "source": [
    "topt2 = @elapsed begin\n",
    "    p2 = FwiPar(0,0,0.0)\n",
    "    f(x) = cost(x,F2,d1,p2)\n",
    "    g!(G,x) = gradient!(G,F2,x,d1,p2)\n",
    "\n",
    "    solver2 = LBFGS(m = niter, \n",
    "        alphaguess = LineSearches.InitialPrevious(), \n",
    "        linesearch = LineSearches.BackTracking(order=2));\n",
    "\n",
    "    result2 = optimize(f, g!, v2, solver2,\n",
    "        Optim.Options(\n",
    "            iterations = niter,\n",
    "            show_trace = false,\n",
    "            store_trace = true,\n",
    "            show_every = 1,\n",
    "            extended_trace = true,\n",
    "            allow_f_increases = false,\n",
    "            callback = mycallback))\n",
    "end;"
   ]
  },
  {
   "cell_type": "code",
   "execution_count": null,
   "metadata": {},
   "outputs": [],
   "source": [
    "@sprintf(\"Time for optimization (wavefield separation); %.2f minutes\\n\", topt2 / 60)\n",
    "@info \"result2=\\n$result2\\n\""
   ]
  },
  {
   "cell_type": "code",
   "execution_count": null,
   "metadata": {},
   "outputs": [],
   "source": [
    "vf1 = Optim.minimizer(result1);\n",
    "vf2 = Optim.minimizer(result2);\n",
    "\n",
    "clamp!(vf1,vmin,vmax);\n",
    "clamp!(vf2,vmin,vmax);\n",
    "\n",
    "ϕ1 = Optim.f_trace(result1);\n",
    "ϕ2 = Optim.f_trace(result2);\n",
    "\n",
    "m1 = Optim.x_trace(result1);\n",
    "m2 = Optim.x_trace(result2);"
   ]
  },
  {
   "cell_type": "markdown",
   "metadata": {},
   "source": [
    "## 10. Visualize velocity models and objective function"
   ]
  },
  {
   "cell_type": "code",
   "execution_count": null,
   "metadata": {},
   "outputs": [],
   "source": [
    "figure(figsize=(8,10)); clf()\n",
    "\n",
    "subplot(2,2,1);imshow(v2,aspect=\"auto\",cmap=\"jet\", interpolation=\"nearest\");\n",
    "colorbar(orientation=\"horizontal\"); clim(vmin,vmax);title(\"Initial Velocity\");\n",
    "\n",
    "subplot(2,2,2);imshow(v1,aspect=\"auto\",cmap=\"jet\", interpolation=\"nearest\");\n",
    "colorbar(orientation=\"horizontal\"); clim(vmin,vmax);title(\"True Velocity\")\n",
    "\n",
    "subplot(2,2,3);imshow(vf1,aspect=\"auto\",cmap=\"jet\", interpolation=\"nearest\");\n",
    "colorbar(orientation=\"horizontal\"); clim(vmin,vmax);title(\"FWI Standard\");\n",
    "\n",
    "subplot(2,2,4);imshow(vf2,aspect=\"auto\",cmap=\"jet\", interpolation=\"nearest\");\n",
    "colorbar(orientation=\"horizontal\"); clim(vmin,vmax);title(\"FWI Wavefield Separation\");\n",
    "\n",
    "tight_layout()"
   ]
  },
  {
   "cell_type": "markdown",
   "metadata": {},
   "source": [
    "#### Display the velocity differences "
   ]
  },
  {
   "cell_type": "code",
   "execution_count": null,
   "metadata": {},
   "outputs": [],
   "source": [
    "rms_v2  = @sprintf(\"%.1f m/s\", sqrt(norm(v1 .- v2)^2 / length(v1)))\n",
    "rms_vf1 = @sprintf(\"%.1f m/s\", sqrt(norm(v1 .- vf1)^2 / length(v1)))\n",
    "rms_vf2 = @sprintf(\"%.1f m/s\", sqrt(norm(v1 .- vf2)^2 / length(v1)))\n",
    "\n",
    "figure(figsize=(8,10)); clf()\n",
    "\n",
    "subplot(2,2,1);imshow(v1 .- v2,aspect=\"auto\",cmap=\"seismic\");\n",
    "colorbar(orientation=\"horizontal\");clim(dmin,dmax);\n",
    "title(\"True difference, rms=$(rms_v2)\");\n",
    "\n",
    "subplot(2,2,3);imshow(v1 .- vf1,aspect=\"auto\",cmap=\"seismic\");\n",
    "colorbar(orientation=\"horizontal\");clim(dmin,dmax);\n",
    "title(\"FWI Standard Diff, rms=$(rms_vf1)\");\n",
    "\n",
    "subplot(2,2,4);imshow(v1 .- vf2,aspect=\"auto\",cmap=\"seismic\");\n",
    "colorbar(orientation=\"horizontal\");clim(dmin,dmax);\n",
    "title(\"FWI Wavefield Separation Diff, rms=$(rms_vf2)\");\n",
    "\n",
    "tight_layout()"
   ]
  },
  {
   "cell_type": "markdown",
   "metadata": {},
   "source": [
    "#### Display the cost function "
   ]
  },
  {
   "cell_type": "code",
   "execution_count": null,
   "metadata": {},
   "outputs": [],
   "source": [
    "figure(figsize=(8,4)); clf()\n",
    "iters1 = [0:length(ϕ1)-1;]\n",
    "iters2 = [0:length(ϕ2)-1;]\n",
    "plot(iters1, ϕ1 ./ ϕ1[1], marker=\"o\", label=\"FWI Standard\")\n",
    "plot(iters2, ϕ2 ./ ϕ2[1], marker=\"s\", label=\"FWI Wavefield Separation\")\n",
    "legend()\n",
    "xlabel(\"Nonlinear Iteration\")\n",
    "ylabel(\"Normalized cost ||f(v) - d||\")\n",
    "title(\"FWI Objective Function vs. nonlinear iteration\");\n",
    "tight_layout()\n",
    "\n",
    "@show ϕ1[end] / ϕ1[1]\n",
    "@show ϕ2[end] / ϕ2[1]\n",
    "\n",
    "@show length(iters1)"
   ]
  },
  {
   "cell_type": "markdown",
   "metadata": {},
   "source": [
    "#### Display data misfit vs model misfit"
   ]
  },
  {
   "cell_type": "code",
   "execution_count": null,
   "metadata": {},
   "outputs": [],
   "source": [
    "figure(figsize=(8,4)); clf()\n",
    "\n",
    "c1 = [norm(m1[i] .- v1) for i in 1:length(m1)]\n",
    "c2 = [norm(m2[i] .- v1) for i in 1:length(m2)]\n",
    "\n",
    "loglog(c1, ϕ1, label=\"FWI Standard\", marker=\"o\", linewidth=1)\n",
    "loglog(c2, ϕ2, label=\"FWI Wavefield Separation\", marker=\"s\", linewidth=1)\n",
    "legend()\n",
    "xlabel(\"Log Model residual\")\n",
    "ylabel(\"Log Data residual\")\n",
    "title(\"Misfit Trajectory\");\n",
    "tight_layout()"
   ]
  },
  {
   "cell_type": "markdown",
   "metadata": {},
   "source": [
    "## 11. Visualize data match\n",
    "#### Generate data in the FWI velocity models"
   ]
  },
  {
   "cell_type": "code",
   "execution_count": null,
   "metadata": {},
   "outputs": [],
   "source": [
    "tf1 = @elapsed begin\n",
    "    df1 = F1*vf1;\n",
    "end\n",
    "@show tf1;\n",
    "\n",
    "tf2 = @elapsed begin\n",
    "    df2 = F1*vf2;\n",
    "end\n",
    "@show tf2;"
   ]
  },
  {
   "cell_type": "markdown",
   "metadata": {},
   "source": [
    "#### Compute residuals and collect gathers for display"
   ]
  },
  {
   "cell_type": "code",
   "execution_count": null,
   "metadata": {},
   "outputs": [],
   "source": [
    "rf1 = d1 .- df1;\n",
    "rf2 = d1 .- df2;\n",
    "\n",
    "df1local = [getblock(df1,i) for i in shots];\n",
    "df2local = [getblock(df2,i) for i in shots];\n",
    "rf1local = [getblock(rf1,i) for i in shots];\n",
    "rf2local = [getblock(rf2,i) for i in shots];"
   ]
  },
  {
   "cell_type": "markdown",
   "metadata": {},
   "source": [
    "#### Plot shot gathers for true, initial model, and fwi models\n",
    "\n",
    "The table below describes the data images below. We include the initial data as shown above for easier comparison. \n",
    "\n",
    "<table style=\"border:1px solid black;\" width=\"60%\">\n",
    "<tr>\n",
    "  <td style=\"border:1px solid black; text-align:center;\" bgcolor=\"white\">\n",
    "      <b>True</b></td>\n",
    "  <td style=\"border:1px solid black; text-align:center;\" bgcolor=\"white\">\n",
    "      <b>Initial</b></td>\n",
    "  <td style=\"border:1px solid black; text-align:center;\" bgcolor=\"white\">\n",
    "      <b>Initial Residual</b></td>\n",
    "</tr>\n",
    "<tr>\n",
    "  <td style=\"border:1px solid black; text-align:center;\" bgcolor=\"white\">\n",
    "      <b>True</b></td>\n",
    "  <td style=\"border:1px solid black; text-align:center;\" bgcolor=\"white\">\n",
    "      <b>FWI Standard</b></td>\n",
    "  <td style=\"border:1px solid black; text-align:center;\" bgcolor=\"white\">\n",
    "      <b>FWI Standard Residual</b></td>\n",
    "</tr>\n",
    "<tr>\n",
    "  <td style=\"border:1px solid black; text-align:center;\" bgcolor=\"white\">\n",
    "      <b>True</b></td>\n",
    "  <td style=\"border:1px solid black; text-align:center;\" bgcolor=\"white\">\n",
    "      <b>FWI Wavefield Separation</b></td>\n",
    "  <td style=\"border:1px solid black; text-align:center;\" bgcolor=\"white\">\n",
    "      <b>FWI Wavefield Separation Residual</b></td>\n",
    "</tr>\n",
    "</table>\n",
    "\n",
    "We first make a function to create the plots that we can re-use for the selected shots."
   ]
  },
  {
   "cell_type": "code",
   "execution_count": null,
   "metadata": {},
   "outputs": [],
   "source": [
    "function make_plot(index)\n",
    "    figure(figsize=(8,9)); clf()\n",
    "    catii = hcat(d1local[index],  pad, d2local[index],  pad, r2local[index])\n",
    "    catf1 = hcat(df1local[index], pad, df1local[index], pad, rf1local[index])\n",
    "    catf2 = hcat(df2local[index], pad, df2local[index], pad, rf2local[index])\n",
    "\n",
    "    subplot(3,1,1);\n",
    "    imshow(catii,cmap=\"gray\",aspect=\"auto\",clim=[-1,+1]);\n",
    "    title(\"True sx=$(sx[index])   |   Initial sx=$(sx[index])   |   Initial Residual sx=$(sx[index])\");\n",
    "    \n",
    "    subplot(3,1,2);\n",
    "    imshow(catf1,cmap=\"gray\",aspect=\"auto\",clim=[-1,+1]);\n",
    "    title(\"True sx=$(sx[index])   |   FWI Standard sx=$(sx[index])   |   Initial Residual sx=$(sx[index])\");\n",
    "    \n",
    "    subplot(3,1,3);\n",
    "    imshow(catf2,cmap=\"gray\",aspect=\"auto\",clim=[-1,+1]);\n",
    "    title(\"True sx=$(sx[index])   |   FWI Wavefield Separation sx=$(sx[index])   |   Initial Residual sx=$(sx[index])\");\n",
    "    \n",
    "    tight_layout()\n",
    "end"
   ]
  },
  {
   "cell_type": "markdown",
   "metadata": {},
   "source": [
    "#### Data for the 1st shot, generated in the initial and FWI models"
   ]
  },
  {
   "cell_type": "code",
   "execution_count": null,
   "metadata": {},
   "outputs": [],
   "source": [
    "make_plot(1)"
   ]
  },
  {
   "cell_type": "markdown",
   "metadata": {},
   "source": [
    "#### Data for the 4th shot, generated in the initial and FWI models"
   ]
  },
  {
   "cell_type": "code",
   "execution_count": null,
   "metadata": {},
   "outputs": [],
   "source": [
    "make_plot(2)"
   ]
  },
  {
   "cell_type": "markdown",
   "metadata": {},
   "source": [
    "#### Data for the 8th shot, generated in the initial and FWI models"
   ]
  },
  {
   "cell_type": "code",
   "execution_count": null,
   "metadata": {},
   "outputs": [],
   "source": [
    "make_plot(3)"
   ]
  },
  {
   "cell_type": "markdown",
   "metadata": {},
   "source": [
    "## 12. Remove local files and workers"
   ]
  },
  {
   "cell_type": "code",
   "execution_count": null,
   "metadata": {},
   "outputs": [],
   "source": [
    "# close(F);\n",
    "# rmprocs(workers());"
   ]
  },
  {
   "cell_type": "markdown",
   "metadata": {},
   "source": [
    "## Record time at end of notebook\n",
    "Report total elapsed time to run the notebook"
   ]
  },
  {
   "cell_type": "code",
   "execution_count": null,
   "metadata": {},
   "outputs": [],
   "source": [
    "time_end = time()\n",
    "@sprintf(\"Time to run notebook; %.2f minutes\\n\", (time_end - time_beg) / 60)"
   ]
  },
  {
   "cell_type": "code",
   "execution_count": null,
   "metadata": {},
   "outputs": [],
   "source": []
  }
 ],
 "metadata": {
  "kernelspec": {
   "display_name": "Julia 1.5.1",
   "language": "julia",
   "name": "julia-1.5"
  },
  "language_info": {
   "file_extension": ".jl",
   "mimetype": "application/julia",
   "name": "julia",
   "version": "1.5.1"
  }
 },
 "nbformat": 4,
 "nbformat_minor": 4
}
