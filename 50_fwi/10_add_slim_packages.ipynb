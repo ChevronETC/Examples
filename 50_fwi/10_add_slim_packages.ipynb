{
 "cells": [
  {
   "cell_type": "code",
   "execution_count": null,
   "metadata": {},
   "outputs": [],
   "source": []
  },
  {
   "cell_type": "markdown",
   "metadata": {},
   "source": [
    "## Constrained optimization\n",
    "For these constrained optimization examples the COFII framework nonlinear operators interoperate with optimization software provided by the SLIM group led by Felix Herrmann (previously at University of British Columbia and now at Georgia Tech). \n",
    "\n",
    "We employ the following three packages:\n",
    "- [SlimOptim](https://github.com/slimgroup/SlimOptim.jl) -- Package of optimization functions for large scale inversion\n",
    "\n",
    "- [JOLI](https://github.com/slimgroup/JOLI.jl) -- Julia framework for constructing matrix-free linear operators \n",
    "\n",
    "- [SetIntersectionProjection](https://github.com/slimgroup/SetIntersectionProjection.jl) -- Julia software for computing projections onto intersections of convex and non-convex constraint sets Documentation\n",
    "\n",
    "We did not install these in the setup notebook earlier, so install them now in the cell below.\n",
    "\n",
    "See also SLIM group examples at [ConstrainedFWIExamples](https://github.com/slimgroup/ConstrainedFWIExamples)."
   ]
  },
  {
   "cell_type": "code",
   "execution_count": null,
   "metadata": {},
   "outputs": [],
   "source": [
    "using Pkg\n",
    "Pkg.Registry.add(RegistrySpec(url=\"https://github.com/slimgroup/SLIMregistryJL.git\"))\n",
    "pkg\"add JOLI, SlimOptim, SetIntersectionProjection\""
   ]
  }
 ],
 "metadata": {
  "kernelspec": {
   "display_name": "Julia 1.6.1",
   "language": "julia",
   "name": "julia-1.6"
  },
  "language_info": {
   "file_extension": ".jl",
   "mimetype": "application/julia",
   "name": "julia",
   "version": "1.6.1"
  }
 },
 "nbformat": 4,
 "nbformat_minor": 4
}
