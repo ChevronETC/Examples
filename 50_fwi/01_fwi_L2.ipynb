{
 "cells": [
  {
   "cell_type": "markdown",
   "metadata": {},
   "source": [
    "# L2 FWI Example\n",
    "We will solve this problem using the following steps:\n",
    "1. Prepare models\n",
    "    * Read the true model from binary file\n",
    "    * Generate our subsampled true and starting models \n",
    "2. Build up a small local compute cluster and load required packages \n",
    "3. Build F, the nonlinear distributed block operator for seismic modeling\n",
    "4. Use F and the true model to create a synthetic data-set\n",
    "5. Build the gradient and cost functions\n",
    "6. Perform the FWI using optim.jl"
   ]
  },
  {
   "cell_type": "markdown",
   "metadata": {},
   "source": [
    "## Add required packages\n",
    "Uncomment the line below if you need to add these packages to your environment"
   ]
  },
  {
   "cell_type": "code",
   "execution_count": null,
   "metadata": {},
   "outputs": [],
   "source": [
    "# ]add Optim LineSearches"
   ]
  },
  {
   "cell_type": "code",
   "execution_count": null,
   "metadata": {},
   "outputs": [],
   "source": [
    "using PyPlot, Distributed, Jets, JetPack, JetPackDSP, Printf"
   ]
  },
  {
   "cell_type": "markdown",
   "metadata": {},
   "source": [
    "## 1. Prepare models"
   ]
  },
  {
   "cell_type": "markdown",
   "metadata": {},
   "source": [
    "#### Read true model from binary file"
   ]
  },
  {
   "cell_type": "code",
   "execution_count": null,
   "metadata": {
    "tags": []
   },
   "outputs": [],
   "source": [
    "v = read!(\"../20_marmousi_model_setup/marmousi_vp_20m_176x851.bin\", Array{Float32}(undef, 176,851));"
   ]
  },
  {
   "cell_type": "markdown",
   "metadata": {},
   "source": [
    "#### Subsample models\n",
    "We will resample from the 20m grid to a 40m grid"
   ]
  },
  {
   "cell_type": "code",
   "execution_count": null,
   "metadata": {},
   "outputs": [],
   "source": [
    "v = v[1:2:end,1:2:end]\n",
    "\n",
    "dz,dx = 40.0,40.0\n",
    "nz,nx = size(v)\n",
    "@show dz,dx\n",
    "@show nz,nx;"
   ]
  },
  {
   "cell_type": "markdown",
   "metadata": {},
   "source": [
    "#### Smooth the true model to generate true and starting models\n",
    "Note that we will perform this example at low frequency, and so we smooth both the true and the starting models before we begin. \n",
    "\n",
    "Please refer to the smoothing notebook in the `20_marmousi_model_setup` example directory for more details on our smoothing approach. Note that we apply the smoothing in slowness to preserve traveltime."
   ]
  },
  {
   "cell_type": "code",
   "execution_count": null,
   "metadata": {},
   "outputs": [],
   "source": [
    "# smoothing for the true model\n",
    "ns1 = 1\n",
    "P1 = JopPad(JetSpace(Float32,nz,nx), -ns1:nz+ns1, -ns1:nx+ns1, extend=true)\n",
    "S1 = JopConvolve(range(P1), smoother=:rect, n=(ns1,ns1))\n",
    "R1 = JopPad(JetSpace(Float32,nz,nx), -ns1:nz+ns1, -ns1:nx+ns1, extend=false)\n",
    "s1 = R1' ∘ S1 ∘ P1 * (1 ./ v)\n",
    "v1 = 1 ./(s1);\n",
    "\n",
    "# smoothing for the starting model\n",
    "ns2 = 5\n",
    "P2 = JopPad(JetSpace(Float32,nz,nx), -ns2:nz+ns2, -ns2:nx+ns2, extend=true)\n",
    "S2 = JopConvolve(range(P2), smoother=:rect, n=(ns2,ns2))\n",
    "R2 = JopPad(JetSpace(Float32,nz,nx), -ns2:nz+ns2, -ns2:nx+ns2, extend=false)\n",
    "s2 = R2' ∘ S2 ∘ P2 * (1 ./ v)\n",
    "v2 = 1 ./(s2);"
   ]
  },
  {
   "cell_type": "markdown",
   "metadata": {},
   "source": [
    "#### Replace the water layer in both models"
   ]
  },
  {
   "cell_type": "code",
   "execution_count": null,
   "metadata": {},
   "outputs": [],
   "source": [
    "v1[v.==1500.0] .= 1500.0;\n",
    "v2[v.==1500.0] .= 1500.0;"
   ]
  },
  {
   "cell_type": "markdown",
   "metadata": {},
   "source": [
    "#### Visualize"
   ]
  },
  {
   "cell_type": "code",
   "execution_count": null,
   "metadata": {},
   "outputs": [],
   "source": [
    "figure(figsize=(8,12))\n",
    "vmin,vmax = extrema(v1)\n",
    "dmin,dmax = -1000,1000\n",
    "subplot(3,1,1); imshow(v1,aspect=\"auto\",cmap=\"jet\"); \n",
    "colorbar(); clim(vmin,vmax); title(\"True velocity (v1)\")\n",
    "subplot(3,1,2); imshow(v2,aspect=\"auto\",cmap=\"jet\");\n",
    "colorbar(); clim(vmin,vmax); title(\"Starting velocity (v2)\");\n",
    "subplot(3,1,3); imshow(v1.-v2,aspect=\"auto\",cmap=\"seismic\");\n",
    "colorbar(); clim(dmin,dmax); title(\"Difference (v1-v2)\");"
   ]
  },
  {
   "cell_type": "markdown",
   "metadata": {},
   "source": [
    "## 2. Build up a small local compute cluster and load required packages "
   ]
  },
  {
   "cell_type": "markdown",
   "metadata": {},
   "source": [
    "#### Setup OMP environment variables for the cluster\n",
    "Note we need to do this because we are using multiple workers on the same physical node, and without setting up thread affinity the modeling will be *incredibly* slow."
   ]
  },
  {
   "cell_type": "code",
   "execution_count": null,
   "metadata": {},
   "outputs": [],
   "source": [
    "nthread = Sys.CPU_THREADS\n",
    "ENV[\"OMP_DISPLAY_ENV\"] = \"true\"\n",
    "ENV[\"OMP_PROC_BIND\"] = \"close\"\n",
    "ENV[\"OMP_NUM_THREADS\"] = \"$(div(nthread,2))\" \n",
    "addprocs(2)\n",
    "@show workers()\n",
    "for k in 1:nworkers()\n",
    "    place1 = (k - 1) * div(nthread,nworkers())\n",
    "    place2 = (k + 0) * div(nthread,nworkers()) - 1\n",
    "    @show place1, place2, nthread\n",
    "    @spawnat workers()[k] ENV[\"GOMP_CPU_AFFINITY\"] = \"$(place1)-$(place2)\";\n",
    "end\n",
    "\n",
    "# ENV[\"OMP_DYNAMIC\"] = \"true\"\n",
    "# ENV[\"OMP_STACKSIZE\"] = \"64M\"\n",
    "# ENV[\"OMP_WAIT_POLICY\"] = \"active\"\n",
    "# ENV[\"OMP_DISPLAY_AFFINITY\"] = \"true\"\n",
    "# ENV[\"GOMP_CPU_AFFINITY\"] = \"0-$(nthread)\""
   ]
  },
  {
   "cell_type": "code",
   "execution_count": null,
   "metadata": {
    "tags": []
   },
   "outputs": [],
   "source": [
    "@everywhere using Distributed, DistributedArrays, DistributedJets, Jets, JetPack, WaveFD, JetPackWaveFD, LinearAlgebra, LineSearches, Optim, Random"
   ]
  },
  {
   "cell_type": "markdown",
   "metadata": {},
   "source": [
    "## 3. Build F, the forward modeling operator\n",
    "\n",
    "16 shot locations"
   ]
  },
  {
   "cell_type": "code",
   "execution_count": null,
   "metadata": {
    "tags": []
   },
   "outputs": [],
   "source": [
    "nshots = 12\n",
    "sx = round.(Int,collect(range(0,stop=(nx-1)*dx,length=nshots)))\n",
    "@show nshots;\n",
    "@show sx;"
   ]
  },
  {
   "cell_type": "markdown",
   "metadata": {},
   "source": [
    "#### Note on scratch space for temporary files\n",
    "When dealing with serialized nonlinear wavefields as in this example, we need to specify the location where scratch files will be written.\n",
    "\n",
    "You may need to change this to point to a temporary directory available on your system."
   ]
  },
  {
   "cell_type": "code",
   "execution_count": null,
   "metadata": {},
   "outputs": [],
   "source": [
    "@everywhere scratch = \"/mnt/scratch\"\n",
    "@assert isdir(scratch)"
   ]
  },
  {
   "cell_type": "code",
   "execution_count": null,
   "metadata": {},
   "outputs": [],
   "source": [
    "@everywhere begin\n",
    "    ntrec = 2501\n",
    "    dtrec = 0.004\n",
    "    dtmod = 0.002\n",
    "end\n",
    "\n",
    "@everywhere function makeF(i,nz,nx,dz,dx,sx)\n",
    "    JopNlProp2DAcoIsoDenQ_DEO2_FDTD(;\n",
    "        b = ones(Float32,nz,nx),\n",
    "        nthreads = div(Sys.CPU_THREADS,2),\n",
    "        ntrec = ntrec,\n",
    "        dtrec = dtrec,\n",
    "        dtmod = dtmod,\n",
    "        dz = dz,\n",
    "        dx = dx,\n",
    "        wavelet = WaveletCausalRicker(f=4.0),\n",
    "        sx = sx[i],\n",
    "        sz = dz,\n",
    "        rx = dx*[0:1:nx-1;],\n",
    "        rz = 2*dz*ones(length(0:1:nx-1)),\n",
    "        nbz_cache = nz,\n",
    "        nbx_cache = nx,\n",
    "        comptype = UInt32,\n",
    "        srcfieldfile = joinpath(scratch, \"field-$i-$(randstring()).bin\"),\n",
    "        reportinterval=0)\n",
    "end"
   ]
  },
  {
   "cell_type": "code",
   "execution_count": null,
   "metadata": {},
   "outputs": [],
   "source": [
    "F = @blockop DArray(I->[makeF(i,nz,nx,dz,dx,sx) for i in I[1], j in I[2]], (nshots,1))"
   ]
  },
  {
   "cell_type": "markdown",
   "metadata": {},
   "source": [
    "## 4. Use F to create a data for both models"
   ]
  },
  {
   "cell_type": "code",
   "execution_count": null,
   "metadata": {
    "scrolled": true,
    "tags": []
   },
   "outputs": [],
   "source": [
    "# This may take a while if running on a single node\n",
    "t1 = @elapsed begin\n",
    "    d1 = F*v1;\n",
    "end\n",
    "@show t1;\n",
    "t2 = @elapsed begin\n",
    "    d2 = F*v2;\n",
    "end\n",
    "@show t2;"
   ]
  },
  {
   "cell_type": "markdown",
   "metadata": {},
   "source": [
    "#### Compute the residual data"
   ]
  },
  {
   "cell_type": "code",
   "execution_count": null,
   "metadata": {},
   "outputs": [],
   "source": [
    "r = d1 .- d2;"
   ]
  },
  {
   "cell_type": "markdown",
   "metadata": {},
   "source": [
    "#### Collect the data locally before plotting"
   ]
  },
  {
   "cell_type": "code",
   "execution_count": null,
   "metadata": {},
   "outputs": [],
   "source": [
    "shots = [1:2:div(nshots,2);]\n",
    "@show shots\n",
    "d1local = [getblock(d1,i) for i in shots]\n",
    "d2local = [getblock(d2,i) for i in shots]\n",
    "rlocal = [getblock(r,i) for i in shots]\n",
    "sxlocal = [sx[i] for i in shots]\n",
    "@show sxlocal;"
   ]
  },
  {
   "cell_type": "markdown",
   "metadata": {},
   "source": [
    "#### Plot shot gathers for true model, starting model, and residual\n",
    "We flip the direction of the modeled data in order to help display the match at far offsets."
   ]
  },
  {
   "cell_type": "code",
   "execution_count": null,
   "metadata": {},
   "outputs": [],
   "source": [
    "scale = 10.0 / sqrt(norm(d1)^2 / length(d1))\n",
    "shots = [1:2:div(nshots,2);]\n",
    "@show scale\n",
    "@show shots\n",
    "\n",
    "figure(figsize=(16,24)); clf()\n",
    "for (iplot,ishot) in enumerate(shots)\n",
    "    subplot(3,3,(iplot-1)*3+1);\n",
    "    imshow(d1local[iplot],cmap=\"gray\",aspect=\"auto\",clim=[-1,+1]);\n",
    "    title(\"True Model $(ishot) at x=$(sx[ishot])\");\n",
    "    subplot(3,3,(iplot-1)*3+2);\n",
    "    imshow(reverse(d2local[iplot],dims=2),cmap=\"gray\",aspect=\"auto\",clim=[-1,+1]);\n",
    "    title(\"Starting Model $(ishot) at x=$(sx[ishot])\");\n",
    "    subplot(3,3,(iplot-1)*3+3);\n",
    "    imshow(10 .* rlocal[iplot],cmap=\"gray\",aspect=\"auto\",clim=[-1,+1]);\n",
    "    title(\"Residual $(ishot) at x=$(sx[ishot]) x10\");\n",
    "end\n",
    "tight_layout()"
   ]
  },
  {
   "cell_type": "markdown",
   "metadata": {},
   "source": [
    "#### Asses if data is cycle skipped at the farthest offsets\n",
    "Next we plot the far offset traces for these shots to determine if the data is cycle skipped. \n",
    "\n",
    "You can see in the plots below that the refraction waveforms (first arrivals) in the starting model are not cycle skipped, so we proceed. \n",
    "\n",
    "Note that a very significant part of the residual wavefield is actually reflections in this example."
   ]
  },
  {
   "cell_type": "code",
   "execution_count": null,
   "metadata": {},
   "outputs": [],
   "source": [
    "scale = 10.0 / sqrt(norm(d1)^2 / length(d1))\n",
    "t = [0.0:dtrec:dtrec*(ntrec - 1);]\n",
    "\n",
    "figure(figsize=(12,8)); clf()\n",
    "for (iplot,ishot) in enumerate(shots)\n",
    "    subplot(3,1,iplot);\n",
    "    plot(t,d1local[iplot][:,end],label=\"True Model $(ishot) at x=$(sx[ishot])\");\n",
    "    plot(t,d2local[iplot][:,end],label=\"Starting Model $(ishot) at x=$(sx[ishot])\");\n",
    "    xlim([4.5,t[end]])\n",
    "    legend()\n",
    "end\n",
    "tight_layout()"
   ]
  },
  {
   "cell_type": "markdown",
   "metadata": {},
   "source": [
    "## 5. Build the gradient and cost functions"
   ]
  },
  {
   "cell_type": "markdown",
   "metadata": {},
   "source": [
    "#### Build water bottom mask for gradient\n",
    "We use this mask to remove imprint in gradient very close to the source locations. The mask is set to 0 wherever the true velocity model has value 1500 m/s, and is set to 1 otherwise. "
   ]
  },
  {
   "cell_type": "code",
   "execution_count": null,
   "metadata": {},
   "outputs": [],
   "source": [
    "wb_mask = ones(Float32,size(v))\n",
    "wb_mask[v.==1500.0] .= 0;\n",
    "figure(figsize=(6,3))\n",
    "imshow(wb_mask,aspect=\"auto\",cmap=\"gray_r\",clim=[0,+2]);\n",
    "colorbar();\n",
    "title(\"Water Bottom Mask\");"
   ]
  },
  {
   "cell_type": "markdown",
   "metadata": {},
   "source": [
    "#### Gradient function\n",
    "This method is called by the solver whenever the gradient is required. Steps in computing the gradient are as follows:\n",
    "1. Compute the source side illumination\n",
    "1. Establish the illumination compensation preconditioner as `1/illum^2`\n",
    "1. Apply the adjoint of the Jacobian to the current residual `d - F*v` \n",
    "1. Apply very simple scaling based on the size of the first gradient and save to apply to future gradients"
   ]
  },
  {
   "cell_type": "code",
   "execution_count": null,
   "metadata": {},
   "outputs": [],
   "source": [
    "function gradient!(G,F,v,dobs,p,wb_mask)\n",
    "    J = jacobian(F,v)\n",
    "    s = srcillum(J)\n",
    "    s .= ((s ./ maximum(s)).^2) .+ 1e-8\n",
    "    R = JopDiagonal((1 ./ s).^2)\n",
    "    t = @elapsed begin\n",
    "        dv = F*v\n",
    "        G .= R' ∘ J' * (dv .- dobs)\n",
    "    end\n",
    "    phi = norm(dvϕdobs)\n",
    "    p.count += 1\n",
    "    @info @sprintf(\"%3d g time,g rms,cost; %10.4e %10.4e %10.4e\\n\", \n",
    "        p.count, t, sqrt(norm(G)^2 / length(G)), phi)\n",
    "    G .*= wb_mask #mute water column\n",
    "    if p.gscale == 0.0\n",
    "        # compute scalar from first gradient, apply to future gradients\n",
    "        p.gscale = 10 ./ maximum(G) \n",
    "    end\n",
    "    G .*= p.gscale\n",
    "end\n",
    "# struct to save the first gradient scalar\n",
    "mutable struct FwiPar\n",
    "   count::Int64\n",
    "   gscale::Float64\n",
    "end\n",
    "p = FwiPar(0,0.0)\n",
    "g!(G,x) = gradient!(G,F,x,d1,p,wb_mask)"
   ]
  },
  {
   "cell_type": "markdown",
   "metadata": {},
   "source": [
    "#### Compute the initial gradient and display"
   ]
  },
  {
   "cell_type": "code",
   "execution_count": null,
   "metadata": {
    "scrolled": true,
    "tags": []
   },
   "outputs": [],
   "source": [
    "grad = zeros(Float32,size(v1))\n",
    "tgrad = @elapsed begin\n",
    "    g!(grad,v2)\n",
    "end\n",
    "@show tgrad;"
   ]
  },
  {
   "cell_type": "code",
   "execution_count": null,
   "metadata": {},
   "outputs": [],
   "source": [
    "figure(figsize=(12,6))\n",
    "dv = v1 .- v2\n",
    "subplot(1,2,1)\n",
    "imshow(-1 .* grad ./ maximum(abs,grad),aspect=\"auto\",cmap=\"seismic\");\n",
    "colorbar(orientation=\"horizontal\");clim(-1,1);title(\"-1 * Gradient\");\n",
    "subplot(1,2,2)\n",
    "imshow(dv ./ maximum(abs,dv),aspect=\"auto\",cmap=\"seismic\");\n",
    "colorbar(orientation=\"horizontal\");clim(-1,1);title(\"Velocity Difference: (v - vₒ)\");"
   ]
  },
  {
   "cell_type": "code",
   "execution_count": null,
   "metadata": {},
   "outputs": [],
   "source": [
    "function cost(x,F,d1)\n",
    "    dx = F*x\n",
    "    phi = norm(d1 .- dx)\n",
    "    return phi\n",
    "end\n",
    "f(x) = cost(x,F,d1)"
   ]
  },
  {
   "cell_type": "code",
   "execution_count": null,
   "metadata": {
    "scrolled": true,
    "tags": []
   },
   "outputs": [],
   "source": [
    "@info \"initial cost; $(f(v2))\";"
   ]
  },
  {
   "cell_type": "markdown",
   "metadata": {},
   "source": [
    "## 6. Do the FWI using optim.jl\n",
    "We do 10 iterations of limited memory BFGS"
   ]
  },
  {
   "cell_type": "code",
   "execution_count": null,
   "metadata": {},
   "outputs": [],
   "source": [
    "niter = 25\n",
    "solver = LBFGS(m = niter, \n",
    "    alphaguess = LineSearches.InitialQuadratic(), \n",
    "    linesearch = LineSearches.MoreThuente());"
   ]
  },
  {
   "cell_type": "code",
   "execution_count": null,
   "metadata": {},
   "outputs": [],
   "source": [
    "function mycallback(state::OptimizationState)\n",
    "    @info \"iter=$(state.iteration), cost=$(state.value), |grad|=$(state.g_norm)\"\n",
    "    false\n",
    "end\n",
    "mycallback(trace::OptimizationTrace) = mycallback(trace[end]);"
   ]
  },
  {
   "cell_type": "code",
   "execution_count": null,
   "metadata": {
    "scrolled": true,
    "tags": []
   },
   "outputs": [],
   "source": [
    "p = FwiPar(0,0.0)\n",
    "redirect_stdout(open(\"/dev/null\",\"w\")) # otherwise the models are printed to stdout at every iteration\n",
    "\n",
    "topt = @elapsed begin\n",
    "    result = optimize(f, g!, v2, solver,\n",
    "        Optim.Options(\n",
    "            iterations = niter,\n",
    "            show_trace = true,\n",
    "            store_trace = true,\n",
    "            show_every = 1,\n",
    "            extended_trace = true,\n",
    "            allow_f_increases = false,\n",
    "            callback = mycallback))\n",
    "end"
   ]
  },
  {
   "cell_type": "code",
   "execution_count": null,
   "metadata": {},
   "outputs": [],
   "source": [
    "@sprintf(\"Time for optimization; %.2f minutes\\n\", topt / 60)"
   ]
  },
  {
   "cell_type": "code",
   "execution_count": null,
   "metadata": {},
   "outputs": [],
   "source": [
    "vfwi = Optim.minimizer(result) # optimal solution\n",
    "ϕ = Optim.f_trace(result)      # cost vs iteration\n",
    "m = Optim.x_trace(result);     # model vs iteration"
   ]
  },
  {
   "cell_type": "markdown",
   "metadata": {},
   "source": [
    "## Display the velocity models "
   ]
  },
  {
   "cell_type": "code",
   "execution_count": null,
   "metadata": {},
   "outputs": [],
   "source": [
    "figure(figsize=(9,12)); clf()\n",
    "\n",
    "subplot(3,1,1);imshow(v1,aspect=\"auto\",cmap=\"jet\");\n",
    "colorbar(orientation=\"vertical\");clim(vmin,vmax);title(\"True velocity\")\n",
    "\n",
    "subplot(3,1,2);imshow(v2,aspect=\"auto\",cmap=\"jet\");\n",
    "colorbar(orientation=\"vertical\");clim(vmin,vmax);title(\"Starting velocity\");\n",
    "\n",
    "subplot(3,1,3);imshow(vfwi,aspect=\"auto\",cmap=\"jet\");\n",
    "colorbar(orientation=\"vertical\");clim(vmin,vmax);title(\"FWI velocity\");"
   ]
  },
  {
   "cell_type": "markdown",
   "metadata": {},
   "source": [
    "## Display the velocity difference models "
   ]
  },
  {
   "cell_type": "code",
   "execution_count": null,
   "metadata": {},
   "outputs": [],
   "source": [
    "rms_v2   = @sprintf(\"%.1f m/s\", sqrt(norm(v1 .- v2)^2 / length(v1)))\n",
    "rms_vfwi = @sprintf(\"%.1f m/s\", sqrt(norm(v1 .- vfwi)^2 / length(v1)))\n",
    "\n",
    "figure(figsize=(9,8)); clf()\n",
    "\n",
    "subplot(2,1,1);imshow(v1 .- v2,aspect=\"auto\",cmap=\"seismic\");\n",
    "colorbar(orientation=\"vertical\");clim(dmin,dmax);\n",
    "title(\"Vtrue - Vstart difference, rms=$(rms_v2)\");\n",
    "\n",
    "subplot(2,1,2);imshow(v1 .- vfwi,aspect=\"auto\",cmap=\"seismic\");\n",
    "colorbar(orientation=\"vertical\");clim(dmin,dmax);\n",
    "title(\"Vtrue - Vfwi difference, rms=$(rms_vfwi)\");\n"
   ]
  },
  {
   "cell_type": "markdown",
   "metadata": {},
   "source": [
    "## Display the cost function "
   ]
  },
  {
   "cell_type": "code",
   "execution_count": null,
   "metadata": {},
   "outputs": [],
   "source": [
    "plot(ϕ ./ ϕ[1])\n",
    "xlabel(\"Nonlinear Iteration\")\n",
    "ylabel(\"Normalized cost\")\n",
    "title(\"FWI Objective Function ||f(v) - d||\");"
   ]
  },
  {
   "cell_type": "markdown",
   "metadata": {},
   "source": [
    "## Clean up the local disk and remove the workers"
   ]
  },
  {
   "cell_type": "code",
   "execution_count": null,
   "metadata": {},
   "outputs": [],
   "source": [
    "close(F)\n",
    "# rmprocs(workers());"
   ]
  }
 ],
 "metadata": {
  "kernelspec": {
   "display_name": "Julia 1.5.1",
   "language": "julia",
   "name": "julia-1.5"
  },
  "language_info": {
   "file_extension": ".jl",
   "mimetype": "application/julia",
   "name": "julia",
   "version": "1.5.1"
  }
 },
 "nbformat": 4,
 "nbformat_minor": 4
}
