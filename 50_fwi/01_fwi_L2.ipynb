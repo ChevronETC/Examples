{
 "cells": [
  {
   "cell_type": "markdown",
   "metadata": {},
   "source": [
    "# FWI Example\n",
    "We will peform FWI using the following steps:\n",
    "1. Prepare models\n",
    "    * Read the true model from binary file\n",
    "    * Generate our subsampled true and initial models \n",
    "2. Build a small local compute cluster (2 workers) \n",
    "3. Create list of shot locations \n",
    "4. Build F, the distributed block operator for seismic modeling\n",
    "5. Use F to create data for both models\n",
    "6. Visualize data\n",
    "7. Assess if data is cycle skipped at the farthest offsets\n",
    "8. Build the gradient and cost functions\n",
    "9. Perform the FWI using optim.jl\n",
    "10. Visualize velocity models and objection function\n",
    "11. Visualize data match \n",
    "12. Write models to local disk\n",
    "13. Remove local files and workers\n",
    "\n",
    "#### Note on runtime\n",
    "This notebook takes more than 1 hour to run for 12 shots with two workers on an Intel 8168.\n",
    "\n",
    "`lscpu` CPU information: `Intel(R) Xeon(R) Platinum 8168 CPU @ 2.70GHz`"
   ]
  },
  {
   "cell_type": "markdown",
   "metadata": {},
   "source": [
    "## Add required packages\n",
    "Uncomment the line below if you need to add these packages to your environment"
   ]
  },
  {
   "cell_type": "code",
   "execution_count": null,
   "metadata": {},
   "outputs": [],
   "source": [
    "# ]add Optim LineSearches"
   ]
  },
  {
   "cell_type": "markdown",
   "metadata": {},
   "source": [
    "## Record time for start of notebook"
   ]
  },
  {
   "cell_type": "code",
   "execution_count": null,
   "metadata": {},
   "outputs": [],
   "source": [
    "time_beg = time()"
   ]
  },
  {
   "cell_type": "code",
   "execution_count": null,
   "metadata": {},
   "outputs": [],
   "source": [
    "using PyPlot, Distributed, Jets, JetPack, JetPackDSP, Printf"
   ]
  },
  {
   "cell_type": "markdown",
   "metadata": {},
   "source": [
    "## 1. Prepare models"
   ]
  },
  {
   "cell_type": "markdown",
   "metadata": {},
   "source": [
    "#### Read true model from binary file"
   ]
  },
  {
   "cell_type": "code",
   "execution_count": null,
   "metadata": {
    "tags": []
   },
   "outputs": [],
   "source": [
    "v = read!(\"../20_marmousi_model_setup/marmousi_vp_20m_176x851.bin\", Array{Float32}(undef, 176,851));"
   ]
  },
  {
   "cell_type": "markdown",
   "metadata": {},
   "source": [
    "#### Subsample models\n",
    "We will resample from the 20m grid to a 40m grid so the modeling runs faster."
   ]
  },
  {
   "cell_type": "code",
   "execution_count": null,
   "metadata": {},
   "outputs": [],
   "source": [
    "v = v[1:2:end,1:2:end]\n",
    "\n",
    "dz,dx = 40.0,40.0\n",
    "nz,nx = size(v)\n",
    "@show dz,dx\n",
    "@show nz,nx;"
   ]
  },
  {
   "cell_type": "markdown",
   "metadata": {},
   "source": [
    "#### Smooth the true model to generate true and initial models\n",
    "Note that we will perform this FWI example at low frequency, and so we smooth both the true and the initial models before we begin. \n",
    "\n",
    "Please refer to the smoothing notebook in the `20_marmousi_model_setup` example directory for more details on our smoothing approach. Note that we apply the smoothing in slowness to preserve traveltime."
   ]
  },
  {
   "cell_type": "code",
   "execution_count": null,
   "metadata": {},
   "outputs": [],
   "source": [
    "# smoothing for the true model\n",
    "ns1 = 1\n",
    "P1 = JopPad(JetSpace(Float32,nz,nx), -ns1:nz+ns1, -ns1:nx+ns1, extend=true)\n",
    "S1 = JopConvolve(range(P1), smoother=:rect, n=(ns1,ns1))\n",
    "R1 = JopPad(JetSpace(Float32,nz,nx), -ns1:nz+ns1, -ns1:nx+ns1, extend=false)\n",
    "s1 = R1' ∘ S1 ∘ P1 * (1 ./ v)\n",
    "v1 = 1 ./(s1);\n",
    "\n",
    "# smoothing for the initial model\n",
    "ns2 = 5\n",
    "P2 = JopPad(JetSpace(Float32,nz,nx), -ns2:nz+ns2, -ns2:nx+ns2, extend=true)\n",
    "S2 = JopConvolve(range(P2), smoother=:rect, n=(ns2,ns2))\n",
    "R2 = JopPad(JetSpace(Float32,nz,nx), -ns2:nz+ns2, -ns2:nx+ns2, extend=false)\n",
    "s2 = R2' ∘ S2 ∘ P2 * (1 ./ v)\n",
    "v2 = 1 ./(s2);"
   ]
  },
  {
   "cell_type": "markdown",
   "metadata": {},
   "source": [
    "#### Replace the water layer in both models"
   ]
  },
  {
   "cell_type": "code",
   "execution_count": null,
   "metadata": {},
   "outputs": [],
   "source": [
    "v1[v.==1500.0] .= 1500.0;\n",
    "v2[v.==1500.0] .= 1500.0;"
   ]
  },
  {
   "cell_type": "markdown",
   "metadata": {},
   "source": [
    "#### Visualize"
   ]
  },
  {
   "cell_type": "code",
   "execution_count": null,
   "metadata": {},
   "outputs": [],
   "source": [
    "figure(figsize=(8,12))\n",
    "vmin,vmax = extrema(v1)\n",
    "dmin,dmax = -1000,1000\n",
    "\n",
    "subplot(3,1,1); imshow(v1,aspect=\"auto\",cmap=\"jet\"); \n",
    "colorbar(); clim(vmin,vmax); title(\"True Velocity (v1)\")\n",
    "\n",
    "subplot(3,1,2); imshow(v2,aspect=\"auto\",cmap=\"jet\");\n",
    "colorbar(); clim(vmin,vmax); title(\"Initial Velocity (v2)\");\n",
    "\n",
    "subplot(3,1,3); imshow(v1.-v2,aspect=\"auto\",cmap=\"seismic\");\n",
    "colorbar(); clim(dmin,dmax); title(\"Difference (v1-v2)\");\n",
    "\n",
    "tight_layout()"
   ]
  },
  {
   "cell_type": "markdown",
   "metadata": {},
   "source": [
    "## 2. Build a small local compute cluster (2 workers) \n",
    "\n",
    "#### Setup OMP environment variables for the cluster\n",
    "\n",
    "In the distributed compute case the workers that we add would be on different hardware, and we might add tens of workers in 2D and hundreds in 3D. Here we run on a single machine with only 2 workers, and so we need to be careful with details related to high performance computing. If we did not specify thread affinity, the two workers would compete for the same physical cores and the modeling would be *incredibly* slow.\n",
    "\n",
    "We spin up the small 2-worker cluster by calling `addprocs(2)`, and because we set the environment variable `ENV[\"OMP_DISPLAY_ENV\"] = \"true\"` we will see the OMP environment printed out on each worker. In that output (below) we can verify that half of the total threads (44/2 = 22) are assigned to each socket on this 2 socket system. You can obtain more details about the hardware with the shell command `lscpu`.\n",
    "\n",
    "We set four environment variables related to OpenMP:\n",
    "* `OMP_DISPLAY_ENV` prints out the OpenMP environment on each worker\n",
    "* `OMP_PROC_BIND` specifies that threads should be bound to physical cores\n",
    "* `OMP_NUM_THREADS` specifies the number of threads per workers is 1/2 the number of physical cores\n",
    "* `GOMP_CPU_AFFINITY` specifies which physical cores the threads run on for each worker\n",
    "\n",
    "If you run the shell command `top` during execution, you will see 3 julia processes: the main process and two workers. The two workers should generally have about 50% of the system, and `load average` should tend towards the physical number of cores."
   ]
  },
  {
   "cell_type": "code",
   "execution_count": null,
   "metadata": {},
   "outputs": [],
   "source": [
    "nthread = Sys.CPU_THREADS\n",
    "ENV[\"OMP_DISPLAY_ENV\"] = \"true\"\n",
    "ENV[\"OMP_PROC_BIND\"] = \"close\"\n",
    "ENV[\"OMP_NUM_THREADS\"] = \"$(div(nthread,2))\" \n",
    "addprocs(2)\n",
    "@show workers()\n",
    "for k in 1:nworkers()\n",
    "    place1 = (k - 1) * div(nthread,nworkers())\n",
    "    place2 = (k + 0) * div(nthread,nworkers()) - 1\n",
    "    @show place1, place2, nthread\n",
    "    @spawnat workers()[k] ENV[\"GOMP_CPU_AFFINITY\"] = \"$(place1)-$(place2)\";\n",
    "end"
   ]
  },
  {
   "cell_type": "code",
   "execution_count": null,
   "metadata": {
    "tags": []
   },
   "outputs": [],
   "source": [
    "@everywhere using Distributed, DistributedArrays, DistributedJets, Jets, JetPack, WaveFD, JetPackWaveFD, LinearAlgebra, LineSearches, Optim, Random"
   ]
  },
  {
   "cell_type": "markdown",
   "metadata": {},
   "source": [
    "## 3. Create list of shot locations \n",
    "We use 16 shot locations evenly distributed across the top of the model."
   ]
  },
  {
   "cell_type": "code",
   "execution_count": null,
   "metadata": {
    "tags": []
   },
   "outputs": [],
   "source": [
    "nshots = 16\n",
    "sx = round.(Int,collect(range(0,stop=(nx-1)*dx,length=nshots)))\n",
    "@show nshots;\n",
    "@show sx;"
   ]
  },
  {
   "cell_type": "markdown",
   "metadata": {},
   "source": [
    "## 4. Build `F`, the distributed block operator for seismic modeling"
   ]
  },
  {
   "cell_type": "markdown",
   "metadata": {},
   "source": [
    "#### Note on scratch space for temporary files\n",
    "When dealing with serialized nonlinear wavefields as in this example, we need to specify the location where scratch files will be written.\n",
    "\n",
    "You may need to change this to point to a temporary directory available on your system."
   ]
  },
  {
   "cell_type": "code",
   "execution_count": null,
   "metadata": {},
   "outputs": [],
   "source": [
    "@everywhere scratch = \"/mnt/scratch\"\n",
    "@assert isdir(scratch)"
   ]
  },
  {
   "cell_type": "code",
   "execution_count": null,
   "metadata": {},
   "outputs": [],
   "source": [
    "@everywhere begin\n",
    "    ntrec = 2501\n",
    "    dtrec = 0.004\n",
    "    dtmod = 0.002\n",
    "end\n",
    "\n",
    "@everywhere function makeF(i,nz,nx,dz,dx,sx)\n",
    "    JopNlProp2DAcoIsoDenQ_DEO2_FDTD(;\n",
    "        b = ones(Float32,nz,nx),\n",
    "        nthreads = div(Sys.CPU_THREADS,2),\n",
    "        ntrec = ntrec,\n",
    "        dtrec = dtrec,\n",
    "        dtmod = dtmod,\n",
    "        dz = dz,\n",
    "        dx = dx,\n",
    "        wavelet = WaveletCausalRicker(f=4.0),\n",
    "        sx = sx[i],\n",
    "        sz = dz,\n",
    "        rx = dx*[0:1:nx-1;],\n",
    "        rz = 2*dz*ones(length(0:1:nx-1)),\n",
    "        nbz_cache = nz,\n",
    "        nbx_cache = 16,\n",
    "        comptype = UInt32,\n",
    "        srcfieldfile = joinpath(scratch, \"field-$i-$(randstring()).bin\"),\n",
    "        reportinterval=0)\n",
    "end"
   ]
  },
  {
   "cell_type": "code",
   "execution_count": null,
   "metadata": {},
   "outputs": [],
   "source": [
    "F = @blockop DArray(I->[makeF(i,nz,nx,dz,dx,sx) for i in I[1], j in I[2]], (nshots,1))"
   ]
  },
  {
   "cell_type": "markdown",
   "metadata": {},
   "source": [
    "## 5. Use `F` to create the data in both models"
   ]
  },
  {
   "cell_type": "code",
   "execution_count": null,
   "metadata": {
    "scrolled": true,
    "tags": []
   },
   "outputs": [],
   "source": [
    "t1 = @elapsed begin\n",
    "    d1 = F*v1;\n",
    "end\n",
    "@info @sprintf(\"Time in true model; %.2f seconds\\n\", t1);\n",
    "\n",
    "t2 = @elapsed begin\n",
    "    d2 = F*v2;\n",
    "end\n",
    "@info @sprintf(\"Time in init model; %.2f seconds\\n\", t2);"
   ]
  },
  {
   "cell_type": "markdown",
   "metadata": {},
   "source": [
    "#### Compute the residual data"
   ]
  },
  {
   "cell_type": "code",
   "execution_count": null,
   "metadata": {},
   "outputs": [],
   "source": [
    "r = d1 .- d2;"
   ]
  },
  {
   "cell_type": "markdown",
   "metadata": {},
   "source": [
    "## 6. Visualize data"
   ]
  },
  {
   "cell_type": "markdown",
   "metadata": {},
   "source": [
    "#### Collect 3 shots locally before plotting"
   ]
  },
  {
   "cell_type": "code",
   "execution_count": null,
   "metadata": {},
   "outputs": [],
   "source": [
    "shots = [1,4,8]\n",
    "sxlocal = [sx[i] for i in shots]\n",
    "@show shots\n",
    "@show sxlocal;\n",
    "\n",
    "d1local = [getblock(d1,i) for i in shots]\n",
    "d2local = [getblock(d2,i) for i in shots]\n",
    "r2local = [getblock(r,i) for i in shots]"
   ]
  },
  {
   "cell_type": "markdown",
   "metadata": {},
   "source": [
    "#### Plot shot gathers for true model, initial model, and residual\n",
    "\n",
    "The table below describes the data images below. We flip the direction of the residual and modeled data in order to help display the match with the true data.\n",
    "\n",
    "<table style=\"border:1px solid black;\" width=\"60%\">\n",
    "<tr>\n",
    "  <td style=\"border:1px solid black;text-align:center\" bgcolor=\"white\">\n",
    "      <b>Initial Residual Data<br>(flipped)</b></td>\n",
    "  <td style=\"border:1px solid black;text-align:center\" bgcolor=\"white\">\n",
    "      <b>True Data</b></td>\n",
    "  <td style=\"border:1px solid black;text-align:center\" bgcolor=\"white\">\n",
    "      <b>Initial Data<br>(flipped)</b></td>\n",
    "</tr>\n",
    "</table>"
   ]
  },
  {
   "cell_type": "code",
   "execution_count": null,
   "metadata": {},
   "outputs": [],
   "source": [
    "scale = 10.0 / sqrt(norm(d1)^2 / length(d1))\n",
    "@show scale\n",
    "\n",
    "nzero = 5\n",
    "pad = ones(Float32,ntrec,nzero)\n",
    "\n",
    "figure(figsize=(8,12)); clf()\n",
    "for (iplot,ishot) in enumerate(shots)\n",
    "    cat2 = hcat(reverse(r2local[iplot],dims=2), pad, d1local[iplot], pad, reverse(d2local[iplot],dims=2))\n",
    "    subplot(3,1,iplot);\n",
    "    imshow(cat2,cmap=\"gray\",aspect=\"auto\",clim=[-1,+1]);\n",
    "    title(\" Initial Residual sx=$(sx[ishot])   |   True sx=$(sx[ishot])   |   Initial sx=$(sx[ishot]) (flipped)\");\n",
    "end\n",
    "tight_layout()"
   ]
  },
  {
   "cell_type": "markdown",
   "metadata": {},
   "source": [
    "## 7. Assess if data is cycle skipped at the farthest offsets\n",
    "Next we plot the far offset traces for these shots to determine if the data is cycle skipped. \n",
    "\n",
    "You can see in the plots below that the refraction waveforms (first arrivals) in the initial model are not cycle skipped, so we proceed. \n",
    "\n",
    "Note that a very significant part of the residual wavefield is actually reflections in this example."
   ]
  },
  {
   "cell_type": "code",
   "execution_count": null,
   "metadata": {},
   "outputs": [],
   "source": [
    "scale = 10.0 / sqrt(norm(d1)^2 / length(d1))\n",
    "t = [0.0:dtrec:dtrec*(ntrec - 1);]\n",
    "\n",
    "figure(figsize=(8,8)); clf()\n",
    "for (iplot,ishot) in enumerate(shots)\n",
    "    subplot(3,1,iplot);\n",
    "    plot(t,d1local[iplot][:,end],label=\"True Model $(ishot) at x=$(sx[ishot])\");\n",
    "    plot(t,d2local[iplot][:,end],label=\"Initial Model $(ishot) at x=$(sx[ishot])\");\n",
    "    xlim([4.5,t[end]])\n",
    "    legend()\n",
    "end\n",
    "tight_layout()"
   ]
  },
  {
   "cell_type": "markdown",
   "metadata": {},
   "source": [
    "## 8. Build the gradient and cost functions"
   ]
  },
  {
   "cell_type": "markdown",
   "metadata": {},
   "source": [
    "#### Build water bottom mask for gradient\n",
    "We use this mask to remove imprint in gradient very close to the source locations. The mask is set to 0 wherever the true velocity model has value 1500 m/s, and is set to 1 otherwise. "
   ]
  },
  {
   "cell_type": "code",
   "execution_count": null,
   "metadata": {},
   "outputs": [],
   "source": [
    "wb_mask = ones(Float32,size(v))\n",
    "wb_mask[v.==1500.0] .= 0;\n",
    "\n",
    "figure(figsize=(8,4))\n",
    "imshow(wb_mask,aspect=\"auto\",cmap=\"gray_r\",clim=[0,+2]);\n",
    "colorbar();\n",
    "title(\"Water Bottom Mask\");\n",
    "tight_layout()"
   ]
  },
  {
   "cell_type": "markdown",
   "metadata": {},
   "source": [
    "#### Gradient function\n",
    "This method is called by the solver whenever the gradient is required. Steps in computing the gradient are as follows:\n",
    "1. Compute the source side illumination\n",
    "1. Establish the illumination compensation preconditioner as `1/illum^2`\n",
    "1. Apply the adjoint of the Jacobian to the current residual `d - F*v` \n",
    "1. Apply very simple scaling based on the size of the first gradient and save to apply to future gradients"
   ]
  },
  {
   "cell_type": "code",
   "execution_count": null,
   "metadata": {},
   "outputs": [],
   "source": [
    "function gradient!(G,F,v,dobs,p,wb_mask)\n",
    "    J = jacobian(F,v)\n",
    "    s = srcillum(J)\n",
    "    s .= ((s ./ maximum(s)).^2) .+ 1e-8\n",
    "    R = JopDiagonal((1 ./ s).^2)\n",
    "    t = @elapsed begin\n",
    "        dv = F*v\n",
    "        G .= R' ∘ J' * (dv .- dobs)\n",
    "    end\n",
    "    ϕ = norm(dv .- dobs)\n",
    "    p.count += 1\n",
    "    @info @sprintf(\"%3d g_time; %10.4f (sec) -- g_rms; %10.4e -- cost; %10.4e\\n\", \n",
    "        p.count, t, sqrt(norm(G)^2 / length(G)), ϕ)\n",
    "    G .*= wb_mask #mute water column\n",
    "    if p.gscale == 0.0\n",
    "        # compute scalar from first gradient, apply to future gradients\n",
    "        p.gscale = 50 ./ maximum(G) \n",
    "    end\n",
    "    G .*= p.gscale\n",
    "end\n",
    "# struct to save the first gradient scalar\n",
    "mutable struct FwiPar\n",
    "   count::Int64\n",
    "   gscale::Float64\n",
    "end\n",
    "p = FwiPar(0,0.0)\n",
    "g!(G,x) = gradient!(G,F,x,d1,p,wb_mask)"
   ]
  },
  {
   "cell_type": "markdown",
   "metadata": {},
   "source": [
    "#### Compute the initial gradient and display"
   ]
  },
  {
   "cell_type": "code",
   "execution_count": null,
   "metadata": {
    "scrolled": true,
    "tags": []
   },
   "outputs": [],
   "source": [
    "grad = zeros(Float32,size(v1))\n",
    "tgrad = @elapsed begin\n",
    "    g!(grad,v2)\n",
    "end\n",
    "@show tgrad;"
   ]
  },
  {
   "cell_type": "code",
   "execution_count": null,
   "metadata": {},
   "outputs": [],
   "source": [
    "dv = v1 .- v2\n",
    "\n",
    "figure(figsize=(8,8))\n",
    "subplot(2,1,1)\n",
    "imshow(-1 .* grad ./ maximum(abs,grad),aspect=\"auto\",cmap=\"seismic\");\n",
    "colorbar(orientation=\"vertical\");clim(-1,1);title(\"Initial Gradient (times -1)\");\n",
    "\n",
    "subplot(2,1,2)\n",
    "imshow(dv ./ maximum(abs,dv),aspect=\"auto\",cmap=\"seismic\");\n",
    "colorbar(orientation=\"vertical\");clim(-1,1);title(\"Velocity Difference: (v - vₒ)\");\n",
    "\n",
    "tight_layout()"
   ]
  },
  {
   "cell_type": "code",
   "execution_count": null,
   "metadata": {},
   "outputs": [],
   "source": [
    "function cost(x,F,d1)\n",
    "    dx = F*x\n",
    "    ϕ = norm(d1 .- dx)\n",
    "    return ϕ\n",
    "end\n",
    "f(x) = cost(x,F,d1)"
   ]
  },
  {
   "cell_type": "code",
   "execution_count": null,
   "metadata": {
    "scrolled": true,
    "tags": []
   },
   "outputs": [],
   "source": [
    "@info \"initial cost; $(f(v2))\";"
   ]
  },
  {
   "cell_type": "markdown",
   "metadata": {},
   "source": [
    "## 9. Perform the FWI using optim.jl\n",
    "We will do 15 iterations of limited memory BFGS. "
   ]
  },
  {
   "cell_type": "code",
   "execution_count": null,
   "metadata": {},
   "outputs": [],
   "source": [
    "niter = 20\n",
    "solver = LBFGS(m = niter, \n",
    "    alphaguess = LineSearches.InitialQuadratic(), \n",
    "    linesearch = LineSearches.MoreThuente());"
   ]
  },
  {
   "cell_type": "code",
   "execution_count": null,
   "metadata": {},
   "outputs": [],
   "source": [
    "function mycallback(state::OptimizationState)\n",
    "    @info \"iter=$(state.iteration), cost=$(state.value), |grad|=$(state.g_norm)\"\n",
    "    false\n",
    "end\n",
    "mycallback(trace::OptimizationTrace) = mycallback(trace[end]);"
   ]
  },
  {
   "cell_type": "code",
   "execution_count": null,
   "metadata": {
    "scrolled": true,
    "tags": []
   },
   "outputs": [],
   "source": [
    "p = FwiPar(0,0.0)\n",
    "redirect_stdout(open(\"/dev/null\",\"w\")) # otherwise the models are printed to stdout at every iteration\n",
    "\n",
    "topt = @elapsed begin\n",
    "    result = optimize(f, g!, v2, solver,\n",
    "        Optim.Options(\n",
    "            x_tol = eps(Float32),\n",
    "            f_tol = eps(Float32),\n",
    "            g_tol = eps(Float32),\n",
    "            iterations = niter,\n",
    "            show_trace = true,\n",
    "            store_trace = true,\n",
    "            show_every = 1,\n",
    "            extended_trace = true,\n",
    "            allow_f_increases = false,\n",
    "            callback = mycallback))\n",
    "end"
   ]
  },
  {
   "cell_type": "code",
   "execution_count": null,
   "metadata": {},
   "outputs": [],
   "source": [
    "@sprintf(\"Time for optimization; %.2f minutes\\n\", topt / 60)\n",
    "@info \"result=\\n$result\\n\""
   ]
  },
  {
   "cell_type": "code",
   "execution_count": null,
   "metadata": {},
   "outputs": [],
   "source": [
    "vf = Optim.minimizer(result) # optimal solution\n",
    "ϕ = Optim.f_trace(result)    # cost vs iteration\n",
    "m = Optim.x_trace(result);   # model vs iteration"
   ]
  },
  {
   "cell_type": "markdown",
   "metadata": {},
   "source": [
    "## 10. Visualize velocity models and objection function"
   ]
  },
  {
   "cell_type": "code",
   "execution_count": null,
   "metadata": {},
   "outputs": [],
   "source": [
    "figure(figsize=(8,12)); clf()\n",
    "\n",
    "subplot(3,1,1);imshow(v1,aspect=\"auto\",cmap=\"jet\");\n",
    "colorbar(orientation=\"vertical\");clim(vmin,vmax);title(\"True Velocity\")\n",
    "\n",
    "subplot(3,1,2);imshow(v2,aspect=\"auto\",cmap=\"jet\");\n",
    "colorbar(orientation=\"vertical\");clim(vmin,vmax);title(\"Initial Velocity\");\n",
    "\n",
    "subplot(3,1,3);imshow(vf,aspect=\"auto\",cmap=\"jet\");\n",
    "colorbar(orientation=\"vertical\");clim(vmin,vmax);title(\"FWI Velocity\");\n",
    "\n",
    "tight_layout()"
   ]
  },
  {
   "cell_type": "markdown",
   "metadata": {},
   "source": [
    "#### Display the velocity difference models "
   ]
  },
  {
   "cell_type": "code",
   "execution_count": null,
   "metadata": {},
   "outputs": [],
   "source": [
    "rms_v2 = @sprintf(\"%.1f m/s\", sqrt(norm(v1 .- v2)^2 / length(v1)))\n",
    "rms_vf = @sprintf(\"%.1f m/s\", sqrt(norm(v1 .- vf)^2 / length(v1)))\n",
    "\n",
    "figure(figsize=(8,8)); clf()\n",
    "\n",
    "subplot(2,1,1);imshow(v1 .- v2,aspect=\"auto\",cmap=\"seismic\");\n",
    "colorbar(orientation=\"vertical\");clim(dmin,dmax);\n",
    "title(\"Vtrue - Vinit difference, rms=$(rms_v2)\");\n",
    "\n",
    "subplot(2,1,2);imshow(v1 .- vf,aspect=\"auto\",cmap=\"seismic\");\n",
    "colorbar(orientation=\"vertical\");clim(dmin,dmax);\n",
    "title(\"Vtrue - Vfwi difference, rms=$(rms_vf)\");\n",
    "\n",
    "tight_layout()"
   ]
  },
  {
   "cell_type": "markdown",
   "metadata": {},
   "source": [
    "#### Display the cost function "
   ]
  },
  {
   "cell_type": "code",
   "execution_count": null,
   "metadata": {},
   "outputs": [],
   "source": [
    "figure(figsize=(8,4)); clf()\n",
    "iters = [0:1:niter;]\n",
    "plot(iters, ϕ ./ ϕ[1])\n",
    "xlabel(\"Nonlinear Iteration\")\n",
    "ylabel(\"Normalized cost ||f(v) - d||\")\n",
    "title(@sprintf(\"FWI Objective Function reduced %.1f percent\", 100 * (ϕ[1] - ϕ[end]) / ϕ[1]));\n",
    "tight_layout()"
   ]
  },
  {
   "cell_type": "markdown",
   "metadata": {},
   "source": [
    "## 11. Visualize data match\n",
    "#### Generate data in the FWI velocity model"
   ]
  },
  {
   "cell_type": "code",
   "execution_count": null,
   "metadata": {},
   "outputs": [],
   "source": [
    "tf = @elapsed begin\n",
    "    df = F*vf;\n",
    "end\n",
    "@show tf;"
   ]
  },
  {
   "cell_type": "markdown",
   "metadata": {},
   "source": [
    "#### Compute residuals and collect gathers for display"
   ]
  },
  {
   "cell_type": "code",
   "execution_count": null,
   "metadata": {},
   "outputs": [],
   "source": [
    "rf = d1 .- df;\n",
    "dflocal = [getblock(df,i) for i in shots];\n",
    "rflocal = [getblock(rf,i) for i in shots];"
   ]
  },
  {
   "cell_type": "markdown",
   "metadata": {},
   "source": [
    "#### Plot shot gathers for true, initial model, and fwi models\n",
    "\n",
    "The table below describes the data images below. We will flip the direction of the residual and modeled data in order to help display the match with the true data. We include the initial data as shown above for easier comparison. \n",
    "\n",
    "<table style=\"border:1px solid black;\" width=\"60%\">\n",
    "<tr>\n",
    "  <td style=\"border:1px solid black;text-align:center\" bgcolor=\"white\">\n",
    "      <b>Initial Residual Data<br>(flipped)</b></td>\n",
    "  <td style=\"border:1px solid black;text-align:center\" bgcolor=\"white\">\n",
    "      <b>True Data</b></td>\n",
    "  <td style=\"border:1px solid black;text-align:center\" bgcolor=\"white\">\n",
    "      <b>Initial Data<br>(flipped)</b></td>\n",
    "</tr>\n",
    "<tr>\n",
    "  <td style=\"border:1px solid black;text-align:center\" bgcolor=\"white\">\n",
    "      <b>FWI Residual Data<br>(flipped)</b></td>\n",
    "  <td style=\"border:1px solid black;text-align:center\" bgcolor=\"white\">\n",
    "      <b>True Data</b></td>\n",
    "  <td style=\"border:1px solid black;text-align:center\" bgcolor=\"white\">\n",
    "      <b>FWI Data<br>(flipped)</b></td>\n",
    "</tr>\n",
    "</table>\n",
    "\n",
    "We first make a function to create the plots that we can re-use for the selected shots."
   ]
  },
  {
   "cell_type": "code",
   "execution_count": null,
   "metadata": {},
   "outputs": [],
   "source": [
    "function make_plot(index)\n",
    "    figure(figsize=(8,8)); clf()\n",
    "    cat2 = hcat(reverse(r2local[index],dims=2), pad, d1local[index], pad, reverse(d2local[index],dims=2))\n",
    "    catf = hcat(reverse(rflocal[index],dims=2), pad, d1local[index], pad, reverse(dflocal[index],dims=2))\n",
    "    subplot(2,1,1);\n",
    "    imshow(cat2,cmap=\"gray\",aspect=\"auto\",clim=[-1,+1]);\n",
    "    title(\" Initial Residual sx=$(sx[index])   ||   True sx=$(sx[index])   ||   Initial sx=$(sx[index]) (flipped)\");\n",
    "    subplot(2,1,2);\n",
    "    imshow(catf,cmap=\"gray\",aspect=\"auto\",clim=[-1,+1]);\n",
    "    title(\" FWI Residual sx=$(sx[index])   ||   True sx=$(sx[index])   ||   FWI sx=$(sx[index]) (flipped)\");\n",
    "    tight_layout()\n",
    "end"
   ]
  },
  {
   "cell_type": "markdown",
   "metadata": {},
   "source": [
    "#### Data for the 1st shot, generated in the initial and FWI models"
   ]
  },
  {
   "cell_type": "code",
   "execution_count": null,
   "metadata": {},
   "outputs": [],
   "source": [
    "make_plot(1)"
   ]
  },
  {
   "cell_type": "markdown",
   "metadata": {},
   "source": [
    "#### Data for the 4th shot, generated in the initial and FWI models"
   ]
  },
  {
   "cell_type": "code",
   "execution_count": null,
   "metadata": {},
   "outputs": [],
   "source": [
    "make_plot(2)"
   ]
  },
  {
   "cell_type": "markdown",
   "metadata": {},
   "source": [
    "#### Data for the 8th shot, generated in the initial and FWI models"
   ]
  },
  {
   "cell_type": "code",
   "execution_count": null,
   "metadata": {},
   "outputs": [],
   "source": [
    "make_plot(3)"
   ]
  },
  {
   "cell_type": "markdown",
   "metadata": {},
   "source": [
    "## 11. Write models to local disk\n",
    "\n",
    "#### Interpolate models to 10m for subsequent RTM  "
   ]
  },
  {
   "cell_type": "code",
   "execution_count": null,
   "metadata": {},
   "outputs": [],
   "source": [
    "@printf(\"nz,nx,dz,dx; %5d %5d %12.4f %12.4f\\n\", nz, nx, dz, dx)\n",
    "\n",
    "z1,z2 = 0.0,dz*(nz-1)\n",
    "x1,x2 = 0.0,dx*(nx-1)\n",
    "\n",
    "dz2,dx2 = 10.0,10.0\n",
    "nz2 = floor(Int,z2/dz2) + 1\n",
    "nx2 = floor(Int,x2/dx2) + 1\n",
    "\n",
    "dom = JetSpace(Float32,size(vf)...)\n",
    "rng = JetSpace(Float32,nz2,nx2)\n",
    "op = JopInterp(dom, rng)\n",
    "\n",
    "v1_resamp = op * v1;\n",
    "v2_resamp = op * v2;\n",
    "vf_resamp = op * vf;"
   ]
  },
  {
   "cell_type": "markdown",
   "metadata": {},
   "source": [
    "#### Plot the resampled models"
   ]
  },
  {
   "cell_type": "code",
   "execution_count": null,
   "metadata": {},
   "outputs": [],
   "source": [
    "figure(figsize=(9,12)); clf()\n",
    "\n",
    "subplot(3,1,1);imshow(v1_resamp,aspect=\"auto\",cmap=\"jet\");\n",
    "colorbar(orientation=\"vertical\");clim(vmin,vmax);\n",
    "title(\"True Velocity (resampled to 10m)\")\n",
    "\n",
    "subplot(3,1,2);imshow(v2_resamp,aspect=\"auto\",cmap=\"jet\");\n",
    "colorbar(orientation=\"vertical\");clim(vmin,vmax);\n",
    "title(\"Initial Velocity (resampled to 10m)\");\n",
    "\n",
    "subplot(3,1,3);imshow(vf_resamp,aspect=\"auto\",cmap=\"jet\");\n",
    "colorbar(orientation=\"vertical\");clim(vmin,vmax);\n",
    "title(\"FWI Velocity (resampled to 10m)\");\n",
    "\n",
    "tight_layout()"
   ]
  },
  {
   "cell_type": "markdown",
   "metadata": {},
   "source": [
    "#### Write out the models "
   ]
  },
  {
   "cell_type": "code",
   "execution_count": null,
   "metadata": {},
   "outputs": [],
   "source": [
    "file1 = @sprintf(\"marmousi_resampled_10m_%dx%d_vtrue.bin\", nz2, nx2);\n",
    "file2 = @sprintf(\"marmousi_resampled_10m_%dx%d_vinit.bin\", nz2, nx2);\n",
    "filef = @sprintf(\"marmousi_resampled_10m_%dx%d_vfwi.bin\", nz2, nx2);\n",
    "\n",
    "write(file1,v1_resamp);\n",
    "write(file2,v2_resamp);\n",
    "write(filef,vf_resamp);"
   ]
  },
  {
   "cell_type": "markdown",
   "metadata": {},
   "source": [
    "## 12. Remove local files and workers"
   ]
  },
  {
   "cell_type": "code",
   "execution_count": null,
   "metadata": {},
   "outputs": [],
   "source": [
    "close(F);\n",
    "rmprocs(workers());"
   ]
  },
  {
   "cell_type": "markdown",
   "metadata": {},
   "source": [
    "## Record time at end of notebook\n",
    "Report total elapsed time to run the notebook"
   ]
  },
  {
   "cell_type": "code",
   "execution_count": null,
   "metadata": {},
   "outputs": [],
   "source": [
    "time_end = time()\n",
    "@sprintf(\"Time to run notebook; %.2f minutes\\n\", (time_end - time_beg) / 60)"
   ]
  }
 ],
 "metadata": {
  "kernelspec": {
   "display_name": "Julia 1.5.2",
   "language": "julia",
   "name": "julia-1.5"
  },
  "language_info": {
   "file_extension": ".jl",
   "mimetype": "application/julia",
   "name": "julia",
   "version": "1.5.2"
  }
 },
 "nbformat": 4,
 "nbformat_minor": 4
}
