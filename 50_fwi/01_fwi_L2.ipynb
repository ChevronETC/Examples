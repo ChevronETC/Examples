{
 "cells": [
  {
   "cell_type": "markdown",
   "metadata": {},
   "source": [
    "# L2 FWI Example\n",
    "We will solve this problem using the following steps:\n",
    "1. Read the true and starting models from binary files, coarsen, and visualize\n",
    "2. Build up a small local compute cluster and load required packages \n",
    "3. Build F, the nonlinear distributed block operator for seismic modeling\n",
    "4. Use F and the true model to create a synthetic data-set\n",
    "5. Build the gradient and cost functions\n",
    "6. Perform the FWI using optim.jl"
   ]
  },
  {
   "cell_type": "markdown",
   "metadata": {},
   "source": [
    "## Add required packages\n",
    "Uncomment the line below if you need to add these packages to your environment"
   ]
  },
  {
   "cell_type": "code",
   "execution_count": null,
   "metadata": {},
   "outputs": [],
   "source": [
    "# ]add Optim LineSearches"
   ]
  },
  {
   "cell_type": "code",
   "execution_count": null,
   "metadata": {},
   "outputs": [],
   "source": [
    "using PyPlot, Distributed"
   ]
  },
  {
   "cell_type": "markdown",
   "metadata": {},
   "source": [
    "## 1. Read true and starting models from binary files"
   ]
  },
  {
   "cell_type": "code",
   "execution_count": null,
   "metadata": {
    "tags": []
   },
   "outputs": [],
   "source": [
    "v = read!(\"../20_marmousi_model_setup/marmousi_vp_20m_176x851.bin\", Array{Float32}(undef, 176,851));\n",
    "vₒ= read!(\"../20_marmousi_model_setup/marmousi_vp_smooth_20m_176x851.bin\", Array{Float32}(undef, 176,851));"
   ]
  },
  {
   "cell_type": "markdown",
   "metadata": {},
   "source": [
    "#### Subsample models\n",
    "We will resample from the 20m grid to a 40m grid"
   ]
  },
  {
   "cell_type": "code",
   "execution_count": null,
   "metadata": {},
   "outputs": [],
   "source": [
    "v = v[1:3:end,1:3:end]\n",
    "vₒ = vₒ[1:3:end,1:3:end];"
   ]
  },
  {
   "cell_type": "code",
   "execution_count": null,
   "metadata": {
    "tags": []
   },
   "outputs": [],
   "source": [
    "dz,dx = 60.0,60.0\n",
    "nz,nx = size(v)\n",
    "@show dz,dx\n",
    "@show nz,nx;"
   ]
  },
  {
   "cell_type": "markdown",
   "metadata": {},
   "source": [
    "#### Visualize"
   ]
  },
  {
   "cell_type": "code",
   "execution_count": null,
   "metadata": {},
   "outputs": [],
   "source": [
    "figure(figsize=(16,8))\n",
    "subplot(121); imshow(v,aspect=\"auto\",cmap=\"jet\"); \n",
    "colorbar(orientation=\"horizontal\"); clim(1500,5500); title(\"True velocity\")\n",
    "subplot(122); imshow(vₒ,aspect=\"auto\",cmap=\"jet\");\n",
    "colorbar(orientation=\"horizontal\"); clim(1500,5500); title(\"Starting velocity\");"
   ]
  },
  {
   "cell_type": "markdown",
   "metadata": {},
   "source": [
    "## 2. Build up a small local compute cluster and load required packages "
   ]
  },
  {
   "cell_type": "code",
   "execution_count": null,
   "metadata": {},
   "outputs": [],
   "source": [
    "nthread = Sys.CPU_THREADS\n",
    "ENV[\"OMP_DISPLAY_ENV\"] = \"true\"\n",
    "ENV[\"OMP_PROC_BIND\"] = \"spread\"\n",
    "ENV[\"GOMP_CPU_AFFINITY\"] = \"0-$(nthread)\"\n",
    "addprocs(2)\n",
    "@show workers()\n",
    "@spawnat workers()[1] ENV[\"GOMP_CPU_AFFINITY\"] = \"0-$(div(nthread,2)-1)\";\n",
    "@spawnat workers()[2] ENV[\"GOMP_CPU_AFFINITY\"] = \"$(div(nthread,2))-$(nthread-1)\";"
   ]
  },
  {
   "cell_type": "markdown",
   "metadata": {},
   "source": [
    "#### Setup OMP environment variable for the cluster\n",
    "Note we need to do this because we are using 2 workers on the same physical node"
   ]
  },
  {
   "cell_type": "code",
   "execution_count": null,
   "metadata": {
    "tags": []
   },
   "outputs": [],
   "source": [
    "@everywhere using Distributed, DistributedArrays, DistributedJets, Jets, JetPack, WaveFD, JetPackWaveFD, LinearAlgebra, LineSearches, Optim, Random"
   ]
  },
  {
   "cell_type": "markdown",
   "metadata": {},
   "source": [
    "## 3. Build F, the forward modeling operator\n",
    "\n",
    "8 shot locations (only using 8 because we are using a single machine to run the FWI)"
   ]
  },
  {
   "cell_type": "code",
   "execution_count": null,
   "metadata": {
    "tags": []
   },
   "outputs": [],
   "source": [
    "sx = collect(range(0,stop=(nx-1)*dx,length=8))\n",
    "nshots = length(sx)\n",
    "@show nshots;\n",
    "@show sx;"
   ]
  },
  {
   "cell_type": "markdown",
   "metadata": {},
   "source": [
    "#### Note on scratch space for temporary files\n",
    "When dealing with serialized nonlinear wavefields as in this example, we need to specify the location where scratch files will be written.\n",
    "\n",
    "You may need to change this to point to a temporary directory available on your system."
   ]
  },
  {
   "cell_type": "code",
   "execution_count": null,
   "metadata": {},
   "outputs": [],
   "source": [
    "@everywhere scratch = \"/mnt/scratch\"\n",
    "@assert isdir(scratch)"
   ]
  },
  {
   "cell_type": "code",
   "execution_count": null,
   "metadata": {},
   "outputs": [],
   "source": [
    "@everywhere function makeF(i,sx)\n",
    "    nz,nx,dz,dx = 88,426,40.0,40.0    \n",
    "    JopNlProp2DAcoIsoDenQ_DEO2_FDTD(;\n",
    "        b = ones(Float32,nz,nx),\n",
    "        nthreads = div(Sys.CPU_THREADS,2),\n",
    "        ntrec = 541,\n",
    "        dtrec = 0.012,\n",
    "        dtmod = 0.004,\n",
    "        dz = dz,\n",
    "        dx = dx,\n",
    "        wavelet = WaveletCausalRicker(f=2.0),\n",
    "        sx = sx[i],\n",
    "        sz = dz,\n",
    "        rx = dx*[0:1:nx-1;],\n",
    "        rz = 2*dz*ones(length(0:1:nx-1)),\n",
    "        comptype = UInt32,\n",
    "        srcfieldfile = joinpath(scratch, \"field-$i-$(randstring()).bin\"),\n",
    "        reportinterval=1000)\n",
    "end"
   ]
  },
  {
   "cell_type": "code",
   "execution_count": null,
   "metadata": {},
   "outputs": [],
   "source": [
    "F = @blockop DArray(I->[makeF(i,sx) for i in I[1], j in I[2]], (nshots,1))"
   ]
  },
  {
   "cell_type": "markdown",
   "metadata": {},
   "source": [
    "## 4. Use F and the true model to create a synthetic data-set"
   ]
  },
  {
   "cell_type": "code",
   "execution_count": null,
   "metadata": {
    "scrolled": true,
    "tags": []
   },
   "outputs": [],
   "source": [
    "# This may take awhile if running on a single node\n",
    "@time begin\n",
    "    d = F*v;\n",
    "end"
   ]
  },
  {
   "cell_type": "markdown",
   "metadata": {},
   "source": [
    "#### Plot shot gathers from the in-memory distributed array"
   ]
  },
  {
   "cell_type": "code",
   "execution_count": null,
   "metadata": {},
   "outputs": [],
   "source": [
    "ishots = [1, 4, 8, 16]\n",
    "dmax = maximum(abs, extrema(d))\n",
    "figure(figsize=(14,5))\n",
    "for (iplot,ishot) in enumerate(ishots)\n",
    "    subplot(1,4,iplot);\n",
    "    imshow(getblock(d,ishot)[:,:,1],cmap=\"gray\",aspect=\"auto\",clim=0.1 .* [-dmax,+dmax]);\n",
    "    title(\"shot $(ishot)\");\n",
    "end\n",
    "tight_layout()"
   ]
  },
  {
   "cell_type": "markdown",
   "metadata": {},
   "source": [
    "## 5. Build the gradient and cost functions"
   ]
  },
  {
   "cell_type": "code",
   "execution_count": null,
   "metadata": {},
   "outputs": [],
   "source": [
    "#build water bottom mask for gradient\n",
    "wb_mask = ones(Float32,size(v))\n",
    "wb_mask[v.==1500.0].=0.0;\n",
    "imshow(wb_mask,aspect=\"auto\");colorbar();"
   ]
  },
  {
   "cell_type": "code",
   "execution_count": null,
   "metadata": {},
   "outputs": [],
   "source": [
    "function gradient!(G,F,v,dobs,p,wb_mask)\n",
    "    J = jacobian(F,v)\n",
    "    s = srcillum(J)\n",
    "    s .= ((s ./ maximum(s)).^2) .+ 1e-8\n",
    "    R = JopDiagonal((1 ./ s).^2)\n",
    "    G .= R' ∘ J' * (dobs - F*v)\n",
    "    G .*= wb_mask #mute water column\n",
    "    if p.gscale == 0.0\n",
    "       p.gscale = 10 ./ maximum(G) #make a scalar from first gradient (then apply to all future gradients)\n",
    "    end\n",
    "    G .*= p.gscale\n",
    "    close(F) #delete local files\n",
    "end\n",
    "mutable struct FwiPar\n",
    "   gscale\n",
    "end\n",
    "p = FwiPar(0.0)\n",
    "g!(G,x) = gradient!(G,F,x,d,p,wb_mask)"
   ]
  },
  {
   "cell_type": "code",
   "execution_count": null,
   "metadata": {
    "scrolled": true,
    "tags": []
   },
   "outputs": [],
   "source": [
    "grad = zeros(Float32,size(v))\n",
    "g!(grad,vₒ)"
   ]
  },
  {
   "cell_type": "code",
   "execution_count": null,
   "metadata": {},
   "outputs": [],
   "source": [
    "figure(figsize=(10,5))\n",
    "imshow(grad,aspect=\"auto\",cmap=\"seismic\");colorbar();clim(-10,10);title(\"gradient\");"
   ]
  },
  {
   "cell_type": "code",
   "execution_count": null,
   "metadata": {},
   "outputs": [],
   "source": [
    "diffnorm(x, y) = sqrt(mapreduce(i->(x[i] - y[i])^2, +, 1:length(x)))\n",
    "function cost(x,F,d)\n",
    "    dm = F*x\n",
    "    phi = diffnorm(d, dm)\n",
    "    return phi\n",
    "end\n",
    "f(x) = cost(x,F,d)"
   ]
  },
  {
   "cell_type": "code",
   "execution_count": null,
   "metadata": {
    "tags": []
   },
   "outputs": [],
   "source": [
    "@info \"initial cost $(f(vₒ))\";"
   ]
  },
  {
   "cell_type": "markdown",
   "metadata": {},
   "source": [
    "## 6. Do the FWI using optim.jl"
   ]
  },
  {
   "cell_type": "code",
   "execution_count": null,
   "metadata": {},
   "outputs": [],
   "source": [
    "solver = LBFGS(m = 20, alphaguess = LineSearches.InitialQuadratic(), linesearch = LineSearches.MoreThuente());"
   ]
  },
  {
   "cell_type": "code",
   "execution_count": null,
   "metadata": {},
   "outputs": [],
   "source": [
    "function mycallback(state::OptimizationState)\n",
    "    @info \"iter=$(state.iteration), cost=$(state.value), |grad|=$(state.g_norm)\"\n",
    "    false\n",
    "end\n",
    "mycallback(trace::OptimizationTrace) = mycallback(trace[end]);"
   ]
  },
  {
   "cell_type": "code",
   "execution_count": null,
   "metadata": {
    "tags": []
   },
   "outputs": [],
   "source": [
    "p = FwiPar(0.0)\n",
    "redirect_stdout(open(\"/dev/null\",\"w\")) # otherwise the models are printed to stdout at every iteration\n",
    "result = optimize(f, g!, vₒ, solver,\n",
    "    Optim.Options(\n",
    "        iterations = 100,\n",
    "        show_trace = true,\n",
    "        store_trace = true,\n",
    "        show_every = 1,\n",
    "        extended_trace = true,\n",
    "        allow_f_increases = false,\n",
    "        callback = mycallback))"
   ]
  },
  {
   "cell_type": "code",
   "execution_count": null,
   "metadata": {},
   "outputs": [],
   "source": [
    "vfwi = Optim.minimizer(result) # optimal solution\n",
    "ϕ = Optim.f_trace(result)   # cost vs iteration\n",
    "m = Optim.x_trace(result);   # model vs iteration"
   ]
  },
  {
   "cell_type": "code",
   "execution_count": null,
   "metadata": {},
   "outputs": [],
   "source": [
    "rmprocs(workers())"
   ]
  },
  {
   "cell_type": "code",
   "execution_count": null,
   "metadata": {},
   "outputs": [],
   "source": [
    "figure(figsize=(20,5))\n",
    "subplot(121);imshow(v,aspect=\"auto\",cmap=\"jet\");colorbar();clim(1500,4500);title(\"true velocity\")\n",
    "subplot(122);imshow(vfwi,aspect=\"auto\",cmap=\"jet\");colorbar();clim(1500,4500);title(\"fwi velocity\");"
   ]
  },
  {
   "cell_type": "code",
   "execution_count": null,
   "metadata": {},
   "outputs": [],
   "source": [
    "plot(ϕ)"
   ]
  },
  {
   "cell_type": "code",
   "execution_count": null,
   "metadata": {},
   "outputs": [],
   "source": []
  }
 ],
 "metadata": {
  "kernelspec": {
   "display_name": "Julia 1.5.1",
   "language": "julia",
   "name": "julia-1.5"
  },
  "language_info": {
   "file_extension": ".jl",
   "mimetype": "application/julia",
   "name": "julia",
   "version": "1.5.1"
  }
 },
 "nbformat": 4,
 "nbformat_minor": 4
}
