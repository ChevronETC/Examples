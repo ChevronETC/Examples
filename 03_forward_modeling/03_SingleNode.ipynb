{
 "cells": [
  {
   "cell_type": "markdown",
   "metadata": {},
   "source": [
    "# Single node modeling example"
   ]
  },
  {
   "cell_type": "code",
   "execution_count": null,
   "metadata": {},
   "outputs": [],
   "source": [
    "using PyPlot, WaveFD, JetPackWaveFD"
   ]
  },
  {
   "cell_type": "code",
   "execution_count": null,
   "metadata": {},
   "outputs": [],
   "source": [
    "v = read!(\"../02_marmousi_model_setup/marmousi_vp_20m_176x851.bin\", Array{Float32}(undef, 176,851));\n",
    "dz,dx = 20.0,20.0\n",
    "nz,nx = size(v)\n",
    "@show dz,dx\n",
    "@show nz,nx;"
   ]
  },
  {
   "cell_type": "code",
   "execution_count": null,
   "metadata": {},
   "outputs": [],
   "source": [
    "F = JopNlProp2DAcoIsoDenQ_DEO2_FDTD(;\n",
    "    b = ones(Float32,size(v)),\n",
    "    nthreads = Sys.CPU_THREADS,\n",
    "    isinterior = true,\n",
    "    ntrec = 1101,\n",
    "    dtrec = 0.002,\n",
    "    dtmod = 0.001,\n",
    "    dz = dz,\n",
    "    dx = dx,\n",
    "    wavelet = WaveletCausalRicker(f=5.0),\n",
    "    sx = dx*(nx/2),\n",
    "    sz = dz,\n",
    "    rx = dx*[0:0.5:nx-1;],\n",
    "    rz = 2*dz*ones(length(0:0.5:nx-1)))"
   ]
  },
  {
   "cell_type": "code",
   "execution_count": null,
   "metadata": {
    "scrolled": true
   },
   "outputs": [],
   "source": [
    "d = F*v;"
   ]
  },
  {
   "cell_type": "code",
   "execution_count": null,
   "metadata": {},
   "outputs": [],
   "source": [
    "imshow(d,aspect=\"auto\",cmap=\"gray\");clim(-1e-5,1e-5);colorbar();"
   ]
  },
  {
   "cell_type": "code",
   "execution_count": null,
   "metadata": {},
   "outputs": [],
   "source": []
  }
 ],
 "metadata": {
  "kernelspec": {
   "display_name": "Julia 1.5.1",
   "language": "julia",
   "name": "julia-1.5"
  },
  "language_info": {
   "file_extension": ".jl",
   "mimetype": "application/julia",
   "name": "julia",
   "version": "1.5.1"
  }
 },
 "nbformat": 4,
 "nbformat_minor": 4
}
