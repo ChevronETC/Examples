{
 "cells": [
  {
   "cell_type": "markdown",
   "metadata": {},
   "source": [
    "# Distributed modeling with static schedule"
   ]
  },
  {
   "cell_type": "code",
   "execution_count": null,
   "metadata": {
    "tags": []
   },
   "outputs": [],
   "source": [
    "using Distributed, PyPlot"
   ]
  },
  {
   "cell_type": "code",
   "execution_count": null,
   "metadata": {},
   "outputs": [],
   "source": [
    "addprocs(2)"
   ]
  },
  {
   "cell_type": "code",
   "execution_count": null,
   "metadata": {},
   "outputs": [],
   "source": [
    "@everywhere using DistributedArrays, DistributedJets, Jets, JetPackWave, Random, Wave"
   ]
  },
  {
   "cell_type": "code",
   "execution_count": null,
   "metadata": {
    "tags": []
   },
   "outputs": [],
   "source": [
    "v = read!(\"../02_marmousi_model_setup/marmousi_vp_20m_176x851.bin\", Array{Float32}(undef, 176,851));\n",
    "dz,dx = 20.0,20.0\n",
    "nz,nx = size(v)\n",
    "@show dz,dx\n",
    "@show nz,nx;"
   ]
  },
  {
   "cell_type": "code",
   "execution_count": null,
   "metadata": {
    "tags": []
   },
   "outputs": [],
   "source": [
    "sx = range(0,length=4,stop=(851-1)*20)\n",
    "nshots = length(sx)\n",
    "@show nshots;"
   ]
  },
  {
   "cell_type": "code",
   "execution_count": null,
   "metadata": {},
   "outputs": [],
   "source": [
    "@everywhere scratchdir = \"/scratch\""
   ]
  },
  {
   "cell_type": "code",
   "execution_count": null,
   "metadata": {},
   "outputs": [],
   "source": [
    "@everywhere function makeF(i,sx)\n",
    "    nz,nx,dz,dx = 176,851,20.0,20.0    \n",
    "    JopNlProp2DAcoIsoDenQ_DEO2_FDTD(;\n",
    "        b = ones(Float32,nz,nx),\n",
    "        ntrec = 1101,\n",
    "        dtrec = 0.002,\n",
    "        dtmod = 0.001,\n",
    "        dz = dz,\n",
    "        dx = dx,\n",
    "        wavelet = WaveletCausalRicker(f=5.0),\n",
    "        sx = sx[i],\n",
    "        sz = dz,\n",
    "        rx = dx*[0:1:nx-1;],\n",
    "        rz = 2*dz*ones(length(0:1:nx-1)),\n",
    "        srcfieldfile = \"$scratchdir/field-$i.$(randstring()).bin\",\n",
    "        reportinterval=1000)\n",
    "end"
   ]
  },
  {
   "cell_type": "code",
   "execution_count": null,
   "metadata": {},
   "outputs": [],
   "source": [
    "F = @blockop DArray(I->[makeF(i,sx) for i in I[1], j in I[2]], (nshots,1))"
   ]
  },
  {
   "cell_type": "code",
   "execution_count": null,
   "metadata": {
    "scrolled": true,
    "tags": []
   },
   "outputs": [],
   "source": [
    "d = F*v"
   ]
  },
  {
   "cell_type": "markdown",
   "metadata": {},
   "source": [
    "## Look at shot 4"
   ]
  },
  {
   "cell_type": "code",
   "execution_count": null,
   "metadata": {},
   "outputs": [],
   "source": [
    "ishot = 2\n",
    "trcs = getblock(d,ishot)\n",
    "imshow(trcs,aspect=\"auto\",cmap=\"gray\");clim(-1,1);colorbar();"
   ]
  },
  {
   "cell_type": "markdown",
   "metadata": {},
   "source": [
    "## Remove source field files on local disk"
   ]
  },
  {
   "cell_type": "code",
   "execution_count": null,
   "metadata": {},
   "outputs": [],
   "source": [
    "close(F)"
   ]
  },
  {
   "cell_type": "markdown",
   "metadata": {},
   "source": [
    "## Remove workers"
   ]
  },
  {
   "cell_type": "code",
   "execution_count": null,
   "metadata": {},
   "outputs": [],
   "source": [
    "rmprocs(workers())"
   ]
  },
  {
   "cell_type": "code",
   "execution_count": null,
   "metadata": {},
   "outputs": [],
   "source": []
  }
 ],
 "metadata": {
  "kernelspec": {
   "display_name": "Julia 1.5.1",
   "language": "julia",
   "name": "julia-1.5"
  },
  "language_info": {
   "file_extension": ".jl",
   "mimetype": "application/julia",
   "name": "julia",
   "version": "3.6.3-final"
  }
 },
 "nbformat": 4,
 "nbformat_minor": 4
}