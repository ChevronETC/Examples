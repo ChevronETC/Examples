{
 "cells": [
  {
   "cell_type": "code",
   "execution_count": 1,
   "metadata": {},
   "outputs": [],
   "source": [
    "using Distributed"
   ]
  },
  {
   "cell_type": "code",
   "execution_count": 2,
   "metadata": {},
   "outputs": [
    {
     "data": {
      "text/plain": [
       "2-element Array{Int64,1}:\n",
       " 2\n",
       " 3"
      ]
     },
     "execution_count": 2,
     "metadata": {},
     "output_type": "execute_result"
    }
   ],
   "source": [
    "addprocs(2)"
   ]
  },
  {
   "cell_type": "code",
   "execution_count": 3,
   "metadata": {},
   "outputs": [],
   "source": [
    "@everywhere using DistributedArrays, DistributedJets, Jets, JetPackWave, ParallelOperations, Schedulers, Wave"
   ]
  },
  {
   "cell_type": "code",
   "execution_count": 4,
   "metadata": {},
   "outputs": [
    {
     "name": "stdout",
     "output_type": "stream",
     "text": [
      "(dz, dx) = (0.02, 0.02)\n",
      "(nz, nx) = (151, 461)\n"
     ]
    }
   ],
   "source": [
    "v = read!(\"../marmousi_20m_nz151_nx461.bin\", Array{Float32}(undef, 151,461));\n",
    "dz,dx = 0.02,0.02\n",
    "nz,nx = size(v)\n",
    "@show dz,dx\n",
    "@show nz,nx;"
   ]
  },
  {
   "cell_type": "code",
   "execution_count": 5,
   "metadata": {},
   "outputs": [
    {
     "name": "stdout",
     "output_type": "stream",
     "text": [
      "nshots = 10\n"
     ]
    }
   ],
   "source": [
    "sx = (0.0:dx*50:(461-1)*0.02)\n",
    "nshots = length(sx)\n",
    "@show nshots;"
   ]
  },
  {
   "cell_type": "markdown",
   "metadata": {},
   "source": [
    "## Broadcast the velocity (v) to workers"
   ]
  },
  {
   "cell_type": "code",
   "execution_count": 6,
   "metadata": {},
   "outputs": [
    {
     "data": {
      "text/plain": [
       "ArrayFutures with pids=[2, 3, 1] and type (151, 461)"
      ]
     },
     "execution_count": 6,
     "metadata": {},
     "output_type": "execute_result"
    }
   ],
   "source": [
    "_v = bcast(v)"
   ]
  },
  {
   "cell_type": "markdown",
   "metadata": {},
   "source": [
    "## Build a list of keyword arguments to be passed to the modeling operator"
   ]
  },
  {
   "cell_type": "code",
   "execution_count": 9,
   "metadata": {},
   "outputs": [
    {
     "data": {
      "text/plain": [
       "(reportinterval = 0, freqQ = 5, srcfieldfile = \"\", nsponge = 200)"
      ]
     },
     "execution_count": 9,
     "metadata": {},
     "output_type": "execute_result"
    }
   ],
   "source": [
    "kwargs = (reportinterval = 0, freqQ=5, srcfieldfile=\"\", nsponge = 200)"
   ]
  },
  {
   "cell_type": "markdown",
   "metadata": {},
   "source": [
    "## Define function to be run by the Scheduler"
   ]
  },
  {
   "cell_type": "code",
   "execution_count": 12,
   "metadata": {},
   "outputs": [],
   "source": [
    "@everywhere function modelshot(isrc,sx,_v;kwargs...)\n",
    "    nz,nx,dz,dx = 151,461,0.02,0.02    \n",
    "    @info \"modeling shot $(isrc) on $(gethostname()) with id $(myid())...\"\n",
    "    F = JopNlProp2DAcoIsoDenQ_DEO2_FDTD(;\n",
    "        b = ones(Float32,nz,nx),\n",
    "        isinterior = true,\n",
    "        ntrec = 1101,\n",
    "        dtrec = 0.002,\n",
    "        dtmod = 0.001,\n",
    "        dz = dz,\n",
    "        dx = dx,\n",
    "        wavelet = WaveletCausalRicker(f=5.0),\n",
    "        sx = sx[isrc],\n",
    "        sz = dz,\n",
    "        rx = dx*[0:0.5:nx-1;],\n",
    "        rz = 2*dz*ones(length(0:0.5:nx-1)),\n",
    "        kwargs...)\n",
    "    \n",
    "    d = F*_v\n",
    "    @info \"...done modeling shot $(isrc) on $(gethostname()) with id $(myid())\"\n",
    "    @info \"extrema of shot $(isrc) is $(extrema(d))\"\n",
    "    nothing\n",
    "end"
   ]
  },
  {
   "cell_type": "markdown",
   "metadata": {},
   "source": [
    "## Use cvxpmap to schedule tasks to workers (dynamic schedule)"
   ]
  },
  {
   "cell_type": "code",
   "execution_count": 13,
   "metadata": {
    "scrolled": true
   },
   "outputs": [
    {
     "name": "stderr",
     "output_type": "stream",
     "text": [
      "[ Info: modeling shot 2 on sal-gate0352.gcn0.chevron.net with id 3...\n",
      "[ Info: modeling shot 1 on sal-gate0352.gcn0.chevron.net with id 2...\n",
      "[ Info: ...done modeling shot 2 on sal-gate0352.gcn0.chevron.net with id 3\n",
      "[ Info: extrema of shot 2 is (-6.126741f-5, 0.00011243532f0)\n",
      "[ Info: modeling shot 3 on sal-gate0352.gcn0.chevron.net with id 3...\n",
      "[ Info: ...done modeling shot 1 on sal-gate0352.gcn0.chevron.net with id 2\n",
      "[ Info: extrema of shot 1 is (-6.1267005f-5, 0.000112433096f0)\n",
      "[ Info: modeling shot 4 on sal-gate0352.gcn0.chevron.net with id 2...\n",
      "[ Info: ...done modeling shot 3 on sal-gate0352.gcn0.chevron.net with id 3\n",
      "[ Info: extrema of shot 3 is (-6.147483f-5, 0.00011341105f0)\n",
      "[ Info: modeling shot 5 on sal-gate0352.gcn0.chevron.net with id 3...\n",
      "[ Info: ...done modeling shot 4 on sal-gate0352.gcn0.chevron.net with id 2\n",
      "[ Info: extrema of shot 4 is (-6.059044f-5, 0.00011074651f0)\n",
      "[ Info: modeling shot 6 on sal-gate0352.gcn0.chevron.net with id 2...\n",
      "[ Info: ...done modeling shot 5 on sal-gate0352.gcn0.chevron.net with id 3\n",
      "[ Info: extrema of shot 5 is (-6.0665916f-5, 0.00011091517f0)\n",
      "[ Info: modeling shot 7 on sal-gate0352.gcn0.chevron.net with id 3...\n",
      "[ Info: ...done modeling shot 6 on sal-gate0352.gcn0.chevron.net with id 2\n",
      "[ Info: extrema of shot 6 is (-6.122167f-5, 0.00011261975f0)\n",
      "[ Info: modeling shot 8 on sal-gate0352.gcn0.chevron.net with id 2...\n",
      "[ Info: ...done modeling shot 7 on sal-gate0352.gcn0.chevron.net with id 3\n",
      "[ Info: extrema of shot 7 is (-6.296103f-5, 0.000115938325f0)\n",
      "[ Info: modeling shot 9 on sal-gate0352.gcn0.chevron.net with id 3...\n",
      "[ Info: ...done modeling shot 8 on sal-gate0352.gcn0.chevron.net with id 2\n",
      "[ Info: extrema of shot 8 is (-6.134531f-5, 0.00011310661f0)\n",
      "[ Info: modeling shot 10 on sal-gate0352.gcn0.chevron.net with id 2...\n",
      "[ Info: ...done modeling shot 9 on sal-gate0352.gcn0.chevron.net with id 3\n",
      "[ Info: extrema of shot 9 is (-6.1044586f-5, 0.000112540154f0)\n",
      "[ Info: ...done modeling shot 10 on sal-gate0352.gcn0.chevron.net with id 2\n",
      "[ Info: extrema of shot 10 is (-6.225023f-5, 0.000114342765f0)\n"
     ]
    }
   ],
   "source": [
    "cvxpmap(i->modelshot(i,sx,localpart(_v);kwargs...), 1:nshots)"
   ]
  },
  {
   "cell_type": "markdown",
   "metadata": {},
   "source": [
    "## Remove workers"
   ]
  },
  {
   "cell_type": "code",
   "execution_count": 14,
   "metadata": {},
   "outputs": [
    {
     "data": {
      "text/plain": [
       "Task (done) @0x00002adfb5ce8760"
      ]
     },
     "execution_count": 14,
     "metadata": {},
     "output_type": "execute_result"
    }
   ],
   "source": [
    "rmprocs(workers())"
   ]
  }
 ],
 "metadata": {
  "kernelspec": {
   "display_name": "julia 1.4.0",
   "language": "julia",
   "name": "julia-1.4"
  },
  "language_info": {
   "file_extension": ".jl",
   "mimetype": "application/julia",
   "name": "julia",
   "version": "1.4.0"
  }
 },
 "nbformat": 4,
 "nbformat_minor": 4
}
