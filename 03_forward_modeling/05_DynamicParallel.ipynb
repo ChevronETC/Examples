{
 "cells": [
  {
   "cell_type": "code",
   "execution_count": 2,
   "metadata": {},
   "outputs": [],
   "source": [
    "using Distributed"
   ]
  },
  {
   "cell_type": "code",
   "execution_count": 3,
   "metadata": {},
   "outputs": [
    {
     "output_type": "execute_result",
     "data": {
      "text/plain": [
       "2-element Array{Int64,1}:\n",
       " 2\n",
       " 3"
      ]
     },
     "metadata": {},
     "execution_count": 3
    }
   ],
   "source": [
    "addprocs(2)"
   ]
  },
  {
   "cell_type": "code",
   "execution_count": 4,
   "metadata": {
    "tags": []
   },
   "outputs": [
    {
     "output_type": "stream",
     "name": "stderr",
     "text": [
      "┌ Info: Precompiling Schedulers [fcb5363a-df8d-57f1-a64b-7615e60d793b]\n└ @ Base loading.jl:1278\n"
     ]
    }
   ],
   "source": [
    "@everywhere using DistributedArrays, DistributedJets, Jets, WaveFD, JetPackWaveFD, DistributedOperations, Schedulers"
   ]
  },
  {
   "cell_type": "code",
   "execution_count": 5,
   "metadata": {
    "tags": []
   },
   "outputs": [
    {
     "output_type": "stream",
     "name": "stdout",
     "text": [
      "(dz, dx) = (20.0, 20.0)\n(nz, nx) = (176, 851)\n"
     ]
    }
   ],
   "source": [
    "v = read!(\"../02_marmousi_model_setup/marmousi_vp_20m_176x851.bin\", Array{Float32}(undef, 176,851));\n",
    "dz,dx = 20.0,20.0\n",
    "nz,nx = size(v)\n",
    "@show dz,dx\n",
    "@show nz,nx;"
   ]
  },
  {
   "cell_type": "code",
   "execution_count": 6,
   "metadata": {
    "tags": []
   },
   "outputs": [
    {
     "output_type": "stream",
     "name": "stdout",
     "text": [
      "nshots = 4\n"
     ]
    }
   ],
   "source": [
    "sx = range(0,length=4,stop=(851-1)*20)\n",
    "nshots = length(sx)\n",
    "@show nshots;"
   ]
  },
  {
   "cell_type": "markdown",
   "metadata": {},
   "source": [
    "## Broadcast the velocity (v) to workers"
   ]
  },
  {
   "cell_type": "code",
   "execution_count": 7,
   "metadata": {},
   "outputs": [
    {
     "output_type": "execute_result",
     "data": {
      "text/plain": [
       "ArrayFutures with pids=[2, 3, 1] and type (176, 851)"
      ]
     },
     "metadata": {},
     "execution_count": 7
    }
   ],
   "source": [
    "_v = bcast(v)"
   ]
  },
  {
   "cell_type": "markdown",
   "metadata": {},
   "source": [
    "## Build a list of keyword arguments to be passed to the modeling operator"
   ]
  },
  {
   "cell_type": "code",
   "execution_count": 8,
   "metadata": {},
   "outputs": [
    {
     "output_type": "execute_result",
     "data": {
      "text/plain": [
       "(reportinterval = 0, freqQ = 5, srcfieldfile = \"\", nsponge = 200)"
      ]
     },
     "metadata": {},
     "execution_count": 8
    }
   ],
   "source": [
    "kwargs = (reportinterval = 0, freqQ=5, srcfieldfile=\"\", nsponge = 200)"
   ]
  },
  {
   "cell_type": "markdown",
   "metadata": {},
   "source": [
    "## Define function to be run by the Scheduler"
   ]
  },
  {
   "cell_type": "code",
   "execution_count": 11,
   "metadata": {},
   "outputs": [],
   "source": [
    "@everywhere function modelshot(isrc,sx,_v; kwargs...)\n",
    "    nz,nx,dz,dx = 176,851,20.0,20.0   \n",
    "    @info \"modeling shot $(isrc) on $(gethostname()) with id $(myid())...\"\n",
    "    F = JopNlProp2DAcoIsoDenQ_DEO2_FDTD(;\n",
    "        b = ones(Float32,nz,nx),\n",
    "        nthreads = div(Sys.CPU_THREADS,2),\n",
    "        isinterior = true,\n",
    "        ntrec = 1101,\n",
    "        dtrec = 0.002,\n",
    "        dtmod = 0.001,\n",
    "        dz = dz,\n",
    "        dx = dx,\n",
    "        wavelet = WaveletCausalRicker(f=5.0),\n",
    "        sx = sx[isrc],\n",
    "        sz = dz,\n",
    "        rx = dx*[0:1:nx-1;],\n",
    "        rz = 2*dz*ones(length(0:1:nx-1)),\n",
    "        kwargs...)\n",
    "    \n",
    "    d = F*_v\n",
    "    @info \"...done modeling shot $(isrc) on $(gethostname()) with id $(myid())\"\n",
    "    @info \"extrema of shot $(isrc) is $(extrema(d))\"\n",
    "\n",
    "    # typically write to cloud storage here\n",
    "    nothing\n",
    "end"
   ]
  },
  {
   "cell_type": "markdown",
   "metadata": {},
   "source": [
    "## Use cvxpmap to schedule tasks to workers (dynamic schedule)"
   ]
  },
  {
   "cell_type": "code",
   "execution_count": 13,
   "metadata": {
    "scrolled": true,
    "tags": []
   },
   "outputs": [
    {
     "output_type": "stream",
     "name": "stderr",
     "text": [
      "┌ Info: running task 1 on process 3; 2 workers total; 3 tasks left in task-pool.\n",
      "└ @ Schedulers /home/cvx/.julia/dev/Schedulers/src/Schedulers.jl:159\n",
      "┌ Info: running task 2 on process 2; 2 workers total; 2 tasks left in task-pool.\n",
      "└ @ Schedulers /home/cvx/.julia/dev/Schedulers/src/Schedulers.jl:159\n",
      "[ Info: modeling shot 2 on cbox-wask-D16s-v3 with id 2...\n",
      "[ Info: modeling shot 1 on cbox-wask-D16s-v3 with id 3...\n",
      "[ Info: ...done modeling shot 2 on cbox-wask-D16s-v3 with id 2\n",
      "[ Info: ...done modeling shot 1 on cbox-wask-D16s-v3 with id 3\n",
      "[ Info: extrema of shot 2 is (-58.7598f0, 107.51882f0)\n",
      "┌ Info: running task 3 on process 2; 2 workers total; 1 tasks left in task-pool.\n",
      "└ @ Schedulers /home/cvx/.julia/dev/Schedulers/src/Schedulers.jl:159\n",
      "[ Info: modeling shot 3 on cbox-wask-D16s-v3 with id 2...\n",
      "[ Info: extrema of shot 1 is (-59.97956f0, 109.98762f0)\n",
      "┌ Info: running task 4 on process 3; 2 workers total; 0 tasks left in task-pool.\n",
      "└ @ Schedulers /home/cvx/.julia/dev/Schedulers/src/Schedulers.jl:159\n",
      "[ Info: modeling shot 4 on cbox-wask-D16s-v3 with id 3...\n",
      "[ Info: ...done modeling shot 3 on cbox-wask-D16s-v3 with id 2\n",
      "[ Info: extrema of shot 3 is (-58.759815f0, 107.51906f0)\n",
      "[ Info: ...done modeling shot 4 on cbox-wask-D16s-v3 with id 3\n",
      "[ Info: extrema of shot 4 is (-59.980938f0, 109.977776f0)\n"
     ]
    }
   ],
   "source": [
    "epmap(i->modelshot(i,sx,localpart(_v);kwargs...), 1:nshots)"
   ]
  },
  {
   "cell_type": "markdown",
   "metadata": {},
   "source": [
    "## Remove workers"
   ]
  },
  {
   "cell_type": "code",
   "execution_count": 14,
   "metadata": {},
   "outputs": [
    {
     "output_type": "execute_result",
     "data": {
      "text/plain": [
       "Task (done) @0x00007fbe1b3e2230"
      ]
     },
     "metadata": {},
     "execution_count": 14
    }
   ],
   "source": [
    "rmprocs(workers())"
   ]
  },
  {
   "cell_type": "code",
   "execution_count": null,
   "metadata": {},
   "outputs": [],
   "source": []
  }
 ],
 "metadata": {
  "kernelspec": {
   "display_name": "Julia 1.5.1",
   "language": "julia",
   "name": "julia-1.5"
  },
  "language_info": {
   "file_extension": ".jl",
   "mimetype": "application/julia",
   "name": "julia",
   "version": "3.6.3-final"
  }
 },
 "nbformat": 4,
 "nbformat_minor": 4
}