{
 "cells": [
  {
   "cell_type": "markdown",
   "metadata": {},
   "source": [
    "# Distributed modeling with dynamic schedule\n",
    "We demonstrate dynamic scheduling using 2 workers to model 8 shots across Marmousi."
   ]
  },
  {
   "cell_type": "code",
   "execution_count": 1,
   "metadata": {},
   "outputs": [],
   "source": [
    "using Distributed"
   ]
  },
  {
   "cell_type": "code",
   "execution_count": 2,
   "metadata": {},
   "outputs": [
    {
     "data": {
      "text/plain": [
       "2-element Array{Int64,1}:\n",
       " 2\n",
       " 3"
      ]
     },
     "execution_count": 2,
     "metadata": {},
     "output_type": "execute_result"
    }
   ],
   "source": [
    "addprocs(2)"
   ]
  },
  {
   "cell_type": "code",
   "execution_count": 3,
   "metadata": {
    "tags": []
   },
   "outputs": [],
   "source": [
    "@everywhere using DistributedArrays, DistributedJets, Jets, WaveFD, JetPackWaveFD, DistributedOperations, Schedulers, Random"
   ]
  },
  {
   "cell_type": "code",
   "execution_count": 4,
   "metadata": {
    "tags": []
   },
   "outputs": [
    {
     "name": "stdout",
     "output_type": "stream",
     "text": [
      "(dz, dx) = (20.0, 20.0)\n",
      "(nz, nx) = (176, 851)\n"
     ]
    }
   ],
   "source": [
    "v = read!(\"../02_marmousi_model_setup/marmousi_vp_20m_176x851.bin\", Array{Float32}(undef,176,851));\n",
    "dz,dx = 20.0,20.0\n",
    "nz,nx = size(v)\n",
    "@show dz,dx\n",
    "@show nz,nx;"
   ]
  },
  {
   "cell_type": "code",
   "execution_count": 5,
   "metadata": {
    "tags": []
   },
   "outputs": [
    {
     "name": "stdout",
     "output_type": "stream",
     "text": [
      "nshots = 8\n"
     ]
    }
   ],
   "source": [
    "sx = range(0,length=8,stop=(851-1)*20)\n",
    "nshots = length(sx)\n",
    "@show nshots;"
   ]
  },
  {
   "cell_type": "markdown",
   "metadata": {},
   "source": [
    "## Broadcast the velocity (v) to workers"
   ]
  },
  {
   "cell_type": "code",
   "execution_count": 6,
   "metadata": {},
   "outputs": [
    {
     "data": {
      "text/plain": [
       "ArrayFutures with pids=[2, 3, 1] and type (176, 851)"
      ]
     },
     "execution_count": 6,
     "metadata": {},
     "output_type": "execute_result"
    }
   ],
   "source": [
    "_v = bcast(v)"
   ]
  },
  {
   "cell_type": "markdown",
   "metadata": {},
   "source": [
    "## Build a list of keyword arguments to be passed to the modeling operator"
   ]
  },
  {
   "cell_type": "code",
   "execution_count": 7,
   "metadata": {},
   "outputs": [
    {
     "data": {
      "text/plain": [
       "(reportinterval = 0, freqQ = 5, srcfieldfile = \"\", nsponge = 200)"
      ]
     },
     "execution_count": 7,
     "metadata": {},
     "output_type": "execute_result"
    }
   ],
   "source": [
    "kwargs = (reportinterval = 0, freqQ=5, srcfieldfile=\"\", nsponge = 200)"
   ]
  },
  {
   "cell_type": "markdown",
   "metadata": {},
   "source": [
    "## Note on scratch space for temporary files\n",
    "When dealing with multiple serialized nonlinear wavefields as in this example, we need to specify the location where scratch files will be written.\n",
    "\n",
    "You may need to change this to point to a temporary directory available on your system."
   ]
  },
  {
   "cell_type": "code",
   "execution_count": 8,
   "metadata": {},
   "outputs": [],
   "source": [
    "@everywhere scratch = \"/mnt/scratch\"\n",
    "@assert isdir(scratch)"
   ]
  },
  {
   "cell_type": "markdown",
   "metadata": {},
   "source": [
    "## Define single shot function to be run by the Scheduler\n",
    "Typically modeled data would be written to storage in this function, but we omit that detail here."
   ]
  },
  {
   "cell_type": "code",
   "execution_count": 9,
   "metadata": {},
   "outputs": [],
   "source": [
    "@everywhere function modelshot(isrc, sx, _v; kwargs...)\n",
    "    nz,nx,dz,dx = 176,851,20.0,20.0   \n",
    "    @info \"modeling shot $(isrc) on $(gethostname()) with id $(myid())...\"\n",
    "    F = JopNlProp2DAcoIsoDenQ_DEO2_FDTD(;\n",
    "        b = ones(Float32,nz,nx),\n",
    "        nthreads = div(Sys.CPU_THREADS,2),\n",
    "        isinterior = true,\n",
    "        ntrec = 1101,\n",
    "        dtrec = 0.002,\n",
    "        dtmod = 0.001,\n",
    "        dz = dz,\n",
    "        dx = dx,\n",
    "        wavelet = WaveletCausalRicker(f=5.0),\n",
    "        sx = sx[isrc],\n",
    "        sz = dz,\n",
    "        rx = dx*[0:1:nx-1;],\n",
    "        rz = 2*dz*ones(length(0:1:nx-1)),\n",
    "        srcfieldfile = joinpath(scratch, \"field-$isrc.$(randstring()).bin\"),\n",
    "        reportinterval=1000,\n",
    "        kwargs...)\n",
    "    \n",
    "    d = F*_v\n",
    "    @info \"...done modeling shot $(isrc) on $(gethostname()) with id $(myid())\"\n",
    "    @info \"extrema of shot $(isrc) is $(extrema(d))\"\n",
    "\n",
    "    # typically write to cloud storage here\n",
    "    nothing\n",
    "end"
   ]
  },
  {
   "cell_type": "markdown",
   "metadata": {},
   "source": [
    "## Use cvxpmap to dynamically schedule tasks to workers\n",
    "Note that you may see the dynamic nature of the scheduling in that the shot numbers might not necessarily map monotonically to the process identifiers of the workers. "
   ]
  },
  {
   "cell_type": "code",
   "execution_count": 10,
   "metadata": {
    "scrolled": true,
    "tags": []
   },
   "outputs": [
    {
     "name": "stderr",
     "output_type": "stream",
     "text": [
      "┌ Info: running task 1 on process 2; 2 workers total; 7 tasks left in task-pool.\n",
      "└ @ Schedulers /home/cvx/.julia/dev/Schedulers/src/Schedulers.jl:159\n",
      "┌ Info: running task 2 on process 3; 2 workers total; 6 tasks left in task-pool.\n",
      "└ @ Schedulers /home/cvx/.julia/dev/Schedulers/src/Schedulers.jl:159\n",
      "[ Info: modeling shot 1 on cbox-wask-HB60rs with id 2...\n",
      "[ Info: modeling shot 2 on cbox-wask-HB60rs with id 3...\n",
      "[ Info: ...done modeling shot 1 on cbox-wask-HB60rs with id 2\n",
      "[ Info: ...done modeling shot 2 on cbox-wask-HB60rs with id 3\n",
      "[ Info: extrema of shot 1 is (-59.97956f0, 109.98762f0)\n",
      "┌ Info: running task 3 on process 2; 2 workers total; 5 tasks left in task-pool.\n",
      "└ @ Schedulers /home/cvx/.julia/dev/Schedulers/src/Schedulers.jl:159\n",
      "[ Info: modeling shot 3 on cbox-wask-HB60rs with id 2...\n",
      "[ Info: extrema of shot 2 is (-58.06025f0, 106.05499f0)\n",
      "┌ Info: running task 4 on process 3; 2 workers total; 4 tasks left in task-pool.\n",
      "└ @ Schedulers /home/cvx/.julia/dev/Schedulers/src/Schedulers.jl:159\n",
      "[ Info: modeling shot 4 on cbox-wask-HB60rs with id 3...\n",
      "[ Info: ...done modeling shot 3 on cbox-wask-HB60rs with id 2\n",
      "[ Info: extrema of shot 3 is (-59.749275f0, 109.51442f0)\n",
      "┌ Info: running task 5 on process 2; 2 workers total; 3 tasks left in task-pool.\n",
      "└ @ Schedulers /home/cvx/.julia/dev/Schedulers/src/Schedulers.jl:159\n",
      "[ Info: modeling shot 5 on cbox-wask-HB60rs with id 2...\n",
      "[ Info: ...done modeling shot 4 on cbox-wask-HB60rs with id 3\n",
      "[ Info: extrema of shot 4 is (-59.076317f0, 108.15668f0)\n",
      "┌ Info: running task 6 on process 3; 2 workers total; 2 tasks left in task-pool.\n",
      "└ @ Schedulers /home/cvx/.julia/dev/Schedulers/src/Schedulers.jl:159\n",
      "[ Info: modeling shot 6 on cbox-wask-HB60rs with id 3...\n",
      "[ Info: ...done modeling shot 5 on cbox-wask-HB60rs with id 2\n",
      "[ Info: extrema of shot 5 is (-59.076225f0, 108.15674f0)\n",
      "┌ Info: running task 7 on process 2; 2 workers total; 1 tasks left in task-pool.\n",
      "└ @ Schedulers /home/cvx/.julia/dev/Schedulers/src/Schedulers.jl:159\n",
      "[ Info: modeling shot 7 on cbox-wask-HB60rs with id 2...\n",
      "[ Info: ...done modeling shot 6 on cbox-wask-HB60rs with id 3\n",
      "[ Info: extrema of shot 6 is (-59.74925f0, 109.51461f0)\n",
      "┌ Info: running task 8 on process 3; 2 workers total; 0 tasks left in task-pool.\n",
      "└ @ Schedulers /home/cvx/.julia/dev/Schedulers/src/Schedulers.jl:159\n",
      "[ Info: modeling shot 8 on cbox-wask-HB60rs with id 3...\n",
      "[ Info: ...done modeling shot 7 on cbox-wask-HB60rs with id 2\n",
      "[ Info: extrema of shot 7 is (-58.06018f0, 106.054985f0)\n",
      "[ Info: ...done modeling shot 8 on cbox-wask-HB60rs with id 3\n",
      "[ Info: extrema of shot 8 is (-59.980938f0, 109.977776f0)\n"
     ]
    }
   ],
   "source": [
    "epmap(i->modelshot(i, sx, localpart(_v); kwargs...), 1:nshots)"
   ]
  },
  {
   "cell_type": "markdown",
   "metadata": {},
   "source": [
    "## Remove workers"
   ]
  },
  {
   "cell_type": "code",
   "execution_count": 11,
   "metadata": {},
   "outputs": [],
   "source": [
    "rmprocs(workers());"
   ]
  },
  {
   "cell_type": "code",
   "execution_count": null,
   "metadata": {},
   "outputs": [],
   "source": []
  }
 ],
 "metadata": {
  "kernelspec": {
   "display_name": "Julia 1.5.1",
   "language": "julia",
   "name": "julia-1.5"
  },
  "language_info": {
   "file_extension": ".jl",
   "mimetype": "application/julia",
   "name": "julia",
   "version": "1.5.1"
  }
 },
 "nbformat": 4,
 "nbformat_minor": 4
}
