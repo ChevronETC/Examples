{
 "cells": [
  {
   "cell_type": "markdown",
   "metadata": {},
   "source": [
    "# DistributedJets.jl\n",
    "Package that extends Jets to work with parallel distributed block operators.  This gives us a consistent way to book-keep distributed memory and computation.  It relies heavily on the community (public) DistributedArrays.jl package.\n",
    "* https://dev.azure.com/chevron/ETC-ESD-DistributedJets.jl\n",
    "* https://github.com/JuliaParallel/DistributedArrays.jl"
   ]
  },
  {
   "cell_type": "code",
   "execution_count": 1,
   "metadata": {},
   "outputs": [],
   "source": [
    "using Distributed"
   ]
  },
  {
   "cell_type": "code",
   "execution_count": 2,
   "metadata": {},
   "outputs": [
    {
     "data": {
      "text/plain": [
       "4-element Array{Int64,1}:\n",
       " 2\n",
       " 3\n",
       " 4\n",
       " 5"
      ]
     },
     "execution_count": 2,
     "metadata": {},
     "output_type": "execute_result"
    }
   ],
   "source": [
    "addprocs(4)"
   ]
  },
  {
   "cell_type": "code",
   "execution_count": 3,
   "metadata": {},
   "outputs": [],
   "source": [
    "@everywhere using DistributedArrays, DistributedJets, Jets, JetPack"
   ]
  },
  {
   "cell_type": "markdown",
   "metadata": {},
   "source": [
    "We use the same blockop macro as is used in Jets, but now passing in a distributed array rather than an array"
   ]
  },
  {
   "cell_type": "code",
   "execution_count": 4,
   "metadata": {},
   "outputs": [
    {
     "data": {
      "text/plain": [
       "\"Jet linear operator, (6,) → (8,)\""
      ]
     },
     "execution_count": 4,
     "metadata": {},
     "output_type": "execute_result"
    }
   ],
   "source": [
    "A = @blockop DArray(I->[JopDiagonal(rand(2)) for irow in I[1], icol in I[2]], (4,3), workers()[1:4], [2,2])"
   ]
  },
  {
   "cell_type": "markdown",
   "metadata": {},
   "source": [
    "### Where are my blocks\n",
    "We can use various methods to understand which processes store which blocks"
   ]
  },
  {
   "cell_type": "code",
   "execution_count": 5,
   "metadata": {},
   "outputs": [
    {
     "data": {
      "text/plain": [
       "2×2 Array{Int64,2}:\n",
       " 2  4\n",
       " 3  5"
      ]
     },
     "execution_count": 5,
     "metadata": {},
     "output_type": "execute_result"
    }
   ],
   "source": [
    "procs(A)"
   ]
  },
  {
   "cell_type": "code",
   "execution_count": 6,
   "metadata": {},
   "outputs": [
    {
     "data": {
      "text/plain": [
       "2×2 Array{Tuple{UnitRange{Int64},UnitRange{Int64}},2}:\n",
       " (1:2, 1:2)  (1:2, 3:3)\n",
       " (3:4, 1:2)  (3:4, 3:3)"
      ]
     },
     "execution_count": 6,
     "metadata": {},
     "output_type": "execute_result"
    }
   ],
   "source": [
    "blockmap(A)"
   ]
  },
  {
   "cell_type": "markdown",
   "metadata": {},
   "source": [
    "* pid 2 has row-blocks 1:1, and column blocks 1:2\n",
    "* pid 4 has row-blocks 1:2, and column blocks 3:3\n",
    "* pid 5 has row-blocks 3:4, and column blocks 1:2\n",
    "* pid 6 has row-blocks 3:4, and column blocks 3:3"
   ]
  },
  {
   "cell_type": "code",
   "execution_count": 7,
   "metadata": {},
   "outputs": [
    {
     "data": {
      "text/plain": [
       "(1:2, 1:2)"
      ]
     },
     "execution_count": 7,
     "metadata": {},
     "output_type": "execute_result"
    }
   ],
   "source": [
    "remotecall_fetch(localblockindices, 2, A)"
   ]
  },
  {
   "cell_type": "code",
   "execution_count": 8,
   "metadata": {},
   "outputs": [
    {
     "data": {
      "text/plain": [
       "(3:4, 1:2)"
      ]
     },
     "execution_count": 8,
     "metadata": {},
     "output_type": "execute_result"
    }
   ],
   "source": [
    "remotecall_fetch(localblockindices, 3, A)"
   ]
  },
  {
   "cell_type": "markdown",
   "metadata": {},
   "source": [
    "### Give me my blocks, please"
   ]
  },
  {
   "cell_type": "code",
   "execution_count": 9,
   "metadata": {},
   "outputs": [
    {
     "data": {
      "text/plain": [
       "\"Jet linear operator, (2,) → (2,)\""
      ]
     },
     "execution_count": 9,
     "metadata": {},
     "output_type": "execute_result"
    }
   ],
   "source": [
    "getblock(A,1,1) # fetches block 1,1, and passes a copy of it from pid 2 to the master."
   ]
  },
  {
   "cell_type": "code",
   "execution_count": 10,
   "metadata": {},
   "outputs": [
    {
     "data": {
      "text/plain": [
       "\"Jet linear operator, (2,) → (2,)\""
      ]
     },
     "execution_count": 10,
     "metadata": {},
     "output_type": "execute_result"
    }
   ],
   "source": [
    "remotecall_fetch(getblock, 2, A, 1, 1) # fetch block 1,1 and pass a reference to it on pid 2"
   ]
  },
  {
   "cell_type": "markdown",
   "metadata": {},
   "source": [
    "### distributed block arrays (DBArray)"
   ]
  },
  {
   "cell_type": "code",
   "execution_count": 11,
   "metadata": {},
   "outputs": [
    {
     "data": {
      "text/plain": [
       "8-element DBArray{Float64,Jets.BlockArray{Float64,Array{Float64,1}},Array{Jets.BlockArray{Float64,Array{Float64,1}},1}}:\n",
       " 0.3790743514711836\n",
       " 0.41456578695838675\n",
       " 0.7187793839661794\n",
       " 0.9362561035383368\n",
       " 0.2218421499548111\n",
       " 0.9883144704759292\n",
       " 0.7339269842777063\n",
       " 0.44343304428034824"
      ]
     },
     "execution_count": 11,
     "metadata": {},
     "output_type": "execute_result"
    }
   ],
   "source": [
    "d = rand(range(A))"
   ]
  },
  {
   "cell_type": "code",
   "execution_count": 12,
   "metadata": {},
   "outputs": [
    {
     "data": {
      "text/plain": [
       "2-element Array{Int64,1}:\n",
       " 2\n",
       " 3"
      ]
     },
     "execution_count": 12,
     "metadata": {},
     "output_type": "execute_result"
    }
   ],
   "source": [
    "procs(d)"
   ]
  },
  {
   "cell_type": "code",
   "execution_count": 13,
   "metadata": {},
   "outputs": [
    {
     "data": {
      "text/plain": [
       "2-element Array{UnitRange{Int64},1}:\n",
       " 1:2\n",
       " 3:4"
      ]
     },
     "execution_count": 13,
     "metadata": {},
     "output_type": "execute_result"
    }
   ],
   "source": [
    "blockmap(d)"
   ]
  },
  {
   "cell_type": "code",
   "execution_count": 14,
   "metadata": {},
   "outputs": [
    {
     "data": {
      "text/plain": [
       "6-element DBArray{Float64,Jets.BlockArray{Float64,Array{Float64,1}},Array{Jets.BlockArray{Float64,Array{Float64,1}},1}}:\n",
       " 0.06908913783527915\n",
       " 0.7790379950804056\n",
       " 0.5304942501451744\n",
       " 0.5900005577891902\n",
       " 0.09834516183875985\n",
       " 0.9429681374178167"
      ]
     },
     "execution_count": 14,
     "metadata": {},
     "output_type": "execute_result"
    }
   ],
   "source": [
    "m = rand(domain(A))"
   ]
  },
  {
   "cell_type": "code",
   "execution_count": 15,
   "metadata": {},
   "outputs": [
    {
     "data": {
      "text/plain": [
       "2-element Array{Int64,1}:\n",
       " 2\n",
       " 4"
      ]
     },
     "execution_count": 15,
     "metadata": {},
     "output_type": "execute_result"
    }
   ],
   "source": [
    "procs(m)"
   ]
  },
  {
   "cell_type": "code",
   "execution_count": 16,
   "metadata": {},
   "outputs": [
    {
     "data": {
      "text/plain": [
       "2-element Array{UnitRange{Int64},1}:\n",
       " 1:2\n",
       " 3:3"
      ]
     },
     "execution_count": 16,
     "metadata": {},
     "output_type": "execute_result"
    }
   ],
   "source": [
    "blockmap(m)"
   ]
  },
  {
   "cell_type": "code",
   "execution_count": 17,
   "metadata": {},
   "outputs": [
    {
     "data": {
      "text/plain": [
       "2-element Array{Float64,1}:\n",
       " 0.3790743514711836\n",
       " 0.41456578695838675"
      ]
     },
     "execution_count": 17,
     "metadata": {},
     "output_type": "execute_result"
    }
   ],
   "source": [
    "getblock(d, 1) # fetch block 1, and passes a copy of it from pid 2 to the master"
   ]
  },
  {
   "cell_type": "code",
   "execution_count": 18,
   "metadata": {},
   "outputs": [
    {
     "data": {
      "text/plain": [
       "8-element DBArray{Float64,Jets.BlockArray{Float64,Array{Float64,1}},Array{Jets.BlockArray{Float64,Array{Float64,1}},1}}:\n",
       " 1.0\n",
       " 1.0\n",
       " 0.7187793839661794\n",
       " 0.9362561035383368\n",
       " 0.2218421499548111\n",
       " 0.9883144704759292\n",
       " 0.7339269842777063\n",
       " 0.44343304428034824"
      ]
     },
     "execution_count": 18,
     "metadata": {},
     "output_type": "execute_result"
    }
   ],
   "source": [
    "setblock!(d, 1, ones(2)) # passes a new array from the master to pid 2, and assigns it to block 1\n",
    "d"
   ]
  },
  {
   "cell_type": "code",
   "execution_count": 19,
   "metadata": {},
   "outputs": [
    {
     "data": {
      "text/plain": [
       "2-element Array{Float64,1}:\n",
       " 1.0\n",
       " 1.0"
      ]
     },
     "execution_count": 19,
     "metadata": {},
     "output_type": "execute_result"
    }
   ],
   "source": [
    "remotecall_fetch(getblock, 2, d, 1) # on pid=2 we get a reference to the block"
   ]
  },
  {
   "cell_type": "code",
   "execution_count": 20,
   "metadata": {},
   "outputs": [
    {
     "data": {
      "text/plain": [
       "8-element DBArray{Float64,Jets.BlockArray{Float64,Array{Float64,1}},Array{Jets.BlockArray{Float64,Array{Float64,1}},1}}:\n",
       " 2.0\n",
       " 2.0\n",
       " 0.7187793839661794\n",
       " 0.9362561035383368\n",
       " 0.2218421499548111\n",
       " 0.9883144704759292\n",
       " 0.7339269842777063\n",
       " 0.44343304428034824"
      ]
     },
     "execution_count": 20,
     "metadata": {},
     "output_type": "execute_result"
    }
   ],
   "source": [
    "@everywhere function remotegetblock_mutating(d, i)\n",
    "    dᵢ = getblock(d, i)\n",
    "    dᵢ .= 2.0\n",
    "    nothing\n",
    "end\n",
    "remotecall_fetch(remotegetblock_mutating, 2, d, 1)\n",
    "d"
   ]
  },
  {
   "cell_type": "markdown",
   "metadata": {},
   "source": [
    "# Specialized distributed block operators\n",
    "\n",
    "## tall-and-skinny\n",
    "Block operators with a single column-block.  This specialization is often used in FWI.  The model is stored on the master."
   ]
  },
  {
   "cell_type": "code",
   "execution_count": 21,
   "metadata": {},
   "outputs": [
    {
     "data": {
      "text/plain": [
       "\"Jet linear operator, (2,) → (8,)\""
      ]
     },
     "execution_count": 21,
     "metadata": {},
     "output_type": "execute_result"
    }
   ],
   "source": [
    "A = @blockop DArray(I->[JopDiagonal(rand(2)) for irow=1:4, icol=1:1], (4,1))"
   ]
  },
  {
   "cell_type": "code",
   "execution_count": 22,
   "metadata": {},
   "outputs": [
    {
     "data": {
      "text/plain": [
       "4×1 Array{Tuple{UnitRange{Int64},UnitRange{Int64}},2}:\n",
       " (1:1, 1:1)\n",
       " (2:2, 1:1)\n",
       " (3:3, 1:1)\n",
       " (4:4, 1:1)"
      ]
     },
     "execution_count": 22,
     "metadata": {},
     "output_type": "execute_result"
    }
   ],
   "source": [
    "blockmap(A)"
   ]
  },
  {
   "cell_type": "code",
   "execution_count": 23,
   "metadata": {},
   "outputs": [
    {
     "data": {
      "text/plain": [
       "4-element Array{UnitRange{Int64},1}:\n",
       " 1:1\n",
       " 2:2\n",
       " 3:3\n",
       " 4:4"
      ]
     },
     "execution_count": 23,
     "metadata": {},
     "output_type": "execute_result"
    }
   ],
   "source": [
    "d = rand(range(A))\n",
    "blockmap(d)"
   ]
  },
  {
   "cell_type": "code",
   "execution_count": 24,
   "metadata": {},
   "outputs": [
    {
     "data": {
      "text/plain": [
       "2-element Array{Float64,1}:\n",
       " 0.577084499602095\n",
       " 0.8570311273320463"
      ]
     },
     "execution_count": 24,
     "metadata": {},
     "output_type": "execute_result"
    }
   ],
   "source": [
    "m = rand(domain(A))"
   ]
  },
  {
   "cell_type": "markdown",
   "metadata": {},
   "source": [
    "### sparse block diagonal\n",
    "This is the only sparse block operator that we support.  Supporting a larger variety of sparse layouts is possible, but would require an engineering effort to build a proper sparse distributed arrays package."
   ]
  },
  {
   "cell_type": "code",
   "execution_count": 25,
   "metadata": {},
   "outputs": [
    {
     "data": {
      "text/plain": [
       "\"Jet linear operator, (8,) → (8,)\""
      ]
     },
     "execution_count": 25,
     "metadata": {},
     "output_type": "execute_result"
    }
   ],
   "source": [
    "A = @blockop DArray(\n",
    "        I->[irow==icol ? JopDiagonal(rand(2)) : JopZeroBlock(JetSpace(Float64,2),JetSpace(Float64,2)) for irow in I[1], icol in I[2]],\n",
    "        (4,4),\n",
    "        workers()[1:4],\n",
    "        [4,1]) isdiag=true"
   ]
  },
  {
   "cell_type": "code",
   "execution_count": 26,
   "metadata": {},
   "outputs": [
    {
     "data": {
      "text/plain": [
       "4×1 Array{Int64,2}:\n",
       " 2\n",
       " 3\n",
       " 4\n",
       " 5"
      ]
     },
     "execution_count": 26,
     "metadata": {},
     "output_type": "execute_result"
    }
   ],
   "source": [
    "procs(A)"
   ]
  },
  {
   "cell_type": "code",
   "execution_count": 27,
   "metadata": {},
   "outputs": [
    {
     "data": {
      "text/plain": [
       "4×1 Array{Tuple{UnitRange{Int64},UnitRange{Int64}},2}:\n",
       " (1:1, 1:4)\n",
       " (2:2, 1:4)\n",
       " (3:3, 1:4)\n",
       " (4:4, 1:4)"
      ]
     },
     "execution_count": 27,
     "metadata": {},
     "output_type": "execute_result"
    }
   ],
   "source": [
    "blockmap(A)"
   ]
  },
  {
   "cell_type": "code",
   "execution_count": 28,
   "metadata": {},
   "outputs": [
    {
     "data": {
      "text/plain": [
       "4-element Array{UnitRange{Int64},1}:\n",
       " 1:1\n",
       " 2:2\n",
       " 3:3\n",
       " 4:4"
      ]
     },
     "execution_count": 28,
     "metadata": {},
     "output_type": "execute_result"
    }
   ],
   "source": [
    "d = rand(range(A))\n",
    "blockmap(d)"
   ]
  },
  {
   "cell_type": "code",
   "execution_count": 29,
   "metadata": {},
   "outputs": [
    {
     "data": {
      "text/plain": [
       "4-element Array{UnitRange{Int64},1}:\n",
       " 1:1\n",
       " 2:2\n",
       " 3:3\n",
       " 4:4"
      ]
     },
     "execution_count": 29,
     "metadata": {},
     "output_type": "execute_result"
    }
   ],
   "source": [
    "m = rand(domain(A))\n",
    "blockmap(m)"
   ]
  },
  {
   "cell_type": "markdown",
   "metadata": {},
   "source": [
    "# Common usage patterns"
   ]
  },
  {
   "cell_type": "markdown",
   "metadata": {},
   "source": [
    "## Create a block wavefield modeling operator from the geometry in a JavaSeis/CloudSeis file"
   ]
  },
  {
   "cell_type": "markdown",
   "metadata": {},
   "source": [
    "```julia\n",
    "@everywhere using DistributedArrays,DistributedJets,Jets,JetPackWave,TeaSeis,ParallelOperations\n",
    "\n",
    "function buildblock(ishot,ρ,io)\n",
    "    h = readframehdrs(io,ishot)\n",
    "    JopNlProp3DAcoIsoDenQ_DEO2_FDTD(\n",
    "        sz = -get(prop(io,\"SOU_ELEV\"), h, 1),\n",
    "        sy = get(prop(io,\"SOU_Y\"), h, 1),\n",
    "        sx = get(prop(io,\"SOU_X\"), h, 1),\n",
    "        rz = [-get(prop(io,\"REC_ELEV\"), h, i) for i = 1:fold(io,h)],\n",
    "        ry = [-get(prop(io,\"REC_Y\"), h, i) for i = 1:fold(io,h)],\n",
    "        rx = [-get(prop(io,\"REC_X\"), h, i) for i = 1:fold(io,h)],\n",
    "        ntrec = size(io,1),\n",
    "        dtrec = pincs(io,1),\n",
    "        dtmod = 0.0001,\n",
    "        b = 1 ./ ρ,\n",
    "        dz = 20.0,\n",
    "        dy = 20.0,\n",
    "        dx = 20.0)\n",
    "end\n",
    "\n",
    "function buildblocks(I,ρ_futures)\n",
    "    io = jsopen(\"data.js\")\n",
    "    ρ = localpart(ρ_futures)\n",
    "    F = [buildblock(ishot,ρ,io) for ishot in I[1], j in 1:1]\n",
    "    close(io)\n",
    "    F\n",
    "end\n",
    "\n",
    "io = jsopen(\"data.js\")\n",
    "nshots = size(io,3) # assume one shot per frame\n",
    "close(io)\n",
    "\n",
    "nz,ny,nx=512,512,512\n",
    "ρ = 1.0*ones(nz,ny,nx)\n",
    "ρ_futures = bcast(ρ)\n",
    "\n",
    "F = @blockop DArray(I->buildblocks(I, ρ_futures), (nshots,1))\n",
    "```"
   ]
  },
  {
   "cell_type": "markdown",
   "metadata": {},
   "source": [
    "## Populate a distributed block array from a JavaSeis/CloudSeis file"
   ]
  },
  {
   "cell_type": "markdown",
   "metadata": {},
   "source": [
    "```julia\n",
    "@everywhere function readblocks!(d)\n",
    "    io = jsopen(\"data.js\")\n",
    "    for ishot in localblockindices(d)\n",
    "        setblock!(d, ishot, readframetrcs(io, ishot))\n",
    "    end\n",
    "    close(io)\n",
    "end\n",
    "\n",
    "d = zeros(range(F))\n",
    "@sync for pid in procs(d)\n",
    "    @async remotecall_fetch(readblocks!, pid, d)\n",
    "end\n",
    "```"
   ]
  },
  {
   "cell_type": "markdown",
   "metadata": {},
   "source": [
    "### Computing cost over a set of shots from a distributed block array"
   ]
  },
  {
   "cell_type": "markdown",
   "metadata": {},
   "source": [
    "```julia\n",
    "@everywhere function costperpid(dmod, dobs)\n",
    "    phi = 0.0\n",
    "    for iblock in localblockindices(fmod)\n",
    "        phi += getblock(dobs,iblock) .- getblock(dmod,iblock)\n",
    "    end\n",
    "    phi\n",
    "end\n",
    "\n",
    "function cost(m, F, dobs)\n",
    "    dmod = F*m #F is a block operators\n",
    "    phi = zeros(nprocs(F))\n",
    "    @sync for (ipid,pid) in enumerate(procs(F))\n",
    "        @async begin\n",
    "            phi[ipid] = remotecall_fetch(costperpid, pid, dmod, dobs)\n",
    "        end\n",
    "    end\n",
    "    sum(phi)\n",
    "end\n",
    "\n",
    "phi = cost(m,F,dobs)\n",
    "```\n",
    "Note that the above can be done in a single line, but the pattern is useful for more interesting cost functions such as optimal transport.  For the above L2 case, the single line would be,\n",
    "```julia\n",
    "phi = 0.5*norm(F*m .- d).^2\n",
    "```"
   ]
  },
  {
   "cell_type": "code",
   "execution_count": null,
   "metadata": {},
   "outputs": [],
   "source": []
  }
 ],
 "metadata": {
  "kernelspec": {
   "display_name": "Julia 1.4.1",
   "language": "julia",
   "name": "julia-1.4"
  },
  "language_info": {
   "file_extension": ".jl",
   "mimetype": "application/julia",
   "name": "julia",
   "version": "1.4.1"
  }
 },
 "nbformat": 4,
 "nbformat_minor": 4
}
