{
 "cells": [
  {
   "cell_type": "markdown",
   "metadata": {},
   "source": [
    "# Jets.jl\n",
    "The Jets.jl package is a Chevron linear and nonlinear operator framework that is useful for building operators used in inverse problems, such as FWI. \n",
    "\n",
    "Jets operators are organized into operator packs:\n",
    "* JetPack.jl\n",
    "* JetPackDSP.jl\n",
    "* JetPackTransforms.jl\n",
    "* JetPackWave.jl\n",
    "* JetPackOptim.jl"
   ]
  },
  {
   "cell_type": "markdown",
   "metadata": {},
   "source": [
    "## Quick Data Reconstruction Example\n",
    "We will make a quick motivating example that performs data reconstruction.  We will not look at the example in detail, but the interested reader is invited to study it futher after we finish working through this notebook."
   ]
  },
  {
   "cell_type": "code",
   "execution_count": 1,
   "metadata": {},
   "outputs": [
    {
     "name": "stderr",
     "output_type": "stream",
     "text": [
      "┌ Info: Precompiling JetPack [24ef3835-3876-54c3-8a7a-956cf69ca0b2]\n",
      "└ @ Base loading.jl:1260\n",
      "┌ Info: Precompiling JetPackTransforms [e0630bc5-6e1f-509c-a3e4-0aea24bd2b1c]\n",
      "└ @ Base loading.jl:1260\n",
      "┌ Info: Precompiling PyPlot [d330b81b-6aea-500a-939a-2ce795aea3ee]\n",
      "└ @ Base loading.jl:1260\n"
     ]
    }
   ],
   "source": [
    "using Jets, JetPack, JetPackTransforms, PyPlot, Random, IterativeSolvers, JetPackDSP, "
   ]
  },
  {
   "cell_type": "code",
   "execution_count": 2,
   "metadata": {},
   "outputs": [
    {
     "name": "stdout",
     "output_type": "stream",
     "text": [
      "\u001b[?25l\u001b[2K"
     ]
    },
    {
     "name": "stderr",
     "output_type": "stream",
     "text": [
      "\u001b[32m\u001b[1m   Updating\u001b[22m\u001b[39m registry at `~/.julia/registries/ChevronETC`\n",
      "\u001b[32m\u001b[1m   Updating\u001b[22m\u001b[39m git-repo `git@ssh.dev.azure.com:v3/chevron/ETC-ESD-PkgRegistry.jl/PkgRegistry.jl`\n"
     ]
    },
    {
     "name": "stdout",
     "output_type": "stream",
     "text": [
      "\u001b[?25h"
     ]
    },
    {
     "name": "stderr",
     "output_type": "stream",
     "text": [
      "\u001b[32m\u001b[1m   Updating\u001b[22m\u001b[39m registry at `~/.julia/registries/General`\n"
     ]
    },
    {
     "name": "stdout",
     "output_type": "stream",
     "text": [
      "\u001b[?25l\u001b[2K"
     ]
    },
    {
     "name": "stderr",
     "output_type": "stream",
     "text": [
      "\u001b[32m\u001b[1m   Updating\u001b[22m\u001b[39m git-repo `https://github.com/JuliaRegistries/General.git`\n"
     ]
    },
    {
     "name": "stdout",
     "output_type": "stream",
     "text": [
      "\u001b[?25h"
     ]
    },
    {
     "name": "stderr",
     "output_type": "stream",
     "text": [
      "\u001b[32m\u001b[1m   Updating\u001b[22m\u001b[39m `~/.julia/environments/v1.4/Project.toml`\n",
      "\u001b[90m [no changes]\u001b[39m\n",
      "\u001b[32m\u001b[1m   Updating\u001b[22m\u001b[39m `~/.julia/environments/v1.4/Manifest.toml`\n",
      "\u001b[90m [no changes]\u001b[39m\n"
     ]
    }
   ],
   "source": [
    "]up JetPack"
   ]
  },
  {
   "cell_type": "code",
   "execution_count": 3,
   "metadata": {},
   "outputs": [
    {
     "data": {
      "text/plain": [
       "(-4.103609385030836, 4.235318472712118)"
      ]
     },
     "execution_count": 3,
     "metadata": {},
     "output_type": "execute_result"
    }
   ],
   "source": [
    "M = JetSpace(Complex{Float64},32)\n",
    "D = JetSpace(Complex{Float64},512)\n",
    "R = JopRestriction(D,M,[1:4:512;])\n",
    "S = JopFft(D)\n",
    "# x = rand(domain(S))\n",
    "t = [0:511;]*6*pi/511\n",
    "dtrue = (sin.(t) + cos.(t) + 2*sin.(8*t) + 2*cos.(8*t))\n",
    "d = R*dtrue\n",
    "m = S'*lsqr(R∘S',d)\n",
    "extrema(real(m))"
   ]
  },
  {
   "cell_type": "markdown",
   "metadata": {},
   "source": [
    "## Plot Spectrum of ?true? Data"
   ]
  },
  {
   "cell_type": "code",
   "execution_count": 4,
   "metadata": {},
   "outputs": [
    {
     "ename": "UndefVarError",
     "evalue": "UndefVarError: fftshift not defined",
     "output_type": "error",
     "traceback": [
      "UndefVarError: fftshift not defined",
      "",
      "Stacktrace:",
      " [1] buildtaper(::Int64, ::Array{Float64,1}, ::Symbol, ::Int64, ::Tuple{Symbol,Symbol}) at /home/cvx/.julia/packages/JetPack/1ZeqJ/src/jop_taper.jl:112",
      " [2] JopTaper_df!(::Array{Complex{Float64},1}, ::Array{Complex{Float64},1}; dim::Tuple{Int64}, prc::Array{Array{Float64,1},1}, mode::Tuple{Symbol}, taper::Tuple{Symbol,Symbol}, kwargs::Base.Iterators.Pairs{Symbol,Array{Complex{Float64},1},Tuple{Symbol},NamedTuple{(:mₒ,),Tuple{Array{Complex{Float64},1}}}}) at /home/cvx/.julia/packages/JetPack/1ZeqJ/src/jop_taper.jl:80",
      " [3] #df!#9 at /home/cvx/.julia/packages/Jets/X0rrg/src/Jets.jl:80 [inlined]",
      " [4] mul! at /home/cvx/.julia/packages/Jets/X0rrg/src/Jets.jl:169 [inlined]",
      " [5] * at /home/cvx/.julia/packages/Jets/X0rrg/src/Jets.jl:172 [inlined]",
      " [6] *(::JopLn{Jet{JetSpace{Complex{Float64},1},JetSpace{Complex{Float64},1},typeof(JetPack.JopTaper_df!),typeof(JetPack.JopTaper_df!),typeof(JetPack.JopTaper_df!),Jets.var\"#4#7\",Array{Complex{Float64},1},NamedTuple{(:dim, :prc, :mode, :taper),Tuple{Tuple{Int64},Array{Array{Float64,1},1},Tuple{Symbol},Tuple{Symbol,Symbol}}}}}, ::Array{Complex{Float64},1}, ::Int64) at ./operators.jl:529",
      " [7] top-level scope at In[4]:8"
     ]
    }
   ],
   "source": [
    "# Possibly add comments here to explain what each part means here (what is going on/what the vars and params mean)\n",
    "figure(figsize=(10,5))\n",
    "plot(fftfreq(length(dtrue)), real.(abs.(fft(dtrue)))./4)\n",
    "plot(fftfreq(length(d), 1/4), real.(abs.(fft(d))))\n",
    "\n",
    "T = JopTaper(domain(S), (1,), (0.05,), mode=:fft)\n",
    "f = T*ones(domain(T))*150\n",
    "plot(fftfreq(length(f)), real.(f))"
   ]
  },
  {
   "cell_type": "code",
   "execution_count": 5,
   "metadata": {},
   "outputs": [
    {
     "ename": "UndefVarError",
     "evalue": "UndefVarError: f not defined",
     "output_type": "error",
     "traceback": [
      "UndefVarError: f not defined",
      "",
      "Stacktrace:",
      " [1] top-level scope at In[5]:1"
     ]
    }
   ],
   "source": [
    "plot(real.(f))"
   ]
  },
  {
   "cell_type": "code",
   "execution_count": 6,
   "metadata": {},
   "outputs": [
    {
     "name": "stdout",
     "output_type": "stream",
     "text": [
      "search: \u001b[0m\u001b[1mJ\u001b[22m\u001b[0m\u001b[1mo\u001b[22m\u001b[0m\u001b[1mp\u001b[22m\u001b[0m\u001b[1mT\u001b[22m\u001b[0m\u001b[1ma\u001b[22m\u001b[0m\u001b[1mp\u001b[22m\u001b[0m\u001b[1me\u001b[22m\u001b[0m\u001b[1mr\u001b[22m\n",
      "\n"
     ]
    },
    {
     "data": {
      "text/latex": [
       "\\begin{verbatim}\n",
       "A = JopTaper(spc, dims, frac[, frac_end; mode=:normal, taper=(:cosine,:cosine)])\n",
       "\\end{verbatim}\n",
       "The linear operator \\texttt{A} tapers the edges of all or some subset of the dimensions of an array that belongs to \\texttt{spc::JetSpace}.  The dimensions that are tapered are given by \\texttt{dims}, an \\texttt{Int} tuple. \\texttt{A} will taper the beginning and/or end edges of each specified array dimension. The size of the beginning and end tapers are determined as a fraction of the length of that array dimension, and this fraction is set using the tuple \\texttt{frac}, and (optionally) \\texttt{frac\\_end}.\n",
       "\n",
       "If \\texttt{frac\\_end::NTuple\\{M,Float64\\}} is not set, then the ith entry of \\texttt{frac::NTuple\\{M,Float64\\}} determines the length of the center portion of the ith dimension that is not tapered.  If \\texttt{frac\\_end::NTuple\\{M,NTuple\\{2,Float64\\}\\}} is set, then the length of the begining taper of the ith array dimension is determiend by \\texttt{frac[i]}, and the length of the end taper is determined by \\texttt{frac\\_end[i]}.\n",
       "\n",
       "The optional named argument \\texttt{mode} can be used if the taper is applied to a dimension that corresponds to FFT ordering where the edges are assumed to be at the center and left ends of the dimension.\n",
       "\n",
       "The optional named argument \\texttt{taper} is a tuple specifying what type of taper to use at each end.  Available tapers are :cosine and :heviside.\n",
       "\n",
       "\\section{Examples:}\n",
       "\\subsection{taper for a space containing 1D arrays}\n",
       "\\begin{verbatim}\n",
       "A = JopTaper(JetSpace(Float64,10), (1,), (.75,))\n",
       "m = ones(domain(A))\n",
       "d = A*m\n",
       "\\end{verbatim}\n",
       "\\subsection{taper for a space containing 1D arrays, and only taper at the end}\n",
       "\\begin{verbatim}\n",
       "A = JopTaper(JetSpace(Float64,10), (1,), (0.0,), (0.25,))\n",
       "m = ones(domain(A))\n",
       "d = A*m\n",
       "\\end{verbatim}\n",
       "\\subsection{taper for a space containing 2D arrays, where both dimensions are tapered}\n",
       "\\begin{verbatim}\n",
       "A = JopTaper(JetSpace(Float64,10,11), (1,2), (0.75,0.5))\n",
       "m = ones(domain(A))\n",
       "d = A*m\n",
       "\\end{verbatim}\n",
       "\\subsection{taper for a space containing 3D arrays, where two of the three dimensions are tapered}\n",
       "\\begin{verbatim}\n",
       "A = JopTaper(JetSpace(Float64,10,11,12), (1,3), (0.75,0.5))\n",
       "m = ones(domain(A))\n",
       "d = A*m\n",
       "\\end{verbatim}\n",
       "In the next example, array dimension \\texttt{1} is tapered at the end, and array dimension \\texttt{2} is tapered at the beginning and end.\n",
       "\n",
       "\\begin{verbatim}\n",
       "A = JopTaper(JetSpace(Float64,10,11,12), (1,3), (0.0,0.25), (0.25,0.25))\n",
       "m = ones(domain(A))\n",
       "d = A*m\n",
       "\\end{verbatim}\n"
      ],
      "text/markdown": [
       "```\n",
       "A = JopTaper(spc, dims, frac[, frac_end; mode=:normal, taper=(:cosine,:cosine)])\n",
       "```\n",
       "\n",
       "The linear operator `A` tapers the edges of all or some subset of the dimensions of an array that belongs to `spc::JetSpace`.  The dimensions that are tapered are given by `dims`, an `Int` tuple. `A` will taper the beginning and/or end edges of each specified array dimension. The size of the beginning and end tapers are determined as a fraction of the length of that array dimension, and this fraction is set using the tuple `frac`, and (optionally) `frac_end`.\n",
       "\n",
       "If `frac_end::NTuple{M,Float64}` is not set, then the ith entry of `frac::NTuple{M,Float64}` determines the length of the center portion of the ith dimension that is not tapered.  If `frac_end::NTuple{M,NTuple{2,Float64}}` is set, then the length of the begining taper of the ith array dimension is determiend by `frac[i]`, and the length of the end taper is determined by `frac_end[i]`.\n",
       "\n",
       "The optional named argument `mode` can be used if the taper is applied to a dimension that corresponds to FFT ordering where the edges are assumed to be at the center and left ends of the dimension.\n",
       "\n",
       "The optional named argument `taper` is a tuple specifying what type of taper to use at each end.  Available tapers are :cosine and :heviside.\n",
       "\n",
       "# Examples:\n",
       "\n",
       "## taper for a space containing 1D arrays\n",
       "\n",
       "```julia\n",
       "A = JopTaper(JetSpace(Float64,10), (1,), (.75,))\n",
       "m = ones(domain(A))\n",
       "d = A*m\n",
       "```\n",
       "\n",
       "## taper for a space containing 1D arrays, and only taper at the end\n",
       "\n",
       "```julia\n",
       "A = JopTaper(JetSpace(Float64,10), (1,), (0.0,), (0.25,))\n",
       "m = ones(domain(A))\n",
       "d = A*m\n",
       "```\n",
       "\n",
       "## taper for a space containing 2D arrays, where both dimensions are tapered\n",
       "\n",
       "```julia\n",
       "A = JopTaper(JetSpace(Float64,10,11), (1,2), (0.75,0.5))\n",
       "m = ones(domain(A))\n",
       "d = A*m\n",
       "```\n",
       "\n",
       "## taper for a space containing 3D arrays, where two of the three dimensions are tapered\n",
       "\n",
       "```julia\n",
       "A = JopTaper(JetSpace(Float64,10,11,12), (1,3), (0.75,0.5))\n",
       "m = ones(domain(A))\n",
       "d = A*m\n",
       "```\n",
       "\n",
       "In the next example, array dimension `1` is tapered at the end, and array dimension `2` is tapered at the beginning and end.\n",
       "\n",
       "```julia\n",
       "A = JopTaper(JetSpace(Float64,10,11,12), (1,3), (0.0,0.25), (0.25,0.25))\n",
       "m = ones(domain(A))\n",
       "d = A*m\n",
       "```\n"
      ],
      "text/plain": [
       "\u001b[36m  A = JopTaper(spc, dims, frac[, frac_end; mode=:normal, taper=(:cosine,:cosine)])\u001b[39m\n",
       "\n",
       "  The linear operator \u001b[36mA\u001b[39m tapers the edges of all or some subset of the\n",
       "  dimensions of an array that belongs to \u001b[36mspc::JetSpace\u001b[39m. The dimensions that\n",
       "  are tapered are given by \u001b[36mdims\u001b[39m, an \u001b[36mInt\u001b[39m tuple. \u001b[36mA\u001b[39m will taper the beginning\n",
       "  and/or end edges of each specified array dimension. The size of the\n",
       "  beginning and end tapers are determined as a fraction of the length of that\n",
       "  array dimension, and this fraction is set using the tuple \u001b[36mfrac\u001b[39m, and\n",
       "  (optionally) \u001b[36mfrac_end\u001b[39m.\n",
       "\n",
       "  If \u001b[36mfrac_end::NTuple{M,Float64}\u001b[39m is not set, then the ith entry of\n",
       "  \u001b[36mfrac::NTuple{M,Float64}\u001b[39m determines the length of the center portion of the\n",
       "  ith dimension that is not tapered. If \u001b[36mfrac_end::NTuple{M,NTuple{2,Float64}}\u001b[39m\n",
       "  is set, then the length of the begining taper of the ith array dimension is\n",
       "  determiend by \u001b[36mfrac[i]\u001b[39m, and the length of the end taper is determined by\n",
       "  \u001b[36mfrac_end[i]\u001b[39m.\n",
       "\n",
       "  The optional named argument \u001b[36mmode\u001b[39m can be used if the taper is applied to a\n",
       "  dimension that corresponds to FFT ordering where the edges are assumed to be\n",
       "  at the center and left ends of the dimension.\n",
       "\n",
       "  The optional named argument \u001b[36mtaper\u001b[39m is a tuple specifying what type of taper\n",
       "  to use at each end. Available tapers are :cosine and :heviside.\n",
       "\n",
       "\u001b[1m  Examples:\u001b[22m\n",
       "\u001b[1m  ≡≡≡≡≡≡≡≡≡≡≡\u001b[22m\n",
       "\n",
       "\u001b[1m  taper for a space containing 1D arrays\u001b[22m\n",
       "\u001b[1m  ========================================\u001b[22m\n",
       "\n",
       "\u001b[36m  A = JopTaper(JetSpace(Float64,10), (1,), (.75,))\u001b[39m\n",
       "\u001b[36m  m = ones(domain(A))\u001b[39m\n",
       "\u001b[36m  d = A*m\u001b[39m\n",
       "\n",
       "\u001b[1m  taper for a space containing 1D arrays, and only taper at the end\u001b[22m\n",
       "\u001b[1m  ===================================================================\u001b[22m\n",
       "\n",
       "\u001b[36m  A = JopTaper(JetSpace(Float64,10), (1,), (0.0,), (0.25,))\u001b[39m\n",
       "\u001b[36m  m = ones(domain(A))\u001b[39m\n",
       "\u001b[36m  d = A*m\u001b[39m\n",
       "\n",
       "\u001b[1m  taper for a space containing 2D arrays, where both dimensions are\u001b[22m\n",
       "\u001b[1m tapered\u001b[22m\n",
       "\u001b[1m  ==========================\u001b[22m\n",
       "\n",
       "\u001b[36m  A = JopTaper(JetSpace(Float64,10,11), (1,2), (0.75,0.5))\u001b[39m\n",
       "\u001b[36m  m = ones(domain(A))\u001b[39m\n",
       "\u001b[36m  d = A*m\u001b[39m\n",
       "\n",
       "\u001b[1m  taper for a space containing 3D arrays, where two of the three\u001b[22m\n",
       "\u001b[1m dimensions are tapered\u001b[22m\n",
       "\u001b[1m  ==========================\u001b[22m\n",
       "\n",
       "\u001b[36m  A = JopTaper(JetSpace(Float64,10,11,12), (1,3), (0.75,0.5))\u001b[39m\n",
       "\u001b[36m  m = ones(domain(A))\u001b[39m\n",
       "\u001b[36m  d = A*m\u001b[39m\n",
       "\n",
       "  In the next example, array dimension \u001b[36m1\u001b[39m is tapered at the end, and array\n",
       "  dimension \u001b[36m2\u001b[39m is tapered at the beginning and end.\n",
       "\n",
       "\u001b[36m  A = JopTaper(JetSpace(Float64,10,11,12), (1,3), (0.0,0.25), (0.25,0.25))\u001b[39m\n",
       "\u001b[36m  m = ones(domain(A))\u001b[39m\n",
       "\u001b[36m  d = A*m\u001b[39m"
      ]
     },
     "execution_count": 6,
     "metadata": {},
     "output_type": "execute_result"
    }
   ],
   "source": [
    "?JopTaper"
   ]
  },
  {
   "cell_type": "markdown",
   "metadata": {},
   "source": [
    "## Plot Result"
   ]
  },
  {
   "cell_type": "code",
   "execution_count": 7,
   "metadata": {},
   "outputs": [
    {
     "data": {
      "image/png": "[encoded data removed]",
      "text/plain": [
       "Figure(PyObject <Figure size 1000x500 with 1 Axes>)"
      ]
     },
     "metadata": {},
     "output_type": "display_data"
    },
    {
     "data": {
      "text/plain": [
       "1-element Array{PyCall.PyObject,1}:\n",
       " PyObject <matplotlib.lines.Line2D object at 0x7f80b58b9630>"
      ]
     },
     "execution_count": 7,
     "metadata": {},
     "output_type": "execute_result"
    }
   ],
   "source": [
    "figure(figsize=(10,5))\n",
    "plot(t,real(m))\n",
    "plot(R*t,d,\"o\")"
   ]
  },
  {
   "cell_type": "markdown",
   "metadata": {},
   "source": [
    "## Band(width?) limiting\n",
    "Now we need to band limit the result to fix it (it didn't work as you can see)."
   ]
  },
  {
   "cell_type": "code",
   "execution_count": 8,
   "metadata": {},
   "outputs": [
    {
     "ename": "UndefVarError",
     "evalue": "UndefVarError: fftshift not defined",
     "output_type": "error",
     "traceback": [
      "UndefVarError: fftshift not defined",
      "",
      "Stacktrace:",
      " [1] buildtaper(::Int64, ::Array{Float64,1}, ::Symbol, ::Int64, ::Tuple{Symbol,Symbol}) at /home/cvx/.julia/packages/JetPack/1ZeqJ/src/jop_taper.jl:112",
      " [2] JopTaper_df!(::Array{Complex{Float64},1}, ::Array{Complex{Float64},1}; dim::Tuple{Int64}, prc::Array{Array{Float64,1},1}, mode::Tuple{Symbol}, taper::Tuple{Symbol,Symbol}, kwargs::Base.Iterators.Pairs{Symbol,Array{Complex{Float64},1},Tuple{Symbol},NamedTuple{(:mₒ,),Tuple{Array{Complex{Float64},1}}}}) at /home/cvx/.julia/packages/JetPack/1ZeqJ/src/jop_taper.jl:80",
      " [3] #df!#9 at /home/cvx/.julia/packages/Jets/X0rrg/src/Jets.jl:80 [inlined]",
      " [4] mul!(::Array{Complex{Float64},1}, ::JopLn{Jet{JetSpace{Complex{Float64},1},JetSpace{Complex{Float64},1},typeof(JetPack.JopTaper_df!),typeof(JetPack.JopTaper_df!),typeof(JetPack.JopTaper_df!),Jets.var\"#4#7\",Array{Complex{Float64},1},NamedTuple{(:dim, :prc, :mode, :taper),Tuple{Tuple{Int64},Array{Array{Float64,1},1},Tuple{Symbol},Tuple{Symbol,Symbol}}}}}, ::Array{Complex{Float64},1}) at /home/cvx/.julia/packages/Jets/X0rrg/src/Jets.jl:169",
      " [5] (::Jets.var\"#22#24\"{Int64,Tuple{JopLn{Jet{JetSpace{Complex{Float64},1},JetSpace{Complex{Float64},1},typeof(JetPack.JopRestriction_df!),typeof(JetPack.JopRestriction_df!),typeof(JetPack.JopRestriction_df′!),Jets.var\"#4#7\",Array{Complex{Float64},1},NamedTuple{(:indices,),Tuple{Array{CartesianIndex{1},1}}}}},JopAdjoint{Jet{JetSpace{Complex{Float64},1},JetSpace{Complex{Float64},1},typeof(JetPackTransforms.JopFft_df!),typeof(JetPackTransforms.JopFft_df!),typeof(JetPackTransforms.JopFft_df′!),Jets.var\"#4#7\",Array{Complex{Float64},1},NamedTuple{(:dims,),Tuple{Tuple{Int64}}}},JopLn{Jet{JetSpace{Complex{Float64},1},JetSpace{Complex{Float64},1},typeof(JetPackTransforms.JopFft_df!),typeof(JetPackTransforms.JopFft_df!),typeof(JetPackTransforms.JopFft_df′!),Jets.var\"#4#7\",Array{Complex{Float64},1},NamedTuple{(:dims,),Tuple{Tuple{Int64}}}}}},JopLn{Jet{JetSpace{Complex{Float64},1},JetSpace{Complex{Float64},1},typeof(JetPack.JopTaper_df!),typeof(JetPack.JopTaper_df!),typeof(JetPack.JopTaper_df!),Jets.var\"#4#7\",Array{Complex{Float64},1},NamedTuple{(:dim, :prc, :mode, :taper),Tuple{Tuple{Int64},Array{Array{Float64,1},1},Tuple{Symbol},Tuple{Symbol,Symbol}}}}}}})(::Array{Complex{Float64},1}) at /home/cvx/.julia/packages/Jets/X0rrg/src/Jets.jl:280",
      " [6] (::Base.var\"#64#65\"{Base.var\"#64#65\"{Jets.var\"#22#24\"{Int64,Tuple{JopLn{Jet{JetSpace{Complex{Float64},1},JetSpace{Complex{Float64},1},typeof(JetPack.JopRestriction_df!),typeof(JetPack.JopRestriction_df!),typeof(JetPack.JopRestriction_df′!),Jets.var\"#4#7\",Array{Complex{Float64},1},NamedTuple{(:indices,),Tuple{Array{CartesianIndex{1},1}}}}},JopAdjoint{Jet{JetSpace{Complex{Float64},1},JetSpace{Complex{Float64},1},typeof(JetPackTransforms.JopFft_df!),typeof(JetPackTransforms.JopFft_df!),typeof(JetPackTransforms.JopFft_df′!),Jets.var\"#4#7\",Array{Complex{Float64},1},NamedTuple{(:dims,),Tuple{Tuple{Int64}}}},JopLn{Jet{JetSpace{Complex{Float64},1},JetSpace{Complex{Float64},1},typeof(JetPackTransforms.JopFft_df!),typeof(JetPackTransforms.JopFft_df!),typeof(JetPackTransforms.JopFft_df′!),Jets.var\"#4#7\",Array{Complex{Float64},1},NamedTuple{(:dims,),Tuple{Tuple{Int64}}}}}},JopLn{Jet{JetSpace{Complex{Float64},1},JetSpace{Complex{Float64},1},typeof(JetPack.JopTaper_df!),typeof(JetPack.JopTaper_df!),typeof(JetPack.JopTaper_df!),Jets.var\"#4#7\",Array{Complex{Float64},1},NamedTuple{(:dim, :prc, :mode, :taper),Tuple{Tuple{Int64},Array{Array{Float64,1},1},Tuple{Symbol},Tuple{Symbol,Symbol}}}}}}},Jets.var\"#22#24\"{Int64,Tuple{JopLn{Jet{JetSpace{Complex{Float64},1},JetSpace{Complex{Float64},1},typeof(JetPack.JopRestriction_df!),typeof(JetPack.JopRestriction_df!),typeof(JetPack.JopRestriction_df′!),Jets.var\"#4#7\",Array{Complex{Float64},1},NamedTuple{(:indices,),Tuple{Array{CartesianIndex{1},1}}}}},JopAdjoint{Jet{JetSpace{Complex{Float64},1},JetSpace{Complex{Float64},1},typeof(JetPackTransforms.JopFft_df!),typeof(JetPackTransforms.JopFft_df!),typeof(JetPackTransforms.JopFft_df′!),Jets.var\"#4#7\",Array{Complex{Float64},1},NamedTuple{(:dims,),Tuple{Tuple{Int64}}}},JopLn{Jet{JetSpace{Complex{Float64},1},JetSpace{Complex{Float64},1},typeof(JetPackTransforms.JopFft_df!),typeof(JetPackTransforms.JopFft_df!),typeof(JetPackTransforms.JopFft_df′!),Jets.var\"#4#7\",Array{Complex{Float64},1},NamedTuple{(:dims,),Tuple{Tuple{Int64}}}}}},JopLn{Jet{JetSpace{Complex{Float64},1},JetSpace{Complex{Float64},1},typeof(JetPack.JopTaper_df!),typeof(JetPack.JopTaper_df!),typeof(JetPack.JopTaper_df!),Jets.var\"#4#7\",Array{Complex{Float64},1},NamedTuple{(:dim, :prc, :mode, :taper),Tuple{Tuple{Int64},Array{Array{Float64,1},1},Tuple{Symbol},Tuple{Symbol,Symbol}}}}}}}},Jets.var\"#22#24\"{Int64,Tuple{JopLn{Jet{JetSpace{Complex{Float64},1},JetSpace{Complex{Float64},1},typeof(JetPack.JopRestriction_df!),typeof(JetPack.JopRestriction_df!),typeof(JetPack.JopRestriction_df′!),Jets.var\"#4#7\",Array{Complex{Float64},1},NamedTuple{(:indices,),Tuple{Array{CartesianIndex{1},1}}}}},JopAdjoint{Jet{JetSpace{Complex{Float64},1},JetSpace{Complex{Float64},1},typeof(JetPackTransforms.JopFft_df!),typeof(JetPackTransforms.JopFft_df!),typeof(JetPackTransforms.JopFft_df′!),Jets.var\"#4#7\",Array{Complex{Float64},1},NamedTuple{(:dims,),Tuple{Tuple{Int64}}}},JopLn{Jet{JetSpace{Complex{Float64},1},JetSpace{Complex{Float64},1},typeof(JetPackTransforms.JopFft_df!),typeof(JetPackTransforms.JopFft_df!),typeof(JetPackTransforms.JopFft_df′!),Jets.var\"#4#7\",Array{Complex{Float64},1},NamedTuple{(:dims,),Tuple{Tuple{Int64}}}}}},JopLn{Jet{JetSpace{Complex{Float64},1},JetSpace{Complex{Float64},1},typeof(JetPack.JopTaper_df!),typeof(JetPack.JopTaper_df!),typeof(JetPack.JopTaper_df!),Jets.var\"#4#7\",Array{Complex{Float64},1},NamedTuple{(:dim, :prc, :mode, :taper),Tuple{Tuple{Int64},Array{Array{Float64,1},1},Tuple{Symbol},Tuple{Symbol,Symbol}}}}}}}})(::Array{Complex{Float64},1}) at ./operators.jl:859",
      " [7] JetComposite_df!(::Array{Complex{Float64},1}, ::Array{Complex{Float64},1}; ops::Tuple{JopLn{Jet{JetSpace{Complex{Float64},1},JetSpace{Complex{Float64},1},typeof(JetPack.JopRestriction_df!),typeof(JetPack.JopRestriction_df!),typeof(JetPack.JopRestriction_df′!),Jets.var\"#4#7\",Array{Complex{Float64},1},NamedTuple{(:indices,),Tuple{Array{CartesianIndex{1},1}}}}},JopAdjoint{Jet{JetSpace{Complex{Float64},1},JetSpace{Complex{Float64},1},typeof(JetPackTransforms.JopFft_df!),typeof(JetPackTransforms.JopFft_df!),typeof(JetPackTransforms.JopFft_df′!),Jets.var\"#4#7\",Array{Complex{Float64},1},NamedTuple{(:dims,),Tuple{Tuple{Int64}}}},JopLn{Jet{JetSpace{Complex{Float64},1},JetSpace{Complex{Float64},1},typeof(JetPackTransforms.JopFft_df!),typeof(JetPackTransforms.JopFft_df!),typeof(JetPackTransforms.JopFft_df′!),Jets.var\"#4#7\",Array{Complex{Float64},1},NamedTuple{(:dims,),Tuple{Tuple{Int64}}}}}},JopLn{Jet{JetSpace{Complex{Float64},1},JetSpace{Complex{Float64},1},typeof(JetPack.JopTaper_df!),typeof(JetPack.JopTaper_df!),typeof(JetPack.JopTaper_df!),Jets.var\"#4#7\",Array{Complex{Float64},1},NamedTuple{(:dim, :prc, :mode, :taper),Tuple{Tuple{Int64},Array{Array{Float64,1},1},Tuple{Symbol},Tuple{Symbol,Symbol}}}}}}, kwargs::Base.Iterators.Pairs{Symbol,Array{Complex{Float64},1},Tuple{Symbol},NamedTuple{(:mₒ,),Tuple{Array{Complex{Float64},1}}}}) at /home/cvx/.julia/packages/Jets/X0rrg/src/Jets.jl:281",
      " [8] #df!#9 at /home/cvx/.julia/packages/Jets/X0rrg/src/Jets.jl:80 [inlined]",
      " [9] mul! at /home/cvx/.julia/packages/Jets/X0rrg/src/Jets.jl:169 [inlined]",
      " [10] * at /home/cvx/.julia/packages/Jets/X0rrg/src/Jets.jl:172 [inlined]",
      " [11] lsqr_method!(::ConvergenceHistory{false,Nothing}, ::Array{Complex{Float64},1}, ::JopLn{Jet{JetSpace{Complex{Float64},1},JetSpace{Complex{Float64},1},typeof(Jets.JetComposite_f!),typeof(Jets.JetComposite_df!),typeof(Jets.JetComposite_df′!),Jets.var\"#4#7\",Array{Complex{Float64},1},NamedTuple{(:ops,),Tuple{Tuple{JopLn{Jet{JetSpace{Complex{Float64},1},JetSpace{Complex{Float64},1},typeof(JetPack.JopRestriction_df!),typeof(JetPack.JopRestriction_df!),typeof(JetPack.JopRestriction_df′!),Jets.var\"#4#7\",Array{Complex{Float64},1},NamedTuple{(:indices,),Tuple{Array{CartesianIndex{1},1}}}}},JopAdjoint{Jet{JetSpace{Complex{Float64},1},JetSpace{Complex{Float64},1},typeof(JetPackTransforms.JopFft_df!),typeof(JetPackTransforms.JopFft_df!),typeof(JetPackTransforms.JopFft_df′!),Jets.var\"#4#7\",Array{Complex{Float64},1},NamedTuple{(:dims,),Tuple{Tuple{Int64}}}},JopLn{Jet{JetSpace{Complex{Float64},1},JetSpace{Complex{Float64},1},typeof(JetPackTransforms.JopFft_df!),typeof(JetPackTransforms.JopFft_df!),typeof(JetPackTransforms.JopFft_df′!),Jets.var\"#4#7\",Array{Complex{Float64},1},NamedTuple{(:dims,),Tuple{Tuple{Int64}}}}}},JopLn{Jet{JetSpace{Complex{Float64},1},JetSpace{Complex{Float64},1},typeof(JetPack.JopTaper_df!),typeof(JetPack.JopTaper_df!),typeof(JetPack.JopTaper_df!),Jets.var\"#4#7\",Array{Complex{Float64},1},NamedTuple{(:dim, :prc, :mode, :taper),Tuple{Tuple{Int64},Array{Array{Float64,1},1},Tuple{Symbol},Tuple{Symbol,Symbol}}}}}}}}}}, ::Array{Complex{Float64},1}; damp::Int64, atol::Float64, btol::Float64, conlim::Float64, maxiter::Int64, verbose::Bool) at /home/cvx/.julia/packages/IterativeSolvers/3g7hG/src/lsqr.jl:122",
      " [12] lsqr!(::Array{Complex{Float64},1}, ::JopLn{Jet{JetSpace{Complex{Float64},1},JetSpace{Complex{Float64},1},typeof(Jets.JetComposite_f!),typeof(Jets.JetComposite_df!),typeof(Jets.JetComposite_df′!),Jets.var\"#4#7\",Array{Complex{Float64},1},NamedTuple{(:ops,),Tuple{Tuple{JopLn{Jet{JetSpace{Complex{Float64},1},JetSpace{Complex{Float64},1},typeof(JetPack.JopRestriction_df!),typeof(JetPack.JopRestriction_df!),typeof(JetPack.JopRestriction_df′!),Jets.var\"#4#7\",Array{Complex{Float64},1},NamedTuple{(:indices,),Tuple{Array{CartesianIndex{1},1}}}}},JopAdjoint{Jet{JetSpace{Complex{Float64},1},JetSpace{Complex{Float64},1},typeof(JetPackTransforms.JopFft_df!),typeof(JetPackTransforms.JopFft_df!),typeof(JetPackTransforms.JopFft_df′!),Jets.var\"#4#7\",Array{Complex{Float64},1},NamedTuple{(:dims,),Tuple{Tuple{Int64}}}},JopLn{Jet{JetSpace{Complex{Float64},1},JetSpace{Complex{Float64},1},typeof(JetPackTransforms.JopFft_df!),typeof(JetPackTransforms.JopFft_df!),typeof(JetPackTransforms.JopFft_df′!),Jets.var\"#4#7\",Array{Complex{Float64},1},NamedTuple{(:dims,),Tuple{Tuple{Int64}}}}}},JopLn{Jet{JetSpace{Complex{Float64},1},JetSpace{Complex{Float64},1},typeof(JetPack.JopTaper_df!),typeof(JetPack.JopTaper_df!),typeof(JetPack.JopTaper_df!),Jets.var\"#4#7\",Array{Complex{Float64},1},NamedTuple{(:dim, :prc, :mode, :taper),Tuple{Tuple{Int64},Array{Array{Float64,1},1},Tuple{Symbol},Tuple{Symbol,Symbol}}}}}}}}}}, ::Array{Complex{Float64},1}; maxiter::Int64, log::Bool, kwargs::Base.Iterators.Pairs{Union{},Union{},Tuple{},NamedTuple{(),Tuple{}}}) at /home/cvx/.julia/packages/IterativeSolvers/3g7hG/src/lsqr.jl:74",
      " [13] lsqr! at /home/cvx/.julia/packages/IterativeSolvers/3g7hG/src/lsqr.jl:70 [inlined]",
      " [14] #lsqr#70 at /home/cvx/.julia/packages/IterativeSolvers/3g7hG/src/lsqr.jl:8 [inlined]",
      " [15] lsqr(::JopLn{Jet{JetSpace{Complex{Float64},1},JetSpace{Complex{Float64},1},typeof(Jets.JetComposite_f!),typeof(Jets.JetComposite_df!),typeof(Jets.JetComposite_df′!),Jets.var\"#4#7\",Array{Complex{Float64},1},NamedTuple{(:ops,),Tuple{Tuple{JopLn{Jet{JetSpace{Complex{Float64},1},JetSpace{Complex{Float64},1},typeof(JetPack.JopRestriction_df!),typeof(JetPack.JopRestriction_df!),typeof(JetPack.JopRestriction_df′!),Jets.var\"#4#7\",Array{Complex{Float64},1},NamedTuple{(:indices,),Tuple{Array{CartesianIndex{1},1}}}}},JopAdjoint{Jet{JetSpace{Complex{Float64},1},JetSpace{Complex{Float64},1},typeof(JetPackTransforms.JopFft_df!),typeof(JetPackTransforms.JopFft_df!),typeof(JetPackTransforms.JopFft_df′!),Jets.var\"#4#7\",Array{Complex{Float64},1},NamedTuple{(:dims,),Tuple{Tuple{Int64}}}},JopLn{Jet{JetSpace{Complex{Float64},1},JetSpace{Complex{Float64},1},typeof(JetPackTransforms.JopFft_df!),typeof(JetPackTransforms.JopFft_df!),typeof(JetPackTransforms.JopFft_df′!),Jets.var\"#4#7\",Array{Complex{Float64},1},NamedTuple{(:dims,),Tuple{Tuple{Int64}}}}}},JopLn{Jet{JetSpace{Complex{Float64},1},JetSpace{Complex{Float64},1},typeof(JetPack.JopTaper_df!),typeof(JetPack.JopTaper_df!),typeof(JetPack.JopTaper_df!),Jets.var\"#4#7\",Array{Complex{Float64},1},NamedTuple{(:dim, :prc, :mode, :taper),Tuple{Tuple{Int64},Array{Array{Float64,1},1},Tuple{Symbol},Tuple{Symbol,Symbol}}}}}}}}}}, ::Array{Complex{Float64},1}) at /home/cvx/.julia/packages/IterativeSolvers/3g7hG/src/lsqr.jl:8",
      " [16] top-level scope at In[8]:2"
     ]
    }
   ],
   "source": [
    "T = JopTaper(domain(S), (1,), (0.05,), mode=:fft)\n",
    "m = (S'∘T)*lsqr(R∘S'∘T,d);"
   ]
  },
  {
   "cell_type": "code",
   "execution_count": 9,
   "metadata": {},
   "outputs": [
    {
     "data": {
      "image/png": "[encoded data removed]",
      "text/plain": [
       "Figure(PyObject <Figure size 1000x500 with 1 Axes>)"
      ]
     },
     "metadata": {},
     "output_type": "display_data"
    },
    {
     "data": {
      "text/plain": [
       "1-element Array{PyCall.PyObject,1}:\n",
       " PyObject <matplotlib.lines.Line2D object at 0x7f80b4bad0b8>"
      ]
     },
     "execution_count": 9,
     "metadata": {},
     "output_type": "execute_result"
    }
   ],
   "source": [
    "figure(figsize=(10,5))\n",
    "plot(t,real(m))\n",
    "plot(R*t,d,\"o\")"
   ]
  },
  {
   "cell_type": "code",
   "execution_count": 10,
   "metadata": {},
   "outputs": [
    {
     "name": "stdout",
     "output_type": "stream",
     "text": [
      "search: \u001b[0m\u001b[1mJ\u001b[22m\u001b[0m\u001b[1mo\u001b[22m\u001b[0m\u001b[1mp\u001b[22m\u001b[0m\u001b[1mT\u001b[22m\u001b[0m\u001b[1ma\u001b[22m\u001b[0m\u001b[1mp\u001b[22m\u001b[0m\u001b[1me\u001b[22m\u001b[0m\u001b[1mr\u001b[22m\n",
      "\n"
     ]
    },
    {
     "data": {
      "text/latex": [
       "\\begin{verbatim}\n",
       "A = JopTaper(spc, dims, frac[, frac_end; mode=:normal, taper=(:cosine,:cosine)])\n",
       "\\end{verbatim}\n",
       "The linear operator \\texttt{A} tapers the edges of all or some subset of the dimensions of an array that belongs to \\texttt{spc::JetSpace}.  The dimensions that are tapered are given by \\texttt{dims}, an \\texttt{Int} tuple. \\texttt{A} will taper the beginning and/or end edges of each specified array dimension. The size of the beginning and end tapers are determined as a fraction of the length of that array dimension, and this fraction is set using the tuple \\texttt{frac}, and (optionally) \\texttt{frac\\_end}.\n",
       "\n",
       "If \\texttt{frac\\_end::NTuple\\{M,Float64\\}} is not set, then the ith entry of \\texttt{frac::NTuple\\{M,Float64\\}} determines the length of the center portion of the ith dimension that is not tapered.  If \\texttt{frac\\_end::NTuple\\{M,NTuple\\{2,Float64\\}\\}} is set, then the length of the begining taper of the ith array dimension is determiend by \\texttt{frac[i]}, and the length of the end taper is determined by \\texttt{frac\\_end[i]}.\n",
       "\n",
       "The optional named argument \\texttt{mode} can be used if the taper is applied to a dimension that corresponds to FFT ordering where the edges are assumed to be at the center and left ends of the dimension.\n",
       "\n",
       "The optional named argument \\texttt{taper} is a tuple specifying what type of taper to use at each end.  Available tapers are :cosine and :heviside.\n",
       "\n",
       "\\section{Examples:}\n",
       "\\subsection{taper for a space containing 1D arrays}\n",
       "\\begin{verbatim}\n",
       "A = JopTaper(JetSpace(Float64,10), (1,), (.75,))\n",
       "m = ones(domain(A))\n",
       "d = A*m\n",
       "\\end{verbatim}\n",
       "\\subsection{taper for a space containing 1D arrays, and only taper at the end}\n",
       "\\begin{verbatim}\n",
       "A = JopTaper(JetSpace(Float64,10), (1,), (0.0,), (0.25,))\n",
       "m = ones(domain(A))\n",
       "d = A*m\n",
       "\\end{verbatim}\n",
       "\\subsection{taper for a space containing 2D arrays, where both dimensions are tapered}\n",
       "\\begin{verbatim}\n",
       "A = JopTaper(JetSpace(Float64,10,11), (1,2), (0.75,0.5))\n",
       "m = ones(domain(A))\n",
       "d = A*m\n",
       "\\end{verbatim}\n",
       "\\subsection{taper for a space containing 3D arrays, where two of the three dimensions are tapered}\n",
       "\\begin{verbatim}\n",
       "A = JopTaper(JetSpace(Float64,10,11,12), (1,3), (0.75,0.5))\n",
       "m = ones(domain(A))\n",
       "d = A*m\n",
       "\\end{verbatim}\n",
       "In the next example, array dimension \\texttt{1} is tapered at the end, and array dimension \\texttt{2} is tapered at the beginning and end.\n",
       "\n",
       "\\begin{verbatim}\n",
       "A = JopTaper(JetSpace(Float64,10,11,12), (1,3), (0.0,0.25), (0.25,0.25))\n",
       "m = ones(domain(A))\n",
       "d = A*m\n",
       "\\end{verbatim}\n"
      ],
      "text/markdown": [
       "```\n",
       "A = JopTaper(spc, dims, frac[, frac_end; mode=:normal, taper=(:cosine,:cosine)])\n",
       "```\n",
       "\n",
       "The linear operator `A` tapers the edges of all or some subset of the dimensions of an array that belongs to `spc::JetSpace`.  The dimensions that are tapered are given by `dims`, an `Int` tuple. `A` will taper the beginning and/or end edges of each specified array dimension. The size of the beginning and end tapers are determined as a fraction of the length of that array dimension, and this fraction is set using the tuple `frac`, and (optionally) `frac_end`.\n",
       "\n",
       "If `frac_end::NTuple{M,Float64}` is not set, then the ith entry of `frac::NTuple{M,Float64}` determines the length of the center portion of the ith dimension that is not tapered.  If `frac_end::NTuple{M,NTuple{2,Float64}}` is set, then the length of the begining taper of the ith array dimension is determiend by `frac[i]`, and the length of the end taper is determined by `frac_end[i]`.\n",
       "\n",
       "The optional named argument `mode` can be used if the taper is applied to a dimension that corresponds to FFT ordering where the edges are assumed to be at the center and left ends of the dimension.\n",
       "\n",
       "The optional named argument `taper` is a tuple specifying what type of taper to use at each end.  Available tapers are :cosine and :heviside.\n",
       "\n",
       "# Examples:\n",
       "\n",
       "## taper for a space containing 1D arrays\n",
       "\n",
       "```julia\n",
       "A = JopTaper(JetSpace(Float64,10), (1,), (.75,))\n",
       "m = ones(domain(A))\n",
       "d = A*m\n",
       "```\n",
       "\n",
       "## taper for a space containing 1D arrays, and only taper at the end\n",
       "\n",
       "```julia\n",
       "A = JopTaper(JetSpace(Float64,10), (1,), (0.0,), (0.25,))\n",
       "m = ones(domain(A))\n",
       "d = A*m\n",
       "```\n",
       "\n",
       "## taper for a space containing 2D arrays, where both dimensions are tapered\n",
       "\n",
       "```julia\n",
       "A = JopTaper(JetSpace(Float64,10,11), (1,2), (0.75,0.5))\n",
       "m = ones(domain(A))\n",
       "d = A*m\n",
       "```\n",
       "\n",
       "## taper for a space containing 3D arrays, where two of the three dimensions are tapered\n",
       "\n",
       "```julia\n",
       "A = JopTaper(JetSpace(Float64,10,11,12), (1,3), (0.75,0.5))\n",
       "m = ones(domain(A))\n",
       "d = A*m\n",
       "```\n",
       "\n",
       "In the next example, array dimension `1` is tapered at the end, and array dimension `2` is tapered at the beginning and end.\n",
       "\n",
       "```julia\n",
       "A = JopTaper(JetSpace(Float64,10,11,12), (1,3), (0.0,0.25), (0.25,0.25))\n",
       "m = ones(domain(A))\n",
       "d = A*m\n",
       "```\n"
      ],
      "text/plain": [
       "\u001b[36m  A = JopTaper(spc, dims, frac[, frac_end; mode=:normal, taper=(:cosine,:cosine)])\u001b[39m\n",
       "\n",
       "  The linear operator \u001b[36mA\u001b[39m tapers the edges of all or some subset of the\n",
       "  dimensions of an array that belongs to \u001b[36mspc::JetSpace\u001b[39m. The dimensions that\n",
       "  are tapered are given by \u001b[36mdims\u001b[39m, an \u001b[36mInt\u001b[39m tuple. \u001b[36mA\u001b[39m will taper the beginning\n",
       "  and/or end edges of each specified array dimension. The size of the\n",
       "  beginning and end tapers are determined as a fraction of the length of that\n",
       "  array dimension, and this fraction is set using the tuple \u001b[36mfrac\u001b[39m, and\n",
       "  (optionally) \u001b[36mfrac_end\u001b[39m.\n",
       "\n",
       "  If \u001b[36mfrac_end::NTuple{M,Float64}\u001b[39m is not set, then the ith entry of\n",
       "  \u001b[36mfrac::NTuple{M,Float64}\u001b[39m determines the length of the center portion of the\n",
       "  ith dimension that is not tapered. If \u001b[36mfrac_end::NTuple{M,NTuple{2,Float64}}\u001b[39m\n",
       "  is set, then the length of the begining taper of the ith array dimension is\n",
       "  determiend by \u001b[36mfrac[i]\u001b[39m, and the length of the end taper is determined by\n",
       "  \u001b[36mfrac_end[i]\u001b[39m.\n",
       "\n",
       "  The optional named argument \u001b[36mmode\u001b[39m can be used if the taper is applied to a\n",
       "  dimension that corresponds to FFT ordering where the edges are assumed to be\n",
       "  at the center and left ends of the dimension.\n",
       "\n",
       "  The optional named argument \u001b[36mtaper\u001b[39m is a tuple specifying what type of taper\n",
       "  to use at each end. Available tapers are :cosine and :heviside.\n",
       "\n",
       "\u001b[1m  Examples:\u001b[22m\n",
       "\u001b[1m  ≡≡≡≡≡≡≡≡≡≡≡\u001b[22m\n",
       "\n",
       "\u001b[1m  taper for a space containing 1D arrays\u001b[22m\n",
       "\u001b[1m  ========================================\u001b[22m\n",
       "\n",
       "\u001b[36m  A = JopTaper(JetSpace(Float64,10), (1,), (.75,))\u001b[39m\n",
       "\u001b[36m  m = ones(domain(A))\u001b[39m\n",
       "\u001b[36m  d = A*m\u001b[39m\n",
       "\n",
       "\u001b[1m  taper for a space containing 1D arrays, and only taper at the end\u001b[22m\n",
       "\u001b[1m  ===================================================================\u001b[22m\n",
       "\n",
       "\u001b[36m  A = JopTaper(JetSpace(Float64,10), (1,), (0.0,), (0.25,))\u001b[39m\n",
       "\u001b[36m  m = ones(domain(A))\u001b[39m\n",
       "\u001b[36m  d = A*m\u001b[39m\n",
       "\n",
       "\u001b[1m  taper for a space containing 2D arrays, where both dimensions are\u001b[22m\n",
       "\u001b[1m tapered\u001b[22m\n",
       "\u001b[1m  ==========================\u001b[22m\n",
       "\n",
       "\u001b[36m  A = JopTaper(JetSpace(Float64,10,11), (1,2), (0.75,0.5))\u001b[39m\n",
       "\u001b[36m  m = ones(domain(A))\u001b[39m\n",
       "\u001b[36m  d = A*m\u001b[39m\n",
       "\n",
       "\u001b[1m  taper for a space containing 3D arrays, where two of the three\u001b[22m\n",
       "\u001b[1m dimensions are tapered\u001b[22m\n",
       "\u001b[1m  ==========================\u001b[22m\n",
       "\n",
       "\u001b[36m  A = JopTaper(JetSpace(Float64,10,11,12), (1,3), (0.75,0.5))\u001b[39m\n",
       "\u001b[36m  m = ones(domain(A))\u001b[39m\n",
       "\u001b[36m  d = A*m\u001b[39m\n",
       "\n",
       "  In the next example, array dimension \u001b[36m1\u001b[39m is tapered at the end, and array\n",
       "  dimension \u001b[36m2\u001b[39m is tapered at the beginning and end.\n",
       "\n",
       "\u001b[36m  A = JopTaper(JetSpace(Float64,10,11,12), (1,3), (0.0,0.25), (0.25,0.25))\u001b[39m\n",
       "\u001b[36m  m = ones(domain(A))\u001b[39m\n",
       "\u001b[36m  d = A*m\u001b[39m"
      ]
     },
     "execution_count": 10,
     "metadata": {},
     "output_type": "execute_result"
    }
   ],
   "source": [
    "?JopTaper"
   ]
  },
  {
   "cell_type": "markdown",
   "metadata": {},
   "source": [
    "# JetSpace"
   ]
  },
  {
   "cell_type": "markdown",
   "metadata": {},
   "source": [
    "JetSpace is an n-dimensional vector space with additional meta-data.  The additional data is:\n",
    "* a size (n1,n2,...,np) where prod(n1,n2,...np)=n\n",
    "* a type such as Float32, ComplexF64, etc."
   ]
  },
  {
   "cell_type": "markdown",
   "metadata": {},
   "source": [
    "Ex 1: 10 dimensions, single precision:"
   ]
  },
  {
   "cell_type": "code",
   "execution_count": 11,
   "metadata": {},
   "outputs": [
    {
     "data": {
      "text/plain": [
       "JetSpace{Float32,1}((10,))"
      ]
     },
     "execution_count": 11,
     "metadata": {},
     "output_type": "execute_result"
    }
   ],
   "source": [
    "R₁ = JetSpace(Float32,10)"
   ]
  },
  {
   "cell_type": "markdown",
   "metadata": {},
   "source": [
    "Ex 2: 200 dimensions, double precision, 10x20 array size"
   ]
  },
  {
   "cell_type": "code",
   "execution_count": 12,
   "metadata": {},
   "outputs": [
    {
     "data": {
      "text/plain": [
       "JetSpace{Float64,2}((10, 20))"
      ]
     },
     "execution_count": 12,
     "metadata": {},
     "output_type": "execute_result"
    }
   ],
   "source": [
    "R₂ = JetSpace(Float64,10,20)"
   ]
  },
  {
   "cell_type": "markdown",
   "metadata": {},
   "source": [
    "Ex 3: 400 dimensions, double precision complex, 10x20x2 array size"
   ]
  },
  {
   "cell_type": "code",
   "execution_count": 13,
   "metadata": {},
   "outputs": [
    {
     "data": {
      "text/plain": [
       "JetSpace{Complex{Float64},3}((10, 20, 2))"
      ]
     },
     "execution_count": 13,
     "metadata": {},
     "output_type": "execute_result"
    }
   ],
   "source": [
    "R₃ = JetSpace(ComplexF64,10,20,2)"
   ]
  },
  {
   "cell_type": "markdown",
   "metadata": {},
   "source": [
    "Given a space, we can use various convenience methods to inspect and use the space."
   ]
  },
  {
   "cell_type": "code",
   "execution_count": 14,
   "metadata": {},
   "outputs": [
    {
     "data": {
      "text/plain": [
       "Float64"
      ]
     },
     "execution_count": 14,
     "metadata": {},
     "output_type": "execute_result"
    }
   ],
   "source": [
    "eltype(R₂)"
   ]
  },
  {
   "cell_type": "code",
   "execution_count": 15,
   "metadata": {},
   "outputs": [
    {
     "data": {
      "text/plain": [
       "2"
      ]
     },
     "execution_count": 15,
     "metadata": {},
     "output_type": "execute_result"
    }
   ],
   "source": [
    "ndims(R₂)"
   ]
  },
  {
   "cell_type": "code",
   "execution_count": 16,
   "metadata": {},
   "outputs": [
    {
     "data": {
      "text/plain": [
       "200"
      ]
     },
     "execution_count": 16,
     "metadata": {},
     "output_type": "execute_result"
    }
   ],
   "source": [
    "length(R₂)"
   ]
  },
  {
   "cell_type": "code",
   "execution_count": 17,
   "metadata": {},
   "outputs": [
    {
     "data": {
      "text/plain": [
       "(10, 20)"
      ]
     },
     "execution_count": 17,
     "metadata": {},
     "output_type": "execute_result"
    }
   ],
   "source": [
    "size(R₂)"
   ]
  },
  {
   "cell_type": "code",
   "execution_count": 18,
   "metadata": {},
   "outputs": [
    {
     "data": {
      "text/plain": [
       "10×20 Array{Float64,2}:\n",
       " 1.0  1.0  1.0  1.0  1.0  1.0  1.0  1.0  …  1.0  1.0  1.0  1.0  1.0  1.0  1.0\n",
       " 1.0  1.0  1.0  1.0  1.0  1.0  1.0  1.0     1.0  1.0  1.0  1.0  1.0  1.0  1.0\n",
       " 1.0  1.0  1.0  1.0  1.0  1.0  1.0  1.0     1.0  1.0  1.0  1.0  1.0  1.0  1.0\n",
       " 1.0  1.0  1.0  1.0  1.0  1.0  1.0  1.0     1.0  1.0  1.0  1.0  1.0  1.0  1.0\n",
       " 1.0  1.0  1.0  1.0  1.0  1.0  1.0  1.0     1.0  1.0  1.0  1.0  1.0  1.0  1.0\n",
       " 1.0  1.0  1.0  1.0  1.0  1.0  1.0  1.0  …  1.0  1.0  1.0  1.0  1.0  1.0  1.0\n",
       " 1.0  1.0  1.0  1.0  1.0  1.0  1.0  1.0     1.0  1.0  1.0  1.0  1.0  1.0  1.0\n",
       " 1.0  1.0  1.0  1.0  1.0  1.0  1.0  1.0     1.0  1.0  1.0  1.0  1.0  1.0  1.0\n",
       " 1.0  1.0  1.0  1.0  1.0  1.0  1.0  1.0     1.0  1.0  1.0  1.0  1.0  1.0  1.0\n",
       " 1.0  1.0  1.0  1.0  1.0  1.0  1.0  1.0     1.0  1.0  1.0  1.0  1.0  1.0  1.0"
      ]
     },
     "execution_count": 18,
     "metadata": {},
     "output_type": "execute_result"
    }
   ],
   "source": [
    "reshape(ones(200), R₂)"
   ]
  },
  {
   "cell_type": "code",
   "execution_count": 19,
   "metadata": {},
   "outputs": [
    {
     "data": {
      "text/plain": [
       "10×20 Array{Float64,2}:\n",
       " 1.0  1.0  1.0  1.0  1.0  1.0  1.0  1.0  …  1.0  1.0  1.0  1.0  1.0  1.0  1.0\n",
       " 1.0  1.0  1.0  1.0  1.0  1.0  1.0  1.0     1.0  1.0  1.0  1.0  1.0  1.0  1.0\n",
       " 1.0  1.0  1.0  1.0  1.0  1.0  1.0  1.0     1.0  1.0  1.0  1.0  1.0  1.0  1.0\n",
       " 1.0  1.0  1.0  1.0  1.0  1.0  1.0  1.0     1.0  1.0  1.0  1.0  1.0  1.0  1.0\n",
       " 1.0  1.0  1.0  1.0  1.0  1.0  1.0  1.0     1.0  1.0  1.0  1.0  1.0  1.0  1.0\n",
       " 1.0  1.0  1.0  1.0  1.0  1.0  1.0  1.0  …  1.0  1.0  1.0  1.0  1.0  1.0  1.0\n",
       " 1.0  1.0  1.0  1.0  1.0  1.0  1.0  1.0     1.0  1.0  1.0  1.0  1.0  1.0  1.0\n",
       " 1.0  1.0  1.0  1.0  1.0  1.0  1.0  1.0     1.0  1.0  1.0  1.0  1.0  1.0  1.0\n",
       " 1.0  1.0  1.0  1.0  1.0  1.0  1.0  1.0     1.0  1.0  1.0  1.0  1.0  1.0  1.0\n",
       " 1.0  1.0  1.0  1.0  1.0  1.0  1.0  1.0     1.0  1.0  1.0  1.0  1.0  1.0  1.0"
      ]
     },
     "execution_count": 19,
     "metadata": {},
     "output_type": "execute_result"
    }
   ],
   "source": [
    "ones(R₂)"
   ]
  },
  {
   "cell_type": "code",
   "execution_count": 20,
   "metadata": {},
   "outputs": [
    {
     "data": {
      "text/plain": [
       "10×20 Array{Float64,2}:\n",
       " 0.0  0.0  0.0  0.0  0.0  0.0  0.0  0.0  …  0.0  0.0  0.0  0.0  0.0  0.0  0.0\n",
       " 0.0  0.0  0.0  0.0  0.0  0.0  0.0  0.0     0.0  0.0  0.0  0.0  0.0  0.0  0.0\n",
       " 0.0  0.0  0.0  0.0  0.0  0.0  0.0  0.0     0.0  0.0  0.0  0.0  0.0  0.0  0.0\n",
       " 0.0  0.0  0.0  0.0  0.0  0.0  0.0  0.0     0.0  0.0  0.0  0.0  0.0  0.0  0.0\n",
       " 0.0  0.0  0.0  0.0  0.0  0.0  0.0  0.0     0.0  0.0  0.0  0.0  0.0  0.0  0.0\n",
       " 0.0  0.0  0.0  0.0  0.0  0.0  0.0  0.0  …  0.0  0.0  0.0  0.0  0.0  0.0  0.0\n",
       " 0.0  0.0  0.0  0.0  0.0  0.0  0.0  0.0     0.0  0.0  0.0  0.0  0.0  0.0  0.0\n",
       " 0.0  0.0  0.0  0.0  0.0  0.0  0.0  0.0     0.0  0.0  0.0  0.0  0.0  0.0  0.0\n",
       " 0.0  0.0  0.0  0.0  0.0  0.0  0.0  0.0     0.0  0.0  0.0  0.0  0.0  0.0  0.0\n",
       " 0.0  0.0  0.0  0.0  0.0  0.0  0.0  0.0     0.0  0.0  0.0  0.0  0.0  0.0  0.0"
      ]
     },
     "execution_count": 20,
     "metadata": {},
     "output_type": "execute_result"
    }
   ],
   "source": [
    "zeros(R₂)"
   ]
  },
  {
   "cell_type": "code",
   "execution_count": 21,
   "metadata": {},
   "outputs": [
    {
     "data": {
      "text/plain": [
       "10×20 Array{Float64,2}:\n",
       " 0.774548  0.510848   0.117719   …  0.607158   0.288071   0.30215\n",
       " 0.341569  0.213318   0.13596       0.0976975  0.997399   0.363264\n",
       " 0.811579  0.0723412  0.0250469     0.604333   0.0298761  0.704707\n",
       " 0.555429  0.753796   0.913714      0.15575    0.821072   0.392329\n",
       " 0.890702  0.669892   0.161347      0.603332   0.644578   0.955087\n",
       " 0.297463  0.294182   0.0597091  …  0.447403   0.200961   0.244392\n",
       " 0.506716  0.790063   0.110571      0.374961   0.049022   0.885669\n",
       " 0.203447  0.776939   0.366393      0.669457   0.5183     0.683163\n",
       " 0.547389  0.176056   0.289959      0.860854   0.266261   0.0504234\n",
       " 0.405219  0.136623   0.360621      0.62117    0.874396   0.165825"
      ]
     },
     "execution_count": 21,
     "metadata": {},
     "output_type": "execute_result"
    }
   ],
   "source": [
    "rand(R₂)"
   ]
  },
  {
   "cell_type": "code",
   "execution_count": 22,
   "metadata": {},
   "outputs": [
    {
     "data": {
      "text/plain": [
       "10×20 Array{Float64,2}:\n",
       " 6.92636e-310  6.92641e-310  6.92636e-310  …  6.92636e-310  6.92636e-310\n",
       " 6.92636e-310  6.92636e-310  6.92636e-310     6.92636e-310  6.92636e-310\n",
       " 6.92636e-310  6.92636e-310  6.92636e-310     6.92636e-310  6.92636e-310\n",
       " 6.92636e-310  6.92636e-310  6.92641e-310     6.92636e-310  6.92636e-310\n",
       " 6.92636e-310  6.92641e-310  6.92636e-310     6.92636e-310  6.92641e-310\n",
       " 6.92636e-310  6.92636e-310  6.92636e-310  …  6.92636e-310  6.92636e-310\n",
       " 6.92636e-310  6.92636e-310  6.92636e-310     6.92636e-310  6.92636e-310\n",
       " 6.92636e-310  6.92636e-310  6.92636e-310     6.92636e-310  6.92636e-310\n",
       " 6.92636e-310  6.92636e-310  6.92636e-310     6.92636e-310  6.92636e-310\n",
       " 6.92636e-310  6.92636e-310  6.92636e-310     6.92636e-310  6.92636e-310"
      ]
     },
     "execution_count": 22,
     "metadata": {},
     "output_type": "execute_result"
    }
   ],
   "source": [
    "Array(R₂)"
   ]
  },
  {
   "cell_type": "markdown",
   "metadata": {},
   "source": [
    "# Jet operators"
   ]
  },
  {
   "cell_type": "markdown",
   "metadata": {},
   "source": [
    "A Jet operator is a linear or nonlinear mapping between two spaces. In the case of a nonlinear operator, a jet also defines its linearization.\n",
    "\n",
    "* A Jet operator encapsulates a Jet\n",
    "* A Jet is loosely based off its mathematical name-sake, and includes of a mapping and its linearization"
   ]
  },
  {
   "cell_type": "markdown",
   "metadata": {},
   "source": [
    "Ex 1: Linear operator"
   ]
  },
  {
   "cell_type": "code",
   "execution_count": 23,
   "metadata": {},
   "outputs": [],
   "source": [
    "using JetPack, LinearAlgebra"
   ]
  },
  {
   "cell_type": "code",
   "execution_count": 24,
   "metadata": {},
   "outputs": [
    {
     "data": {
      "text/plain": [
       "\"Jet linear operator, (2,) → (2,)\""
      ]
     },
     "execution_count": 24,
     "metadata": {},
     "output_type": "execute_result"
    }
   ],
   "source": [
    "A = JopDiagonal(rand(2))"
   ]
  },
  {
   "cell_type": "code",
   "execution_count": 25,
   "metadata": {},
   "outputs": [
    {
     "data": {
      "text/plain": [
       "(diagonal = [0.3644521771275919, 0.4425372827073015],)"
      ]
     },
     "execution_count": 25,
     "metadata": {},
     "output_type": "execute_result"
    }
   ],
   "source": [
    "state(A)"
   ]
  },
  {
   "cell_type": "code",
   "execution_count": 26,
   "metadata": {},
   "outputs": [
    {
     "data": {
      "text/plain": [
       "2×2 Array{Float64,2}:\n",
       " 0.364452  0.0\n",
       " 0.0       0.442537"
      ]
     },
     "execution_count": 26,
     "metadata": {},
     "output_type": "execute_result"
    }
   ],
   "source": [
    "B = convert(Array,A)"
   ]
  },
  {
   "cell_type": "code",
   "execution_count": 27,
   "metadata": {},
   "outputs": [
    {
     "data": {
      "text/plain": [
       "2-element Array{Float64,1}:\n",
       " 0.16402683566154885\n",
       " 0.5483759167054685"
      ]
     },
     "execution_count": 27,
     "metadata": {},
     "output_type": "execute_result"
    }
   ],
   "source": [
    "m = rand(domain(A))"
   ]
  },
  {
   "cell_type": "code",
   "execution_count": 28,
   "metadata": {},
   "outputs": [
    {
     "data": {
      "text/plain": [
       "2-element Array{Float64,1}:\n",
       " 0.059779937364201216\n",
       " 0.24267678808096355"
      ]
     },
     "execution_count": 28,
     "metadata": {},
     "output_type": "execute_result"
    }
   ],
   "source": [
    "d = A*m"
   ]
  },
  {
   "cell_type": "code",
   "execution_count": 29,
   "metadata": {},
   "outputs": [
    {
     "data": {
      "text/plain": [
       "2-element Array{Float64,1}:\n",
       " 0.059779937364201216\n",
       " 0.24267678808096355"
      ]
     },
     "execution_count": 29,
     "metadata": {},
     "output_type": "execute_result"
    }
   ],
   "source": [
    "mul!(d,A,m)"
   ]
  },
  {
   "cell_type": "code",
   "execution_count": 30,
   "metadata": {},
   "outputs": [
    {
     "data": {
      "text/plain": [
       "2-element Array{Float64,1}:\n",
       " 0.021786928320934214\n",
       " 0.10739352637348526"
      ]
     },
     "execution_count": 30,
     "metadata": {},
     "output_type": "execute_result"
    }
   ],
   "source": [
    "a = A'*d"
   ]
  },
  {
   "cell_type": "code",
   "execution_count": 31,
   "metadata": {},
   "outputs": [
    {
     "data": {
      "text/plain": [
       "2-element Array{Float64,1}:\n",
       " 0.021786928320934214\n",
       " 0.10739352637348526"
      ]
     },
     "execution_count": 31,
     "metadata": {},
     "output_type": "execute_result"
    }
   ],
   "source": [
    "mul!(a,A',d)"
   ]
  },
  {
   "cell_type": "markdown",
   "metadata": {},
   "source": [
    "Ex 2: Nonlinear operator"
   ]
  },
  {
   "cell_type": "code",
   "execution_count": 32,
   "metadata": {},
   "outputs": [],
   "source": [
    "using JetPackDSP"
   ]
  },
  {
   "cell_type": "code",
   "execution_count": 33,
   "metadata": {},
   "outputs": [
    {
     "data": {
      "text/plain": [
       "\"Jet nonlinear operator, (64,) → (64,)\""
      ]
     },
     "execution_count": 33,
     "metadata": {},
     "output_type": "execute_result"
    }
   ],
   "source": [
    "F = JopEnvelope(JetSpace(Float64,64))"
   ]
  },
  {
   "cell_type": "code",
   "execution_count": 34,
   "metadata": {},
   "outputs": [
    {
     "data": {
      "text/plain": [
       "64-element Array{Float64,1}:\n",
       "  0.7443561683058268\n",
       " -0.6493425924473035\n",
       " -0.9733172236832655\n",
       "  0.8598052744915057\n",
       " -0.598803654542321\n",
       " -0.6054458214346536\n",
       " -0.8752914081423886\n",
       "  0.784190397576904\n",
       " -0.6575851606609309\n",
       " -0.979776454087598\n",
       "  0.4823896291213279\n",
       "  0.4999497770550114\n",
       " -0.4513135918395035\n",
       "  ⋮\n",
       " -0.46386885012011003\n",
       " -0.07903087654561514\n",
       " -0.9582631249269329\n",
       " -0.5862513720244951\n",
       "  0.19678322600962117\n",
       " -0.4098072959507406\n",
       "  0.8940472308902443\n",
       "  0.8381820165522953\n",
       " -0.819688481737435\n",
       "  0.5069460695882824\n",
       "  0.8737691883501983\n",
       " -0.10776604904845799"
      ]
     },
     "execution_count": 34,
     "metadata": {},
     "output_type": "execute_result"
    }
   ],
   "source": [
    "m = -1 .+ 2*rand(domain(F))"
   ]
  },
  {
   "cell_type": "code",
   "execution_count": 35,
   "metadata": {},
   "outputs": [
    {
     "data": {
      "text/plain": [
       "64-element Array{Float64,1}:\n",
       " 0.827069501017784\n",
       " 1.5417092327883342\n",
       " 1.269721755561522\n",
       " 0.8684813177460772\n",
       " 0.9581425614231426\n",
       " 0.611747612040056\n",
       " 1.0699523131288513\n",
       " 0.932121863589559\n",
       " 1.1620658388339313\n",
       " 1.490062688273841\n",
       " 0.9185426221302992\n",
       " 0.5017722949339202\n",
       " 0.6547318080613151\n",
       " ⋮\n",
       " 0.6960889414099919\n",
       " 0.31028654185380783\n",
       " 1.0526884084356731\n",
       " 1.0906864610538258\n",
       " 0.31880673449912744\n",
       " 0.7070147160277965\n",
       " 1.2962287944600763\n",
       " 1.1930099315096867\n",
       " 0.831582845280346\n",
       " 1.0571991109465468\n",
       " 1.0327142457141523\n",
       " 0.29762650867791735"
      ]
     },
     "execution_count": 35,
     "metadata": {},
     "output_type": "execute_result"
    }
   ],
   "source": [
    "d = F*m"
   ]
  },
  {
   "cell_type": "code",
   "execution_count": 36,
   "metadata": {},
   "outputs": [
    {
     "data": {
      "image/png": "[encoded data removed]",
      "text/plain": [
       "Figure(PyObject <Figure size 1000x500 with 1 Axes>)"
      ]
     },
     "metadata": {},
     "output_type": "display_data"
    },
    {
     "data": {
      "text/plain": [
       "1-element Array{PyCall.PyObject,1}:\n",
       " PyObject <matplotlib.lines.Line2D object at 0x7f80b4b95780>"
      ]
     },
     "execution_count": 36,
     "metadata": {},
     "output_type": "execute_result"
    }
   ],
   "source": [
    "figure(figsize=(10,5))\n",
    "plot(m)\n",
    "plot(d)"
   ]
  },
  {
   "cell_type": "code",
   "execution_count": 37,
   "metadata": {},
   "outputs": [
    {
     "data": {
      "text/plain": [
       "\"Jet linear operator, (64,) → (64,)\""
      ]
     },
     "execution_count": 37,
     "metadata": {},
     "output_type": "execute_result"
    }
   ],
   "source": [
    "J = jacobian(F, m) # compute the jacobian, copying the underlying jet\n",
    "J = jacobian!(F, m) # compute the jacobian, sharing the underlying jet"
   ]
  },
  {
   "cell_type": "markdown",
   "metadata": {},
   "source": [
    "## Jet compositions"
   ]
  },
  {
   "cell_type": "markdown",
   "metadata": {},
   "source": [
    "To compose operators, we use the symbol: $\\circ$.  This can be typed using unicode which is fully supported in Julia.  In Jupyter (and most text editors with a Julia syntax plugin) you can use LaTeX syntax `\\circ` to produce $\\circ$."
   ]
  },
  {
   "cell_type": "code",
   "execution_count": 38,
   "metadata": {},
   "outputs": [
    {
     "data": {
      "text/plain": [
       "\"Jet linear operator, (2,) → (2,)\""
      ]
     },
     "execution_count": 38,
     "metadata": {},
     "output_type": "execute_result"
    }
   ],
   "source": [
    "A₁ = JopDiagonal(rand(2))\n",
    "A₂ = JopDiagonal(rand(2))\n",
    "A₃ = rand(2,2)\n",
    "\n",
    "A = A₃ ∘ A₂ ∘ A₁"
   ]
  },
  {
   "cell_type": "code",
   "execution_count": 39,
   "metadata": {},
   "outputs": [
    {
     "data": {
      "text/plain": [
       "true"
      ]
     },
     "execution_count": 39,
     "metadata": {},
     "output_type": "execute_result"
    }
   ],
   "source": [
    "m = rand(domain(A))\n",
    "A*m ≈ A₃ * (A₂ * (A₁ * m))"
   ]
  },
  {
   "cell_type": "markdown",
   "metadata": {},
   "source": [
    "## Jet linear combinations"
   ]
  },
  {
   "cell_type": "code",
   "execution_count": 40,
   "metadata": {},
   "outputs": [
    {
     "data": {
      "text/plain": [
       "true"
      ]
     },
     "execution_count": 40,
     "metadata": {},
     "output_type": "execute_result"
    }
   ],
   "source": [
    "A = 2.0*A₁ - 3.0*A₂ + 4.0*A₃\n",
    "A*m ≈ 2.0*(A₁*m) - 3.0*(A₂*m) + 4.0*(A₃*m)"
   ]
  },
  {
   "cell_type": "markdown",
   "metadata": {},
   "source": [
    "# Jet block operators"
   ]
  },
  {
   "cell_type": "code",
   "execution_count": 41,
   "metadata": {},
   "outputs": [
    {
     "data": {
      "text/plain": [
       "\"Jet linear operator, (4,) → (2,)\""
      ]
     },
     "execution_count": 41,
     "metadata": {},
     "output_type": "execute_result"
    }
   ],
   "source": [
    "A = @blockop [JopDiagonal(rand(2)) JopDiagonal(rand(2))]"
   ]
  },
  {
   "cell_type": "code",
   "execution_count": 42,
   "metadata": {},
   "outputs": [
    {
     "data": {
      "text/plain": [
       "4-element Jets.BlockArray{Float64,Array{Float64,1}}:\n",
       " 0.772359400059818\n",
       " 0.6872861189530803\n",
       " 0.43938829831721904\n",
       " 0.8473845614190518"
      ]
     },
     "execution_count": 42,
     "metadata": {},
     "output_type": "execute_result"
    }
   ],
   "source": [
    "m = rand(domain(A))"
   ]
  },
  {
   "cell_type": "code",
   "execution_count": 43,
   "metadata": {},
   "outputs": [
    {
     "data": {
      "text/plain": [
       "2-element Jets.BlockArray{Float64,Array{Float64,1}}:\n",
       " 0.9393908226206106\n",
       " 0.46467102772805635"
      ]
     },
     "execution_count": 43,
     "metadata": {},
     "output_type": "execute_result"
    }
   ],
   "source": [
    "d = A*m"
   ]
  },
  {
   "cell_type": "markdown",
   "metadata": {},
   "source": [
    "We use, extensively, array comprehensions in connection with the block operator"
   ]
  },
  {
   "cell_type": "code",
   "execution_count": 44,
   "metadata": {},
   "outputs": [
    {
     "data": {
      "text/plain": [
       "\"Jet linear operator, (6,) → (4,)\""
      ]
     },
     "execution_count": 44,
     "metadata": {},
     "output_type": "execute_result"
    }
   ],
   "source": [
    "A = @blockop [JopDiagonal(rand(2)) for irow=1:2, icol=1:3]"
   ]
  },
  {
   "cell_type": "code",
   "execution_count": 45,
   "metadata": {},
   "outputs": [
    {
     "data": {
      "text/plain": [
       "(2, 3)"
      ]
     },
     "execution_count": 45,
     "metadata": {},
     "output_type": "execute_result"
    }
   ],
   "source": [
    "nblocks(A)"
   ]
  },
  {
   "cell_type": "code",
   "execution_count": 46,
   "metadata": {},
   "outputs": [
    {
     "data": {
      "text/plain": [
       "2"
      ]
     },
     "execution_count": 46,
     "metadata": {},
     "output_type": "execute_result"
    }
   ],
   "source": [
    "nblocks(A,1)"
   ]
  },
  {
   "cell_type": "code",
   "execution_count": 47,
   "metadata": {},
   "outputs": [
    {
     "data": {
      "text/plain": [
       "3"
      ]
     },
     "execution_count": 47,
     "metadata": {},
     "output_type": "execute_result"
    }
   ],
   "source": [
    "nblocks(A,2)"
   ]
  },
  {
   "cell_type": "code",
   "execution_count": 48,
   "metadata": {},
   "outputs": [
    {
     "data": {
      "text/plain": [
       "\"Jet linear operator, (2,) → (2,)\""
      ]
     },
     "execution_count": 48,
     "metadata": {},
     "output_type": "execute_result"
    }
   ],
   "source": [
    "getblock(A,1,1)"
   ]
  },
  {
   "cell_type": "code",
   "execution_count": null,
   "metadata": {},
   "outputs": [],
   "source": []
  }
 ],
 "metadata": {
  "kernelspec": {
   "display_name": "Julia 1.4.2",
   "language": "julia",
   "name": "julia-1.4"
  },
  "language_info": {
   "file_extension": ".jl",
   "mimetype": "application/julia",
   "name": "julia",
   "version": "1.4.2"
  }
 },
 "nbformat": 4,
 "nbformat_minor": 4
}
