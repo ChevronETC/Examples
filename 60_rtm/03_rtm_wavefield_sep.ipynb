{
 "cells": [
  {
   "cell_type": "markdown",
   "metadata": {},
   "source": [
    "# RTM Example with dynamic scheduling showing wavefield separation\n",
    "We will perform RTM using the following steps:\n",
    "1. Read the 10m resampled models output from the FWI notebook\n",
    "2. Visualize the model\n",
    "3. Build a small local compute cluster (2 workers)\n",
    "4. Create list of shot locations \n",
    "5. Define the `timemute!`, `migrateshot`, and `stack` functions\n",
    "6. Run the migration and write individual shot images to disk\n",
    "7. Stack the individual shot images \n",
    "8. Perform a little post migration filtering\n",
    "9. Visualize Results\n",
    "\n",
    "#### Note on runtime\n",
    "This notebook takes approximately 20 minutes to run for 100 shots with two workers on an Intel 8168.\n",
    "\n",
    "`lscpu` CPU information: `Intel(R) Xeon(R) Platinum 8168 CPU @ 2.70GHz`"
   ]
  },
  {
   "cell_type": "markdown",
   "metadata": {},
   "source": [
    "## Add required packages"
   ]
  },
  {
   "cell_type": "code",
   "execution_count": null,
   "metadata": {},
   "outputs": [],
   "source": [
    "using Distributed, PyPlot, Jets, JetPack, JetPackDSP, Printf"
   ]
  },
  {
   "cell_type": "markdown",
   "metadata": {},
   "source": [
    "## Record time for start of notebook"
   ]
  },
  {
   "cell_type": "code",
   "execution_count": null,
   "metadata": {},
   "outputs": [],
   "source": [
    "time_beg = time()"
   ]
  },
  {
   "cell_type": "markdown",
   "metadata": {},
   "source": [
    "## 1. Read the 10m resampled models output from the FWI notebook"
   ]
  },
  {
   "cell_type": "code",
   "execution_count": null,
   "metadata": {
    "tags": []
   },
   "outputs": [],
   "source": [
    "file1 = \"../50_fwi/marmousi_resampled_10m_349x1701_vtrue.bin\"\n",
    "\n",
    "nz,nx = 349,1701\n",
    "dz,dx = 10.0,10.0\n",
    "\n",
    "v1_orig = read!(file1, Array{Float32}(undef,nz,nx));"
   ]
  },
  {
   "cell_type": "markdown",
   "metadata": {},
   "source": [
    "####  Apply a 7x7 rectangular mix smoother\n",
    "We perform the RTM migration in a slightly smoothed model."
   ]
  },
  {
   "cell_type": "code",
   "execution_count": null,
   "metadata": {},
   "outputs": [],
   "source": [
    "ns = 21\n",
    "P = JopPad(JetSpace(Float32,nz,nx), -ns:nz+ns, -ns:nx+ns, extend=true)\n",
    "M = JopMix(range(P), (7,7))\n",
    "R = JopPad(JetSpace(Float32,nz,nx), -ns:nz+ns, -ns:nx+ns, extend=false)\n",
    "\n",
    "s1 = R' ∘ M ∘ P * (1 ./ v1_orig)\n",
    "\n",
    "v1 = 1 ./(s1);"
   ]
  },
  {
   "cell_type": "markdown",
   "metadata": {},
   "source": [
    "## 2. Visualize the model"
   ]
  },
  {
   "cell_type": "code",
   "execution_count": null,
   "metadata": {},
   "outputs": [],
   "source": [
    "vmin,vmax = extrema(v1_orig)\n",
    "@show vmin,vmax;\n",
    "figure(figsize=(8,3.5)); clf()\n",
    "\n",
    "imshow(v1,aspect=\"auto\",cmap=\"jet\");\n",
    "colorbar(orientation=\"vertical\");clim(vmin,vmax);\n",
    "title(\"True Velocity\");\n",
    "tight_layout()"
   ]
  },
  {
   "cell_type": "markdown",
   "metadata": {},
   "source": [
    "## 3. Build a small local compute cluster (2 workers) \n",
    "\n",
    "#### Setup OMP environment variables for the cluster\n",
    "\n",
    "In the distributed compute case the workers that we add would be on different hardware, and we might add tens of workers in 2D and hundreds in 3D. Here we run on a single machine with only 2 workers, and so we need to be careful with details related to high performance computing. If we did not specify thread affinity, the two workers would compete for the same physical cores and the modeling would be *incredibly* slow.\n",
    "\n",
    "We spin up the small 2-worker cluster by calling `addprocs(2)`, and because we set the environment variable `ENV[\"OMP_DISPLAY_ENV\"] = \"true\"` we will see the OMP environment printed out on each worker. In that output (below) we can verify that half of the total threads (44/2 = 22) are assigned to each socket on this 2 socket system. You can obtain more details about the hardware with the shell command `lscpu`.\n",
    "\n",
    "We set four environment variables related to OpenMP:\n",
    "* `OMP_DISPLAY_ENV` prints out the OpenMP environment on each worker\n",
    "* `OMP_PROC_BIND` specifies that threads should be bound to physical cores\n",
    "* `OMP_NUM_THREADS` specifies the number of threads per workers is 1/2 the number of physical cores\n",
    "* `GOMP_CPU_AFFINITY` specifies which physical cores the threads run on for each worker\n",
    "\n",
    "If you run the shell command `top` during execution, you will see 3 julia processes: the main process and two workers. The two workers should generally have about 50% of the system, and `load average` should tend towards the physical number of cores."
   ]
  },
  {
   "cell_type": "code",
   "execution_count": null,
   "metadata": {
    "tags": []
   },
   "outputs": [],
   "source": [
    "nthread = Sys.CPU_THREADS\n",
    "ENV[\"OMP_DISPLAY_ENV\"] = \"true\"\n",
    "ENV[\"OMP_PROC_BIND\"] = \"close\"\n",
    "ENV[\"OMP_NUM_THREADS\"] = \"$(div(nthread,2))\" \n",
    "addprocs(2)\n",
    "@show workers()\n",
    "for k in 1:nworkers()\n",
    "    place1 = (k - 1) * div(nthread,nworkers())\n",
    "    place2 = (k + 0) * div(nthread,nworkers()) - 1\n",
    "    @show place1, place2, nthread\n",
    "    @spawnat workers()[k] ENV[\"GOMP_CPU_AFFINITY\"] = \"$(place1)-$(place2)\";\n",
    "end"
   ]
  },
  {
   "cell_type": "code",
   "execution_count": null,
   "metadata": {
    "tags": []
   },
   "outputs": [],
   "source": [
    "@everywhere using DistributedArrays, DistributedJets, DistributedOperations, Jets, JetPack, WaveFD, JetPackWaveFD, Random, LinearAlgebra, Schedulers"
   ]
  },
  {
   "cell_type": "markdown",
   "metadata": {},
   "source": [
    "## 4. Create list of shot locations \n",
    "We use 100 shot locations, many times than our FWI example, and run at significantly higher frequency. "
   ]
  },
  {
   "cell_type": "code",
   "execution_count": null,
   "metadata": {
    "tags": []
   },
   "outputs": [],
   "source": [
    "nshots = 100\n",
    "sx = round.(Int,collect(range(0,stop=(nx-1)*dx,length=nshots)))\n",
    "@show nshots;\n",
    "@show sx;"
   ]
  },
  {
   "cell_type": "markdown",
   "metadata": {},
   "source": [
    "## 5. Define the `timemute!`, `migrateshot`, and `stack` functions\n",
    "* `timemute!` mutes data to remove the direct arrival and refraction\n",
    "* `migrateshot` runs the migrations for each shot and writes image and illumination files to scratch disk\n",
    "* `stack` reads in shots from disk and stacks them\n",
    "\n",
    "**TODO:** convert the IO to use CloudSeis as proxy for cloud storage"
   ]
  },
  {
   "cell_type": "markdown",
   "metadata": {},
   "source": [
    "#### Note on scratch space for temporary files\n",
    "When dealing with serialized nonlinear wavefields as in this example, we need to specify the location where scratch files will be written.\n",
    "\n",
    "You may need to change this to point to a temporary directory available on your system."
   ]
  },
  {
   "cell_type": "code",
   "execution_count": null,
   "metadata": {},
   "outputs": [],
   "source": [
    "@everywhere scratch = \"/mnt/scratch\"\n",
    "@assert isdir(scratch)"
   ]
  },
  {
   "cell_type": "markdown",
   "metadata": {},
   "source": [
    "#### Global variables for number of samples and sample rate"
   ]
  },
  {
   "cell_type": "code",
   "execution_count": null,
   "metadata": {
    "scrolled": true
   },
   "outputs": [],
   "source": [
    "@everywhere begin\n",
    "    ntrec = 3001\n",
    "    dtrec = 0.002\n",
    "    dtmod = 0.001\n",
    "end"
   ]
  },
  {
   "cell_type": "markdown",
   "metadata": {},
   "source": [
    "#### Build the `timemute!` function "
   ]
  },
  {
   "cell_type": "code",
   "execution_count": null,
   "metadata": {},
   "outputs": [],
   "source": [
    "@everywhere function timemute!(F, d, watervel, tmute)\n",
    "    for i = 1:length(state(F, :rx)) \n",
    "        rx = state(F, :rx)\n",
    "        rz = state(F, :rz)\n",
    "        sx = state(F, :sx)\n",
    "        sz = state(F, :sz)\n",
    "        dist = sqrt((sx[1] - rx[i])^2 + (sz[1] - rz[i])^2)\n",
    "        time = dist / watervel\n",
    "        tbeg = 1\n",
    "        tend = round(Int, (time + tmute) / state(F,:dtrec))\n",
    "        tend = clamp(tend,1,size(d,1))\n",
    "        d[tbeg:tend,i] .= 0\n",
    "    end\n",
    "    nothing\n",
    "end"
   ]
  },
  {
   "cell_type": "markdown",
   "metadata": {},
   "source": [
    "#### Build the `migrateshot` function"
   ]
  },
  {
   "cell_type": "code",
   "execution_count": null,
   "metadata": {},
   "outputs": [],
   "source": [
    "# notice we model to significantly shorter time than for FWI\n",
    "@everywhere function migrateshot(isrc,nz,nx,dz,dx,_vtrue,_v,sx)\n",
    "    @info \"migrating shot $(isrc) on $(gethostname()) with id $(myid()) ... IC RTM\"\n",
    "    F1 = JopNlProp2DAcoIsoDenQ_DEO2_FDTD(;\n",
    "        b = ones(Float32,nz,nx),\n",
    "        nthreads = div(Sys.CPU_THREADS,2),\n",
    "        ntrec = ntrec,\n",
    "        dtrec = dtrec,\n",
    "        dtmod = dtmod,\n",
    "        dz = dz,\n",
    "        dx = dx,\n",
    "        wavelet = WaveletCausalRicker(f=10.0),\n",
    "        sx = sx[isrc],\n",
    "        sz = dz,\n",
    "        rx = dx*[0:1:nx-1;],\n",
    "        rz = 2*dz*ones(length(0:1:nx-1)),\n",
    "        nbz_cache = nz,\n",
    "        nbx_cache = 16,\n",
    "        comptype = UInt32,\n",
    "        imgcondition = \"standard\",\n",
    "        srcfieldfile = joinpath(scratch, \"field-$isrc-$(randstring()).bin\"),\n",
    "        reportinterval=12001)\n",
    "\n",
    "    @info \"migrating shot $(isrc) on $(gethostname()) with id $(myid()) ... IC standard\"\n",
    "    F2 = JopNlProp2DAcoIsoDenQ_DEO2_FDTD(;\n",
    "        b = ones(Float32,nz,nx),\n",
    "        nthreads = div(Sys.CPU_THREADS,2),\n",
    "        ntrec = ntrec,\n",
    "        dtrec = dtrec,\n",
    "        dtmod = dtmod,\n",
    "        dz = dz,\n",
    "        dx = dx,\n",
    "        wavelet = WaveletCausalRicker(f=10.0),\n",
    "        sx = sx[isrc],\n",
    "        sz = dz,\n",
    "        rx = dx*[0:1:nx-1;],\n",
    "        rz = 2*dz*ones(length(0:1:nx-1)),\n",
    "        nbz_cache = nz,\n",
    "        nbx_cache = 16,\n",
    "        comptype = UInt32,\n",
    "        imgcondition = \"RTM\",\n",
    "        srcfieldfile = joinpath(scratch, \"field-$isrc-$(randstring()).bin\"),\n",
    "        reportinterval=12001)\n",
    "\n",
    "    d = F1*localpart(_vtrue) #here we model the data usually you would just read the data\n",
    "    timemute!(F1,d,1500,2/16) #mute out the direct and diving waves\n",
    "    J1 = jacobian!(F1, localpart(_v))\n",
    "    J2 = jacobian!(F2, localpart(_v))\n",
    "    illum = srcillum(J1)\n",
    "    m1 = J1'*d\n",
    "    m2 = J2'*d\n",
    "    close(F) #delete scratch files that we don't need anymore\n",
    "    @info \"writing image and illumination for shot $(isrc)\"\n",
    "    write(joinpath(scratch,\"image1_$(isrc).bin\"),m1)\n",
    "    write(joinpath(scratch,\"image2_$(isrc).bin\"),m2)\n",
    "    write(joinpath(scratch,\"illum_$(isrc).bin\"),illum)\n",
    "    @info \"done migrating shot $(isrc) on $(gethostname()) with id $(myid())...\"\n",
    "end"
   ]
  },
  {
   "cell_type": "markdown",
   "metadata": {},
   "source": [
    "#### Build the `stack` function"
   ]
  },
  {
   "cell_type": "code",
   "execution_count": null,
   "metadata": {},
   "outputs": [],
   "source": [
    "function stack(shots,nz,nx)\n",
    "   img1 = zeros(Float32,nz,nx)\n",
    "   img2 = zeros(Float32,nz,nx)\n",
    "   ill = zeros(Float32,nz,nx)\n",
    "   for isrc in shots\n",
    "      img1 += read!(joinpath(scratch,\"image1_$(isrc).bin\"), Array{Float32}(undef,nz,nx));\n",
    "      img2 += read!(joinpath(scratch,\"image2_$(isrc).bin\"), Array{Float32}(undef,nz,nx));\n",
    "      ill += read!(joinpath(scratch,\"illum_$(isrc).bin\"), Array{Float32}(undef,nz,nx));\n",
    "      rm(joinpath(scratch,\"image1_$(isrc).bin\"))\n",
    "      rm(joinpath(scratch,\"image2_$(isrc).bin\"))\n",
    "      rm(joinpath(scratch,\"illum_$(isrc).bin\"))\n",
    "   end\n",
    "   return img1,img2,ill\n",
    "end"
   ]
  },
  {
   "cell_type": "markdown",
   "metadata": {},
   "source": [
    "## 6. Run the migration and write individual shot images to disk\n",
    "\n",
    "We use epmap to schedule the work for the migration."
   ]
  },
  {
   "cell_type": "code",
   "execution_count": null,
   "metadata": {},
   "outputs": [],
   "source": [
    "#broadcast the models to the workers\n",
    "_v1 = bcast(v1);"
   ]
  },
  {
   "cell_type": "code",
   "execution_count": null,
   "metadata": {
    "scrolled": true,
    "tags": [
     "outputPrepend"
    ]
   },
   "outputs": [],
   "source": [
    "t1 = @elapsed begin\n",
    "    epmap(i->migrateshot(i, nz, nx, dz, dx, _v1, _v1, sx), 1:nshots)\n",
    "end\n",
    "@show t1;"
   ]
  },
  {
   "cell_type": "code",
   "execution_count": null,
   "metadata": {
    "tags": []
   },
   "outputs": [],
   "source": [
    "@printf(\"Time for migrating %.2f minutes\\n\", t1 / 60)"
   ]
  },
  {
   "cell_type": "markdown",
   "metadata": {},
   "source": [
    "## 7. Stack the individual shot images "
   ]
  },
  {
   "cell_type": "code",
   "execution_count": null,
   "metadata": {},
   "outputs": [],
   "source": [
    "shots = collect(1:nshots)\n",
    "m1, m2, illum1 = stack(shots,nz,nx);"
   ]
  },
  {
   "cell_type": "markdown",
   "metadata": {},
   "source": [
    "## 8. Perform a little post migration filtering"
   ]
  },
  {
   "cell_type": "markdown",
   "metadata": {},
   "source": [
    "#### Laplacian filter to remove backscattered noise"
   ]
  },
  {
   "cell_type": "code",
   "execution_count": null,
   "metadata": {},
   "outputs": [],
   "source": [
    "L = JopHighpass(JetSpace(Float32,nz,nx))"
   ]
  },
  {
   "cell_type": "markdown",
   "metadata": {},
   "source": [
    "#### Apply low cut filter, illumination compensation, and gain"
   ]
  },
  {
   "cell_type": "code",
   "execution_count": null,
   "metadata": {
    "tags": []
   },
   "outputs": [],
   "source": [
    "g = ([0:(nz-1);]*dz).^2 * ones(1,nx);\n",
    "\n",
    "m1 = g .* m1 ./ (illum1 .+ 1e-8 * maximum(abs, illum1));\n",
    "m2 = g .* m2 ./ (illum1 .+ 1e-8 * maximum(abs, illum1));\n",
    "\n",
    "img1 = g .* (L * m1) ./ (illum1 .+ 1e-8 * maximum(abs, illum1));\n",
    "img2 = g .* (L * m2) ./ (illum1 .+ 1e-8 * maximum(abs, illum1));\n",
    "\n",
    "@show extrema(img1)"
   ]
  },
  {
   "cell_type": "markdown",
   "metadata": {},
   "source": [
    "#### Apply water bottom mute"
   ]
  },
  {
   "cell_type": "code",
   "execution_count": null,
   "metadata": {},
   "outputs": [],
   "source": [
    "img1[v1.==1500.0] .= 0;\n",
    "img2[v1.==1500.0] .= 0;"
   ]
  },
  {
   "cell_type": "markdown",
   "metadata": {},
   "source": [
    "## 9. Visualize Results"
   ]
  },
  {
   "cell_type": "code",
   "execution_count": null,
   "metadata": {
    "tags": []
   },
   "outputs": [],
   "source": [
    "mrms1 = 2.5 * sqrt(norm(m1)^2 / length(img1))\n",
    "mrms2 = 2.5 * sqrt(norm(m2)^2 / length(img1))\n",
    "irms1 = 2.5 * sqrt(norm(img1)^2 / length(img1))\n",
    "irms2 = 2.5 * sqrt(norm(img2)^2 / length(img1))\n",
    "\n",
    "figure(figsize=(8,14)); clf()\n",
    "\n",
    "subplot(2,2,1); imshow(m1,aspect=\"auto\",cmap=\"gray\");\n",
    "colorbar(orientation=\"vertical\");clim(-mrms1,+mrms1);\n",
    "title(\"Raw Migration with Standard Imaging Condition\")\n",
    "\n",
    "subplot(2,2,1); imshow(m2,aspect=\"auto\",cmap=\"gray\");\n",
    "colorbar(orientation=\"vertical\");clim(-mrms2,+mrms2);\n",
    "title(\"Raw Migration with FWI Imaging Condition\")\n",
    "\n",
    "subplot(2,2,1); imshow(img1,aspect=\"auto\",cmap=\"gray\");\n",
    "colorbar(orientation=\"vertical\");clim(-irms1,+irms1);\n",
    "title(\"Processed Migration with Standard Imaging Condition\")\n",
    "\n",
    "subplot(2,2,1); imshow(img2,aspect=\"auto\",cmap=\"gray\");\n",
    "colorbar(orientation=\"vertical\");clim(-irms2,+irms2);\n",
    "title(\"Processed Migration with FWI Imaging Condition\")\n",
    "\n",
    "tight_layout()"
   ]
  },
  {
   "cell_type": "markdown",
   "metadata": {},
   "source": [
    "## Remove workers"
   ]
  },
  {
   "cell_type": "code",
   "execution_count": null,
   "metadata": {},
   "outputs": [],
   "source": [
    "rmprocs(workers())"
   ]
  },
  {
   "cell_type": "code",
   "execution_count": null,
   "metadata": {},
   "outputs": [],
   "source": [
    "time_end = time()\n",
    "@sprintf(\"Time to run notebook; %.2f minutes\\n\", (time_end - time_beg) / 60)"
   ]
  },
  {
   "cell_type": "code",
   "execution_count": null,
   "metadata": {},
   "outputs": [],
   "source": []
  }
 ],
 "metadata": {
  "kernelspec": {
   "display_name": "Julia 1.5.1",
   "language": "julia",
   "name": "julia-1.5"
  },
  "language_info": {
   "file_extension": ".jl",
   "mimetype": "application/julia",
   "name": "julia",
   "version": "1.5.1"
  }
 },
 "nbformat": 4,
 "nbformat_minor": 4
}
