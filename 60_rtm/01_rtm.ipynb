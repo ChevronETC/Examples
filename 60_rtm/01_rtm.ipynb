{
 "cells": [
  {
   "cell_type": "markdown",
   "metadata": {},
   "source": [
    "# RTM Example\n",
    "We will perform RTM using the following steps:\n",
    "1. Read the 10m resampled models output from the FWI notebook\n",
    "    * true model\n",
    "    * initial model\n",
    "    * fwi model\n",
    "2. Visualize the models \n",
    "3. Build a small local compute cluster (2 workers)\n",
    "4. Create list of shot locations \n",
    "5. Build F, the distributed block operator for seismic modeling\n",
    "6. Use F and generate \"observed data\" in the true model \n",
    "7. Apply simple direct arrival mute \n",
    "8. Use the Jacobian of F to migrate the observed data in each model\n",
    "9. Perform a little post migration filtering\n",
    "10. Visualize Results\n",
    "\n",
    "#### Note on runtime\n",
    "This notebook takes approximately 1 hour to run for 24 shots with two workers on an Intel 8168.\n",
    "\n",
    "`lscpu` CPU information: `Intel(R) Xeon(R) Platinum 8168 CPU @ 2.70GHz`"
   ]
  },
  {
   "cell_type": "markdown",
   "metadata": {},
   "source": [
    "## Add required packages"
   ]
  },
  {
   "cell_type": "code",
   "execution_count": null,
   "metadata": {},
   "outputs": [],
   "source": [
    "using Distributed, PyPlot, Jets, JetPack, JetPackDSP, Printf"
   ]
  },
  {
   "cell_type": "markdown",
   "metadata": {},
   "source": [
    "## Record time for start of notebook"
   ]
  },
  {
   "cell_type": "code",
   "execution_count": null,
   "metadata": {},
   "outputs": [],
   "source": [
    "time_beg = time()"
   ]
  },
  {
   "cell_type": "markdown",
   "metadata": {},
   "source": [
    "## 1. Read the models output from the FWI notebook"
   ]
  },
  {
   "cell_type": "code",
   "execution_count": null,
   "metadata": {},
   "outputs": [],
   "source": [
    "file1 = \"../50_fwi/marmousi_resampled_10m_349x1701_vtrue.bin\"\n",
    "file2 = \"../50_fwi/marmousi_resampled_10m_349x1701_vinit.bin\"\n",
    "filef = \"../50_fwi/marmousi_resampled_10m_349x1701_vfwi.bin\"\n",
    "\n",
    "nz,nx = 349,1701\n",
    "dz,dx = 10.0,10.0\n",
    "\n",
    "v1_orig = read!(file1, Array{Float32}(undef,nz,nx));\n",
    "v2_orig = read!(file2, Array{Float32}(undef,nz,nx));\n",
    "vf_orig = read!(filef, Array{Float32}(undef,nz,nx));"
   ]
  },
  {
   "cell_type": "markdown",
   "metadata": {},
   "source": [
    "####  Apply a 3x3 convolutional smoother\n",
    "We perform the RTM migration in slightly smoothed models."
   ]
  },
  {
   "cell_type": "code",
   "execution_count": null,
   "metadata": {},
   "outputs": [],
   "source": [
    "ns = 21\n",
    "P = JopPad(JetSpace(Float32,nz,nx), -ns:nz+ns, -ns:nx+ns, extend=true)\n",
    "M = JopMix(range(P), (7,7))\n",
    "R = JopPad(JetSpace(Float32,nz,nx), -ns:nz+ns, -ns:nx+ns, extend=false)\n",
    "\n",
    "s1 = R' ∘ M ∘ P * (1 ./ v1_orig)\n",
    "s2 = R' ∘ M ∘ P * (1 ./ v2_orig)\n",
    "sf = R' ∘ M ∘ P * (1 ./ vf_orig)\n",
    "\n",
    "v1 = 1 ./(s1);\n",
    "v2 = 1 ./(s2);\n",
    "vf = 1 ./(sf);"
   ]
  },
  {
   "cell_type": "markdown",
   "metadata": {},
   "source": [
    "## 2. Visualize the models"
   ]
  },
  {
   "cell_type": "code",
   "execution_count": null,
   "metadata": {},
   "outputs": [],
   "source": [
    "vmin,vmax = extrema(v1_orig)\n",
    "@show vmin,vmax;\n",
    "\n",
    "figure(figsize=(8,9)); clf()\n",
    "\n",
    "subplot(3,2,1);imshow(v1_orig,aspect=\"auto\",cmap=\"jet\");\n",
    "colorbar(orientation=\"horizontal\");clim(vmin,vmax);\n",
    "title(\"True Velocity\")\n",
    "\n",
    "subplot(3,2,2);imshow(v1,aspect=\"auto\",cmap=\"jet\");\n",
    "colorbar(orientation=\"horizontal\");clim(vmin,vmax);\n",
    "title(\"True Velocity (smoothed)\")\n",
    "\n",
    "\n",
    "subplot(3,2,3);imshow(v2_orig,aspect=\"auto\",cmap=\"jet\");\n",
    "colorbar(orientation=\"horizontal\");clim(vmin,vmax);\n",
    "title(\"Initial Velocity\");\n",
    "\n",
    "subplot(3,2,4);imshow(v2,aspect=\"auto\",cmap=\"jet\");\n",
    "colorbar(orientation=\"horizontal\");clim(vmin,vmax);\n",
    "title(\"Initial Velocity (smoothed)\");\n",
    "\n",
    "\n",
    "subplot(3,2,5);imshow(vf_orig,aspect=\"auto\",cmap=\"jet\");\n",
    "colorbar(orientation=\"horizontal\");clim(vmin,vmax);\n",
    "title(\"FWI Velocity\");\n",
    "\n",
    "subplot(3,2,6);imshow(vf,aspect=\"auto\",cmap=\"jet\");\n",
    "colorbar(orientation=\"horizontal\");clim(vmin,vmax);\n",
    "title(\"FWI Velocity (smoothed)\");\n",
    "\n",
    "tight_layout()"
   ]
  },
  {
   "cell_type": "markdown",
   "metadata": {},
   "source": [
    "## 3. Build a small local compute cluster (2 workers) \n",
    "\n",
    "#### Setup OMP environment variables for the cluster\n",
    "\n",
    "In the distributed compute case the workers that we add would be on different hardware, and we might add tens of workers in 2D and hundreds in 3D. Here we run on a single machine with only 2 workers, and so we need to be careful with details related to high performance computing. If we did not specify thread affinity, the two workers would compete for the same physical cores and the modeling would be *incredibly* slow.\n",
    "\n",
    "We spin up the small 2-worker cluster by calling `addprocs(2)`, and because we set the environment variable `ENV[\"OMP_DISPLAY_ENV\"] = \"true\"` we will see the OMP environment printed out on each worker. In that output (below) we can verify that half of the total threads (44/2 = 22) are assigned to each socket on this 2 socket system. You can obtain more details about the hardware with the shell command `lscpu`.\n",
    "\n",
    "We set four environment variables related to OpenMP:\n",
    "* `OMP_DISPLAY_ENV` prints out the OpenMP environment on each worker\n",
    "* `OMP_PROC_BIND` specifies that threads should be bound to physical cores\n",
    "* `OMP_NUM_THREADS` specifies the number of threads per workers is 1/2 the number of physical cores\n",
    "* `GOMP_CPU_AFFINITY` specifies which physical cores the threads run on for each worker\n",
    "\n",
    "If you run the shell command `top` during execution, you will see 3 julia processes: the main process and two workers. The two workers should generally have about 50% of the system, and `load average` should tend towards the physical number of cores."
   ]
  },
  {
   "cell_type": "code",
   "execution_count": null,
   "metadata": {},
   "outputs": [],
   "source": [
    "nthread = Sys.CPU_THREADS\n",
    "ENV[\"OMP_DISPLAY_ENV\"] = \"true\"\n",
    "ENV[\"OMP_PROC_BIND\"] = \"close\"\n",
    "ENV[\"OMP_NUM_THREADS\"] = \"$(div(nthread,2))\" \n",
    "addprocs(2)\n",
    "@show workers()\n",
    "for k in 1:nworkers()\n",
    "    place1 = (k - 1) * div(nthread,nworkers())\n",
    "    place2 = (k + 0) * div(nthread,nworkers()) - 1\n",
    "    @show place1, place2, nthread\n",
    "    @spawnat workers()[k] ENV[\"GOMP_CPU_AFFINITY\"] = \"$(place1)-$(place2)\";\n",
    "end"
   ]
  },
  {
   "cell_type": "code",
   "execution_count": null,
   "metadata": {},
   "outputs": [],
   "source": [
    "@everywhere using DistributedArrays, DistributedJets, Jets, JetPack, WaveFD, JetPackWaveFD, Random, LinearAlgebra"
   ]
  },
  {
   "cell_type": "markdown",
   "metadata": {},
   "source": [
    "## 4. Create list of shot locations \n",
    "We use 100 shot locations, many times than our FWI example, and run at significantly higher frequency. "
   ]
  },
  {
   "cell_type": "code",
   "execution_count": null,
   "metadata": {
    "tags": []
   },
   "outputs": [],
   "source": [
    "nshots = 100\n",
    "sx = round.(Int,collect(range(0,stop=(nx-1)*dx,length=nshots)))\n",
    "@show nshots;\n",
    "@show sx;"
   ]
  },
  {
   "cell_type": "markdown",
   "metadata": {},
   "source": [
    "## 5. Build F, the distributed block operator for seismic modeling"
   ]
  },
  {
   "cell_type": "markdown",
   "metadata": {},
   "source": [
    "#### Note on scratch space for temporary files\n",
    "When dealing with serialized nonlinear wavefields as in this example, we need to specify the location where scratch files will be written.\n",
    "\n",
    "You may need to change this to point to a temporary directory available on your system."
   ]
  },
  {
   "cell_type": "code",
   "execution_count": null,
   "metadata": {},
   "outputs": [],
   "source": [
    "@everywhere scratch = \"/mnt/scratch\"\n",
    "@assert isdir(scratch)"
   ]
  },
  {
   "cell_type": "code",
   "execution_count": null,
   "metadata": {
    "scrolled": true
   },
   "outputs": [],
   "source": [
    "# notice we model to significantly shorter time than for FWI\n",
    "@everywhere begin\n",
    "    ntrec = 3001\n",
    "    dtrec = 0.002\n",
    "    dtmod = 0.001\n",
    "end\n",
    "\n",
    "@everywhere function makeF(i,nz,nx,dz,dx,sx)\n",
    "    JopNlProp2DAcoIsoDenQ_DEO2_FDTD(;\n",
    "        b = ones(Float32,nz,nx),\n",
    "        nthreads = div(Sys.CPU_THREADS,2),\n",
    "        ntrec = ntrec,\n",
    "        dtrec = dtrec,\n",
    "        dtmod = dtmod,\n",
    "        dz = dz,\n",
    "        dx = dx,\n",
    "        wavelet = WaveletCausalRicker(f=10.0),\n",
    "        sx = sx[i],\n",
    "        sz = dz,\n",
    "        rx = dx*[0:1:nx-1;],\n",
    "        rz = 2*dz*ones(length(0:1:nx-1)),\n",
    "        nbz_cache = nz,\n",
    "        nbx_cache = 16,\n",
    "        comptype = UInt32,\n",
    "        srcfieldfile = joinpath(scratch, \"field-$i-$(randstring()).bin\"),\n",
    "        reportinterval=12001)\n",
    "end"
   ]
  },
  {
   "cell_type": "code",
   "execution_count": null,
   "metadata": {},
   "outputs": [],
   "source": [
    "F = @blockop DArray(I->[makeF(i,nz,nx,dz,dx,sx) for i in I[1], j in I[2]], (nshots,1))"
   ]
  },
  {
   "cell_type": "markdown",
   "metadata": {},
   "source": [
    "## 6. Use F and generate \"observed data\" in the true model "
   ]
  },
  {
   "cell_type": "code",
   "execution_count": null,
   "metadata": {
    "scrolled": true
   },
   "outputs": [],
   "source": [
    "t1 = @elapsed begin\n",
    "    d1 = F*v1\n",
    "end\n",
    "@show t1;"
   ]
  },
  {
   "cell_type": "code",
   "execution_count": null,
   "metadata": {},
   "outputs": [],
   "source": [
    "@printf(\"Time for modeling %.2f minutes\\n\", t1 / 60)"
   ]
  },
  {
   "cell_type": "markdown",
   "metadata": {},
   "source": [
    "## 7. Apply simple direct arrival mute \n",
    "We apply a simple mute based on the Marmousi water velocity of 1500 m/s and the offset from the traces headers. "
   ]
  },
  {
   "cell_type": "markdown",
   "metadata": {},
   "source": [
    "#### Define two functions to implement the mute for distributed block arrays\n",
    "* The 1st function dispatches on the remote worker that \"owns\" the block of data\n",
    "* The 2nd function implements a simple step function mute. "
   ]
  },
  {
   "cell_type": "code",
   "execution_count": null,
   "metadata": {},
   "outputs": [],
   "source": [
    "@everywhere function timemute!(F, d::DBArray, watervel, tmute)\n",
    "    @sync for pid in procs(d)\n",
    "        @async remotecall_fetch(timemute_local!, pid, F, d, watervel, tmute)\n",
    "    end\n",
    "end\n",
    "\n",
    "@everywhere function timemute_local!(F, d::DBArray{T}, watervel, tmute) where {T}\n",
    "    for iblock in localblockindices(d)\n",
    "        dᵢ = getblock(d, iblock)\n",
    "        Fᵢ = getblock(F, iblock, 1)\n",
    "        nt = state(Fᵢ, :ntrec)\n",
    "        for i = 1:length(state(Fᵢ, :rx)) \n",
    "            rx = state(Fᵢ, :rx)\n",
    "            rz = state(Fᵢ, :rz)\n",
    "            sx = state(Fᵢ, :sx)\n",
    "            sz = state(Fᵢ, :sz)\n",
    "            dist = sqrt((sx[1] - rx[i])^2 + (sz[1] - rz[i])^2)\n",
    "            time = dist / watervel\n",
    "            tbeg = 1\n",
    "            tend = min(nt,round(Int, (time + tmute) / state(Fᵢ,:dtrec)))\n",
    "            dᵢ[tbeg:tend,i] .= 0\n",
    "        end\n",
    "    end\n",
    "    nothing\n",
    "end"
   ]
  },
  {
   "cell_type": "markdown",
   "metadata": {},
   "source": [
    "#### Apply the mute and visualize the results for 2 shot gathers \n",
    "The mute time chosen is six periods (at Ricker peak frequency) beyond water arrival. Six periods was empirically tested to remove the refraction energy and improve the reflection image. "
   ]
  },
  {
   "cell_type": "code",
   "execution_count": null,
   "metadata": {},
   "outputs": [],
   "source": [
    "watervel = minimum(v1)\n",
    "tmute = 6/20\n",
    "@show watervel\n",
    "@show tmute\n",
    "\n",
    "# copy distributed block array\n",
    "d1_mute = zeros(range(F));\n",
    "d1_mute .= d1;\n",
    "\n",
    "# apply mute\n",
    "timemute!(F, d1_mute, watervel, tmute)\n",
    "\n",
    "# get local copies of 1st shot gather to plot\n",
    "shots = [1, div(nshots,2), nshots]\n",
    "local_d1 = [getblock(d1,k) for k in shots];\n",
    "local_d1_mute = [getblock(d1_mute,k) for k in shots];"
   ]
  },
  {
   "cell_type": "code",
   "execution_count": null,
   "metadata": {},
   "outputs": [],
   "source": [
    "scale = 20.0 / sqrt(norm(d1)^2 / length(d1))\n",
    "@show scale\n",
    "\n",
    "figure(figsize=(8,6)); clf()\n",
    "\n",
    "subplot(2,2,1);\n",
    "imshow(scale .* local_d1[1],cmap=\"gray\",aspect=\"auto\",clim=[-1,+1]);\n",
    "title(\"Unmuted data for shot 1\");\n",
    "\n",
    "subplot(2,2,2);\n",
    "imshow(scale .* local_d1_mute[1],cmap=\"gray\",aspect=\"auto\",clim=[-1,+1]);\n",
    "title(\"Muted data for shot 1\");\n",
    "\n",
    "subplot(2,2,3);\n",
    "imshow(scale .* local_d1[end],cmap=\"gray\",aspect=\"auto\",clim=[-1,+1]);\n",
    "title(\"Unmuted data for shot $(nshots)\");\n",
    "\n",
    "subplot(2,2,4);\n",
    "imshow(scale .* local_d1_mute[end],cmap=\"gray\",aspect=\"auto\",clim=[-1,+1]);\n",
    "title(\"Muted data for shot $(nshots)\");\n",
    "\n",
    "tight_layout();"
   ]
  },
  {
   "cell_type": "markdown",
   "metadata": {},
   "source": [
    "## 8. Use the Jacobian of F to migrate the observed data in each model\n",
    "Note there is no water bottom mute or preprocessing applied here at all, those would clearly be improvements to this brute force workflow."
   ]
  },
  {
   "cell_type": "markdown",
   "metadata": {},
   "source": [
    "#### Migrate in the true velocity model"
   ]
  },
  {
   "cell_type": "code",
   "execution_count": null,
   "metadata": {
    "scrolled": true
   },
   "outputs": [],
   "source": [
    "t1 = @elapsed begin\n",
    "    J1 = jacobian!(F, v1)\n",
    "    illum1 = srcillum(J1)\n",
    "    m1 = J1'*d1_mute;\n",
    "end\n",
    "@show extrema(m1)\n",
    "@show extrema(illum1)"
   ]
  },
  {
   "cell_type": "code",
   "execution_count": null,
   "metadata": {},
   "outputs": [],
   "source": [
    "@printf(\"Migrate time true model; %12.4f minutes\\n\", t1 / 60)"
   ]
  },
  {
   "cell_type": "markdown",
   "metadata": {},
   "source": [
    "#### Migrate in the initial velocity model"
   ]
  },
  {
   "cell_type": "code",
   "execution_count": null,
   "metadata": {
    "scrolled": true
   },
   "outputs": [],
   "source": [
    "t2 = @elapsed begin\n",
    "    J2 = jacobian!(F, v2)\n",
    "    illum2 = srcillum(J2)\n",
    "    m2 = J2'*d1_mute;\n",
    "end\n",
    "@show extrema(m2)\n",
    "@show extrema(illum2)"
   ]
  },
  {
   "cell_type": "code",
   "execution_count": null,
   "metadata": {},
   "outputs": [],
   "source": [
    "@printf(\"Migrate time init model; %12.4f minutes\\n\", t2 / 60)"
   ]
  },
  {
   "cell_type": "markdown",
   "metadata": {},
   "source": [
    "#### Migrate in the FWI velocity model"
   ]
  },
  {
   "cell_type": "code",
   "execution_count": null,
   "metadata": {
    "scrolled": true
   },
   "outputs": [],
   "source": [
    "tf = @elapsed begin\n",
    "    Jf = jacobian!(F, vf)\n",
    "    illumf = srcillum(Jf)\n",
    "    mf = Jf'*d1_mute;\n",
    "end\n",
    "@show extrema(mf)\n",
    "@show extrema(illumf)"
   ]
  },
  {
   "cell_type": "code",
   "execution_count": null,
   "metadata": {},
   "outputs": [],
   "source": [
    "@printf(\"Migrate time FWI  model; %12.4f minutes\\n\", tf / 60)"
   ]
  },
  {
   "cell_type": "markdown",
   "metadata": {},
   "source": [
    "## 9. Perform a little post migration filtering"
   ]
  },
  {
   "cell_type": "markdown",
   "metadata": {},
   "source": [
    "#### Laplacian filter to remove backscattered noise"
   ]
  },
  {
   "cell_type": "code",
   "execution_count": null,
   "metadata": {},
   "outputs": [],
   "source": [
    "L = JopLaplacian(JetSpace(Float32,nz,nx))\n",
    "# L = JopHighpass(JetSpace(Float32,nz,nx))"
   ]
  },
  {
   "cell_type": "markdown",
   "metadata": {},
   "source": [
    "#### Apply low cut filter, illumination compensation, and gain"
   ]
  },
  {
   "cell_type": "code",
   "execution_count": null,
   "metadata": {},
   "outputs": [],
   "source": [
    "g = ([0:(nz-1);]*dz).^2 * ones(1,nx);\n",
    "\n",
    "# img1 = g .* (L * m1)\n",
    "# img2 = g .* (L * m2)\n",
    "# imgf = g .* (L * mf)\n",
    "\n",
    "img1 = g .* (L * m1) ./ (illum1 .+ 1e-8 * maximum(abs, illum1));\n",
    "img2 = g .* (L * m2) ./ (illum2 .+ 1e-8 * maximum(abs, illum2));\n",
    "imgf = g .* (L * mf) ./ (illumf .+ 1e-8 * maximum(abs, illumf));\n",
    "\n",
    "@show extrema(img1)\n",
    "@show extrema(img2)\n",
    "@show extrema(imgf)"
   ]
  },
  {
   "cell_type": "markdown",
   "metadata": {},
   "source": [
    "#### Apply water bottom mute"
   ]
  },
  {
   "cell_type": "code",
   "execution_count": null,
   "metadata": {},
   "outputs": [],
   "source": [
    "img1[v1.==1500.0] .= 0;\n",
    "img2[v1.==1500.0] .= 0;\n",
    "imgf[v1.==1500.0] .= 0;"
   ]
  },
  {
   "cell_type": "markdown",
   "metadata": {},
   "source": [
    "## 10. Visualize Results"
   ]
  },
  {
   "cell_type": "code",
   "execution_count": null,
   "metadata": {},
   "outputs": [],
   "source": [
    "mrms1 = 2.5 * sqrt(norm(img1)^2 / length(img1))\n",
    "mrms2 = 2.5 * sqrt(norm(img2)^2 / length(img2))\n",
    "mrmsf = 2.5 * sqrt(norm(imgf)^2 / length(imgf))\n",
    "@show mrms1\n",
    "@show mrms2\n",
    "@show mrmsf\n",
    "\n",
    "figure(figsize=(8,9)); clf()\n",
    "\n",
    "subplot(3,1,1);imshow(img2,aspect=\"auto\",cmap=\"gray\");\n",
    "colorbar(orientation=\"vertical\");clim(-mrms2,+mrms2);\n",
    "title(\"Migration in Initial Velocity\");\n",
    "\n",
    "subplot(3,1,2);imshow(img1,aspect=\"auto\",cmap=\"gray\");\n",
    "colorbar(orientation=\"vertical\");clim(-mrms1,+mrms1);\n",
    "title(\"Migration in True Velocity\")\n",
    "\n",
    "subplot(3,1,3);imshow(imgf,aspect=\"auto\",cmap=\"gray\");\n",
    "colorbar(orientation=\"vertical\");clim(-mrmsf,+mrmsf);\n",
    "title(\"Migration in FWI Velocity\");\n",
    "\n",
    "tight_layout()"
   ]
  },
  {
   "cell_type": "markdown",
   "metadata": {},
   "source": [
    "## Remove local files and workers"
   ]
  },
  {
   "cell_type": "code",
   "execution_count": null,
   "metadata": {},
   "outputs": [],
   "source": [
    "close(F);\n",
    "rmprocs(workers());"
   ]
  },
  {
   "cell_type": "markdown",
   "metadata": {},
   "source": [
    "## Record time at end of notebook\n",
    "Report total elapsed time to run the notebook"
   ]
  },
  {
   "cell_type": "code",
   "execution_count": null,
   "metadata": {},
   "outputs": [],
   "source": [
    "time_end = time()\n",
    "@sprintf(\"Time to run notebook; %.2f minutes\\n\", (time_end - time_beg) / 60)"
   ]
  },
  {
   "cell_type": "code",
   "execution_count": null,
   "metadata": {},
   "outputs": [],
   "source": []
  }
 ],
 "metadata": {
  "kernelspec": {
   "display_name": "Julia 1.5.2",
   "language": "julia",
   "name": "julia-1.5"
  },
  "language_info": {
   "file_extension": ".jl",
   "mimetype": "application/julia",
   "name": "julia",
   "version": "1.5.2"
  }
 },
 "nbformat": 4,
 "nbformat_minor": 4
}
