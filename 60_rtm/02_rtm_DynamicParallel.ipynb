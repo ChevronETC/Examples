{
 "cells": [
  {
   "cell_type": "markdown",
   "metadata": {},
   "source": [
    "# RTM Example\n",
    "We will perform RTM using the following steps:\n",
    "1. Read the 10m resampled models output from the FWI notebook\n",
    "    * true model\n",
    "    * initial model\n",
    "    * fwi model\n",
    "2. Visualize the models \n",
    "3. Build a small local compute cluster (2 workers)\n",
    "4. Create list of shot locations \n",
    "5. Define the migrateshot , timemute! and stacking functions\n",
    "6. Run the migration and then stack the data we wrote to disk\n",
    "7. Perform a little post migration filtering\n",
    "8. Visualize Results\n",
    "\n",
    "#### Note on runtime\n",
    "This notebook takes approximately 1/2 hour to run for 24 shots with two workers on an Intel 8168.\n",
    "\n",
    "`lscpu` CPU information: `Intel(R) Xeon(R) Platinum 8168 CPU @ 2.70GHz`"
   ]
  },
  {
   "cell_type": "markdown",
   "metadata": {},
   "source": [
    "## Add required packages"
   ]
  },
  {
   "source": [
    "using Distributed, PyPlot, Jets, JetPack, JetPackDSP, Printf"
   ],
   "cell_type": "code",
   "metadata": {},
   "execution_count": 2,
   "outputs": []
  },
  {
   "source": [
    "## Record time for start of notebook"
   ],
   "cell_type": "markdown",
   "metadata": {}
  },
  {
   "cell_type": "code",
   "execution_count": 3,
   "metadata": {},
   "outputs": [
    {
     "output_type": "execute_result",
     "data": {
      "text/plain": [
       "1.602866008874156e9"
      ]
     },
     "metadata": {},
     "execution_count": 3
    }
   ],
   "source": [
    "time_beg = time()"
   ]
  },
  {
   "cell_type": "markdown",
   "metadata": {},
   "source": [
    "## 1. Read the models output from the FWI notebook"
   ]
  },
  {
   "cell_type": "code",
   "execution_count": 4,
   "metadata": {
    "tags": []
   },
   "outputs": [
    {
     "output_type": "error",
     "ename": "LoadError",
     "evalue": "SystemError: opening file \"../50_fwi/marmousi_resampled_10m_349x1701_vtrue.bin\": No such file or directory",
     "traceback": [
      "SystemError: opening file \"../50_fwi/marmousi_resampled_10m_349x1701_vtrue.bin\": No such file or directory",
      "",
      "Stacktrace:",
      " [1] systemerror(::String, ::Int32; extrainfo::Nothing) at ./error.jl:168",
      " [2] #systemerror#48 at ./error.jl:167 [inlined]",
      " [3] systemerror at ./error.jl:167 [inlined]",
      " [4] open(::String; lock::Bool, read::Nothing, write::Nothing, create::Nothing, truncate::Nothing, append::Nothing) at ./iostream.jl:284",
      " [5] open at ./iostream.jl:273 [inlined]",
      " [6] open(::Base.var\"#298#299\"{Array{Float32,2}}, ::String; kwargs::Base.Iterators.Pairs{Union{},Union{},Tuple{},NamedTuple{(),Tuple{}}}) at ./io.jl:323",
      " [7] open at ./io.jl:323 [inlined]",
      " [8] read!(::String, ::Array{Float32,2}) at ./io.jl:420",
      " [9] top-level scope at In[4]:6",
      " [10] include_string(::Function, ::Module, ::String, ::String) at ./loading.jl:1091",
      " [11] execute_code(::String, ::String) at /home/cvx/.julia/packages/IJulia/rWZ9e/src/execute_request.jl:27",
      " [12] execute_request(::ZMQ.Socket, ::IJulia.Msg) at /home/cvx/.julia/packages/IJulia/rWZ9e/src/execute_request.jl:86",
      " [13] #invokelatest#1 at ./essentials.jl:710 [inlined]",
      " [14] invokelatest at ./essentials.jl:709 [inlined]",
      " [15] eventloop(::ZMQ.Socket) at /home/cvx/.julia/packages/IJulia/rWZ9e/src/eventloop.jl:8",
      " [16] (::IJulia.var\"#15#18\")() at ./task.jl:356"
     ]
    }
   ],
   "source": [
    "file1 = \"../50_fwi/marmousi_resampled_10m_349x1701_vtrue.bin\"\n",
    "\n",
    "nz,nx = 349,1701\n",
    "dz,dx = 10.0,10.0\n",
    "\n",
    "v1_orig = read!(file1, Array{Float32}(undef,nz,nx));"
   ]
  },
  {
   "source": [
    "####  Apply a 3x3 convolutional smoother\n",
    "We perform the RTM migration in a slightly smoothed model."
   ],
   "cell_type": "markdown",
   "metadata": {}
  },
  {
   "cell_type": "code",
   "execution_count": null,
   "metadata": {},
   "outputs": [],
   "source": [
    "ns = 21\n",
    "P = JopPad(JetSpace(Float32,nz,nx), -ns:nz+ns, -ns:nx+ns, extend=true)\n",
    "M = JopMix(range(P), (7,7))\n",
    "R = JopPad(JetSpace(Float32,nz,nx), -ns:nz+ns, -ns:nx+ns, extend=false)\n",
    "\n",
    "s1 = R' ∘ M ∘ P * (1 ./ v1_orig)\n",
    "\n",
    "v1 = 1 ./(s1);"
   ]
  },
  {
   "cell_type": "markdown",
   "metadata": {},
   "source": [
    "## 2. Visualize the model"
   ]
  },
  {
   "cell_type": "code",
   "execution_count": null,
   "metadata": {},
   "outputs": [],
   "source": [
    "figure(figsize=(9,12)); clf()\n",
    "\n",
    "imshow(v1,aspect=\"auto\",cmap=\"jet\");\n",
    "colorbar(orientation=\"vertical\");clim(vmin,vmax);\n",
    "title(\"True Velocity\")"
   ]
  },
  {
   "cell_type": "markdown",
   "metadata": {},
   "source": [
    "## 3. Build a small local compute cluster (2 workers) \n",
    "\n",
    "#### Setup OMP environment variables for the cluster\n",
    "Note we need to do this because we are using multiple workers on the same physical node, and without setting up thread affinity the modeling will be *incredibly* slow.\n",
    "\n",
    "Because we set `ENV[\"OMP_DISPLAY_ENV\"] = \"true\"`, when the \"cluster spins up\" by calling `addprocs()` below you will see the OMP environment printed out on each worker. You can verify that half of the threads are assigned to the first half of the physical cpus, and similarly for the second half, by looking at the value of the `OMP_PLACES` variable."
   ]
  },
  {
   "cell_type": "code",
   "execution_count": null,
   "metadata": {
    "tags": []
   },
   "outputs": [],
   "source": [
    "nthread = Sys.CPU_THREADS\n",
    "ENV[\"OMP_DISPLAY_ENV\"] = \"true\"\n",
    "ENV[\"OMP_PROC_BIND\"] = \"close\"\n",
    "ENV[\"OMP_NUM_THREADS\"] = \"$(div(nthread,2))\" \n",
    "addprocs(2)\n",
    "@show workers()\n",
    "for k in 1:nworkers()\n",
    "    place1 = (k - 1) * div(nthread,nworkers())\n",
    "    place2 = (k + 0) * div(nthread,nworkers()) - 1\n",
    "    @show place1, place2, nthread\n",
    "    @spawnat workers()[k] ENV[\"GOMP_CPU_AFFINITY\"] = \"$(place1)-$(place2)\";\n",
    "end"
   ]
  },
  {
   "cell_type": "code",
   "execution_count": null,
   "metadata": {
    "tags": []
   },
   "outputs": [],
   "source": [
    "@everywhere using DistributedArrays, DistributedJets, DistributedOperations, Jets, JetPack, WaveFD, JetPackWaveFD, Random, LinearAlgebra, Schedulers"
   ]
  },
  {
   "cell_type": "markdown",
   "metadata": {},
   "source": [
    "## 4. Create list of shot locations \n",
    "We use 100 shot locations, many times than our FWI example, and run at significantly higher frequency. "
   ]
  },
  {
   "cell_type": "code",
   "execution_count": null,
   "metadata": {
    "tags": []
   },
   "outputs": [],
   "source": [
    "nshots = 100\n",
    "sx = round.(Int,collect(range(0,stop=(nx-1)*dx,length=nshots)))\n",
    "@show nshots;\n",
    "@show sx;"
   ]
  },
  {
   "cell_type": "markdown",
   "metadata": {},
   "source": [
    "## 5. Define the migrateshot and stack functions\n",
    "### migrateshot is the writes the image and illumination files to our scratch disk\n",
    "### stack reads in the specified shot from disk and stacks them"
   ]
  },
  {
   "cell_type": "markdown",
   "metadata": {},
   "source": [
    "#### Note on scratch space for temporary files\n",
    "When dealing with serialized nonlinear wavefields as in this example, we need to specify the location where scratch files will be written.\n",
    "\n",
    "You may need to change this to point to a temporary directory available on your system."
   ]
  },
  {
   "cell_type": "code",
   "execution_count": null,
   "metadata": {},
   "outputs": [],
   "source": [
    "@everywhere scratch = \"/mnt/scratch\"\n",
    "@assert isdir(scratch)"
   ]
  },
  {
   "cell_type": "code",
   "execution_count": null,
   "metadata": {
    "scrolled": true
   },
   "outputs": [],
   "source": [
    "@everywhere begin\n",
    "    ntrec = 3001\n",
    "    dtrec = 0.002\n",
    "    dtmod = 0.001\n",
    "end"
   ]
  },
  {
   "source": [
    "### Build the migrate shot function which is the work that needs to be done for 1 shot"
   ],
   "cell_type": "markdown",
   "metadata": {}
  },
  {
   "cell_type": "code",
   "execution_count": null,
   "metadata": {},
   "outputs": [],
   "source": [
    "@everywhere function migrateshot(isrc,nz,nx,dz,dx,_vtrue,_v,sx)\n",
    "    @info \"migrating shot $(isrc) on $(gethostname()) with id $(myid())...\"\n",
    "    F = JopNlProp2DAcoIsoDenQ_DEO2_FDTD(;\n",
    "        b = ones(Float32,nz,nx),\n",
    "        nthreads = div(Sys.CPU_THREADS,2),\n",
    "        ntrec = ntrec,\n",
    "        dtrec = dtrec,\n",
    "        dtmod = dtmod,\n",
    "        dz = dz,\n",
    "        dx = dx,\n",
    "        wavelet = WaveletCausalRicker(f=10.0),\n",
    "        sx = sx[isrc],\n",
    "        sz = dz,\n",
    "        rx = dx*[0:1:nx-1;],\n",
    "        rz = 2*dz*ones(length(0:1:nx-1)),\n",
    "        nbz_cache = nz,\n",
    "        nbx_cache = 16,\n",
    "        comptype = UInt32,\n",
    "        srcfieldfile = joinpath(scratch, \"field-$isrc-$(randstring()).bin\"),\n",
    "        reportinterval=12001)\n",
    "\n",
    "    d = F*localpart(_vtrue) #here we model the data usually you would just read the dat\n",
    "    timemute!(F,d,1500,2/16) #mute out the direct and diving waves\n",
    "    J = jacobian!(F, localpart(_v))\n",
    "    illum = srcillum(J)\n",
    "    m = J'*d\n",
    "    close(F) #delete scratch files that we don't need anymore\n",
    "    @info \"writing image and illumination for shot $(isrc)\"\n",
    "    write(joinpath(scratch,\"image_$(isrc).bin\"),m)\n",
    "    write(joinpath(scratch,\"illum_$(isrc).bin\"),illum)\n",
    "    @info \"done migrating shot $(isrc) on $(gethostname()) with id $(myid())...\"\n",
    "end"
   ]
  },
  {
   "source": [
    "### A simple mute function based on the Marmousi water velocity of 1500 m/s and the source/receiver coordinates from the traces headers."
   ],
   "cell_type": "markdown",
   "metadata": {}
  },
  {
   "cell_type": "code",
   "execution_count": null,
   "metadata": {},
   "outputs": [],
   "source": [
    "@everywhere function timemute!(F, d, watervel, tmute)\n",
    "    for i = 1:length(state(F, :rx)) \n",
    "        rx = state(F, :rx)\n",
    "        rz = state(F, :rz)\n",
    "        sx = state(F, :sx)\n",
    "        sz = state(F, :sz)\n",
    "        dist = sqrt((sx[1] - rx[i])^2 + (sz[1] - rz[i])^2)\n",
    "        time = dist / watervel\n",
    "        tbeg = 1\n",
    "        tend = round(Int, (time + tmute) / state(F,:dtrec))\n",
    "        tend = clamp(tend,1,size(d,1))\n",
    "        d[tbeg:tend,i] .= 0\n",
    "    end\n",
    "    nothing\n",
    "end"
   ]
  },
  {
   "source": [
    "### A function that reads the migrated images and illuminations from disk and stacks them"
   ],
   "cell_type": "markdown",
   "metadata": {}
  },
  {
   "cell_type": "code",
   "execution_count": null,
   "metadata": {},
   "outputs": [],
   "source": [
    "function stack(shots,nz,nx)\n",
    "   img = zeros(Float32,nz,nx)\n",
    "   ill = zeros(Float32,nz,nx)\n",
    "   for isrc in shots\n",
    "      img += read!(joinpath(scratch,\"image_$(isrc).bin\"), Array{Float32}(undef,nz,nx));\n",
    "      ill += read!(joinpath(scratch,\"illum_$(isrc).bin\"), Array{Float32}(undef,nz,nx));\n",
    "   end\n",
    "   return img,ill\n",
    "end"
   ]
  },
  {
   "cell_type": "markdown",
   "metadata": {},
   "source": [
    "## 6. Run the migration and then stack the data we wrote to disk\n",
    "### Here we use epmap to schedule the work for the migration"
   ]
  },
  {
   "cell_type": "code",
   "execution_count": null,
   "metadata": {},
   "outputs": [],
   "source": [
    "#broadcast the models to the works\n",
    "_v1 = bcast(v1)"
   ]
  },
  {
   "source": [
    "### True model migration/stack"
   ],
   "cell_type": "markdown",
   "metadata": {}
  },
  {
   "cell_type": "code",
   "execution_count": null,
   "metadata": {
    "scrolled": true,
    "tags": [
     "outputPrepend"
    ]
   },
   "outputs": [],
   "source": [
    "t1 = @elapsed begin\n",
    "    epmap(i->migrateshot(i, nz,nx,dz,dx,_v1,_v1,sx), 1:nshots)\n",
    "end\n",
    "@show t1;"
   ]
  },
  {
   "source": [
    "@printf(\"Time for migrating the dta %.2f minutes\\n\", t1 / 60)"
   ],
   "cell_type": "code",
   "metadata": {
    "tags": []
   },
   "execution_count": null,
   "outputs": []
  },
  {
   "cell_type": "code",
   "execution_count": null,
   "metadata": {},
   "outputs": [],
   "source": [
    "shots = collect(1:nshots)\n",
    "m1, illum1 = stack(shots,nz,nx);"
   ]
  },
  {
   "cell_type": "markdown",
   "metadata": {},
   "source": [
    "## 7. Perform a little post migration filtering"
   ]
  },
  {
   "cell_type": "markdown",
   "metadata": {},
   "source": [
    "#### Laplacian filter to remove backscattered noise"
   ]
  },
  {
   "cell_type": "code",
   "execution_count": null,
   "metadata": {},
   "outputs": [],
   "source": [
    "L = JopHighpass(JetSpace(Float32,nz,nx))"
   ]
  },
  {
   "cell_type": "markdown",
   "metadata": {},
   "source": [
    "#### Apply low cut filter, illumination compensation, and gain"
   ]
  },
  {
   "cell_type": "code",
   "execution_count": null,
   "metadata": {
    "tags": []
   },
   "outputs": [],
   "source": [
    "g = ([0:(nz-1);]*dz).^2 * ones(1,nx);\n",
    "\n",
    "img1 = g .* (L * m1) ./ (illum1 .+ 1e-8 * maximum(abs, illum1));\n",
    "\n",
    "@show extrema(img1)"
   ]
  },
  {
   "cell_type": "markdown",
   "metadata": {},
   "source": [
    "#### Apply water bottom mute"
   ]
  },
  {
   "cell_type": "code",
   "execution_count": null,
   "metadata": {},
   "outputs": [],
   "source": [
    "img1[v1.==1500.0] .= 0;"
   ]
  },
  {
   "cell_type": "markdown",
   "metadata": {},
   "source": [
    "## 9. Visualize Results"
   ]
  },
  {
   "cell_type": "code",
   "execution_count": null,
   "metadata": {
    "tags": []
   },
   "outputs": [],
   "source": [
    "mrms1 = 2.5 * sqrt(norm(img1)^2 / length(img1))\n",
    "\n",
    "figure(figsize=(9,12)); clf()\n",
    "\n",
    "imshow(img1,aspect=\"auto\",cmap=\"gray\");\n",
    "colorbar(orientation=\"vertical\");clim(-mrms1,+mrms1);\n",
    "title(\"Migration in True Velocity\")"
   ]
  },
  {
   "cell_type": "markdown",
   "metadata": {},
   "source": [
    "## Remove workers"
   ]
  },
  {
   "cell_type": "code",
   "execution_count": null,
   "metadata": {},
   "outputs": [],
   "source": [
    "rmprocs(workers())"
   ]
  },
  {
   "cell_type": "code",
   "execution_count": null,
   "metadata": {},
   "outputs": [],
   "source": [
    "time_end = time()\n",
    "@sprintf(\"Time to run notebook; %.2f minutes\\n\", (time_end - time_beg) / 60)"
   ]
  },
  {
   "cell_type": "code",
   "execution_count": null,
   "metadata": {},
   "outputs": [],
   "source": []
  }
 ],
 "metadata": {
  "kernelspec": {
   "display_name": "Julia 1.5.1",
   "language": "julia",
   "name": "julia-1.5"
  },
  "language_info": {
   "file_extension": ".jl",
   "mimetype": "application/julia",
   "name": "julia",
   "version": "3.6.3-final"
  }
 },
 "nbformat": 4,
 "nbformat_minor": 4
}