{
 "cells": [
  {
   "cell_type": "code",
   "execution_count": 17,
   "metadata": {},
   "outputs": [],
   "source": [
    "using PyPlot, Wave, JetPackWave"
   ]
  },
  {
   "cell_type": "code",
   "execution_count": 12,
   "metadata": {},
   "outputs": [
    {
     "name": "stdout",
     "output_type": "stream",
     "text": [
      "(dz, dx) = (0.02, 0.02)\n",
      "(nz, nx) = (151, 461)\n"
     ]
    }
   ],
   "source": [
    "v = read!(\"../marmousi_20m_nz151_nx461.bin\", Array{Float32}(undef, 151,461));\n",
    "dz,dx = 0.02,0.02\n",
    "nz,nx = size(v)\n",
    "@show dz,dx\n",
    "@show nz,nx;"
   ]
  },
  {
   "cell_type": "code",
   "execution_count": 18,
   "metadata": {},
   "outputs": [
    {
     "ename": "InexactError",
     "evalue": "InexactError: trunc(Int64, NaN)",
     "output_type": "error",
     "traceback": [
      "InexactError: trunc(Int64, NaN)",
      "",
      "Stacktrace:",
      " [1] trunc at ./float.jl:703 [inlined]",
      " [2] floor at ./float.jl:363 [inlined]",
      " [3] Ginsu(::Tuple{Float64,Float64}, ::Tuple{Float32,Float32}, ::Tuple{Int64,Int64}, ::Tuple{Array{Float64,1},Array{Float64,1}}, ::Tuple{Array{Float64,1},Array{Float64,1}}, ::Tuple{Tuple{Float64,Float64},Tuple{Float64,Float64}}, ::Tuple{Tuple{Int64,Int64},Tuple{Int64,Int64}}; T::DataType, dims::Tuple{Symbol,Symbol,Symbol}, stencilhalfwidth::Int64) at /data/esdrd/nhwq/.julia/packages/JetPackWave/rNXHa/src/ginsu.jl:110",
      " [4] JetProp2DAcoIsoDenQ_DEO2_FDTD(; b::Array{Float32,2}, srcfieldfile::String, comptype::Nothing, compscale::Float64, isinterior::Bool, nz_subcube::Int64, nx_subcube::Int64, sz::Float64, sx::Float64, st::Float64, interpmethod::Symbol, rz::Array{Float64,1}, rx::Array{Float64,1}, z0::Float64, x0::Float64, dz::Float64, dx::Float64, freqQ::Float64, qMin::Float64, qInterior::Float64, padz::Float64, padx::Float64, dtmod::Float64, dtrec::Float64, ntrec::Int64, nbz_cache::Int64, nbx_cache::Int64, nbz_inject::Int64, nbx_inject::Int64, nsponge::Int64, wavelet::WaveletCausalRicker, freesurface::Bool, nthreads::Int64, reportinterval::Int64, gc::Bool) at /data/esdrd/nhwq/.julia/packages/JetPackWave/rNXHa/src/jop_prop2DAcoIsoDenQ_DEO2_FDTD.jl:60",
      " [5] JopNlProp2DAcoIsoDenQ_DEO2_FDTD(; kwargs::Base.Iterators.Pairs{Symbol,Any,NTuple{11,Symbol},NamedTuple{(:b, :ntrec, :dtrec, :dtmod, :dz, :dx, :wavelet, :sx, :sz, :rx, :rz),Tuple{Array{Float32,2},Int64,Float64,Float64,Float64,Float64,WaveletCausalRicker,Float64,Float64,Array{Float64,1},Array{Float64,1}}}}) at /data/esdrd/nhwq/.julia/packages/JetPackWave/rNXHa/src/jop_prop2DAcoIsoDenQ_DEO2_FDTD.jl:126",
      " [6] top-level scope at In[18]:1"
     ]
    }
   ],
   "source": [
    "F = JopNlProp2DAcoIsoDenQ_DEO2_FDTD(;\n",
    "    b = ones(Float32,size(v)),\n",
    "    ntrec = 1101,\n",
    "    dtrec = 0.002,\n",
    "    dtmod = 0.001,\n",
    "    dz = .0,\n",
    "    dx = dx,\n",
    "    wavelet = WaveletCausalRicker(f=3.0),\n",
    "    sx = dx,\n",
    "    sz = dz,\n",
    "    rx = dx*[0:dx:nx-1;],\n",
    "    rz = 0.1*ones(length(0:dx:nx-1)))"
   ]
  },
  {
   "cell_type": "code",
   "execution_count": null,
   "metadata": {},
   "outputs": [],
   "source": []
  }
 ],
 "metadata": {
  "kernelspec": {
   "display_name": "julia 1.4.0",
   "language": "julia",
   "name": "julia-1.4"
  },
  "language_info": {
   "file_extension": ".jl",
   "mimetype": "application/julia",
   "name": "julia",
   "version": "1.4.0"
  }
 },
 "nbformat": 4,
 "nbformat_minor": 4
}
