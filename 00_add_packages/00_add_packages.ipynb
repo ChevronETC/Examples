{
 "cells": [
  {
   "cell_type": "markdown",
   "metadata": {},
   "source": [
    "# Add packages\n",
    "This notebook will add all the packages used in these demos to your environment. \n",
    "\n",
    "This includes `SegyIO` from the SLIM group at Georgia Tech [https://slim.gatech.edu](https://slim.gatech.edu)."
   ]
  },
  {
   "cell_type": "code",
   "execution_count": null,
   "metadata": {},
   "outputs": [],
   "source": [
    "]add https://github.com/slimgroup/SegyIO.jl.git"
   ]
  },
  {
   "cell_type": "code",
   "execution_count": null,
   "metadata": {},
   "outputs": [],
   "source": [
    "using Pkg\n",
    "Pkg.add.([\"DelimitedFiles\", \"Distributed\", \"DistributedArrays\", \"DistributedJets\", \n",
    "    \"DistributedOperations\", \"JetPack\", \"JetPackDSP\", \"JetPackTransforms\", \n",
    "    \"JetPackWaveFD\", \"Jets\", \"LineSearches\", \"LinearAlgebra\", \"Optim\", \"ParallelOperations\", \n",
    "    \"Printf\", \"PyPlot\", \"Random\", \"Schedulers\", \"TeaSeis\", \"WaveFD\"])\n",
    "nothing"
   ]
  },
  {
   "cell_type": "markdown",
   "metadata": {},
   "source": [
    "# Precompile packages"
   ]
  },
  {
   "cell_type": "code",
   "execution_count": null,
   "metadata": {},
   "outputs": [],
   "source": [
    "using DelimitedFiles, Distributed, DistributedArrays, DistributedJets, DistributedOperations\n",
    "using JetPack, JetPackDSP, JetPackTransforms, JetPackWaveFD, Jets \n",
    "using LineSearches, LinearAlgebra, Optim, ParallelOperations, Printf \n",
    "using PyPlot, Random, Schedulers, TeaSeis, WaveFD, SegyIO\n",
    "nothing"
   ]
  },
  {
   "cell_type": "code",
   "execution_count": null,
   "metadata": {},
   "outputs": [],
   "source": []
  }
 ],
 "metadata": {
  "kernelspec": {
   "display_name": "Julia 1.5.2",
   "language": "julia",
   "name": "julia-1.5"
  },
  "language_info": {
   "file_extension": ".jl",
   "mimetype": "application/julia",
   "name": "julia",
   "version": "1.5.2"
  }
 },
 "nbformat": 4,
 "nbformat_minor": 4
}
