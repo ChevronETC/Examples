{
 "cells": [
  {
   "cell_type": "markdown",
   "metadata": {},
   "source": [
    "# Add packages\n",
    "This notebook will add all the packages used in these demos to your environment. \n",
    "\n",
    "This includes `SegyIO` from the SLIM group at Georgia Tech [https://slim.gatech.edu](https://slim.gatech.edu).\n",
    "\n",
    "Note we do not show the routine package management outputs from this notebook."
   ]
  },
  {
   "cell_type": "code",
   "execution_count": null,
   "metadata": {},
   "outputs": [],
   "source": [
    "]add https://github.com/slimgroup/SegyIO.jl.git"
   ]
  },
  {
   "cell_type": "code",
   "execution_count": null,
   "metadata": {},
   "outputs": [],
   "source": [
    "using Pkg\n",
    "Pkg.add.([\"AzStorage\", \"AzManagers\", \"AzSessions\", \"CloudSeis\", \"DelimitedFiles\", \n",
    "    \"Distributed\", \"DistributedArrays\", \"DistributedJets\", \"DistributedOperations\", \n",
    "    \"FFTW\", \"JetPack\", \"JetPackDSP\", \"JetPackTransforms\", \"JetPackWaveFD\", \n",
    "    \"Jets\", \"LineSearches\", \"LinearAlgebra\", \"Optim\", \"ParallelOperations\", \n",
    "    \"Printf\", \"PyPlot\", \"Random\", \"Schedulers\", \"TeaSeis\", \"WaveFD\"])\n",
    "nothing"
   ]
  },
  {
   "cell_type": "markdown",
   "metadata": {},
   "source": [
    "# Precompile packages"
   ]
  },
  {
   "cell_type": "code",
   "execution_count": null,
   "metadata": {},
   "outputs": [],
   "source": [
    "using AzStorage, AzManagers, AzSessions, CloudSeis, DelimitedFiles\n",
    "using Distributed, DistributedArrays, DistributedJets, DistributedOperations\n",
    "using FFTW, JetPack, JetPackDSP, JetPackTransforms, JetPackWaveFD\n",
    "using Jets, LineSearches, LinearAlgebra, Optim, ParallelOperations \n",
    "using Printf, PyPlot, Random, Schedulers, TeaSeis, WaveFD, SegyIO\n",
    "nothing"
   ]
  },
  {
   "cell_type": "code",
   "execution_count": null,
   "metadata": {},
   "outputs": [],
   "source": []
  }
 ],
 "metadata": {
  "kernelspec": {
   "display_name": "Julia 1.6.1",
   "language": "julia",
   "name": "julia-1.6"
  },
  "language_info": {
   "file_extension": ".jl",
   "mimetype": "application/julia",
   "name": "julia",
   "version": "1.6.1"
  }
 },
 "nbformat": 4,
 "nbformat_minor": 4
}
