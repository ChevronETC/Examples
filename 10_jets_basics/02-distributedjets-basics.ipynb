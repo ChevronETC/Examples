{
 "cells": [
  {
   "cell_type": "markdown",
   "metadata": {},
   "source": [
    "# DistributedJets.jl\n",
    "Package that extends Jets to work with parallel distributed block operators.  This gives us a consistent way to book-keep distributed memory and computation.  It relies heavily on the community (public) DistributedArrays.jl package."
   ]
  },
  {
   "cell_type": "markdown",
   "metadata": {},
   "source": [
    "## Add 4 workers"
   ]
  },
  {
   "cell_type": "code",
   "execution_count": 1,
   "metadata": {},
   "outputs": [
    {
     "data": {
      "text/plain": [
       "4-element Array{Int64,1}:\n",
       " 2\n",
       " 3\n",
       " 4\n",
       " 5"
      ]
     },
     "execution_count": 1,
     "metadata": {},
     "output_type": "execute_result"
    }
   ],
   "source": [
    "using Distributed\n",
    "addprocs(4)"
   ]
  },
  {
   "cell_type": "markdown",
   "metadata": {},
   "source": [
    "## Add the packages we need on the workers\n",
    "We add the packages we need on the workers, accomplished with the `@everywhere` macro"
   ]
  },
  {
   "cell_type": "code",
   "execution_count": 2,
   "metadata": {},
   "outputs": [],
   "source": [
    "@everywhere using DistributedArrays, DistributedJets, Jets, JetPack"
   ]
  },
  {
   "cell_type": "markdown",
   "metadata": {},
   "source": [
    "## Example\n",
    "We use the same blockop macro as is used in `Jets`, but now supply a distributed array `DArray`, with some additional information about how the work is distributed. \n",
    "\n",
    "**See also** the help docs:\n",
    "```julia\n",
    "?DArray\n",
    "?@blockop\n",
    "```"
   ]
  },
  {
   "cell_type": "code",
   "execution_count": 3,
   "metadata": {},
   "outputs": [
    {
     "data": {
      "text/plain": [
       "\"Jet linear operator, (8,) → (8,)\""
      ]
     },
     "execution_count": 3,
     "metadata": {},
     "output_type": "execute_result"
    }
   ],
   "source": [
    "A = @blockop DArray(I->[JopDiagonal(rand(2)) for irow in I[1], icol in I[2]], (4,4), workers(), [2,2])"
   ]
  },
  {
   "cell_type": "markdown",
   "metadata": {},
   "source": [
    "#### Explanation for arguments to `DArray` used above:\n",
    "* `[JopDiagonal(rand(2)) for irow in I[1], icol in I[2]]` is the *constructor* for each of the blocks in the distributed block operator. This runs *remotely* on the workers as specified below.\n",
    "* `(4,4)` is the overall size of the block operator: 4 rows and 4 columns for a total of 16 elements\n",
    "* `workers()` supplies the process identifiers (pids) of the workers the operators will be constructed on: our 4 workers with pids `2,3,4,5`\n",
    "* `[2,2]` describes how the block operator array should be distributed in each dimension: each worker gets 2 rows and 2 columns."
   ]
  },
  {
   "cell_type": "markdown",
   "metadata": {},
   "source": [
    "#### Matrix representation of the block operator\n",
    "\n",
    "We show the pids for the workers as assigned to the 4x4 block operator. Recall that each *cell* of the block operator is a `JotOperator`.\n",
    "\n",
    "$$\n",
    "\\begin{bmatrix}\n",
    "    2 & 2 & 3 & 3 \\\\\n",
    "    2 & 2 & 3 & 3 \\\\\n",
    "    4 & 4 & 5 & 5 \\\\\n",
    "    4 & 4 & 5 & 5\n",
    "\\end{bmatrix}\n",
    "$$"
   ]
  },
  {
   "cell_type": "markdown",
   "metadata": {},
   "source": [
    "#### Getting information about block operator layouts\n",
    "We can use various methods to understand which processes store which blocks\n",
    "\n",
    "* `procs(A)` Shows how workers are distributed in the block operator. Note this is the layout as described by the last argument to `@blockop` above: `[2,2]`. \n",
    "\n",
    "* `blockmap(A)` Shows what elements of the overall block operator are assigned to each worker. This information is also shown in the matrix representation above.\n",
    "    * pid 2 has row-blocks 1:2, and column blocks 1:2\n",
    "    * pid 4 has row-blocks 1:2, and column blocks 3:4\n",
    "    * pid 5 has row-blocks 3:4, and column blocks 1:2\n",
    "    * pid 6 has row-blocks 3:4, and column blocks 3:4\n",
    "\n",
    "\n",
    "* `remotecall_fetch(localblockindices, i, A)` will return the part of the `blockmap` operator assigned to pid `i`.\n",
    "\n",
    "We exercise these methods in the next four cells below."
   ]
  },
  {
   "cell_type": "code",
   "execution_count": 4,
   "metadata": {},
   "outputs": [
    {
     "data": {
      "text/plain": [
       "2×2 Array{Int64,2}:\n",
       " 2  4\n",
       " 3  5"
      ]
     },
     "execution_count": 4,
     "metadata": {},
     "output_type": "execute_result"
    }
   ],
   "source": [
    "procs(A)"
   ]
  },
  {
   "cell_type": "code",
   "execution_count": 5,
   "metadata": {},
   "outputs": [
    {
     "data": {
      "text/plain": [
       "2×2 Array{Tuple{UnitRange{Int64},UnitRange{Int64}},2}:\n",
       " (1:2, 1:2)  (1:2, 3:4)\n",
       " (3:4, 1:2)  (3:4, 3:4)"
      ]
     },
     "execution_count": 5,
     "metadata": {},
     "output_type": "execute_result"
    }
   ],
   "source": [
    "blockmap(A)"
   ]
  },
  {
   "cell_type": "code",
   "execution_count": 6,
   "metadata": {},
   "outputs": [
    {
     "data": {
      "text/plain": [
       "(1:2, 1:2)"
      ]
     },
     "execution_count": 6,
     "metadata": {},
     "output_type": "execute_result"
    }
   ],
   "source": [
    "remotecall_fetch(localblockindices, 2, A)"
   ]
  },
  {
   "cell_type": "code",
   "execution_count": 7,
   "metadata": {},
   "outputs": [
    {
     "data": {
      "text/plain": [
       "(3:4, 1:2)"
      ]
     },
     "execution_count": 7,
     "metadata": {},
     "output_type": "execute_result"
    }
   ],
   "source": [
    "remotecall_fetch(localblockindices, 3, A)"
   ]
  },
  {
   "cell_type": "markdown",
   "metadata": {},
   "source": [
    "## Obtaining blocks from a distributed block operator\n",
    "You can obtain the blocks of the operator in two ways. \n",
    "* `getblock(A,1,1)` fetches block 1,1, and passes a copy of it from pid 2 to the master.\n",
    "\n",
    "* `remotecall(getblock, 2, A, 1, 1)` get a `Future` for block 1,1 from pid 2. No copy is made."
   ]
  },
  {
   "cell_type": "code",
   "execution_count": 8,
   "metadata": {},
   "outputs": [
    {
     "data": {
      "text/plain": [
       "\"Jet linear operator, (2,) → (2,)\""
      ]
     },
     "execution_count": 8,
     "metadata": {},
     "output_type": "execute_result"
    }
   ],
   "source": [
    "getblock(A,1,1)"
   ]
  },
  {
   "cell_type": "code",
   "execution_count": 9,
   "metadata": {},
   "outputs": [
    {
     "data": {
      "text/plain": [
       "Future(2, 1, 61, nothing)"
      ]
     },
     "execution_count": 9,
     "metadata": {},
     "output_type": "execute_result"
    }
   ],
   "source": [
    "remotecall(getblock, 2, A, 1, 1)"
   ]
  },
  {
   "cell_type": "markdown",
   "metadata": {},
   "source": [
    "## Distributed block arrays (DBArray)\n",
    "`DBArray` is used with distributed block operators, and handles the bookeeping and storage of arrays on workers associated with the distributed operators.\n",
    "\n",
    "We show examples below for creating `DBArray` for domain and range, and getting and setting blocks."
   ]
  },
  {
   "cell_type": "code",
   "execution_count": 10,
   "metadata": {},
   "outputs": [
    {
     "data": {
      "text/plain": [
       "8-element DBArray{Float64,Jets.BlockArray{Float64,Array{Float64,1}},Array{Jets.BlockArray{Float64,Array{Float64,1}},1}}:\n",
       " 0.352713938381378\n",
       " 0.5864307202325443\n",
       " 0.9597602606519091\n",
       " 0.8496153461375726\n",
       " 0.5976773400801554\n",
       " 0.9353798109991533\n",
       " 0.0864748058510234\n",
       " 0.22178338034810063"
      ]
     },
     "execution_count": 10,
     "metadata": {},
     "output_type": "execute_result"
    }
   ],
   "source": [
    "d = rand(range(A))"
   ]
  },
  {
   "cell_type": "code",
   "execution_count": 11,
   "metadata": {},
   "outputs": [
    {
     "data": {
      "text/plain": [
       "2-element Array{Int64,1}:\n",
       " 2\n",
       " 3"
      ]
     },
     "execution_count": 11,
     "metadata": {},
     "output_type": "execute_result"
    }
   ],
   "source": [
    "procs(d)"
   ]
  },
  {
   "cell_type": "code",
   "execution_count": 12,
   "metadata": {},
   "outputs": [
    {
     "data": {
      "text/plain": [
       "2-element Array{UnitRange{Int64},1}:\n",
       " 1:2\n",
       " 3:4"
      ]
     },
     "execution_count": 12,
     "metadata": {},
     "output_type": "execute_result"
    }
   ],
   "source": [
    "blockmap(d)"
   ]
  },
  {
   "cell_type": "code",
   "execution_count": 13,
   "metadata": {},
   "outputs": [
    {
     "data": {
      "text/plain": [
       "8-element DBArray{Float64,Jets.BlockArray{Float64,Array{Float64,1}},Array{Jets.BlockArray{Float64,Array{Float64,1}},1}}:\n",
       " 0.9107943594323042\n",
       " 0.5100905132429301\n",
       " 0.8356021294898601\n",
       " 0.12272474167846648\n",
       " 0.13596777833350937\n",
       " 0.08861593630231002\n",
       " 0.2387613615639088\n",
       " 0.6378719438369456"
      ]
     },
     "execution_count": 13,
     "metadata": {},
     "output_type": "execute_result"
    }
   ],
   "source": [
    "m = rand(domain(A))"
   ]
  },
  {
   "cell_type": "code",
   "execution_count": 14,
   "metadata": {},
   "outputs": [
    {
     "data": {
      "text/plain": [
       "2-element Array{Int64,1}:\n",
       " 2\n",
       " 4"
      ]
     },
     "execution_count": 14,
     "metadata": {},
     "output_type": "execute_result"
    }
   ],
   "source": [
    "procs(m)"
   ]
  },
  {
   "cell_type": "code",
   "execution_count": 15,
   "metadata": {},
   "outputs": [
    {
     "data": {
      "text/plain": [
       "2-element Array{UnitRange{Int64},1}:\n",
       " 1:2\n",
       " 3:4"
      ]
     },
     "execution_count": 15,
     "metadata": {},
     "output_type": "execute_result"
    }
   ],
   "source": [
    "blockmap(m)"
   ]
  },
  {
   "cell_type": "code",
   "execution_count": 16,
   "metadata": {},
   "outputs": [
    {
     "data": {
      "text/plain": [
       "2-element Array{Float64,1}:\n",
       " 0.352713938381378\n",
       " 0.5864307202325443"
      ]
     },
     "execution_count": 16,
     "metadata": {},
     "output_type": "execute_result"
    }
   ],
   "source": [
    "# fetch block 1, and passes a copy of it from pid 2 to the master\n",
    "getblock(d, 1)"
   ]
  },
  {
   "cell_type": "code",
   "execution_count": 17,
   "metadata": {},
   "outputs": [
    {
     "data": {
      "text/plain": [
       "8-element DBArray{Float64,Jets.BlockArray{Float64,Array{Float64,1}},Array{Jets.BlockArray{Float64,Array{Float64,1}},1}}:\n",
       " 1.0\n",
       " 1.0\n",
       " 0.9597602606519091\n",
       " 0.8496153461375726\n",
       " 0.5976773400801554\n",
       " 0.9353798109991533\n",
       " 0.0864748058510234\n",
       " 0.22178338034810063"
      ]
     },
     "execution_count": 17,
     "metadata": {},
     "output_type": "execute_result"
    }
   ],
   "source": [
    "# passes a new array from the master to pid 2, and assigns it to block 1\n",
    "setblock!(d, 1, ones(2))\n",
    "d"
   ]
  },
  {
   "cell_type": "code",
   "execution_count": 18,
   "metadata": {},
   "outputs": [
    {
     "data": {
      "text/plain": [
       "2-element Array{Float64,1}:\n",
       " 1.0\n",
       " 1.0"
      ]
     },
     "execution_count": 18,
     "metadata": {},
     "output_type": "execute_result"
    }
   ],
   "source": [
    "# on pid=2 we get a reference to the block\n",
    "remotecall_fetch(getblock, 2, d, 1) "
   ]
  },
  {
   "cell_type": "code",
   "execution_count": 19,
   "metadata": {},
   "outputs": [
    {
     "data": {
      "text/plain": [
       "8-element DBArray{Float64,Jets.BlockArray{Float64,Array{Float64,1}},Array{Jets.BlockArray{Float64,Array{Float64,1}},1}}:\n",
       " 2.0\n",
       " 2.0\n",
       " 0.9597602606519091\n",
       " 0.8496153461375726\n",
       " 0.5976773400801554\n",
       " 0.9353798109991533\n",
       " 0.0864748058510234\n",
       " 0.22178338034810063"
      ]
     },
     "execution_count": 19,
     "metadata": {},
     "output_type": "execute_result"
    }
   ],
   "source": [
    "@everywhere function remotegetblock_mutating(d, i)\n",
    "    dᵢ = getblock(d, i)\n",
    "    dᵢ .= 2.0\n",
    "    nothing\n",
    "end\n",
    "remotecall_fetch(remotegetblock_mutating, 2, d, 1)\n",
    "d"
   ]
  },
  {
   "cell_type": "markdown",
   "metadata": {},
   "source": [
    "# Specialized distributed block operators\n",
    "\n",
    "## tall-and-skinny\n",
    "Block operators with a single column-block.  This specialization is often used in FWI.  The model is stored on the master."
   ]
  },
  {
   "cell_type": "code",
   "execution_count": 20,
   "metadata": {},
   "outputs": [
    {
     "data": {
      "text/plain": [
       "\"Jet linear operator, (2,) → (8,)\""
      ]
     },
     "execution_count": 20,
     "metadata": {},
     "output_type": "execute_result"
    }
   ],
   "source": [
    "A = @blockop DArray(I->[JopDiagonal(rand(2)) for irow=1:4, icol=1:1], (4,1))"
   ]
  },
  {
   "cell_type": "code",
   "execution_count": 21,
   "metadata": {},
   "outputs": [
    {
     "data": {
      "text/plain": [
       "4×1 Array{Tuple{UnitRange{Int64},UnitRange{Int64}},2}:\n",
       " (1:1, 1:1)\n",
       " (2:2, 1:1)\n",
       " (3:3, 1:1)\n",
       " (4:4, 1:1)"
      ]
     },
     "execution_count": 21,
     "metadata": {},
     "output_type": "execute_result"
    }
   ],
   "source": [
    "blockmap(A)"
   ]
  },
  {
   "cell_type": "code",
   "execution_count": 22,
   "metadata": {},
   "outputs": [
    {
     "data": {
      "text/plain": [
       "4-element Array{UnitRange{Int64},1}:\n",
       " 1:1\n",
       " 2:2\n",
       " 3:3\n",
       " 4:4"
      ]
     },
     "execution_count": 22,
     "metadata": {},
     "output_type": "execute_result"
    }
   ],
   "source": [
    "d = rand(range(A))\n",
    "blockmap(d)"
   ]
  },
  {
   "cell_type": "code",
   "execution_count": 23,
   "metadata": {},
   "outputs": [
    {
     "data": {
      "text/plain": [
       "2-element Array{Float64,1}:\n",
       " 0.3481928644910337\n",
       " 0.7244407138265914"
      ]
     },
     "execution_count": 23,
     "metadata": {},
     "output_type": "execute_result"
    }
   ],
   "source": [
    "m = rand(domain(A))"
   ]
  },
  {
   "cell_type": "markdown",
   "metadata": {},
   "source": [
    "## Sparse block diagonal\n",
    "This is the only sparse block operator that we support.  Supporting a larger variety of sparse layouts is possible, but would require an engineering effort to build a proper sparse distributed arrays package.\n",
    "\n",
    "Below we build a sparse block diagonal with 4 rows and 4 columns, with operators along the diagonal. We use `JopZeroBlock` to specify that the off diagonals do not have operators. The distribution of pids is shown in the matrix below. \n",
    "\n",
    "$$\n",
    "\\begin{bmatrix}\n",
    "    2 & 0 & 0 & 0 \\\\\n",
    "    0 & 3 & 0 & 0 \\\\\n",
    "    0 & 0 & 4 & 0 \\\\\n",
    "    0 & 0 & 0 & 5\n",
    "\\end{bmatrix}\n",
    "$$"
   ]
  },
  {
   "cell_type": "code",
   "execution_count": 24,
   "metadata": {},
   "outputs": [
    {
     "data": {
      "text/plain": [
       "\"Jet linear operator, (8,) → (8,)\""
      ]
     },
     "execution_count": 24,
     "metadata": {},
     "output_type": "execute_result"
    }
   ],
   "source": [
    "A = @blockop DArray(\n",
    "        I->[irow==icol ? JopDiagonal(rand(2)) : JopZeroBlock(JetSpace(Float64,2),JetSpace(Float64,2)) for irow in I[1], icol in I[2]],\n",
    "        (4,4),\n",
    "        workers()[1:4],\n",
    "        [4,1]) isdiag=true"
   ]
  },
  {
   "cell_type": "code",
   "execution_count": 25,
   "metadata": {},
   "outputs": [
    {
     "data": {
      "text/plain": [
       "4×1 Array{Int64,2}:\n",
       " 2\n",
       " 3\n",
       " 4\n",
       " 5"
      ]
     },
     "execution_count": 25,
     "metadata": {},
     "output_type": "execute_result"
    }
   ],
   "source": [
    "procs(A)"
   ]
  },
  {
   "cell_type": "code",
   "execution_count": 26,
   "metadata": {},
   "outputs": [
    {
     "data": {
      "text/plain": [
       "4×1 Array{Tuple{UnitRange{Int64},UnitRange{Int64}},2}:\n",
       " (1:1, 1:4)\n",
       " (2:2, 1:4)\n",
       " (3:3, 1:4)\n",
       " (4:4, 1:4)"
      ]
     },
     "execution_count": 26,
     "metadata": {},
     "output_type": "execute_result"
    }
   ],
   "source": [
    "blockmap(A)"
   ]
  },
  {
   "cell_type": "code",
   "execution_count": 27,
   "metadata": {},
   "outputs": [
    {
     "data": {
      "text/plain": [
       "4-element Array{UnitRange{Int64},1}:\n",
       " 1:1\n",
       " 2:2\n",
       " 3:3\n",
       " 4:4"
      ]
     },
     "execution_count": 27,
     "metadata": {},
     "output_type": "execute_result"
    }
   ],
   "source": [
    "d = rand(range(A))\n",
    "blockmap(d)"
   ]
  },
  {
   "cell_type": "code",
   "execution_count": 28,
   "metadata": {},
   "outputs": [
    {
     "data": {
      "text/plain": [
       "4-element Array{UnitRange{Int64},1}:\n",
       " 1:1\n",
       " 2:2\n",
       " 3:3\n",
       " 4:4"
      ]
     },
     "execution_count": 28,
     "metadata": {},
     "output_type": "execute_result"
    }
   ],
   "source": [
    "m = rand(domain(A))\n",
    "blockmap(m)"
   ]
  },
  {
   "cell_type": "code",
   "execution_count": null,
   "metadata": {},
   "outputs": [],
   "source": []
  }
 ],
 "metadata": {
  "kernelspec": {
   "display_name": "Julia 1.5.2",
   "language": "julia",
   "name": "julia-1.5"
  },
  "language_info": {
   "file_extension": ".jl",
   "mimetype": "application/julia",
   "name": "julia",
   "version": "1.5.2"
  }
 },
 "nbformat": 4,
 "nbformat_minor": 4
}
