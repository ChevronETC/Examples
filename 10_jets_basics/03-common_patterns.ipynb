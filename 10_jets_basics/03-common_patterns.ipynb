{
 "cells": [
  {
   "cell_type": "markdown",
   "metadata": {},
   "source": [
    "# Common usage patterns"
   ]
  },
  {
   "cell_type": "markdown",
   "metadata": {},
   "source": [
    "## Create a block wavefield modeling operator from the geometry in a JavaSeis/CloudSeis file"
   ]
  },
  {
   "cell_type": "markdown",
   "metadata": {},
   "source": [
    "```julia\n",
    "@everywhere using DistributedArrays, DistributedJets, Jets, JetPackWaveFD, TeaSeis, ParallelOperations\n",
    "\n",
    "function buildblock(ishot,ρ,io)\n",
    "    h = readframehdrs(io,ishot)\n",
    "    JopNlProp3DAcoIsoDenQ_DEO2_FDTD(\n",
    "        sz = -get(prop(io,\"SOU_ELEV\"), h, 1),\n",
    "        sy = get(prop(io,\"SOU_Y\"), h, 1),\n",
    "        sx = get(prop(io,\"SOU_X\"), h, 1),\n",
    "        rz = [-get(prop(io,\"REC_ELEV\"), h, i) for i = 1:fold(io,h)],\n",
    "        ry = [get(prop(io,\"REC_Y\"), h, i) for i = 1:fold(io,h)],\n",
    "        rx = [get(prop(io,\"REC_X\"), h, i) for i = 1:fold(io,h)],\n",
    "        ntrec = size(io,1),\n",
    "        dtrec = pincs(io,1),\n",
    "        dtmod = 0.001,\n",
    "        b = 1 ./ ρ,\n",
    "        dz = 20.0,\n",
    "        dy = 20.0,\n",
    "        dx = 20.0)\n",
    "end\n",
    "\n",
    "function buildblocks(I,ρ_futures)\n",
    "    io = jsopen(\"data.js\")\n",
    "    ρ = localpart(ρ_futures)\n",
    "    F = [buildblock(ishot,ρ,io) for ishot in I[1], j in 1:1]\n",
    "    close(io)\n",
    "    F\n",
    "end\n",
    "\n",
    "io = jsopen(\"data.js\")\n",
    "nshots = size(io,3) # assume one shot per frame\n",
    "close(io)\n",
    "\n",
    "nz,ny,nx=512,512,512\n",
    "ρ = 1.0*ones(nz,ny,nx)\n",
    "ρ_futures = bcast(ρ)\n",
    "\n",
    "F = @blockop DArray(I->buildblocks(I, ρ_futures), (nshots,1))\n",
    "```"
   ]
  },
  {
   "cell_type": "markdown",
   "metadata": {},
   "source": [
    "## Populate a distributed block array from a JavaSeis/CloudSeis file"
   ]
  },
  {
   "cell_type": "markdown",
   "metadata": {},
   "source": [
    "```julia\n",
    "@everywhere function readblocks!(d)\n",
    "    io = jsopen(\"data.js\")\n",
    "    for ishot in localblockindices(d)\n",
    "        setblock!(d, ishot, readframetrcs(io, ishot))\n",
    "    end\n",
    "    close(io)\n",
    "end\n",
    "\n",
    "d = zeros(range(F))\n",
    "@sync for pid in procs(d)\n",
    "    @async remotecall_fetch(readblocks!, pid, d)\n",
    "end\n",
    "```"
   ]
  },
  {
   "cell_type": "markdown",
   "metadata": {},
   "source": [
    "## Computing cost over a set of shots from a distributed block array"
   ]
  },
  {
   "cell_type": "markdown",
   "metadata": {},
   "source": [
    "```julia\n",
    "@everywhere function costperpid(dmod, dobs)\n",
    "    phi = 0.0\n",
    "    for iblock in localblockindices(fmod)\n",
    "        phi += getblock(dobs,iblock) .- getblock(dmod,iblock)\n",
    "    end\n",
    "    phi\n",
    "end\n",
    "\n",
    "function cost(m, F, dobs)\n",
    "    dmod = F*m #F is a block operators\n",
    "    phi = zeros(nprocs(F))\n",
    "    @sync for (ipid,pid) in enumerate(procs(F))\n",
    "        @async begin\n",
    "            phi[ipid] = remotecall_fetch(costperpid, pid, dmod, dobs)\n",
    "        end\n",
    "    end\n",
    "    sum(phi)\n",
    "end\n",
    "\n",
    "phi = cost(m,F,dobs)\n",
    "```\n",
    "Note that the above can be done in a single line, but the pattern is useful for more interesting cost functions such as optimal transport.  For the above L2 case, the single line would be:\n",
    "```julia\n",
    "phi = 0.5*norm(F*m .- d).^2\n",
    "```"
   ]
  },
  {
   "cell_type": "code",
   "execution_count": null,
   "metadata": {},
   "outputs": [],
   "source": []
  }
 ],
 "metadata": {
  "kernelspec": {
   "display_name": "Julia 1.5.2",
   "language": "julia",
   "name": "julia-1.5"
  },
  "language_info": {
   "file_extension": ".jl",
   "mimetype": "application/julia",
   "name": "julia",
   "version": "1.5.2"
  }
 },
 "nbformat": 4,
 "nbformat_minor": 4
}
